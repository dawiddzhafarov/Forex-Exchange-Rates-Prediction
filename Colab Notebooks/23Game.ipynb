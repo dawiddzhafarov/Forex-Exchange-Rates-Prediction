{
  "nbformat": 4,
  "nbformat_minor": 0,
  "metadata": {
    "colab": {
      "name": "23Game.ipynb",
      "provenance": [],
      "collapsed_sections": []
    },
    "kernelspec": {
      "name": "python3",
      "display_name": "Python 3"
    },
    "language_info": {
      "name": "python"
    }
  },
  "cells": [
    {
      "cell_type": "markdown",
      "source": [
        "Trying to create \"variable\" model that would take variable lenght of data- impossible"
      ],
      "metadata": {
        "id": "nISXsNUd87WS"
      }
    },
    {
      "cell_type": "code",
      "execution_count": null,
      "metadata": {
        "id": "1uqvufGBFnzo"
      },
      "outputs": [],
      "source": [
        "import pandas as pd\n",
        "import numpy as np\n",
        "import tensorflow as tf\n",
        "from itertools import chain\n",
        "from matplotlib import pyplot as plt\n",
        "from tensorflow.keras import layers\n",
        "from sklearn.preprocessing import MinMaxScaler\n",
        "#import keras_tuner as kt\n",
        "df = pd.read_csv(\"drive/MyDrive/Engineer's Project/test.csv\")"
      ]
    },
    {
      "cell_type": "code",
      "source": [
        "df.pop('usa_cpi')\n",
        "df.pop('pol_cpi')\n",
        "df.pop('usa_inter')\n",
        "df.pop('pol_inter')\n",
        "df.pop('Date')"
      ],
      "metadata": {
        "colab": {
          "base_uri": "https://localhost:8080/"
        },
        "id": "PS502CjzFpao",
        "outputId": "564f2d78-260c-4441-90ed-cbe3dc4b8df7"
      },
      "execution_count": null,
      "outputs": [
        {
          "output_type": "execute_result",
          "data": {
            "text/plain": [
              "0       2010.11.15\n",
              "1       2010.11.16\n",
              "2       2010.11.17\n",
              "3       2010.11.18\n",
              "4       2010.11.19\n",
              "           ...    \n",
              "3537    2022.03.27\n",
              "3538    2022.03.28\n",
              "3539    2022.03.29\n",
              "3540    2022.03.30\n",
              "3541    2022.03.31\n",
              "Name: Date, Length: 3542, dtype: object"
            ]
          },
          "metadata": {},
          "execution_count": 2
        }
      ]
    },
    {
      "cell_type": "code",
      "source": [
        "scaler = MinMaxScaler()\n",
        "df_numpy = df.to_numpy() \n",
        "scaler = scaler.fit(df_numpy[2000:3101])\n",
        "df_scalled = scaler.transform(df_numpy)\n",
        "df_scalled = pd.DataFrame(df_scalled, columns=[\n",
        "  'Opening', 'High', 'Low', 'Closing','Momentum', 'Range', 'ohlc'])"
      ],
      "metadata": {
        "id": "WjNdiSHvFrav"
      },
      "execution_count": null,
      "outputs": []
    },
    {
      "cell_type": "code",
      "source": [
        "df_train = df_scalled[2000:2801]\n",
        "df_val = df_scalled[2801:3101] #300\n",
        "df_game = df_scalled[3101:]"
      ],
      "metadata": {
        "id": "laf7pj2lGN0q"
      },
      "execution_count": null,
      "outputs": []
    },
    {
      "cell_type": "code",
      "source": [
        "lookback = 15\n",
        "step = 1\n",
        "delay = 0\n",
        "batch_size = 128"
      ],
      "metadata": {
        "id": "gAvZYxhrFsfg"
      },
      "execution_count": null,
      "outputs": []
    },
    {
      "cell_type": "code",
      "source": [
        "float_data = np.array(df_scalled).astype('float32')"
      ],
      "metadata": {
        "id": "ysrqOl0zuEU4"
      },
      "execution_count": null,
      "outputs": []
    },
    {
      "cell_type": "code",
      "source": [
        "float_train_data = np.array(df_train).astype('float32')"
      ],
      "metadata": {
        "id": "V5PYx1xhFtik"
      },
      "execution_count": null,
      "outputs": []
    },
    {
      "cell_type": "code",
      "source": [
        "float_val_data = np.array(df_val).astype('float32')"
      ],
      "metadata": {
        "id": "bcGW93BKLtXm"
      },
      "execution_count": null,
      "outputs": []
    },
    {
      "cell_type": "code",
      "source": [
        "float_val_data[299]"
      ],
      "metadata": {
        "colab": {
          "base_uri": "https://localhost:8080/"
        },
        "id": "7aL3Bukjf3WA",
        "outputId": "bac2d1c8-12a5-4a80-fcd7-b2fd51952ce3"
      },
      "execution_count": null,
      "outputs": [
        {
          "output_type": "execute_result",
          "data": {
            "text/plain": [
              "array([0.66733915, 0.6516419 , 0.6893792 , 0.66730493, 0.5582318 ,\n",
              "       0.13815914, 0.67210084], dtype=float32)"
            ]
          },
          "metadata": {},
          "execution_count": 8
        }
      ]
    },
    {
      "cell_type": "code",
      "source": [
        "def generator(data, lookback, delay, min_index, max_index,shuffle=False, batch_size=128, step=1):\n",
        "  if max_index is None:\n",
        "    max_index = len(data) - delay - 1\n",
        "  i = min_index + lookback\n",
        "  while 1:\n",
        "    if shuffle:\n",
        "      rows = np.random.randint(\n",
        "        min_index + lookback, max_index, size=batch_size)\n",
        "    else:\n",
        "      if i + batch_size >= max_index:\n",
        "        i = min_index + lookback\n",
        "      rows = np.arange(i, min(i + batch_size, max_index))\n",
        "      i += len(rows)\n",
        "    samples = np.zeros((len(rows),lookback // step,data.shape[-1]))\n",
        "    targets = np.zeros((len(rows),))\n",
        "    for j, row in enumerate(rows):\n",
        "      indices = range(rows[j] - lookback, rows[j], step)\n",
        "      samples[j] = data[indices]\n",
        "      targets[j] = data[rows[j] + delay][3] \n",
        "    yield samples, targets"
      ],
      "metadata": {
        "id": "gb3c6vLLFucu"
      },
      "execution_count": null,
      "outputs": []
    },
    {
      "cell_type": "code",
      "source": [
        "def generator2(data, delay, min_index, shuffle=False, batch_size=128, step=1):\n",
        "  for i in range(10,299):\n",
        "    lookback = i\n",
        "    max_index = i\n",
        "    rows = np.arange(i-10, min(i + batch_size, max_index))\n",
        "    #i += len(rows)\n",
        "    samples = np.zeros((len(rows),lookback // step,data.shape[-1]))\n",
        "    targets = np.zeros((len(rows),))\n",
        "    for j, row in enumerate(rows):\n",
        "      indices = range(rows[j] - lookback, rows[j], step)\n",
        "      samples[j] = data[indices]\n",
        "      targets[j] = data[rows[j] + delay][3] \n",
        "    yield samples, targets"
      ],
      "metadata": {
        "id": "Dtkewoppj1tG"
      },
      "execution_count": null,
      "outputs": []
    },
    {
      "cell_type": "code",
      "source": [
        "float_val_data.shape[0]"
      ],
      "metadata": {
        "colab": {
          "base_uri": "https://localhost:8080/"
        },
        "id": "1TkRVUsBkd5v",
        "outputId": "f58bc715-4da6-4e75-906c-b06b7b630167"
      },
      "execution_count": null,
      "outputs": [
        {
          "output_type": "execute_result",
          "data": {
            "text/plain": [
              "300"
            ]
          },
          "metadata": {},
          "execution_count": 39
        }
      ]
    },
    {
      "cell_type": "code",
      "source": [
        "def generator_custom(data, delay, min_index=0, shuffle=False, batch_size=128, step=1):\n",
        "  samples = np.zeros((290,10,7)) # cannot make this variable\n",
        "  targets = np.empty(shape=data.shape[0]-10)\n",
        "  for i in range(10,300):\n",
        "    max_index = i\n",
        "    indices = range(0+i-10,max_index, step)\n",
        "    \n",
        "    samples[i-10] = data[indices]\n",
        "    targets[i-10] = data[i][3]\n",
        "  yield samples, targets"
      ],
      "metadata": {
        "id": "oBa6vmk5hE4Y"
      },
      "execution_count": null,
      "outputs": []
    },
    {
      "cell_type": "code",
      "source": [
        "try1 = generator_custom(float_val_data,\n",
        "                        delay = 0)"
      ],
      "metadata": {
        "id": "M3POGU6giMRp"
      },
      "execution_count": null,
      "outputs": []
    },
    {
      "cell_type": "code",
      "source": [
        "len(next(try1)[0])"
      ],
      "metadata": {
        "colab": {
          "base_uri": "https://localhost:8080/"
        },
        "id": "exyBw63GdZ-k",
        "outputId": "ac585313-a488-4bfe-f0c6-23015d390e9e"
      },
      "execution_count": null,
      "outputs": [
        {
          "output_type": "execute_result",
          "data": {
            "text/plain": [
              "290"
            ]
          },
          "metadata": {},
          "execution_count": 37
        }
      ]
    },
    {
      "cell_type": "code",
      "source": [
        "lol = (next(try1))"
      ],
      "metadata": {
        "id": "8DiDscifib12"
      },
      "execution_count": null,
      "outputs": []
    },
    {
      "cell_type": "code",
      "source": [
        "type(try1)"
      ],
      "metadata": {
        "colab": {
          "base_uri": "https://localhost:8080/"
        },
        "id": "1L0IbcWkrtfc",
        "outputId": "3bb0f420-9e94-424a-9aef-73a44b66f439"
      },
      "execution_count": null,
      "outputs": [
        {
          "output_type": "execute_result",
          "data": {
            "text/plain": [
              "generator"
            ]
          },
          "metadata": {},
          "execution_count": 109
        }
      ]
    },
    {
      "cell_type": "code",
      "source": [
        "train_gen_sample = generator(float_train_data,\n",
        "    lookback = 10,\n",
        "    delay=delay,\n",
        "    min_index=0,\n",
        "    max_index=300,\n",
        "    #shuffle=True,\n",
        "    step=step,\n",
        "    batch_size=batch_size)"
      ],
      "metadata": {
        "id": "YQ-Z9zt5msmZ"
      },
      "execution_count": null,
      "outputs": []
    },
    {
      "cell_type": "code",
      "source": [
        "next(train_gen_sample)"
      ],
      "metadata": {
        "id": "mTAwOxTEnzmz"
      },
      "execution_count": null,
      "outputs": []
    },
    {
      "cell_type": "code",
      "source": [
        "next(val_gen)[0][0][0]"
      ],
      "metadata": {
        "colab": {
          "base_uri": "https://localhost:8080/"
        },
        "id": "btxcbrrTk-ps",
        "outputId": "da6d18b3-564e-438d-961f-c05b49592407"
      },
      "execution_count": null,
      "outputs": [
        {
          "output_type": "execute_result",
          "data": {
            "text/plain": [
              "array([0.57219875, 0.55239791, 0.60156822, 0.5722214 , 0.36636439,\n",
              "       0.04265104, 0.57693237])"
            ]
          },
          "metadata": {},
          "execution_count": 42
        }
      ]
    },
    {
      "cell_type": "code",
      "source": [
        "i = 10\n",
        "train_gen_sample = generator(float_train_data,\n",
        "    lookback=i,\n",
        "    delay=delay,\n",
        "    min_index=0,\n",
        "    max_index=i,\n",
        "    #shuffle=True,\n",
        "    step=step,\n",
        "    batch_size=batch_size)"
      ],
      "metadata": {
        "id": "GILx_ZDrQGEm"
      },
      "execution_count": null,
      "outputs": []
    },
    {
      "cell_type": "code",
      "source": [
        "next(train_gen_sample)[0][0]"
      ],
      "metadata": {
        "id": "UrBDe_7hJtak"
      },
      "execution_count": null,
      "outputs": []
    },
    {
      "cell_type": "code",
      "source": [
        "gens = []\n",
        "for i in range(10, 299):\n",
        "  val_gen = generator(float_val_data,\n",
        "    lookback=i,\n",
        "    delay=delay,\n",
        "    min_index=0,\n",
        "    max_index=i+1,\n",
        "    #shuffle=True,\n",
        "    step=step,\n",
        "    batch_size=batch_size)\n",
        "  gens.append(val_gen)\n",
        "  "
      ],
      "metadata": {
        "id": "27MJEHpbILmt"
      },
      "execution_count": null,
      "outputs": []
    },
    {
      "cell_type": "code",
      "source": [
        "from itertools import chain\n",
        "\n",
        "generator3 = chain(next(gens[0])[0], next(gens[1])[0])\n",
        "for item in generator3:\n",
        "    print(item)"
      ],
      "metadata": {
        "id": "nLon0w53xnsr"
      },
      "execution_count": null,
      "outputs": []
    },
    {
      "cell_type": "code",
      "source": [
        "sum = np.array(generator3)"
      ],
      "metadata": {
        "id": "nCRVYwxwzyAB"
      },
      "execution_count": null,
      "outputs": []
    },
    {
      "cell_type": "code",
      "source": [
        "sum"
      ],
      "metadata": {
        "colab": {
          "base_uri": "https://localhost:8080/"
        },
        "id": "ANTzXPH4zsLY",
        "outputId": "49219399-65e9-47f7-edd4-f310b686a325"
      },
      "execution_count": null,
      "outputs": [
        {
          "output_type": "execute_result",
          "data": {
            "text/plain": [
              "array(<itertools.chain object at 0x7fade62db490>, dtype=object)"
            ]
          },
          "metadata": {},
          "execution_count": 285
        }
      ]
    },
    {
      "cell_type": "code",
      "source": [
        "sum = combine()"
      ],
      "metadata": {
        "id": "d78DQRqjxzvz"
      },
      "execution_count": null,
      "outputs": []
    },
    {
      "cell_type": "code",
      "source": [
        "next(sum)"
      ],
      "metadata": {
        "id": "lB3Wb0vMx3vh"
      },
      "execution_count": null,
      "outputs": []
    },
    {
      "cell_type": "markdown",
      "source": [
        "iterate through gens, take 1 generator each time and take out samples and targets, store in array - not possible!"
      ],
      "metadata": {
        "id": "h_-cGttoCx84"
      }
    },
    {
      "cell_type": "code",
      "source": [
        "def refactor():\n",
        "  somearr = np.empty(289, dtype=object)\n",
        "  samples = np.empty(289)\n",
        "  for i in range (0,289):\n",
        "    samples = (next(gens[i])[0])\n",
        "    somearr[i] = (samples)\n",
        "    #targets[i] = (next(gens[i])[1])\n",
        "  yield somearr #targets"
      ],
      "metadata": {
        "id": "Qgfq56zorcLa"
      },
      "execution_count": null,
      "outputs": []
    },
    {
      "cell_type": "code",
      "source": [
        "def show():\n",
        "  for i in range (0,289):\n",
        "    print(np.array(next(gens[i])[0][0], dtype=object))\n",
        "    #print(np.array(next(gens[i])[1], dtype=object))\n",
        "    break"
      ],
      "metadata": {
        "id": "C69ojFxhclRv"
      },
      "execution_count": null,
      "outputs": []
    },
    {
      "cell_type": "code",
      "source": [
        "show()"
      ],
      "metadata": {
        "id": "U2KUjeJBcvB2"
      },
      "execution_count": null,
      "outputs": []
    },
    {
      "cell_type": "code",
      "source": [
        "def refactor():\n",
        "  for i in range (0,289):\n",
        "    samples = np.arange((len(gens[i][0])),7)\n",
        "    targets = np.arange(1)\n",
        "    samples.append(next(gens[i])[0])\n",
        "    targets.append(next(gens[i])[1])\n",
        "  yield samples, targets"
      ],
      "metadata": {
        "id": "3__DsB8KxYvk"
      },
      "execution_count": null,
      "outputs": []
    },
    {
      "cell_type": "code",
      "source": [
        "def refactor3():\n",
        "  for i, row in enumerate(gens):\n",
        "    for j in enumerate(next(gens[i])[0]):\n",
        "      print(next(gens[i])[0][j])\n",
        "      break\n",
        "    break \n",
        "    #yield samples, targets"
      ],
      "metadata": {
        "id": "osa24HK8y7f4"
      },
      "execution_count": null,
      "outputs": []
    },
    {
      "cell_type": "code",
      "source": [
        "refactor3()"
      ],
      "metadata": {
        "colab": {
          "base_uri": "https://localhost:8080/",
          "height": 294
        },
        "id": "kaBmIWBDQUXb",
        "outputId": "5baac4f5-cf64-4dff-fde6-ed4e2950b179"
      },
      "execution_count": null,
      "outputs": [
        {
          "output_type": "error",
          "ename": "IndexError",
          "evalue": "ignored",
          "traceback": [
            "\u001b[0;31m---------------------------------------------------------------------------\u001b[0m",
            "\u001b[0;31mIndexError\u001b[0m                                Traceback (most recent call last)",
            "\u001b[0;32m<ipython-input-212-4e65f014751d>\u001b[0m in \u001b[0;36m<module>\u001b[0;34m()\u001b[0m\n\u001b[0;32m----> 1\u001b[0;31m \u001b[0mrefactor3\u001b[0m\u001b[0;34m(\u001b[0m\u001b[0;34m)\u001b[0m\u001b[0;34m\u001b[0m\u001b[0;34m\u001b[0m\u001b[0m\n\u001b[0m",
            "\u001b[0;32m<ipython-input-211-075c9e339dc3>\u001b[0m in \u001b[0;36mrefactor3\u001b[0;34m()\u001b[0m\n\u001b[1;32m      2\u001b[0m   \u001b[0;32mfor\u001b[0m \u001b[0mi\u001b[0m\u001b[0;34m,\u001b[0m \u001b[0mrow\u001b[0m \u001b[0;32min\u001b[0m \u001b[0menumerate\u001b[0m\u001b[0;34m(\u001b[0m\u001b[0mgens\u001b[0m\u001b[0;34m)\u001b[0m\u001b[0;34m:\u001b[0m\u001b[0;34m\u001b[0m\u001b[0;34m\u001b[0m\u001b[0m\n\u001b[1;32m      3\u001b[0m     \u001b[0;32mfor\u001b[0m \u001b[0mj\u001b[0m \u001b[0;32min\u001b[0m \u001b[0menumerate\u001b[0m\u001b[0;34m(\u001b[0m\u001b[0mnext\u001b[0m\u001b[0;34m(\u001b[0m\u001b[0mgens\u001b[0m\u001b[0;34m[\u001b[0m\u001b[0mi\u001b[0m\u001b[0;34m]\u001b[0m\u001b[0;34m)\u001b[0m\u001b[0;34m[\u001b[0m\u001b[0;36m0\u001b[0m\u001b[0;34m]\u001b[0m\u001b[0;34m)\u001b[0m\u001b[0;34m:\u001b[0m\u001b[0;34m\u001b[0m\u001b[0;34m\u001b[0m\u001b[0m\n\u001b[0;32m----> 4\u001b[0;31m       \u001b[0mprint\u001b[0m\u001b[0;34m(\u001b[0m\u001b[0mnext\u001b[0m\u001b[0;34m(\u001b[0m\u001b[0mgens\u001b[0m\u001b[0;34m[\u001b[0m\u001b[0mi\u001b[0m\u001b[0;34m]\u001b[0m\u001b[0;34m)\u001b[0m\u001b[0;34m[\u001b[0m\u001b[0;36m0\u001b[0m\u001b[0;34m]\u001b[0m\u001b[0;34m[\u001b[0m\u001b[0mj\u001b[0m\u001b[0;34m]\u001b[0m\u001b[0;34m)\u001b[0m\u001b[0;34m\u001b[0m\u001b[0;34m\u001b[0m\u001b[0m\n\u001b[0m\u001b[1;32m      5\u001b[0m       \u001b[0;32mbreak\u001b[0m\u001b[0;34m\u001b[0m\u001b[0;34m\u001b[0m\u001b[0m\n\u001b[1;32m      6\u001b[0m     \u001b[0;32mbreak\u001b[0m\u001b[0;34m\u001b[0m\u001b[0;34m\u001b[0m\u001b[0m\n",
            "\u001b[0;31mIndexError\u001b[0m: arrays used as indices must be of integer (or boolean) type"
          ]
        }
      ]
    },
    {
      "cell_type": "code",
      "source": [
        ""
      ],
      "metadata": {
        "id": "ugaE9347ROXz"
      },
      "execution_count": null,
      "outputs": []
    },
    {
      "cell_type": "markdown",
      "source": [
        "delay must be 0 "
      ],
      "metadata": {
        "id": "zF_DWaZgRO0u"
      }
    },
    {
      "cell_type": "code",
      "source": [
        "len(next(gens[250])[0][0])# działa, zbiór generatorów, każdy więcej o 1"
      ],
      "metadata": {
        "colab": {
          "base_uri": "https://localhost:8080/"
        },
        "id": "BeSKr4UBMSVi",
        "outputId": "a3b6d0ab-db2f-4e91-ae66-a56a54d10a23"
      },
      "execution_count": null,
      "outputs": [
        {
          "output_type": "execute_result",
          "data": {
            "text/plain": [
              "7"
            ]
          },
          "metadata": {},
          "execution_count": 17
        }
      ]
    },
    {
      "cell_type": "code",
      "source": [
        "next(gens[0])[0][0]"
      ],
      "metadata": {
        "colab": {
          "base_uri": "https://localhost:8080/"
        },
        "id": "aij1UxSkQNMn",
        "outputId": "67a0653a-ceeb-41b3-c117-af3c8a1b9fc7"
      },
      "execution_count": null,
      "outputs": [
        {
          "output_type": "execute_result",
          "data": {
            "text/plain": [
              "array([[0.57219875, 0.55239791, 0.60156822, 0.5722214 , 0.36636439,\n",
              "        0.04265104, 0.57693237],\n",
              "       [0.58011794, 0.5624305 , 0.60343933, 0.58010876, 0.48002759,\n",
              "        0.09311409, 0.58396685],\n",
              "       [0.57691813, 0.55954635, 0.60382867, 0.57690722, 0.48690513,\n",
              "        0.07320607, 0.58170485],\n",
              "       [0.58391148, 0.5655309 , 0.61216742, 0.58391178, 0.44541064,\n",
              "        0.06123606, 0.58882916],\n",
              "       [0.58669031, 0.56946564, 0.61085874, 0.58669269, 0.43747884,\n",
              "        0.09292509, 0.59092438],\n",
              "       [0.59541613, 0.58252645, 0.61215663, 0.59540188, 0.49638233,\n",
              "        0.16524917, 0.59901041],\n",
              "       [0.60406029, 0.5798381 , 0.63770276, 0.60408509, 0.35380319,\n",
              "        0.        , 0.60896665],\n",
              "       [0.60806698, 0.58731616, 0.63429594, 0.60805094, 0.50094628,\n",
              "        0.06558307, 0.61206889],\n",
              "       [0.61158705, 0.59250754, 0.64072031, 0.61157423, 0.48879778,\n",
              "        0.05991306, 0.61676526],\n",
              "       [0.62215436, 0.60199416, 0.65060568, 0.62215298, 0.44599628,\n",
              "        0.06035406, 0.62697572]])"
            ]
          },
          "metadata": {},
          "execution_count": 32
        }
      ]
    },
    {
      "cell_type": "code",
      "source": [
        "train_gen = generator(float_data,\n",
        "lookback=lookback,\n",
        "delay=delay,\n",
        "min_index=0,\n",
        "max_index=2501,\n",
        "#shuffle=True,\n",
        "step=step,\n",
        "batch_size=batch_size)"
      ],
      "metadata": {
        "id": "UH5cZe3aFvc5"
      },
      "execution_count": null,
      "outputs": []
    },
    {
      "cell_type": "code",
      "source": [
        "len(next(train_gen)[1])"
      ],
      "metadata": {
        "colab": {
          "base_uri": "https://localhost:8080/"
        },
        "id": "bHAtYWuSvdSI",
        "outputId": "15d09ee0-21e6-4446-d630-c377a6ac9ae1"
      },
      "execution_count": null,
      "outputs": [
        {
          "output_type": "execute_result",
          "data": {
            "text/plain": [
              "128"
            ]
          },
          "metadata": {},
          "execution_count": 31
        }
      ]
    },
    {
      "cell_type": "code",
      "source": [
        "lolek = next(train_gen)"
      ],
      "metadata": {
        "id": "zlNo55Xiu3GT"
      },
      "execution_count": null,
      "outputs": []
    },
    {
      "cell_type": "code",
      "source": [
        "type(lolek)"
      ],
      "metadata": {
        "colab": {
          "base_uri": "https://localhost:8080/"
        },
        "id": "JLNjBzZIu7Ow",
        "outputId": "9ccb77da-36cc-40f4-b2ff-d4c1cb7e2405"
      },
      "execution_count": null,
      "outputs": [
        {
          "output_type": "execute_result",
          "data": {
            "text/plain": [
              "tuple"
            ]
          },
          "metadata": {},
          "execution_count": 107
        }
      ]
    },
    {
      "cell_type": "code",
      "source": [
        "val_gen = generator(float_data,\n",
        "lookback=lookback,\n",
        "delay=delay,\n",
        "min_index=2501,\n",
        "max_index=3001,\n",
        "step=step,\n",
        "batch_size=batch_size)"
      ],
      "metadata": {
        "id": "jigLWVSgFwUi",
        "colab": {
          "base_uri": "https://localhost:8080/",
          "height": 241
        },
        "outputId": "7e9fd09b-1a00-46bd-a5cc-1a44bd8dfe87"
      },
      "execution_count": null,
      "outputs": [
        {
          "output_type": "error",
          "ename": "NameError",
          "evalue": "ignored",
          "traceback": [
            "\u001b[0;31m---------------------------------------------------------------------------\u001b[0m",
            "\u001b[0;31mNameError\u001b[0m                                 Traceback (most recent call last)",
            "\u001b[0;32m<ipython-input-231-d6dc80425e5f>\u001b[0m in \u001b[0;36m<module>\u001b[0;34m()\u001b[0m\n\u001b[1;32m      1\u001b[0m val_gen = generator(float_data,\n\u001b[0;32m----> 2\u001b[0;31m \u001b[0mlookback\u001b[0m\u001b[0;34m=\u001b[0m\u001b[0mlookback\u001b[0m\u001b[0;34m,\u001b[0m\u001b[0;34m\u001b[0m\u001b[0;34m\u001b[0m\u001b[0m\n\u001b[0m\u001b[1;32m      3\u001b[0m \u001b[0mdelay\u001b[0m\u001b[0;34m=\u001b[0m\u001b[0mdelay\u001b[0m\u001b[0;34m,\u001b[0m\u001b[0;34m\u001b[0m\u001b[0;34m\u001b[0m\u001b[0m\n\u001b[1;32m      4\u001b[0m \u001b[0mmin_index\u001b[0m\u001b[0;34m=\u001b[0m\u001b[0;36m2501\u001b[0m\u001b[0;34m,\u001b[0m\u001b[0;34m\u001b[0m\u001b[0;34m\u001b[0m\u001b[0m\n\u001b[1;32m      5\u001b[0m \u001b[0mmax_index\u001b[0m\u001b[0;34m=\u001b[0m\u001b[0;36m3001\u001b[0m\u001b[0;34m,\u001b[0m\u001b[0;34m\u001b[0m\u001b[0;34m\u001b[0m\u001b[0m\n",
            "\u001b[0;31mNameError\u001b[0m: name 'lookback' is not defined"
          ]
        }
      ]
    },
    {
      "cell_type": "code",
      "source": [
        "test_gen = generator(float_data,\n",
        "lookback=lookback,\n",
        "delay=delay,\n",
        "min_index=3001,\n",
        "max_index=3543,\n",
        "step=step,\n",
        "batch_size=batch_size)"
      ],
      "metadata": {
        "id": "uQHe5fQrFxPg"
      },
      "execution_count": null,
      "outputs": []
    },
    {
      "cell_type": "code",
      "source": [
        "train_steps = (2501 - lookback)\n",
        "val_steps = (3001 - 2501 - lookback)\n",
        "test_steps = (3543 - 3001 - lookback)"
      ],
      "metadata": {
        "id": "_ZToRnw0FyKL",
        "colab": {
          "base_uri": "https://localhost:8080/",
          "height": 205
        },
        "outputId": "da4c94de-96a6-42ce-a733-add651230079"
      },
      "execution_count": null,
      "outputs": [
        {
          "output_type": "error",
          "ename": "NameError",
          "evalue": "ignored",
          "traceback": [
            "\u001b[0;31m---------------------------------------------------------------------------\u001b[0m",
            "\u001b[0;31mNameError\u001b[0m                                 Traceback (most recent call last)",
            "\u001b[0;32m<ipython-input-230-1e6597f52b6c>\u001b[0m in \u001b[0;36m<module>\u001b[0;34m()\u001b[0m\n\u001b[0;32m----> 1\u001b[0;31m \u001b[0mtrain_steps\u001b[0m \u001b[0;34m=\u001b[0m \u001b[0;34m(\u001b[0m\u001b[0;36m2501\u001b[0m \u001b[0;34m-\u001b[0m \u001b[0mlookback\u001b[0m\u001b[0;34m)\u001b[0m\u001b[0;34m\u001b[0m\u001b[0;34m\u001b[0m\u001b[0m\n\u001b[0m\u001b[1;32m      2\u001b[0m \u001b[0mval_steps\u001b[0m \u001b[0;34m=\u001b[0m \u001b[0;34m(\u001b[0m\u001b[0;36m3001\u001b[0m \u001b[0;34m-\u001b[0m \u001b[0;36m2501\u001b[0m \u001b[0;34m-\u001b[0m \u001b[0mlookback\u001b[0m\u001b[0;34m)\u001b[0m\u001b[0;34m\u001b[0m\u001b[0;34m\u001b[0m\u001b[0m\n\u001b[1;32m      3\u001b[0m \u001b[0mtest_steps\u001b[0m \u001b[0;34m=\u001b[0m \u001b[0;34m(\u001b[0m\u001b[0;36m3543\u001b[0m \u001b[0;34m-\u001b[0m \u001b[0;36m3001\u001b[0m \u001b[0;34m-\u001b[0m \u001b[0mlookback\u001b[0m\u001b[0;34m)\u001b[0m\u001b[0;34m\u001b[0m\u001b[0;34m\u001b[0m\u001b[0m\n",
            "\u001b[0;31mNameError\u001b[0m: name 'lookback' is not defined"
          ]
        }
      ]
    },
    {
      "cell_type": "code",
      "source": [
        "model = tf.keras.models.Sequential()\n",
        "model.add(layers.LSTM(120,\n",
        "  activation='sigmoid',\n",
        "  #dropout=0.1,\n",
        "  #recurrent_dropout=0.1,\n",
        "  input_shape=(None, float_data.shape[-1])))\n",
        "model.add(layers.Dense(160,\n",
        "  activation='sigmoid',))\n",
        "model.add(layers.Dense(1,\n",
        "  activation='sigmoid'))\n",
        "model.compile(optimizer= tf.keras.optimizers.RMSprop(0.01), loss='mae')\n",
        "history = model.fit(try1,\n",
        "  steps_per_epoch=5,\n",
        "  epochs=5)\n",
        "  #validation_data=val_gen,\n",
        "  #validation_steps=val_steps)"
      ],
      "metadata": {
        "id": "YMH209BsFzDq",
        "colab": {
          "base_uri": "https://localhost:8080/"
        },
        "outputId": "a719ce8e-2928-4935-d53e-bff077c96e39"
      },
      "execution_count": null,
      "outputs": [
        {
          "output_type": "stream",
          "name": "stdout",
          "text": [
            "Epoch 1/5\n",
            "1/5 [=====>........................] - ETA: 6s - loss: 0.2829WARNING:tensorflow:Your input ran out of data; interrupting training. Make sure that your dataset or generator can generate at least `steps_per_epoch * epochs` batches (in this case, 25 batches). You may need to use the repeat() function when building your dataset.\n",
            "5/5 [==============================] - 2s 7ms/step - loss: 0.2829\n"
          ]
        }
      ]
    }
  ]
}