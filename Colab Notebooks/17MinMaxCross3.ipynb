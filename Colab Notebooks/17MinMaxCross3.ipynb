{
  "nbformat": 4,
  "nbformat_minor": 0,
  "metadata": {
    "colab": {
      "provenance": []
    },
    "kernelspec": {
      "name": "python3",
      "display_name": "Python 3"
    },
    "language_info": {
      "name": "python"
    }
  },
  "cells": [
    {
      "cell_type": "markdown",
      "source": [
        "I have made many changes to this code while executing it, so now it became a mess :D"
      ],
      "metadata": {
        "id": "4Eg3LHJ-1N9J"
      }
    },
    {
      "cell_type": "code",
      "execution_count": null,
      "metadata": {
        "id": "gXy6eRNl8jNw"
      },
      "outputs": [],
      "source": [
        "import pandas as pd\n",
        "import numpy as np\n",
        "import tensorflow as tf\n",
        "from itertools import chain\n",
        "from matplotlib import pyplot as plt\n",
        "from tensorflow.keras import layers\n",
        "from sklearn.preprocessing import MinMaxScaler\n",
        "df = pd.read_csv(\"drive/MyDrive/Engineer's Project/test.csv\")"
      ]
    },
    {
      "cell_type": "code",
      "source": [
        "#df.pop('usa_cpi')\n",
        "#df.pop('pol_cpi')\n",
        "#df.pop('usa_inter')\n",
        "#df.pop('pol_inter')\n",
        "df.pop('Date')"
      ],
      "metadata": {
        "id": "4fHs8Ob88o0E"
      },
      "execution_count": null,
      "outputs": []
    },
    {
      "cell_type": "code",
      "source": [
        "scaler = MinMaxScaler()\n",
        " \n",
        "df_scaled = scaler.fit_transform(df.to_numpy())\n",
        "df_scaled = pd.DataFrame(df_scaled, columns=[\n",
        "  'Opening', 'High', 'Low', 'Closing','Momentum', 'Range', 'ohlc','usa_cpi','pol_cpi', 'usa_inter', 'pol_inter'])"
      ],
      "metadata": {
        "id": "2_RMCezE8qCF"
      },
      "execution_count": null,
      "outputs": []
    },
    {
      "cell_type": "code",
      "source": [
        "df1 = df_scaled.iloc[0:1001]\n",
        "df2 = df_scaled.iloc[1001:2001]\n",
        "df3 = df_scaled.iloc[2001:]"
      ],
      "metadata": {
        "id": "romEE9P39BNX"
      },
      "execution_count": null,
      "outputs": []
    },
    {
      "cell_type": "code",
      "source": [
        "std = df['Closing'].std()\n",
        "std_scaled = df_scaled['Closing'].std()"
      ],
      "metadata": {
        "id": "dtDZGbZ88rmK"
      },
      "execution_count": null,
      "outputs": []
    },
    {
      "cell_type": "code",
      "source": [
        "float_data1 = np.array(df1).astype('float32')\n",
        "float_data2 = np.array(df2).astype('float32')\n",
        "float_data3 = np.array(df3).astype('float32')"
      ],
      "metadata": {
        "id": "AhBNyflx8sey"
      },
      "execution_count": null,
      "outputs": []
    },
    {
      "cell_type": "code",
      "source": [
        "lookback = 10\n",
        "step = 1\n",
        "delay = 1\n",
        "batch_size = 128"
      ],
      "metadata": {
        "id": "s72Bw8118tnV"
      },
      "execution_count": null,
      "outputs": []
    },
    {
      "cell_type": "code",
      "source": [
        "def generator(data, lookback, delay, min_index, max_index,shuffle=False, batch_size=128, step=1):\n",
        "  if max_index is None:\n",
        "    max_index = len(data) - delay - 1\n",
        "  i = min_index + lookback\n",
        "  while 1:\n",
        "    if shuffle:\n",
        "      rows = np.random.randint(\n",
        "        min_index + lookback, max_index, size=batch_size)\n",
        "    else:\n",
        "      if i + batch_size >= max_index:\n",
        "        i = min_index + lookback\n",
        "      rows = np.arange(i, min(i + batch_size, max_index))\n",
        "      i += len(rows)\n",
        "    samples = np.zeros((len(rows),lookback // step,data.shape[-1]))\n",
        "    targets = np.zeros((len(rows),))\n",
        "    for j, row in enumerate(rows):\n",
        "      indices = range(rows[j] - lookback, rows[j], step)\n",
        "      samples[j] = data[indices]\n",
        "      targets[j] = data[rows[j] + delay][3]\n",
        "    yield samples, targets"
      ],
      "metadata": {
        "id": "d2eAac3W8ulv"
      },
      "execution_count": null,
      "outputs": []
    },
    {
      "cell_type": "code",
      "source": [
        "train_gen1 = generator(float_data1,\n",
        "lookback=lookback,\n",
        "delay=delay,\n",
        "min_index=0,\n",
        "max_index=701,\n",
        "shuffle=True,\n",
        "step=step,\n",
        "batch_size=batch_size)"
      ],
      "metadata": {
        "id": "ieL3Swff8vlR"
      },
      "execution_count": null,
      "outputs": []
    },
    {
      "cell_type": "code",
      "source": [
        "val_gen1 = generator(float_data1,\n",
        "lookback=lookback,\n",
        "delay=delay,\n",
        "min_index=701,\n",
        "max_index=851,\n",
        "step=step,\n",
        "batch_size=batch_size)"
      ],
      "metadata": {
        "id": "cTC7oDEK8wbL"
      },
      "execution_count": null,
      "outputs": []
    },
    {
      "cell_type": "code",
      "source": [
        "test_gen1 = generator(float_data1,\n",
        "lookback=lookback,\n",
        "delay=delay,\n",
        "min_index=851,\n",
        "max_index=1001,\n",
        "step=step,\n",
        "batch_size=batch_size)"
      ],
      "metadata": {
        "id": "wKlCND7G8xag"
      },
      "execution_count": null,
      "outputs": []
    },
    {
      "cell_type": "code",
      "source": [
        "val_steps1 = (851 - 701 - lookback)\n",
        "test_steps1 = (1001 - 851 - lookback)"
      ],
      "metadata": {
        "id": "9t9rBZc28yLh"
      },
      "execution_count": null,
      "outputs": []
    },
    {
      "cell_type": "code",
      "source": [
        "train_gen2 = generator(float_data2,\n",
        "lookback=lookback,\n",
        "delay=delay,\n",
        "min_index=0,\n",
        "max_index=701,\n",
        "shuffle=True,\n",
        "step=step,\n",
        "batch_size=batch_size)"
      ],
      "metadata": {
        "id": "HuExF1xEAJLz"
      },
      "execution_count": null,
      "outputs": []
    },
    {
      "cell_type": "code",
      "source": [
        "val_gen2 = generator(float_data2,\n",
        "lookback=lookback,\n",
        "delay=delay,\n",
        "min_index=701,\n",
        "max_index=851,\n",
        "step=step,\n",
        "batch_size=batch_size)"
      ],
      "metadata": {
        "id": "vqX4YHv-AMB7"
      },
      "execution_count": null,
      "outputs": []
    },
    {
      "cell_type": "code",
      "source": [
        "test_gen2 = generator(float_data2,\n",
        "lookback=lookback,\n",
        "delay=delay,\n",
        "min_index=851,\n",
        "max_index=1001,\n",
        "step=step,\n",
        "batch_size=batch_size)"
      ],
      "metadata": {
        "id": "N8WCgEpuAOgi"
      },
      "execution_count": null,
      "outputs": []
    },
    {
      "cell_type": "code",
      "source": [
        "val_steps2 = (851 - 701 - lookback)\n",
        "test_steps2 = (1001 - 851 - lookback)"
      ],
      "metadata": {
        "id": "ThC85iiAAQuf"
      },
      "execution_count": null,
      "outputs": []
    },
    {
      "cell_type": "code",
      "source": [
        "test_gen3 = generator(float_data3,\n",
        "lookback=lookback,\n",
        "delay=delay,\n",
        "min_index=0,\n",
        "max_index=1001,\n",
        "step=step,\n",
        "batch_size=batch_size)"
      ],
      "metadata": {
        "id": "Caf6itQxQqcL"
      },
      "execution_count": null,
      "outputs": []
    },
    {
      "cell_type": "code",
      "source": [
        "test_steps3 = (1001 - lookback)"
      ],
      "metadata": {
        "id": "0J4oTU46Q6FE"
      },
      "execution_count": null,
      "outputs": []
    },
    {
      "cell_type": "markdown",
      "source": [
        "Whole data scalled, divided into 3 sets and trained separately"
      ],
      "metadata": {
        "id": "DPLf_FP89r6S"
      }
    },
    {
      "cell_type": "code",
      "source": [
        "model1 = tf.keras.models.Sequential()\n",
        "model1.add(layers.LSTM(128,\n",
        "  activation='softmax',\n",
        "  dropout=0.1,\n",
        "  recurrent_dropout=0.1,\n",
        "  input_shape=(None, float_data1.shape[-1])))\n",
        "model1.add(layers.Dense(5,\n",
        "  activation='softmax',))\n",
        "model1.add(layers.Dense(1))\n",
        "model1.compile(optimizer= tf.keras.optimizers.RMSprop(), loss='mae')\n",
        "history1 = model1.fit(train_gen1,\n",
        "  steps_per_epoch=400,\n",
        "  epochs=80,\n",
        "  validation_data=val_gen1,\n",
        "  validation_steps=val_steps1)"
      ],
      "metadata": {
        "colab": {
          "base_uri": "https://localhost:8080/"
        },
        "id": "b2fL_f5E8zvz",
        "outputId": "04809983-c62a-4776-a4a3-5529a734a49b"
      },
      "execution_count": null,
      "outputs": [
        {
          "output_type": "stream",
          "name": "stdout",
          "text": [
            "Epoch 1/80\n",
            "400/400 [==============================] - 32s 72ms/step - loss: 0.0929 - val_loss: 0.0377\n",
            "Epoch 2/80\n",
            "400/400 [==============================] - 30s 76ms/step - loss: 0.0759 - val_loss: 0.0423\n",
            "Epoch 3/80\n",
            "400/400 [==============================] - 20s 50ms/step - loss: 0.0239 - val_loss: 0.0285\n",
            "Epoch 4/80\n",
            "400/400 [==============================] - 20s 49ms/step - loss: 0.0225 - val_loss: 0.0259\n",
            "Epoch 5/80\n",
            "400/400 [==============================] - 20s 49ms/step - loss: 0.0219 - val_loss: 0.0273\n",
            "Epoch 6/80\n",
            "400/400 [==============================] - 20s 50ms/step - loss: 0.0214 - val_loss: 0.0234\n",
            "Epoch 7/80\n",
            "400/400 [==============================] - 20s 49ms/step - loss: 0.0211 - val_loss: 0.0223\n",
            "Epoch 8/80\n",
            "400/400 [==============================] - 20s 50ms/step - loss: 0.0207 - val_loss: 0.0207\n",
            "Epoch 9/80\n",
            "400/400 [==============================] - 20s 50ms/step - loss: 0.0204 - val_loss: 0.0225\n",
            "Epoch 10/80\n",
            "400/400 [==============================] - 20s 49ms/step - loss: 0.0201 - val_loss: 0.0239\n",
            "Epoch 11/80\n",
            "400/400 [==============================] - 20s 50ms/step - loss: 0.0199 - val_loss: 0.0226\n",
            "Epoch 12/80\n",
            "400/400 [==============================] - 20s 49ms/step - loss: 0.0196 - val_loss: 0.0220\n",
            "Epoch 13/80\n",
            "400/400 [==============================] - 20s 50ms/step - loss: 0.0195 - val_loss: 0.0203\n",
            "Epoch 14/80\n",
            "400/400 [==============================] - 20s 50ms/step - loss: 0.0195 - val_loss: 0.0215\n",
            "Epoch 15/80\n",
            "400/400 [==============================] - 20s 51ms/step - loss: 0.0193 - val_loss: 0.0232\n",
            "Epoch 16/80\n",
            "400/400 [==============================] - 20s 50ms/step - loss: 0.0192 - val_loss: 0.0234\n",
            "Epoch 17/80\n",
            "400/400 [==============================] - 20s 49ms/step - loss: 0.0191 - val_loss: 0.0228\n",
            "Epoch 18/80\n",
            "400/400 [==============================] - 19s 49ms/step - loss: 0.0191 - val_loss: 0.0197\n",
            "Epoch 19/80\n",
            "400/400 [==============================] - 20s 49ms/step - loss: 0.0191 - val_loss: 0.0207\n",
            "Epoch 20/80\n",
            "400/400 [==============================] - 20s 49ms/step - loss: 0.0191 - val_loss: 0.0187\n",
            "Epoch 21/80\n",
            "400/400 [==============================] - 19s 49ms/step - loss: 0.0189 - val_loss: 0.0240\n",
            "Epoch 22/80\n",
            "400/400 [==============================] - 20s 49ms/step - loss: 0.0190 - val_loss: 0.0196\n",
            "Epoch 23/80\n",
            "400/400 [==============================] - 20s 50ms/step - loss: 0.0190 - val_loss: 0.0198\n",
            "Epoch 24/80\n",
            "400/400 [==============================] - 20s 49ms/step - loss: 0.0189 - val_loss: 0.0220\n",
            "Epoch 25/80\n",
            "400/400 [==============================] - 20s 49ms/step - loss: 0.0188 - val_loss: 0.0186\n",
            "Epoch 26/80\n",
            "400/400 [==============================] - 20s 51ms/step - loss: 0.0189 - val_loss: 0.0177\n",
            "Epoch 27/80\n",
            "400/400 [==============================] - 20s 51ms/step - loss: 0.0189 - val_loss: 0.0221\n",
            "Epoch 28/80\n",
            "400/400 [==============================] - 20s 50ms/step - loss: 0.0188 - val_loss: 0.0250\n",
            "Epoch 29/80\n",
            "400/400 [==============================] - 20s 49ms/step - loss: 0.0188 - val_loss: 0.0224\n",
            "Epoch 30/80\n",
            "400/400 [==============================] - 20s 50ms/step - loss: 0.0188 - val_loss: 0.0208\n",
            "Epoch 31/80\n",
            "400/400 [==============================] - 20s 50ms/step - loss: 0.0187 - val_loss: 0.0220\n",
            "Epoch 32/80\n",
            "400/400 [==============================] - 20s 49ms/step - loss: 0.0189 - val_loss: 0.0276\n",
            "Epoch 33/80\n",
            "400/400 [==============================] - 20s 49ms/step - loss: 0.0187 - val_loss: 0.0249\n",
            "Epoch 34/80\n",
            "400/400 [==============================] - 20s 49ms/step - loss: 0.0188 - val_loss: 0.0184\n",
            "Epoch 35/80\n",
            "400/400 [==============================] - 20s 49ms/step - loss: 0.0187 - val_loss: 0.0204\n",
            "Epoch 36/80\n",
            "400/400 [==============================] - 20s 49ms/step - loss: 0.0187 - val_loss: 0.0222\n",
            "Epoch 37/80\n",
            "400/400 [==============================] - 19s 49ms/step - loss: 0.0186 - val_loss: 0.0231\n",
            "Epoch 38/80\n",
            "400/400 [==============================] - 20s 50ms/step - loss: 0.0185 - val_loss: 0.0227\n",
            "Epoch 39/80\n",
            "400/400 [==============================] - 20s 50ms/step - loss: 0.0186 - val_loss: 0.0216\n",
            "Epoch 40/80\n",
            "400/400 [==============================] - 20s 49ms/step - loss: 0.0185 - val_loss: 0.0208\n",
            "Epoch 41/80\n",
            "400/400 [==============================] - 19s 49ms/step - loss: 0.0187 - val_loss: 0.0258\n",
            "Epoch 42/80\n",
            "400/400 [==============================] - 20s 49ms/step - loss: 0.0186 - val_loss: 0.0262\n",
            "Epoch 43/80\n",
            "400/400 [==============================] - 20s 49ms/step - loss: 0.0187 - val_loss: 0.0241\n",
            "Epoch 44/80\n",
            "400/400 [==============================] - 19s 48ms/step - loss: 0.0186 - val_loss: 0.0215\n",
            "Epoch 45/80\n",
            "400/400 [==============================] - 20s 49ms/step - loss: 0.0186 - val_loss: 0.0236\n",
            "Epoch 46/80\n",
            "400/400 [==============================] - 20s 49ms/step - loss: 0.0186 - val_loss: 0.0200\n",
            "Epoch 47/80\n",
            "400/400 [==============================] - 20s 49ms/step - loss: 0.0187 - val_loss: 0.0304\n",
            "Epoch 48/80\n",
            "400/400 [==============================] - 20s 50ms/step - loss: 0.0185 - val_loss: 0.0215\n",
            "Epoch 49/80\n",
            "400/400 [==============================] - 20s 49ms/step - loss: 0.0186 - val_loss: 0.0219\n",
            "Epoch 50/80\n",
            "400/400 [==============================] - 20s 49ms/step - loss: 0.0186 - val_loss: 0.0250\n",
            "Epoch 51/80\n",
            "400/400 [==============================] - 20s 49ms/step - loss: 0.0184 - val_loss: 0.0227\n",
            "Epoch 52/80\n",
            "400/400 [==============================] - 20s 50ms/step - loss: 0.0185 - val_loss: 0.0239\n",
            "Epoch 53/80\n",
            "400/400 [==============================] - 20s 49ms/step - loss: 0.0185 - val_loss: 0.0220\n",
            "Epoch 54/80\n",
            "400/400 [==============================] - 20s 50ms/step - loss: 0.0184 - val_loss: 0.0254\n",
            "Epoch 55/80\n",
            "400/400 [==============================] - 20s 49ms/step - loss: 0.0185 - val_loss: 0.0238\n",
            "Epoch 56/80\n",
            "400/400 [==============================] - 20s 49ms/step - loss: 0.0185 - val_loss: 0.0231\n",
            "Epoch 57/80\n",
            "400/400 [==============================] - 20s 49ms/step - loss: 0.0184 - val_loss: 0.0219\n",
            "Epoch 58/80\n",
            "400/400 [==============================] - 20s 50ms/step - loss: 0.0185 - val_loss: 0.0205\n",
            "Epoch 59/80\n",
            "400/400 [==============================] - 20s 49ms/step - loss: 0.0185 - val_loss: 0.0215\n",
            "Epoch 60/80\n",
            "400/400 [==============================] - 20s 49ms/step - loss: 0.0184 - val_loss: 0.0229\n",
            "Epoch 61/80\n",
            "400/400 [==============================] - 20s 49ms/step - loss: 0.0185 - val_loss: 0.0245\n",
            "Epoch 62/80\n",
            "400/400 [==============================] - 20s 49ms/step - loss: 0.0184 - val_loss: 0.0252\n",
            "Epoch 63/80\n",
            "400/400 [==============================] - 19s 49ms/step - loss: 0.0184 - val_loss: 0.0253\n",
            "Epoch 64/80\n",
            "400/400 [==============================] - 20s 49ms/step - loss: 0.0184 - val_loss: 0.0224\n",
            "Epoch 65/80\n",
            "400/400 [==============================] - 19s 49ms/step - loss: 0.0185 - val_loss: 0.0226\n",
            "Epoch 66/80\n",
            "400/400 [==============================] - 19s 48ms/step - loss: 0.0185 - val_loss: 0.0259\n",
            "Epoch 67/80\n",
            "400/400 [==============================] - 20s 49ms/step - loss: 0.0183 - val_loss: 0.0213\n",
            "Epoch 68/80\n",
            "400/400 [==============================] - 20s 49ms/step - loss: 0.0184 - val_loss: 0.0235\n",
            "Epoch 69/80\n",
            "400/400 [==============================] - 20s 49ms/step - loss: 0.0183 - val_loss: 0.0230\n",
            "Epoch 70/80\n",
            "400/400 [==============================] - 20s 49ms/step - loss: 0.0185 - val_loss: 0.0217\n",
            "Epoch 71/80\n",
            "400/400 [==============================] - 20s 49ms/step - loss: 0.0183 - val_loss: 0.0278\n",
            "Epoch 72/80\n",
            "400/400 [==============================] - 20s 49ms/step - loss: 0.0183 - val_loss: 0.0243\n",
            "Epoch 73/80\n",
            "400/400 [==============================] - 20s 50ms/step - loss: 0.0184 - val_loss: 0.0236\n",
            "Epoch 74/80\n",
            "400/400 [==============================] - 20s 51ms/step - loss: 0.0182 - val_loss: 0.0222\n",
            "Epoch 75/80\n",
            "400/400 [==============================] - 20s 49ms/step - loss: 0.0183 - val_loss: 0.0227\n",
            "Epoch 76/80\n",
            "400/400 [==============================] - 19s 48ms/step - loss: 0.0183 - val_loss: 0.0260\n",
            "Epoch 77/80\n",
            "400/400 [==============================] - 20s 49ms/step - loss: 0.0183 - val_loss: 0.0248\n",
            "Epoch 78/80\n",
            "400/400 [==============================] - 19s 49ms/step - loss: 0.0184 - val_loss: 0.0243\n",
            "Epoch 79/80\n",
            "400/400 [==============================] - 19s 49ms/step - loss: 0.0184 - val_loss: 0.0209\n",
            "Epoch 80/80\n",
            "400/400 [==============================] - 20s 49ms/step - loss: 0.0184 - val_loss: 0.0242\n"
          ]
        }
      ]
    },
    {
      "cell_type": "code",
      "source": [
        "eval = model1.evaluate(test_gen1, steps = test_steps1)"
      ],
      "metadata": {
        "colab": {
          "base_uri": "https://localhost:8080/"
        },
        "id": "P19dB3nb806Q",
        "outputId": "a74a6fd7-f017-4dd8-f337-29b74aab0cb5"
      },
      "execution_count": null,
      "outputs": [
        {
          "output_type": "stream",
          "name": "stdout",
          "text": [
            "140/140 [==============================] - 2s 12ms/step - loss: 0.0147\n"
          ]
        }
      ]
    },
    {
      "cell_type": "code",
      "source": [
        "loss1 = history1.history['loss']\n",
        "val_loss1 = history1.history['val_loss']\n",
        "epochs1 = range(1, len(loss1) + 1)\n",
        "plt.figure()\n",
        "plt.plot(epochs1, loss1, 'r', label='Training loss')\n",
        "plt.plot(epochs1, val_loss1, 'b', label='Validation loss')\n",
        "plt.title('Training and validation loss,softmax, RMSprop,  CLOSING PRICE PREDICTION')\n",
        "plt.legend()\n",
        "plt.show()"
      ],
      "metadata": {
        "colab": {
          "base_uri": "https://localhost:8080/",
          "height": 281
        },
        "id": "_FhNpcJc81_z",
        "outputId": "abbe3a05-1f14-4d2c-bd16-724be2d2814f"
      },
      "execution_count": null,
      "outputs": [
        {
          "output_type": "display_data",
          "data": {
            "text/plain": [
              "<Figure size 432x288 with 1 Axes>"
            ],
            "image/png": "[encoded data removed]"
          },
          "metadata": {
            "needs_background": "light"
          }
        }
      ]
    },
    {
      "cell_type": "code",
      "source": [
        "history2 = model1.fit(train_gen2,\n",
        "  steps_per_epoch=400,\n",
        "  epochs=80,\n",
        "  validation_data=val_gen2,\n",
        "  validation_steps=val_steps2)"
      ],
      "metadata": {
        "colab": {
          "base_uri": "https://localhost:8080/"
        },
        "id": "SFHAkAWtK-wq",
        "outputId": "82edd166-f749-40cc-ad8d-94b42de056fd"
      },
      "execution_count": null,
      "outputs": [
        {
          "output_type": "stream",
          "name": "stdout",
          "text": [
            "Epoch 1/80\n",
            "400/400 [==============================] - 25s 62ms/step - loss: 0.0270 - val_loss: 0.0239\n",
            "Epoch 2/80\n",
            "400/400 [==============================] - 19s 49ms/step - loss: 0.0219 - val_loss: 0.0241\n",
            "Epoch 3/80\n",
            "400/400 [==============================] - 19s 49ms/step - loss: 0.0211 - val_loss: 0.0247\n",
            "Epoch 4/80\n",
            "400/400 [==============================] - 20s 49ms/step - loss: 0.0202 - val_loss: 0.0223\n",
            "Epoch 5/80\n",
            "400/400 [==============================] - 21s 53ms/step - loss: 0.0200 - val_loss: 0.0281\n",
            "Epoch 6/80\n",
            "400/400 [==============================] - 20s 51ms/step - loss: 0.0196 - val_loss: 0.0255\n",
            "Epoch 7/80\n",
            "400/400 [==============================] - 20s 50ms/step - loss: 0.0193 - val_loss: 0.0250\n",
            "Epoch 8/80\n",
            "400/400 [==============================] - 20s 51ms/step - loss: 0.0191 - val_loss: 0.0235\n",
            "Epoch 9/80\n",
            "400/400 [==============================] - 20s 50ms/step - loss: 0.0191 - val_loss: 0.0256\n",
            "Epoch 10/80\n",
            "400/400 [==============================] - 21s 52ms/step - loss: 0.0187 - val_loss: 0.0244\n",
            "Epoch 11/80\n",
            "400/400 [==============================] - 20s 50ms/step - loss: 0.0187 - val_loss: 0.0230\n",
            "Epoch 12/80\n",
            "400/400 [==============================] - 20s 49ms/step - loss: 0.0184 - val_loss: 0.0244\n",
            "Epoch 13/80\n",
            "400/400 [==============================] - 19s 49ms/step - loss: 0.0185 - val_loss: 0.0238\n",
            "Epoch 14/80\n",
            "400/400 [==============================] - 20s 49ms/step - loss: 0.0182 - val_loss: 0.0208\n",
            "Epoch 15/80\n",
            "400/400 [==============================] - 20s 49ms/step - loss: 0.0182 - val_loss: 0.0268\n",
            "Epoch 16/80\n",
            "400/400 [==============================] - 21s 52ms/step - loss: 0.0181 - val_loss: 0.0263\n",
            "Epoch 17/80\n",
            "400/400 [==============================] - 20s 49ms/step - loss: 0.0179 - val_loss: 0.0217\n",
            "Epoch 18/80\n",
            "400/400 [==============================] - 19s 49ms/step - loss: 0.0179 - val_loss: 0.0238\n",
            "Epoch 19/80\n",
            "400/400 [==============================] - 20s 49ms/step - loss: 0.0177 - val_loss: 0.0221\n",
            "Epoch 20/80\n",
            "400/400 [==============================] - 20s 49ms/step - loss: 0.0177 - val_loss: 0.0229\n",
            "Epoch 21/80\n",
            "400/400 [==============================] - 20s 49ms/step - loss: 0.0176 - val_loss: 0.0258\n",
            "Epoch 22/80\n",
            "400/400 [==============================] - 20s 49ms/step - loss: 0.0175 - val_loss: 0.0261\n",
            "Epoch 23/80\n",
            "400/400 [==============================] - 20s 49ms/step - loss: 0.0175 - val_loss: 0.0290\n",
            "Epoch 24/80\n",
            "400/400 [==============================] - 20s 50ms/step - loss: 0.0174 - val_loss: 0.0231\n",
            "Epoch 25/80\n",
            "400/400 [==============================] - 20s 49ms/step - loss: 0.0173 - val_loss: 0.0263\n",
            "Epoch 26/80\n",
            "400/400 [==============================] - 20s 49ms/step - loss: 0.0172 - val_loss: 0.0293\n",
            "Epoch 27/80\n",
            "400/400 [==============================] - 20s 49ms/step - loss: 0.0173 - val_loss: 0.0280\n",
            "Epoch 28/80\n",
            "400/400 [==============================] - 20s 49ms/step - loss: 0.0172 - val_loss: 0.0269\n",
            "Epoch 29/80\n",
            "400/400 [==============================] - 19s 49ms/step - loss: 0.0172 - val_loss: 0.0293\n",
            "Epoch 30/80\n",
            "400/400 [==============================] - 19s 49ms/step - loss: 0.0171 - val_loss: 0.0357\n",
            "Epoch 31/80\n",
            "400/400 [==============================] - 20s 49ms/step - loss: 0.0170 - val_loss: 0.0305\n",
            "Epoch 32/80\n",
            "400/400 [==============================] - 20s 50ms/step - loss: 0.0169 - val_loss: 0.0304\n",
            "Epoch 33/80\n",
            "400/400 [==============================] - 20s 49ms/step - loss: 0.0169 - val_loss: 0.0299\n",
            "Epoch 34/80\n",
            "400/400 [==============================] - 19s 49ms/step - loss: 0.0169 - val_loss: 0.0286\n",
            "Epoch 35/80\n",
            "400/400 [==============================] - 19s 49ms/step - loss: 0.0170 - val_loss: 0.0287\n",
            "Epoch 36/80\n",
            "400/400 [==============================] - 19s 48ms/step - loss: 0.0169 - val_loss: 0.0344\n",
            "Epoch 37/80\n",
            "400/400 [==============================] - 19s 49ms/step - loss: 0.0167 - val_loss: 0.0263\n",
            "Epoch 38/80\n",
            "400/400 [==============================] - 19s 49ms/step - loss: 0.0167 - val_loss: 0.0266\n",
            "Epoch 39/80\n",
            "400/400 [==============================] - 20s 49ms/step - loss: 0.0167 - val_loss: 0.0299\n",
            "Epoch 40/80\n",
            "400/400 [==============================] - 19s 48ms/step - loss: 0.0166 - val_loss: 0.0365\n",
            "Epoch 41/80\n",
            "400/400 [==============================] - 19s 49ms/step - loss: 0.0167 - val_loss: 0.0346\n",
            "Epoch 42/80\n",
            "400/400 [==============================] - 19s 48ms/step - loss: 0.0166 - val_loss: 0.0323\n",
            "Epoch 43/80\n",
            "400/400 [==============================] - 19s 49ms/step - loss: 0.0167 - val_loss: 0.0355\n",
            "Epoch 44/80\n",
            "400/400 [==============================] - 20s 49ms/step - loss: 0.0164 - val_loss: 0.0299\n",
            "Epoch 45/80\n",
            "400/400 [==============================] - 19s 48ms/step - loss: 0.0163 - val_loss: 0.0343\n",
            "Epoch 46/80\n",
            "400/400 [==============================] - 19s 48ms/step - loss: 0.0165 - val_loss: 0.0329\n",
            "Epoch 47/80\n",
            "400/400 [==============================] - 19s 49ms/step - loss: 0.0165 - val_loss: 0.0325\n",
            "Epoch 48/80\n",
            "400/400 [==============================] - 19s 48ms/step - loss: 0.0164 - val_loss: 0.0367\n",
            "Epoch 49/80\n",
            "400/400 [==============================] - 19s 48ms/step - loss: 0.0164 - val_loss: 0.0355\n",
            "Epoch 50/80\n",
            "400/400 [==============================] - 19s 48ms/step - loss: 0.0162 - val_loss: 0.0369\n",
            "Epoch 51/80\n",
            "400/400 [==============================] - 19s 48ms/step - loss: 0.0162 - val_loss: 0.0389\n",
            "Epoch 52/80\n",
            "400/400 [==============================] - 19s 48ms/step - loss: 0.0162 - val_loss: 0.0408\n",
            "Epoch 53/80\n",
            "400/400 [==============================] - 19s 48ms/step - loss: 0.0163 - val_loss: 0.0391\n",
            "Epoch 54/80\n",
            "400/400 [==============================] - 19s 48ms/step - loss: 0.0161 - val_loss: 0.0391\n",
            "Epoch 55/80\n",
            "400/400 [==============================] - 19s 48ms/step - loss: 0.0161 - val_loss: 0.0417\n",
            "Epoch 56/80\n",
            "400/400 [==============================] - 19s 48ms/step - loss: 0.0162 - val_loss: 0.0426\n",
            "Epoch 57/80\n",
            "400/400 [==============================] - 19s 48ms/step - loss: 0.0160 - val_loss: 0.0431\n",
            "Epoch 58/80\n",
            "400/400 [==============================] - 19s 48ms/step - loss: 0.0160 - val_loss: 0.0474\n",
            "Epoch 59/80\n",
            "400/400 [==============================] - 19s 47ms/step - loss: 0.0161 - val_loss: 0.0469\n",
            "Epoch 60/80\n",
            "400/400 [==============================] - 19s 48ms/step - loss: 0.0159 - val_loss: 0.0485\n",
            "Epoch 61/80\n",
            "400/400 [==============================] - 19s 48ms/step - loss: 0.0160 - val_loss: 0.0436\n",
            "Epoch 62/80\n",
            "400/400 [==============================] - 19s 48ms/step - loss: 0.0159 - val_loss: 0.0433\n",
            "Epoch 63/80\n",
            "400/400 [==============================] - 19s 48ms/step - loss: 0.0158 - val_loss: 0.0460\n",
            "Epoch 64/80\n",
            "400/400 [==============================] - 19s 48ms/step - loss: 0.0157 - val_loss: 0.0454\n",
            "Epoch 65/80\n",
            "400/400 [==============================] - 19s 48ms/step - loss: 0.0159 - val_loss: 0.0500\n",
            "Epoch 66/80\n",
            "400/400 [==============================] - 19s 47ms/step - loss: 0.0159 - val_loss: 0.0532\n",
            "Epoch 67/80\n",
            "400/400 [==============================] - 19s 47ms/step - loss: 0.0159 - val_loss: 0.0556\n",
            "Epoch 68/80\n",
            "400/400 [==============================] - 19s 48ms/step - loss: 0.0157 - val_loss: 0.0520\n",
            "Epoch 69/80\n",
            "400/400 [==============================] - 19s 48ms/step - loss: 0.0157 - val_loss: 0.0598\n",
            "Epoch 70/80\n",
            "400/400 [==============================] - 19s 48ms/step - loss: 0.0156 - val_loss: 0.0543\n",
            "Epoch 71/80\n",
            "400/400 [==============================] - 19s 48ms/step - loss: 0.0156 - val_loss: 0.0514\n",
            "Epoch 72/80\n",
            "400/400 [==============================] - 22s 55ms/step - loss: 0.0156 - val_loss: 0.0505\n",
            "Epoch 73/80\n",
            "400/400 [==============================] - 38s 95ms/step - loss: 0.0157 - val_loss: 0.0492\n",
            "Epoch 74/80\n",
            "400/400 [==============================] - 31s 77ms/step - loss: 0.0155 - val_loss: 0.0597\n",
            "Epoch 75/80\n",
            "400/400 [==============================] - 28s 69ms/step - loss: 0.0155 - val_loss: 0.0443\n",
            "Epoch 76/80\n",
            "400/400 [==============================] - 30s 76ms/step - loss: 0.0155 - val_loss: 0.0485\n",
            "Epoch 77/80\n",
            "400/400 [==============================] - 24s 59ms/step - loss: 0.0154 - val_loss: 0.0555\n",
            "Epoch 78/80\n",
            "400/400 [==============================] - 19s 48ms/step - loss: 0.0155 - val_loss: 0.0642\n",
            "Epoch 79/80\n",
            "400/400 [==============================] - 19s 48ms/step - loss: 0.0155 - val_loss: 0.0610\n",
            "Epoch 80/80\n",
            "400/400 [==============================] - 20s 50ms/step - loss: 0.0156 - val_loss: 0.0561\n"
          ]
        }
      ]
    },
    {
      "cell_type": "code",
      "source": [
        "eval2 = model1.evaluate(test_gen2, steps = test_steps2)"
      ],
      "metadata": {
        "colab": {
          "base_uri": "https://localhost:8080/"
        },
        "id": "hpflkSqlQZtH",
        "outputId": "8cee3f56-de1d-46fa-f5c8-76d754032599"
      },
      "execution_count": null,
      "outputs": [
        {
          "output_type": "stream",
          "name": "stdout",
          "text": [
            "140/140 [==============================] - 2s 12ms/step - loss: 0.0827\n"
          ]
        }
      ]
    },
    {
      "cell_type": "code",
      "source": [
        "loss2 = history2.history['loss']\n",
        "val_loss2 = history2.history['val_loss']\n",
        "epochs2 = range(1, len(loss2) + 1)\n",
        "plt.figure()\n",
        "plt.plot(epochs2, loss2, 'r', label='Training loss')\n",
        "plt.plot(epochs2, val_loss2, 'b', label='Validation loss')\n",
        "plt.title('Training and validation loss,softmax, RMSprop,  CLOSING PRICE PREDICTION')\n",
        "plt.legend()\n",
        "plt.show()"
      ],
      "metadata": {
        "colab": {
          "base_uri": "https://localhost:8080/",
          "height": 281
        },
        "id": "OiYoOmWtQdjL",
        "outputId": "2a1cc392-26c2-4e38-b5ab-b1f5507eb5cb"
      },
      "execution_count": null,
      "outputs": [
        {
          "output_type": "display_data",
          "data": {
            "text/plain": [
              "<Figure size 432x288 with 1 Axes>"
            ],
            "image/png": "[encoded data removed]"
          },
          "metadata": {
            "needs_background": "light"
          }
        }
      ]
    },
    {
      "cell_type": "code",
      "source": [
        "eval3 = model1.evaluate(test_gen3, steps = test_steps3)"
      ],
      "metadata": {
        "colab": {
          "base_uri": "https://localhost:8080/"
        },
        "id": "mcHOZ5vGQjqJ",
        "outputId": "9f23499f-d495-487c-93f4-95d52733716a"
      },
      "execution_count": null,
      "outputs": [
        {
          "output_type": "stream",
          "name": "stdout",
          "text": [
            "991/991 [==============================] - 12s 12ms/step - loss: 0.0732\n"
          ]
        }
      ]
    }
  ]
}