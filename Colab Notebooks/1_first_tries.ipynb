{
  "nbformat": 4,
  "nbformat_minor": 0,
  "metadata": {
    "colab": {
      "name": "1_first_tries.ipynb",
      "provenance": [],
      "collapsed_sections": []
    },
    "kernelspec": {
      "name": "python3",
      "display_name": "Python 3"
    },
    "language_info": {
      "name": "python"
    }
  },
  "cells": [
    {
      "cell_type": "markdown",
      "source": [
        "First experience with loading data, creating and training models"
      ],
      "metadata": {
        "id": "m7J5nfRTIjAW"
      }
    },
    {
      "cell_type": "code",
      "execution_count": null,
      "metadata": {
        "id": "wUvssPBXc-ql"
      },
      "outputs": [],
      "source": [
        "import pandas as pd\n",
        "import numpy as np\n",
        "import tensorflow as tf\n",
        "from matplotlib import pyplot as plt\n",
        "from tensorflow.keras import layers\n",
        "df = pd.read_csv(\"drive/MyDrive/Engineer's Project/test.csv\")"
      ]
    },
    {
      "cell_type": "code",
      "source": [
        "from google.colab import drive\n",
        "drive.mount('/content/drive')"
      ],
      "metadata": {
        "id": "Oj9mW3rFHewW"
      },
      "execution_count": null,
      "outputs": []
    },
    {
      "cell_type": "code",
      "source": [
        "labels = df.pop('ohlc')"
      ],
      "metadata": {
        "id": "YqsLaAvqeP44"
      },
      "execution_count": null,
      "outputs": []
    },
    {
      "cell_type": "code",
      "source": [
        "features = df.drop('Date', 1)"
      ],
      "metadata": {
        "colab": {
          "base_uri": "https://localhost:8080/"
        },
        "id": "FabzVDEceVVw",
        "outputId": "00b161cf-dbec-4aa6-92c5-73c784c3e23f"
      },
      "execution_count": null,
      "outputs": [
        {
          "output_type": "stream",
          "name": "stderr",
          "text": [
            "/usr/local/lib/python3.7/dist-packages/ipykernel_launcher.py:1: FutureWarning: In a future version of pandas all arguments of DataFrame.drop except for the argument 'labels' will be keyword-only\n",
            "  \"\"\"Entry point for launching an IPython kernel.\n"
          ]
        }
      ]
    },
    {
      "cell_type": "code",
      "source": [
        "features"
      ],
      "metadata": {
        "colab": {
          "base_uri": "https://localhost:8080/",
          "height": 424
        },
        "id": "v1bZQzI5eiMz",
        "outputId": "3ccb7538-918f-4065-a13e-10d9851be58e"
      },
      "execution_count": null,
      "outputs": [
        {
          "output_type": "execute_result",
          "data": {
            "text/plain": [
              "       Opening     High      Low   Closing      Momentum    Range   usa_cpi  \\\n",
              "0     2.879833  2.88790  2.87010  2.879821  1.137566e-05  0.01780  1.143161   \n",
              "1     2.884751  2.89410  2.87410  2.884744  6.974790e-06  0.02000  1.143161   \n",
              "2     2.922487  2.94990  2.87870  2.922526 -3.955774e-05  0.07120  1.143161   \n",
              "3     2.924881  2.94620  2.90710  2.924866  1.536293e-05  0.03910  1.143161   \n",
              "4     2.889930  2.91050  2.87620  2.889919  1.130618e-05  0.03430  1.143161   \n",
              "...        ...      ...      ...       ...           ...      ...       ...   \n",
              "3537  4.295905  4.32760  4.25575  4.295840  6.534737e-05  0.07185  8.542456   \n",
              "3538  4.274725  4.28336  4.26235  4.274796 -7.108761e-05  0.02101  8.542456   \n",
              "3539  4.281351  4.31530  4.26045  4.281360 -8.380682e-06  0.05485  8.542456   \n",
              "3540  4.216832  4.29321  4.16885  4.216783  4.868289e-05  0.12436  8.542456   \n",
              "3541  4.168220  4.20615  4.14593  4.168219  7.077141e-07  0.06022  8.542456   \n",
              "\n",
              "      pol_cpi  usa_inter  pol_inter  \n",
              "0         2.7       2.76       5.82  \n",
              "1         2.7       2.76       5.82  \n",
              "2         2.7       2.76       5.82  \n",
              "3         2.7       2.76       5.82  \n",
              "4         2.7       2.76       5.82  \n",
              "...       ...        ...        ...  \n",
              "3537     11.0       2.13       4.83  \n",
              "3538     11.0       2.13       4.83  \n",
              "3539     11.0       2.13       4.83  \n",
              "3540     11.0       2.13       4.83  \n",
              "3541     11.0       2.13       4.83  \n",
              "\n",
              "[3542 rows x 10 columns]"
            ],
            "text/html": [
              "\n",
              "  <div id=\"df-00d9219c-4a32-4017-8dc3-ab5355b09119\">\n",
              "    <div class=\"colab-df-container\">\n",
              "      <div>\n",
              "<style scoped>\n",
              "    .dataframe tbody tr th:only-of-type {\n",
              "        vertical-align: middle;\n",
              "    }\n",
              "\n",
              "    .dataframe tbody tr th {\n",
              "        vertical-align: top;\n",
              "    }\n",
              "\n",
              "    .dataframe thead th {\n",
              "        text-align: right;\n",
              "    }\n",
              "</style>\n",
              "<table border=\"1\" class=\"dataframe\">\n",
              "  <thead>\n",
              "    <tr style=\"text-align: right;\">\n",
              "      <th></th>\n",
              "      <th>Opening</th>\n",
              "      <th>High</th>\n",
              "      <th>Low</th>\n",
              "      <th>Closing</th>\n",
              "      <th>Momentum</th>\n",
              "      <th>Range</th>\n",
              "      <th>usa_cpi</th>\n",
              "      <th>pol_cpi</th>\n",
              "      <th>usa_inter</th>\n",
              "      <th>pol_inter</th>\n",
              "    </tr>\n",
              "  </thead>\n",
              "  <tbody>\n",
              "    <tr>\n",
              "      <th>0</th>\n",
              "      <td>2.879833</td>\n",
              "      <td>2.88790</td>\n",
              "      <td>2.87010</td>\n",
              "      <td>2.879821</td>\n",
              "      <td>1.137566e-05</td>\n",
              "      <td>0.01780</td>\n",
              "      <td>1.143161</td>\n",
              "      <td>2.7</td>\n",
              "      <td>2.76</td>\n",
              "      <td>5.82</td>\n",
              "    </tr>\n",
              "    <tr>\n",
              "      <th>1</th>\n",
              "      <td>2.884751</td>\n",
              "      <td>2.89410</td>\n",
              "      <td>2.87410</td>\n",
              "      <td>2.884744</td>\n",
              "      <td>6.974790e-06</td>\n",
              "      <td>0.02000</td>\n",
              "      <td>1.143161</td>\n",
              "      <td>2.7</td>\n",
              "      <td>2.76</td>\n",
              "      <td>5.82</td>\n",
              "    </tr>\n",
              "    <tr>\n",
              "      <th>2</th>\n",
              "      <td>2.922487</td>\n",
              "      <td>2.94990</td>\n",
              "      <td>2.87870</td>\n",
              "      <td>2.922526</td>\n",
              "      <td>-3.955774e-05</td>\n",
              "      <td>0.07120</td>\n",
              "      <td>1.143161</td>\n",
              "      <td>2.7</td>\n",
              "      <td>2.76</td>\n",
              "      <td>5.82</td>\n",
              "    </tr>\n",
              "    <tr>\n",
              "      <th>3</th>\n",
              "      <td>2.924881</td>\n",
              "      <td>2.94620</td>\n",
              "      <td>2.90710</td>\n",
              "      <td>2.924866</td>\n",
              "      <td>1.536293e-05</td>\n",
              "      <td>0.03910</td>\n",
              "      <td>1.143161</td>\n",
              "      <td>2.7</td>\n",
              "      <td>2.76</td>\n",
              "      <td>5.82</td>\n",
              "    </tr>\n",
              "    <tr>\n",
              "      <th>4</th>\n",
              "      <td>2.889930</td>\n",
              "      <td>2.91050</td>\n",
              "      <td>2.87620</td>\n",
              "      <td>2.889919</td>\n",
              "      <td>1.130618e-05</td>\n",
              "      <td>0.03430</td>\n",
              "      <td>1.143161</td>\n",
              "      <td>2.7</td>\n",
              "      <td>2.76</td>\n",
              "      <td>5.82</td>\n",
              "    </tr>\n",
              "    <tr>\n",
              "      <th>...</th>\n",
              "      <td>...</td>\n",
              "      <td>...</td>\n",
              "      <td>...</td>\n",
              "      <td>...</td>\n",
              "      <td>...</td>\n",
              "      <td>...</td>\n",
              "      <td>...</td>\n",
              "      <td>...</td>\n",
              "      <td>...</td>\n",
              "      <td>...</td>\n",
              "    </tr>\n",
              "    <tr>\n",
              "      <th>3537</th>\n",
              "      <td>4.295905</td>\n",
              "      <td>4.32760</td>\n",
              "      <td>4.25575</td>\n",
              "      <td>4.295840</td>\n",
              "      <td>6.534737e-05</td>\n",
              "      <td>0.07185</td>\n",
              "      <td>8.542456</td>\n",
              "      <td>11.0</td>\n",
              "      <td>2.13</td>\n",
              "      <td>4.83</td>\n",
              "    </tr>\n",
              "    <tr>\n",
              "      <th>3538</th>\n",
              "      <td>4.274725</td>\n",
              "      <td>4.28336</td>\n",
              "      <td>4.26235</td>\n",
              "      <td>4.274796</td>\n",
              "      <td>-7.108761e-05</td>\n",
              "      <td>0.02101</td>\n",
              "      <td>8.542456</td>\n",
              "      <td>11.0</td>\n",
              "      <td>2.13</td>\n",
              "      <td>4.83</td>\n",
              "    </tr>\n",
              "    <tr>\n",
              "      <th>3539</th>\n",
              "      <td>4.281351</td>\n",
              "      <td>4.31530</td>\n",
              "      <td>4.26045</td>\n",
              "      <td>4.281360</td>\n",
              "      <td>-8.380682e-06</td>\n",
              "      <td>0.05485</td>\n",
              "      <td>8.542456</td>\n",
              "      <td>11.0</td>\n",
              "      <td>2.13</td>\n",
              "      <td>4.83</td>\n",
              "    </tr>\n",
              "    <tr>\n",
              "      <th>3540</th>\n",
              "      <td>4.216832</td>\n",
              "      <td>4.29321</td>\n",
              "      <td>4.16885</td>\n",
              "      <td>4.216783</td>\n",
              "      <td>4.868289e-05</td>\n",
              "      <td>0.12436</td>\n",
              "      <td>8.542456</td>\n",
              "      <td>11.0</td>\n",
              "      <td>2.13</td>\n",
              "      <td>4.83</td>\n",
              "    </tr>\n",
              "    <tr>\n",
              "      <th>3541</th>\n",
              "      <td>4.168220</td>\n",
              "      <td>4.20615</td>\n",
              "      <td>4.14593</td>\n",
              "      <td>4.168219</td>\n",
              "      <td>7.077141e-07</td>\n",
              "      <td>0.06022</td>\n",
              "      <td>8.542456</td>\n",
              "      <td>11.0</td>\n",
              "      <td>2.13</td>\n",
              "      <td>4.83</td>\n",
              "    </tr>\n",
              "  </tbody>\n",
              "</table>\n",
              "<p>3542 rows × 10 columns</p>\n",
              "</div>\n",
              "      <button class=\"colab-df-convert\" onclick=\"convertToInteractive('df-00d9219c-4a32-4017-8dc3-ab5355b09119')\"\n",
              "              title=\"Convert this dataframe to an interactive table.\"\n",
              "              style=\"display:none;\">\n",
              "        \n",
              "  <svg xmlns=\"http://www.w3.org/2000/svg\" height=\"24px\"viewBox=\"0 0 24 24\"\n",
              "       width=\"24px\">\n",
              "    <path d=\"M0 0h24v24H0V0z\" fill=\"none\"/>\n",
              "    <path d=\"M18.56 5.44l.94 2.06.94-2.06 2.06-.94-2.06-.94-.94-2.06-.94 2.06-2.06.94zm-11 1L8.5 8.5l.94-2.06 2.06-.94-2.06-.94L8.5 2.5l-.94 2.06-2.06.94zm10 10l.94 2.06.94-2.06 2.06-.94-2.06-.94-.94-2.06-.94 2.06-2.06.94z\"/><path d=\"M17.41 7.96l-1.37-1.37c-.4-.4-.92-.59-1.43-.59-.52 0-1.04.2-1.43.59L10.3 9.45l-7.72 7.72c-.78.78-.78 2.05 0 2.83L4 21.41c.39.39.9.59 1.41.59.51 0 1.02-.2 1.41-.59l7.78-7.78 2.81-2.81c.8-.78.8-2.07 0-2.86zM5.41 20L4 18.59l7.72-7.72 1.47 1.35L5.41 20z\"/>\n",
              "  </svg>\n",
              "      </button>\n",
              "      \n",
              "  <style>\n",
              "    .colab-df-container {\n",
              "      display:flex;\n",
              "      flex-wrap:wrap;\n",
              "      gap: 12px;\n",
              "    }\n",
              "\n",
              "    .colab-df-convert {\n",
              "      background-color: #E8F0FE;\n",
              "      border: none;\n",
              "      border-radius: 50%;\n",
              "      cursor: pointer;\n",
              "      display: none;\n",
              "      fill: #1967D2;\n",
              "      height: 32px;\n",
              "      padding: 0 0 0 0;\n",
              "      width: 32px;\n",
              "    }\n",
              "\n",
              "    .colab-df-convert:hover {\n",
              "      background-color: #E2EBFA;\n",
              "      box-shadow: 0px 1px 2px rgba(60, 64, 67, 0.3), 0px 1px 3px 1px rgba(60, 64, 67, 0.15);\n",
              "      fill: #174EA6;\n",
              "    }\n",
              "\n",
              "    [theme=dark] .colab-df-convert {\n",
              "      background-color: #3B4455;\n",
              "      fill: #D2E3FC;\n",
              "    }\n",
              "\n",
              "    [theme=dark] .colab-df-convert:hover {\n",
              "      background-color: #434B5C;\n",
              "      box-shadow: 0px 1px 3px 1px rgba(0, 0, 0, 0.15);\n",
              "      filter: drop-shadow(0px 1px 2px rgba(0, 0, 0, 0.3));\n",
              "      fill: #FFFFFF;\n",
              "    }\n",
              "  </style>\n",
              "\n",
              "      <script>\n",
              "        const buttonEl =\n",
              "          document.querySelector('#df-00d9219c-4a32-4017-8dc3-ab5355b09119 button.colab-df-convert');\n",
              "        buttonEl.style.display =\n",
              "          google.colab.kernel.accessAllowed ? 'block' : 'none';\n",
              "\n",
              "        async function convertToInteractive(key) {\n",
              "          const element = document.querySelector('#df-00d9219c-4a32-4017-8dc3-ab5355b09119');\n",
              "          const dataTable =\n",
              "            await google.colab.kernel.invokeFunction('convertToInteractive',\n",
              "                                                     [key], {});\n",
              "          if (!dataTable) return;\n",
              "\n",
              "          const docLinkHtml = 'Like what you see? Visit the ' +\n",
              "            '<a target=\"_blank\" href=https://colab.research.google.com/notebooks/data_table.ipynb>data table notebook</a>'\n",
              "            + ' to learn more about interactive tables.';\n",
              "          element.innerHTML = '';\n",
              "          dataTable['output_type'] = 'display_data';\n",
              "          await google.colab.output.renderOutput(dataTable, element);\n",
              "          const docLink = document.createElement('div');\n",
              "          docLink.innerHTML = docLinkHtml;\n",
              "          element.appendChild(docLink);\n",
              "        }\n",
              "      </script>\n",
              "    </div>\n",
              "  </div>\n",
              "  "
            ]
          },
          "metadata": {},
          "execution_count": 12
        }
      ]
    },
    {
      "cell_type": "code",
      "source": [
        "features = np.asarray(features).astype('float32')\n",
        "features"
      ],
      "metadata": {
        "colab": {
          "base_uri": "https://localhost:8080/"
        },
        "id": "eCPD75SGe0TH",
        "outputId": "60c019e7-3e68-49df-896c-0a050c161fdf"
      },
      "execution_count": null,
      "outputs": [
        {
          "output_type": "execute_result",
          "data": {
            "text/plain": [
              "array([[ 2.8798327,  2.8879   ,  2.8701   , ...,  2.7      ,  2.76     ,\n",
              "         5.82     ],\n",
              "       [ 2.8847513,  2.8941   ,  2.8741   , ...,  2.7      ,  2.76     ,\n",
              "         5.82     ],\n",
              "       [ 2.9224865,  2.9499   ,  2.8787   , ...,  2.7      ,  2.76     ,\n",
              "         5.82     ],\n",
              "       ...,\n",
              "       [ 4.281351 ,  4.3153   ,  4.26045  , ..., 11.       ,  2.13     ,\n",
              "         4.83     ],\n",
              "       [ 4.2168317,  4.29321  ,  4.16885  , ..., 11.       ,  2.13     ,\n",
              "         4.83     ],\n",
              "       [ 4.16822  ,  4.20615  ,  4.14593  , ..., 11.       ,  2.13     ,\n",
              "         4.83     ]], dtype=float32)"
            ]
          },
          "metadata": {},
          "execution_count": 13
        }
      ]
    },
    {
      "cell_type": "code",
      "source": [
        "model = tf.keras.Sequential([\n",
        "  layers.Dense(64),\n",
        "  layers.Dense(128),\n",
        "  layers.Dense(64),\n",
        "  layers.Dense(1)\n",
        "])\n",
        "\n",
        "model.compile(loss = tf.losses.MeanSquaredError(),\n",
        "                      optimizer = tf.optimizers.Adam())\n"
      ],
      "metadata": {
        "id": "re8fskGqISJa"
      },
      "execution_count": null,
      "outputs": []
    },
    {
      "cell_type": "code",
      "source": [
        "result = model.fit(features, labels, epochs=10)\n"
      ],
      "metadata": {
        "id": "BKTQSpZ0e8tM",
        "colab": {
          "base_uri": "https://localhost:8080/"
        },
        "outputId": "bf733ea0-9df3-40f6-8aa2-313d9c30729c"
      },
      "execution_count": null,
      "outputs": [
        {
          "output_type": "stream",
          "name": "stdout",
          "text": [
            "Epoch 1/10\n",
            "111/111 [==============================] - 1s 2ms/step - loss: 0.6826\n",
            "Epoch 2/10\n",
            "111/111 [==============================] - 0s 2ms/step - loss: 6.6885e-05\n",
            "Epoch 3/10\n",
            "111/111 [==============================] - 0s 2ms/step - loss: 2.5732e-05\n",
            "Epoch 4/10\n",
            "111/111 [==============================] - 0s 2ms/step - loss: 2.4981e-05\n",
            "Epoch 5/10\n",
            "111/111 [==============================] - 0s 2ms/step - loss: 2.2298e-05\n",
            "Epoch 6/10\n",
            "111/111 [==============================] - 0s 2ms/step - loss: 2.2075e-05\n",
            "Epoch 7/10\n",
            "111/111 [==============================] - 0s 2ms/step - loss: 2.1776e-05\n",
            "Epoch 8/10\n",
            "111/111 [==============================] - 0s 2ms/step - loss: 1.7567e-05\n",
            "Epoch 9/10\n",
            "111/111 [==============================] - 0s 2ms/step - loss: 1.6837e-05\n",
            "Epoch 10/10\n",
            "111/111 [==============================] - 0s 2ms/step - loss: 1.5322e-05\n"
          ]
        }
      ]
    },
    {
      "cell_type": "code",
      "source": [
        "result2 = model.fit(features, labels, epochs=10, validation_split=0.2, shuffle='false')"
      ],
      "metadata": {
        "colab": {
          "base_uri": "https://localhost:8080/"
        },
        "id": "D88uzFUVLU9X",
        "outputId": "efc10fa5-387d-4f0f-e4be-df92f40c332d"
      },
      "execution_count": null,
      "outputs": [
        {
          "output_type": "stream",
          "name": "stdout",
          "text": [
            "Epoch 1/10\n",
            "89/89 [==============================] - 0s 4ms/step - loss: 1.2821e-05 - val_loss: 1.6712e-05\n",
            "Epoch 2/10\n",
            "89/89 [==============================] - 0s 3ms/step - loss: 1.1657e-05 - val_loss: 2.0134e-05\n",
            "Epoch 3/10\n",
            "89/89 [==============================] - 0s 2ms/step - loss: 1.0299e-05 - val_loss: 1.5069e-05\n",
            "Epoch 4/10\n",
            "89/89 [==============================] - 0s 3ms/step - loss: 8.2374e-06 - val_loss: 2.4178e-05\n",
            "Epoch 5/10\n",
            "89/89 [==============================] - 0s 3ms/step - loss: 8.3794e-06 - val_loss: 2.0247e-05\n",
            "Epoch 6/10\n",
            "89/89 [==============================] - 0s 3ms/step - loss: 6.6685e-06 - val_loss: 7.6136e-06\n",
            "Epoch 7/10\n",
            "89/89 [==============================] - 0s 3ms/step - loss: 6.3229e-06 - val_loss: 8.4704e-06\n",
            "Epoch 8/10\n",
            "89/89 [==============================] - 0s 3ms/step - loss: 5.5278e-06 - val_loss: 1.3849e-05\n",
            "Epoch 9/10\n",
            "89/89 [==============================] - 0s 3ms/step - loss: 4.5976e-06 - val_loss: 8.6179e-06\n",
            "Epoch 10/10\n",
            "89/89 [==============================] - 0s 2ms/step - loss: 5.1156e-06 - val_loss: 1.3206e-05\n"
          ]
        }
      ]
    },
    {
      "cell_type": "code",
      "source": [
        "result.history['loss']"
      ],
      "metadata": {
        "colab": {
          "base_uri": "https://localhost:8080/"
        },
        "id": "pvsNJzggI-P4",
        "outputId": "04042fa4-2cbe-45fe-a5dd-ccc0be9c59da"
      },
      "execution_count": null,
      "outputs": [
        {
          "output_type": "execute_result",
          "data": {
            "text/plain": [
              "[0.6826326847076416,\n",
              " 6.68846259941347e-05,\n",
              " 2.5732259018695913e-05,\n",
              " 2.498058347555343e-05,\n",
              " 2.229777783213649e-05,\n",
              " 2.2074840671848506e-05,\n",
              " 2.1776355424663052e-05,\n",
              " 1.7566871974850073e-05,\n",
              " 1.683658774709329e-05,\n",
              " 1.532233909529168e-05]"
            ]
          },
          "metadata": {},
          "execution_count": 36
        }
      ]
    },
    {
      "cell_type": "code",
      "source": [
        "plt.plot(result.history['loss'])"
      ],
      "metadata": {
        "colab": {
          "base_uri": "https://localhost:8080/",
          "height": 283
        },
        "id": "Fm0bgkq_KOhE",
        "outputId": "c3c8b920-34e1-4cd2-8abb-1508f426fb6a"
      },
      "execution_count": null,
      "outputs": [
        {
          "output_type": "execute_result",
          "data": {
            "text/plain": [
              "[<matplotlib.lines.Line2D at 0x7f8d98f5a4d0>]"
            ]
          },
          "metadata": {},
          "execution_count": 37
        },
        {
          "output_type": "display_data",
          "data": {
            "text/plain": [
              "<Figure size 432x288 with 1 Axes>"
            ],
            "image/png": "[encoded data removed]"
          },
          "metadata": {
            "needs_background": "light"
          }
        }
      ]
    },
    {
      "cell_type": "code",
      "source": [
        "plt.plot(result2.history['loss'])"
      ],
      "metadata": {
        "colab": {
          "base_uri": "https://localhost:8080/",
          "height": 294
        },
        "id": "0Qzqxor4Lkvp",
        "outputId": "5e8d5080-a095-46f2-b066-09072dc7a61c"
      },
      "execution_count": null,
      "outputs": [
        {
          "output_type": "execute_result",
          "data": {
            "text/plain": [
              "[<matplotlib.lines.Line2D at 0x7f8d9951a290>]"
            ]
          },
          "metadata": {},
          "execution_count": 38
        },
        {
          "output_type": "display_data",
          "data": {
            "text/plain": [
              "<Figure size 432x288 with 1 Axes>"
            ],
            "image/png": "[encoded data removed]"
          },
          "metadata": {
            "needs_background": "light"
          }
        }
      ]
    }
  ]
}