{
  "nbformat": 4,
  "nbformat_minor": 0,
  "metadata": {
    "colab": {
      "name": "2_first_models.ipynb",
      "provenance": [],
      "collapsed_sections": []
    },
    "kernelspec": {
      "name": "python3",
      "display_name": "Python 3"
    },
    "language_info": {
      "name": "python"
    }
  },
  "cells": [
    {
      "cell_type": "markdown",
      "source": [
        "Preprocessing data, creating generators for training, validation and testing data, training various models, plotting results. Best val loss = 0.2."
      ],
      "metadata": {
        "id": "-DHltJ1CJHvB"
      }
    },
    {
      "cell_type": "code",
      "execution_count": null,
      "metadata": {
        "id": "X-FNz3Szm7hF"
      },
      "outputs": [],
      "source": [
        "import pandas as pd\n",
        "import numpy as np\n",
        "import tensorflow as tf\n",
        "from matplotlib import pyplot as plt\n",
        "from tensorflow.keras import layers\n",
        "df = pd.read_csv(\"drive/MyDrive/Engineer's Project/test.csv\")"
      ]
    },
    {
      "cell_type": "code",
      "source": [
        "df.pop('Date')\n",
        "df.head()"
      ],
      "metadata": {
        "colab": {
          "base_uri": "https://localhost:8080/",
          "height": 206
        },
        "id": "rkA9jPPgnHtV",
        "outputId": "e2df8804-4a09-408f-f6d5-9b122c156c58"
      },
      "execution_count": null,
      "outputs": [
        {
          "output_type": "execute_result",
          "data": {
            "text/plain": [
              "    Opening    High     Low   Closing  Momentum   Range      ohlc   usa_cpi  \\\n",
              "0  2.879833  2.8879  2.8701  2.879821  0.000011  0.0178  2.879414  1.143161   \n",
              "1  2.884751  2.8941  2.8741  2.884744  0.000007  0.0200  2.884424  1.143161   \n",
              "2  2.922487  2.9499  2.8787  2.922526 -0.000040  0.0712  2.918403  1.143161   \n",
              "3  2.924881  2.9462  2.9071  2.924866  0.000015  0.0391  2.925762  1.143161   \n",
              "4  2.889930  2.9105  2.8762  2.889919  0.000011  0.0343  2.891637  1.143161   \n",
              "\n",
              "   pol_cpi  usa_inter  pol_inter  \n",
              "0      2.7       2.76       5.82  \n",
              "1      2.7       2.76       5.82  \n",
              "2      2.7       2.76       5.82  \n",
              "3      2.7       2.76       5.82  \n",
              "4      2.7       2.76       5.82  "
            ],
            "text/html": [
              "\n",
              "  <div id=\"df-a750f93b-08c7-4c0f-9c0a-6fa3137cbc02\">\n",
              "    <div class=\"colab-df-container\">\n",
              "      <div>\n",
              "<style scoped>\n",
              "    .dataframe tbody tr th:only-of-type {\n",
              "        vertical-align: middle;\n",
              "    }\n",
              "\n",
              "    .dataframe tbody tr th {\n",
              "        vertical-align: top;\n",
              "    }\n",
              "\n",
              "    .dataframe thead th {\n",
              "        text-align: right;\n",
              "    }\n",
              "</style>\n",
              "<table border=\"1\" class=\"dataframe\">\n",
              "  <thead>\n",
              "    <tr style=\"text-align: right;\">\n",
              "      <th></th>\n",
              "      <th>Opening</th>\n",
              "      <th>High</th>\n",
              "      <th>Low</th>\n",
              "      <th>Closing</th>\n",
              "      <th>Momentum</th>\n",
              "      <th>Range</th>\n",
              "      <th>ohlc</th>\n",
              "      <th>usa_cpi</th>\n",
              "      <th>pol_cpi</th>\n",
              "      <th>usa_inter</th>\n",
              "      <th>pol_inter</th>\n",
              "    </tr>\n",
              "  </thead>\n",
              "  <tbody>\n",
              "    <tr>\n",
              "      <th>0</th>\n",
              "      <td>2.879833</td>\n",
              "      <td>2.8879</td>\n",
              "      <td>2.8701</td>\n",
              "      <td>2.879821</td>\n",
              "      <td>0.000011</td>\n",
              "      <td>0.0178</td>\n",
              "      <td>2.879414</td>\n",
              "      <td>1.143161</td>\n",
              "      <td>2.7</td>\n",
              "      <td>2.76</td>\n",
              "      <td>5.82</td>\n",
              "    </tr>\n",
              "    <tr>\n",
              "      <th>1</th>\n",
              "      <td>2.884751</td>\n",
              "      <td>2.8941</td>\n",
              "      <td>2.8741</td>\n",
              "      <td>2.884744</td>\n",
              "      <td>0.000007</td>\n",
              "      <td>0.0200</td>\n",
              "      <td>2.884424</td>\n",
              "      <td>1.143161</td>\n",
              "      <td>2.7</td>\n",
              "      <td>2.76</td>\n",
              "      <td>5.82</td>\n",
              "    </tr>\n",
              "    <tr>\n",
              "      <th>2</th>\n",
              "      <td>2.922487</td>\n",
              "      <td>2.9499</td>\n",
              "      <td>2.8787</td>\n",
              "      <td>2.922526</td>\n",
              "      <td>-0.000040</td>\n",
              "      <td>0.0712</td>\n",
              "      <td>2.918403</td>\n",
              "      <td>1.143161</td>\n",
              "      <td>2.7</td>\n",
              "      <td>2.76</td>\n",
              "      <td>5.82</td>\n",
              "    </tr>\n",
              "    <tr>\n",
              "      <th>3</th>\n",
              "      <td>2.924881</td>\n",
              "      <td>2.9462</td>\n",
              "      <td>2.9071</td>\n",
              "      <td>2.924866</td>\n",
              "      <td>0.000015</td>\n",
              "      <td>0.0391</td>\n",
              "      <td>2.925762</td>\n",
              "      <td>1.143161</td>\n",
              "      <td>2.7</td>\n",
              "      <td>2.76</td>\n",
              "      <td>5.82</td>\n",
              "    </tr>\n",
              "    <tr>\n",
              "      <th>4</th>\n",
              "      <td>2.889930</td>\n",
              "      <td>2.9105</td>\n",
              "      <td>2.8762</td>\n",
              "      <td>2.889919</td>\n",
              "      <td>0.000011</td>\n",
              "      <td>0.0343</td>\n",
              "      <td>2.891637</td>\n",
              "      <td>1.143161</td>\n",
              "      <td>2.7</td>\n",
              "      <td>2.76</td>\n",
              "      <td>5.82</td>\n",
              "    </tr>\n",
              "  </tbody>\n",
              "</table>\n",
              "</div>\n",
              "      <button class=\"colab-df-convert\" onclick=\"convertToInteractive('df-a750f93b-08c7-4c0f-9c0a-6fa3137cbc02')\"\n",
              "              title=\"Convert this dataframe to an interactive table.\"\n",
              "              style=\"display:none;\">\n",
              "        \n",
              "  <svg xmlns=\"http://www.w3.org/2000/svg\" height=\"24px\"viewBox=\"0 0 24 24\"\n",
              "       width=\"24px\">\n",
              "    <path d=\"M0 0h24v24H0V0z\" fill=\"none\"/>\n",
              "    <path d=\"M18.56 5.44l.94 2.06.94-2.06 2.06-.94-2.06-.94-.94-2.06-.94 2.06-2.06.94zm-11 1L8.5 8.5l.94-2.06 2.06-.94-2.06-.94L8.5 2.5l-.94 2.06-2.06.94zm10 10l.94 2.06.94-2.06 2.06-.94-2.06-.94-.94-2.06-.94 2.06-2.06.94z\"/><path d=\"M17.41 7.96l-1.37-1.37c-.4-.4-.92-.59-1.43-.59-.52 0-1.04.2-1.43.59L10.3 9.45l-7.72 7.72c-.78.78-.78 2.05 0 2.83L4 21.41c.39.39.9.59 1.41.59.51 0 1.02-.2 1.41-.59l7.78-7.78 2.81-2.81c.8-.78.8-2.07 0-2.86zM5.41 20L4 18.59l7.72-7.72 1.47 1.35L5.41 20z\"/>\n",
              "  </svg>\n",
              "      </button>\n",
              "      \n",
              "  <style>\n",
              "    .colab-df-container {\n",
              "      display:flex;\n",
              "      flex-wrap:wrap;\n",
              "      gap: 12px;\n",
              "    }\n",
              "\n",
              "    .colab-df-convert {\n",
              "      background-color: #E8F0FE;\n",
              "      border: none;\n",
              "      border-radius: 50%;\n",
              "      cursor: pointer;\n",
              "      display: none;\n",
              "      fill: #1967D2;\n",
              "      height: 32px;\n",
              "      padding: 0 0 0 0;\n",
              "      width: 32px;\n",
              "    }\n",
              "\n",
              "    .colab-df-convert:hover {\n",
              "      background-color: #E2EBFA;\n",
              "      box-shadow: 0px 1px 2px rgba(60, 64, 67, 0.3), 0px 1px 3px 1px rgba(60, 64, 67, 0.15);\n",
              "      fill: #174EA6;\n",
              "    }\n",
              "\n",
              "    [theme=dark] .colab-df-convert {\n",
              "      background-color: #3B4455;\n",
              "      fill: #D2E3FC;\n",
              "    }\n",
              "\n",
              "    [theme=dark] .colab-df-convert:hover {\n",
              "      background-color: #434B5C;\n",
              "      box-shadow: 0px 1px 3px 1px rgba(0, 0, 0, 0.15);\n",
              "      filter: drop-shadow(0px 1px 2px rgba(0, 0, 0, 0.3));\n",
              "      fill: #FFFFFF;\n",
              "    }\n",
              "  </style>\n",
              "\n",
              "      <script>\n",
              "        const buttonEl =\n",
              "          document.querySelector('#df-a750f93b-08c7-4c0f-9c0a-6fa3137cbc02 button.colab-df-convert');\n",
              "        buttonEl.style.display =\n",
              "          google.colab.kernel.accessAllowed ? 'block' : 'none';\n",
              "\n",
              "        async function convertToInteractive(key) {\n",
              "          const element = document.querySelector('#df-a750f93b-08c7-4c0f-9c0a-6fa3137cbc02');\n",
              "          const dataTable =\n",
              "            await google.colab.kernel.invokeFunction('convertToInteractive',\n",
              "                                                     [key], {});\n",
              "          if (!dataTable) return;\n",
              "\n",
              "          const docLinkHtml = 'Like what you see? Visit the ' +\n",
              "            '<a target=\"_blank\" href=https://colab.research.google.com/notebooks/data_table.ipynb>data table notebook</a>'\n",
              "            + ' to learn more about interactive tables.';\n",
              "          element.innerHTML = '';\n",
              "          dataTable['output_type'] = 'display_data';\n",
              "          await google.colab.output.renderOutput(dataTable, element);\n",
              "          const docLink = document.createElement('div');\n",
              "          docLink.innerHTML = docLinkHtml;\n",
              "          element.appendChild(docLink);\n",
              "        }\n",
              "      </script>\n",
              "    </div>\n",
              "  </div>\n",
              "  "
            ]
          },
          "metadata": {},
          "execution_count": 3
        }
      ]
    },
    {
      "cell_type": "code",
      "source": [
        "float_data = np.array(df).astype('float32')"
      ],
      "metadata": {
        "id": "t0zPZFkOnMBN"
      },
      "execution_count": null,
      "outputs": []
    },
    {
      "cell_type": "code",
      "source": [
        "mean = float_data[:2800].mean(axis=0)\n",
        "float_data -= mean\n",
        "std = float_data[:2800].std(axis=0)\n",
        "float_data /= std"
      ],
      "metadata": {
        "id": "vaP4eZS-nPLV"
      },
      "execution_count": null,
      "outputs": []
    },
    {
      "cell_type": "code",
      "source": [
        "lookback = 30\n",
        "step = 1\n",
        "delay =1\n",
        "min_index  = 0\n",
        "max_index = 2800\n",
        "#max_index  = 3541\n",
        "batch_size = 128"
      ],
      "metadata": {
        "id": "OzNsuNUAnSjF"
      },
      "execution_count": null,
      "outputs": []
    },
    {
      "cell_type": "code",
      "source": [
        "def generator(data, lookback, delay, min_index, max_index,shuffle=False, batch_size=128, step=1):\n",
        "  if max_index is None:\n",
        "    max_index = len(data) - delay - 1\n",
        "  i = min_index + lookback\n",
        "  while 1:\n",
        "    if shuffle:\n",
        "      rows = np.random.randint(\n",
        "        min_index + lookback, max_index, size=batch_size)\n",
        "    else:\n",
        "      if i + batch_size >= max_index:\n",
        "        i = min_index + lookback\n",
        "      rows = np.arange(i, min(i + batch_size, max_index))\n",
        "      i += len(rows)\n",
        "    samples = np.zeros((len(rows),lookback // step,data.shape[-1]))\n",
        "    targets = np.zeros((len(rows),))\n",
        "    for j, row in enumerate(rows):\n",
        "      indices = range(rows[j] - lookback, rows[j], step)\n",
        "      samples[j] = data[indices]\n",
        "      targets[j] = data[rows[j] + delay][1]\n",
        "    yield samples, targets"
      ],
      "metadata": {
        "id": "AJNO_A2znWNZ"
      },
      "execution_count": null,
      "outputs": []
    },
    {
      "cell_type": "code",
      "source": [
        "train_gen = generator(float_data,\n",
        "lookback=lookback,\n",
        "delay=delay,\n",
        "min_index=0,\n",
        "max_index=2800,\n",
        "#max_index=3541,\n",
        "shuffle=True,\n",
        "step=step,\n",
        "batch_size=batch_size)"
      ],
      "metadata": {
        "id": "zkbgaN_fnZSH"
      },
      "execution_count": null,
      "outputs": []
    },
    {
      "cell_type": "code",
      "source": [
        "val_gen = generator(float_data,\n",
        "lookback=lookback,\n",
        "delay=delay,\n",
        "min_index=2801,\n",
        "max_index=3200,\n",
        "step=step,\n",
        "batch_size=batch_size)"
      ],
      "metadata": {
        "id": "iSBOyze3pjpX"
      },
      "execution_count": null,
      "outputs": []
    },
    {
      "cell_type": "code",
      "source": [
        "test_gen = generator(float_data,\n",
        "lookback=lookback,\n",
        "delay=delay,\n",
        "min_index=3201,\n",
        "max_index=3541,\n",
        "step=step,\n",
        "batch_size=batch_size)"
      ],
      "metadata": {
        "id": "BaK6JZcGp4GE"
      },
      "execution_count": null,
      "outputs": []
    },
    {
      "cell_type": "code",
      "source": [
        "val_steps = (3200 - 2801 - lookback)\n",
        "test_steps = (len(float_data) - 3201 - lookback)"
      ],
      "metadata": {
        "id": "3jnwWCavqb2J"
      },
      "execution_count": null,
      "outputs": []
    },
    {
      "cell_type": "code",
      "source": [
        "model = tf.keras.models.Sequential()\n",
        "model.add(layers.Flatten(input_shape=(lookback // step, float_data.shape[-1])))\n",
        "model.add(layers.Dense(64, activation='relu'))\n",
        "model.add(layers.Dense(64, activation='relu'))\n",
        "model.add(layers.Dense(1))\n",
        "model.compile(optimizer=tf.keras.optimizers.RMSprop(), loss='mae')\n",
        "history = model.fit(train_gen,\n",
        "steps_per_epoch=500,\n",
        "epochs=20,\n",
        "validation_data = val_gen,\n",
        "validation_steps = val_steps)"
      ],
      "metadata": {
        "colab": {
          "base_uri": "https://localhost:8080/"
        },
        "id": "momMZS1lq2RF",
        "outputId": "0690cac5-8bda-422e-c31f-b9b4c60949f9"
      },
      "execution_count": null,
      "outputs": [
        {
          "output_type": "stream",
          "name": "stdout",
          "text": [
            "Epoch 1/20\n",
            "500/500 [==============================] - 8s 14ms/step - loss: 0.1439 - val_loss: 0.1825\n",
            "Epoch 2/20\n",
            "500/500 [==============================] - 5s 10ms/step - loss: 0.0922 - val_loss: 0.4160\n",
            "Epoch 3/20\n",
            "500/500 [==============================] - 5s 10ms/step - loss: 0.0770 - val_loss: 0.1874\n",
            "Epoch 4/20\n",
            "500/500 [==============================] - 5s 10ms/step - loss: 0.0690 - val_loss: 0.1659\n",
            "Epoch 5/20\n",
            "500/500 [==============================] - 5s 10ms/step - loss: 0.0625 - val_loss: 0.1704\n",
            "Epoch 6/20\n",
            "500/500 [==============================] - 5s 10ms/step - loss: 0.0578 - val_loss: 0.1730\n",
            "Epoch 7/20\n",
            "500/500 [==============================] - 5s 10ms/step - loss: 0.0542 - val_loss: 0.1295\n",
            "Epoch 8/20\n",
            "500/500 [==============================] - 5s 10ms/step - loss: 0.0511 - val_loss: 0.1374\n",
            "Epoch 9/20\n",
            "500/500 [==============================] - 5s 10ms/step - loss: 0.0485 - val_loss: 0.1416\n",
            "Epoch 10/20\n",
            "500/500 [==============================] - 5s 10ms/step - loss: 0.0463 - val_loss: 0.1445\n",
            "Epoch 11/20\n",
            "500/500 [==============================] - 5s 10ms/step - loss: 0.0442 - val_loss: 0.1504\n",
            "Epoch 12/20\n",
            "500/500 [==============================] - 5s 10ms/step - loss: 0.0419 - val_loss: 0.1321\n",
            "Epoch 13/20\n",
            "500/500 [==============================] - 5s 11ms/step - loss: 0.0407 - val_loss: 0.1569\n",
            "Epoch 14/20\n",
            "500/500 [==============================] - 5s 10ms/step - loss: 0.0391 - val_loss: 0.1463\n",
            "Epoch 15/20\n",
            "500/500 [==============================] - 5s 11ms/step - loss: 0.0381 - val_loss: 0.1295\n",
            "Epoch 16/20\n",
            "500/500 [==============================] - 5s 10ms/step - loss: 0.0367 - val_loss: 0.1592\n",
            "Epoch 17/20\n",
            "500/500 [==============================] - 4s 8ms/step - loss: 0.0356 - val_loss: 0.1590\n",
            "Epoch 18/20\n",
            "500/500 [==============================] - 5s 10ms/step - loss: 0.0347 - val_loss: 0.1542\n",
            "Epoch 19/20\n",
            "500/500 [==============================] - 5s 10ms/step - loss: 0.0337 - val_loss: 0.1771\n",
            "Epoch 20/20\n",
            "500/500 [==============================] - 5s 10ms/step - loss: 0.0327 - val_loss: 0.1495\n"
          ]
        }
      ]
    },
    {
      "cell_type": "code",
      "source": [
        "loss = history.history['loss']\n",
        "val_loss = history.history['val_loss']\n",
        "epochs = range(1, len(loss) + 1)\n",
        "plt.figure()\n",
        "plt.plot(epochs, loss, 'bo', label='Training loss')\n",
        "plt.plot(epochs, val_loss, 'b', label='Validation loss')\n",
        "plt.title('Training and validation loss')\n",
        "plt.legend()\n",
        "plt.show()"
      ],
      "metadata": {
        "colab": {
          "base_uri": "https://localhost:8080/",
          "height": 281
        },
        "id": "_F1C2xrNrXpL",
        "outputId": "a3569829-6803-4ad2-a49e-576c389500af"
      },
      "execution_count": null,
      "outputs": [
        {
          "output_type": "display_data",
          "data": {
            "text/plain": [
              "<Figure size 432x288 with 1 Axes>"
            ],
            "image/png": "[encoded data removed]"
          },
          "metadata": {
            "needs_background": "light"
          }
        }
      ]
    },
    {
      "cell_type": "code",
      "source": [
        "std[6] * 0.15"
      ],
      "metadata": {
        "colab": {
          "base_uri": "https://localhost:8080/"
        },
        "id": "fAcoNkTOsnfl",
        "outputId": "a4539b2a-d78f-4d98-8a39-10615cc08f9b"
      },
      "execution_count": null,
      "outputs": [
        {
          "output_type": "execute_result",
          "data": {
            "text/plain": [
              "0.056001189351081844"
            ]
          },
          "metadata": {},
          "execution_count": 19
        }
      ]
    },
    {
      "cell_type": "code",
      "source": [
        "len(std)"
      ],
      "metadata": {
        "colab": {
          "base_uri": "https://localhost:8080/"
        },
        "id": "KZ1eewYZvaqU",
        "outputId": "f2511f25-23bb-4b63-ef1c-a6017c21c057"
      },
      "execution_count": null,
      "outputs": [
        {
          "output_type": "execute_result",
          "data": {
            "text/plain": [
              "11"
            ]
          },
          "metadata": {},
          "execution_count": 18
        }
      ]
    },
    {
      "cell_type": "code",
      "source": [
        "model2 = tf.keras.models.Sequential()\n",
        "model2.add(layers.GRU(32,\n",
        "  dropout=0.2,\n",
        "  recurrent_dropout=0.2,\n",
        "  input_shape=(None, float_data.shape[-1])))\n",
        "model2.add(layers.Dense(1))\n",
        "model2.compile(optimizer= tf.keras.optimizers.RMSprop(), loss='mae')\n",
        "history2 = model2.fit(train_gen,\n",
        "  steps_per_epoch=200,\n",
        "  epochs=20,\n",
        "  validation_data=val_gen,\n",
        "  validation_steps=val_steps)"
      ],
      "metadata": {
        "colab": {
          "base_uri": "https://localhost:8080/"
        },
        "id": "PKRAJ7hWtL8y",
        "outputId": "a35f6d0a-e712-46a5-cd50-d39690e3c4d1"
      },
      "execution_count": null,
      "outputs": [
        {
          "output_type": "stream",
          "name": "stdout",
          "text": [
            "Epoch 1/20\n",
            "200/200 [==============================] - 12s 48ms/step - loss: 0.1624 - val_loss: 0.1813\n",
            "Epoch 2/20\n",
            "200/200 [==============================] - 9s 45ms/step - loss: 0.1034 - val_loss: 0.1568\n",
            "Epoch 3/20\n",
            "200/200 [==============================] - 9s 47ms/step - loss: 0.0957 - val_loss: 0.1529\n",
            "Epoch 4/20\n",
            "200/200 [==============================] - 9s 46ms/step - loss: 0.0921 - val_loss: 0.1401\n",
            "Epoch 5/20\n",
            "200/200 [==============================] - 9s 47ms/step - loss: 0.0886 - val_loss: 0.1605\n",
            "Epoch 6/20\n",
            "200/200 [==============================] - 9s 45ms/step - loss: 0.0862 - val_loss: 0.1781\n",
            "Epoch 7/20\n",
            "200/200 [==============================] - 9s 46ms/step - loss: 0.0839 - val_loss: 0.1360\n",
            "Epoch 8/20\n",
            "200/200 [==============================] - 9s 45ms/step - loss: 0.0818 - val_loss: 0.1242\n",
            "Epoch 9/20\n",
            "200/200 [==============================] - 9s 44ms/step - loss: 0.0807 - val_loss: 0.1276\n",
            "Epoch 10/20\n",
            "200/200 [==============================] - 9s 46ms/step - loss: 0.0787 - val_loss: 0.1273\n",
            "Epoch 11/20\n",
            "200/200 [==============================] - 9s 43ms/step - loss: 0.0784 - val_loss: 0.1337\n",
            "Epoch 12/20\n",
            "200/200 [==============================] - 9s 45ms/step - loss: 0.0779 - val_loss: 0.1298\n",
            "Epoch 13/20\n",
            "200/200 [==============================] - 9s 45ms/step - loss: 0.0769 - val_loss: 0.1333\n",
            "Epoch 14/20\n",
            "200/200 [==============================] - 9s 45ms/step - loss: 0.0764 - val_loss: 0.1296\n",
            "Epoch 15/20\n",
            "200/200 [==============================] - 9s 47ms/step - loss: 0.0754 - val_loss: 0.1411\n",
            "Epoch 16/20\n",
            "200/200 [==============================] - 9s 45ms/step - loss: 0.0747 - val_loss: 0.1401\n",
            "Epoch 17/20\n",
            "200/200 [==============================] - 11s 56ms/step - loss: 0.0741 - val_loss: 0.1380\n",
            "Epoch 18/20\n",
            "200/200 [==============================] - 11s 54ms/step - loss: 0.0745 - val_loss: 0.1399\n",
            "Epoch 19/20\n",
            "200/200 [==============================] - 9s 46ms/step - loss: 0.0733 - val_loss: 0.1582\n",
            "Epoch 20/20\n",
            "200/200 [==============================] - 9s 45ms/step - loss: 0.0731 - val_loss: 0.1463\n"
          ]
        }
      ]
    },
    {
      "cell_type": "code",
      "source": [
        "loss2 = history2.history['loss']\n",
        "val_loss2 = history2.history['val_loss']\n",
        "epochs2 = range(1, len(loss2) + 1)\n",
        "plt.figure()\n",
        "plt.plot(epochs2, loss2, 'bo', label='Training loss')\n",
        "plt.plot(epochs2, val_loss2, 'b', label='Validation loss')\n",
        "plt.title('Training and validation loss')\n",
        "plt.legend()\n",
        "plt.show()"
      ],
      "metadata": {
        "colab": {
          "base_uri": "https://localhost:8080/",
          "height": 281
        },
        "id": "ofBD8kq4tkqZ",
        "outputId": "844dc85f-e1ad-4f41-9a97-399d3ca66c78"
      },
      "execution_count": null,
      "outputs": [
        {
          "output_type": "display_data",
          "data": {
            "text/plain": [
              "<Figure size 432x288 with 1 Axes>"
            ],
            "image/png": "[encoded data removed]"
          },
          "metadata": {
            "needs_background": "light"
          }
        }
      ]
    },
    {
      "cell_type": "code",
      "source": [
        "eval = model.evaluate(test_gen, steps = test_steps)"
      ],
      "metadata": {
        "colab": {
          "base_uri": "https://localhost:8080/"
        },
        "id": "WYsy4wkGy-X7",
        "outputId": "2f683369-62bf-44e3-c7d4-a0b62ba09c44"
      },
      "execution_count": null,
      "outputs": [
        {
          "output_type": "stream",
          "name": "stdout",
          "text": [
            "311/311 [==============================] - 2s 8ms/step - loss: 0.2357\n"
          ]
        }
      ]
    },
    {
      "cell_type": "code",
      "source": [
        "eval *std[6]"
      ],
      "metadata": {
        "colab": {
          "base_uri": "https://localhost:8080/"
        },
        "id": "YlsUV3-hzWFJ",
        "outputId": "2a1cdcc6-70fa-4618-975a-1fddee4827b2"
      },
      "execution_count": null,
      "outputs": [
        {
          "output_type": "execute_result",
          "data": {
            "text/plain": [
              "0.08795227997066002"
            ]
          },
          "metadata": {},
          "execution_count": 15
        }
      ]
    },
    {
      "cell_type": "code",
      "source": [
        "eval2 = model2.evaluate(test_gen, steps = test_steps)\n",
        "eval2 *std[6]"
      ],
      "metadata": {
        "colab": {
          "base_uri": "https://localhost:8080/"
        },
        "id": "-pwrxY8otgGF",
        "outputId": "ba2ff31e-34e3-4c70-8ed2-b068407d7792"
      },
      "execution_count": null,
      "outputs": [
        {
          "output_type": "stream",
          "name": "stdout",
          "text": [
            "311/311 [==============================] - 3s 8ms/step - loss: 0.2062\n"
          ]
        },
        {
          "output_type": "execute_result",
          "data": {
            "text/plain": [
              "0.07695414012214075"
            ]
          },
          "metadata": {},
          "execution_count": 18
        }
      ]
    },
    {
      "cell_type": "markdown",
      "source": [
        "Pierwszy model - tylko warstwy Dense\n",
        "Drugi model - tylko warstwa GRU"
      ],
      "metadata": {
        "id": "o5RbjiuHtrtC"
      }
    },
    {
      "cell_type": "code",
      "source": [
        "model3 = tf.keras.models.Sequential()\n",
        "model3.add(layers.GRU(32,\n",
        "  dropout=0.2,\n",
        "  recurrent_dropout=0.2,\n",
        "  return_sequences=True,\n",
        "  input_shape=(None, float_data.shape[-1])))\n",
        "model3.add(layers.GRU(64,\n",
        "  dropout=0.2,\n",
        "  recurrent_dropout=0.2,\n",
        "  return_sequences=True,\n",
        "  input_shape=(None, float_data.shape[-1])))\n",
        "model3.add(layers.GRU(64,\n",
        "  dropout=0.2,\n",
        "  recurrent_dropout=0.2,\n",
        "  input_shape=(None, float_data.shape[-1])))\n",
        "model3.add(layers.Dense(1))\n",
        "model3.compile(optimizer= tf.keras.optimizers.RMSprop(), loss='mae')\n",
        "history3 = model3.fit(train_gen,\n",
        "  steps_per_epoch=200,\n",
        "  epochs=20,\n",
        "  validation_data=val_gen,\n",
        "  validation_steps=val_steps)"
      ],
      "metadata": {
        "colab": {
          "base_uri": "https://localhost:8080/"
        },
        "id": "2PU2YXuMtrQp",
        "outputId": "bc4a95a5-161d-46e3-985e-93b8fdf7966c"
      },
      "execution_count": null,
      "outputs": [
        {
          "output_type": "stream",
          "name": "stdout",
          "text": [
            "Epoch 1/20\n",
            "200/200 [==============================] - 46s 192ms/step - loss: 0.1557 - val_loss: 0.1350\n",
            "Epoch 2/20\n",
            "200/200 [==============================] - 38s 191ms/step - loss: 0.1250 - val_loss: 0.1944\n",
            "Epoch 3/20\n",
            "200/200 [==============================] - 38s 192ms/step - loss: 0.1165 - val_loss: 0.1930\n",
            "Epoch 4/20\n",
            "200/200 [==============================] - 39s 193ms/step - loss: 0.1086 - val_loss: 0.1390\n",
            "Epoch 5/20\n",
            "200/200 [==============================] - 37s 185ms/step - loss: 0.1047 - val_loss: 0.1428\n",
            "Epoch 6/20\n",
            "200/200 [==============================] - 37s 186ms/step - loss: 0.1006 - val_loss: 0.1589\n",
            "Epoch 7/20\n",
            "200/200 [==============================] - 38s 189ms/step - loss: 0.0979 - val_loss: 0.1965\n",
            "Epoch 8/20\n",
            "200/200 [==============================] - 38s 188ms/step - loss: 0.0948 - val_loss: 0.1849\n",
            "Epoch 9/20\n",
            "200/200 [==============================] - 38s 191ms/step - loss: 0.0919 - val_loss: 0.1751\n",
            "Epoch 10/20\n",
            "200/200 [==============================] - 38s 191ms/step - loss: 0.0901 - val_loss: 0.2083\n",
            "Epoch 11/20\n",
            "200/200 [==============================] - 42s 212ms/step - loss: 0.0881 - val_loss: 0.1934\n",
            "Epoch 12/20\n",
            "200/200 [==============================] - 39s 193ms/step - loss: 0.0868 - val_loss: 0.1673\n",
            "Epoch 13/20\n",
            "200/200 [==============================] - 37s 186ms/step - loss: 0.0848 - val_loss: 0.1990\n",
            "Epoch 14/20\n",
            "200/200 [==============================] - 38s 189ms/step - loss: 0.0835 - val_loss: 0.1929\n",
            "Epoch 15/20\n",
            "200/200 [==============================] - 38s 188ms/step - loss: 0.0809 - val_loss: 0.2176\n",
            "Epoch 16/20\n",
            "200/200 [==============================] - 37s 188ms/step - loss: 0.0808 - val_loss: 0.2142\n",
            "Epoch 17/20\n",
            "200/200 [==============================] - 39s 193ms/step - loss: 0.0791 - val_loss: 0.1894\n",
            "Epoch 18/20\n",
            "200/200 [==============================] - 37s 187ms/step - loss: 0.0777 - val_loss: 0.2067\n",
            "Epoch 19/20\n",
            "200/200 [==============================] - 38s 192ms/step - loss: 0.0754 - val_loss: 0.2247\n",
            "Epoch 20/20\n",
            "200/200 [==============================] - 39s 193ms/step - loss: 0.0745 - val_loss: 0.2202\n"
          ]
        }
      ]
    },
    {
      "cell_type": "code",
      "source": [
        "loss3 = history3.history['loss']\n",
        "val_loss3 = history3.history['val_loss']\n",
        "epochs3 = range(1, len(loss2) + 1)\n",
        "plt.figure()\n",
        "plt.plot(epochs3, loss3, 'bo', label='Training loss')\n",
        "plt.plot(epochs3, val_loss3, 'b', label='Validation loss')\n",
        "plt.title('Training and validation loss')\n",
        "plt.legend()\n",
        "plt.show()"
      ],
      "metadata": {
        "colab": {
          "base_uri": "https://localhost:8080/",
          "height": 281
        },
        "id": "H36-5uGvuNxe",
        "outputId": "85d95eb2-1e99-4d02-e63b-c2b4de99aba9"
      },
      "execution_count": null,
      "outputs": [
        {
          "output_type": "display_data",
          "data": {
            "text/plain": [
              "<Figure size 432x288 with 1 Axes>"
            ],
            "image/png": "[encoded data removed]"
          },
          "metadata": {
            "needs_background": "light"
          }
        }
      ]
    },
    {
      "cell_type": "code",
      "source": [
        "eval3 = model3.evaluate(test_gen, steps = test_steps)\n",
        "eval3 *std[6]"
      ],
      "metadata": {
        "colab": {
          "base_uri": "https://localhost:8080/"
        },
        "id": "CN_WcA9nuTyL",
        "outputId": "a5e669ff-15ba-4072-df98-105b22340a57"
      },
      "execution_count": null,
      "outputs": [
        {
          "output_type": "stream",
          "name": "stdout",
          "text": [
            "311/311 [==============================] - 8s 25ms/step - loss: 0.2494\n"
          ]
        },
        {
          "output_type": "execute_result",
          "data": {
            "text/plain": [
              "0.0930669105021078"
            ]
          },
          "metadata": {},
          "execution_count": 21
        }
      ]
    },
    {
      "cell_type": "markdown",
      "source": [
        "MODEL 4 - Tylko LSTM"
      ],
      "metadata": {
        "id": "8PfqZH_sx6w6"
      }
    },
    {
      "cell_type": "code",
      "source": [
        "model4 = tf.keras.models.Sequential()\n",
        "model4.add(layers.LSTM(32,\n",
        "  dropout=0.2,\n",
        "  recurrent_dropout=0.2,\n",
        "  input_shape=(None, float_data.shape[-1])))\n",
        "model4.add(layers.Dense(1))\n",
        "model4.compile(optimizer= tf.keras.optimizers.RMSprop(), loss='mae')\n",
        "history4 = model4.fit(train_gen,\n",
        "  steps_per_epoch=200,\n",
        "  epochs=20,\n",
        "  validation_data=val_gen,\n",
        "  validation_steps=val_steps)"
      ],
      "metadata": {
        "colab": {
          "base_uri": "https://localhost:8080/"
        },
        "id": "7fftCF4CxiJo",
        "outputId": "deaa6e73-3088-44e5-ce3b-d31cca13406f"
      },
      "execution_count": null,
      "outputs": [
        {
          "output_type": "stream",
          "name": "stdout",
          "text": [
            "Epoch 1/20\n",
            "200/200 [==============================] - 17s 64ms/step - loss: 0.1162 - val_loss: 0.1904\n",
            "Epoch 2/20\n",
            "200/200 [==============================] - 10s 48ms/step - loss: 0.0873 - val_loss: 0.1803\n",
            "Epoch 3/20\n",
            "200/200 [==============================] - 10s 50ms/step - loss: 0.0819 - val_loss: 0.1869\n",
            "Epoch 4/20\n",
            "200/200 [==============================] - 10s 51ms/step - loss: 0.0789 - val_loss: 0.1753\n",
            "Epoch 5/20\n",
            "200/200 [==============================] - 10s 49ms/step - loss: 0.0763 - val_loss: 0.1669\n",
            "Epoch 6/20\n",
            "200/200 [==============================] - 11s 53ms/step - loss: 0.0752 - val_loss: 0.1735\n",
            "Epoch 7/20\n",
            "200/200 [==============================] - 10s 49ms/step - loss: 0.0736 - val_loss: 0.1720\n",
            "Epoch 8/20\n",
            "200/200 [==============================] - 10s 51ms/step - loss: 0.0724 - val_loss: 0.1804\n",
            "Epoch 9/20\n",
            "200/200 [==============================] - 11s 55ms/step - loss: 0.0713 - val_loss: 0.1827\n",
            "Epoch 10/20\n",
            "200/200 [==============================] - 11s 55ms/step - loss: 0.0705 - val_loss: 0.1818\n",
            "Epoch 11/20\n",
            "200/200 [==============================] - 10s 51ms/step - loss: 0.0705 - val_loss: 0.1837\n",
            "Epoch 12/20\n",
            "200/200 [==============================] - 10s 51ms/step - loss: 0.0691 - val_loss: 0.1769\n",
            "Epoch 13/20\n",
            "200/200 [==============================] - 10s 51ms/step - loss: 0.0684 - val_loss: 0.1775\n",
            "Epoch 14/20\n",
            "200/200 [==============================] - 10s 50ms/step - loss: 0.0671 - val_loss: 0.1769\n",
            "Epoch 15/20\n",
            "200/200 [==============================] - 10s 50ms/step - loss: 0.0670 - val_loss: 0.1742\n",
            "Epoch 16/20\n",
            "200/200 [==============================] - 10s 49ms/step - loss: 0.0660 - val_loss: 0.1773\n",
            "Epoch 17/20\n",
            "200/200 [==============================] - 10s 50ms/step - loss: 0.0656 - val_loss: 0.1791\n",
            "Epoch 18/20\n",
            "200/200 [==============================] - 10s 50ms/step - loss: 0.0658 - val_loss: 0.1845\n",
            "Epoch 19/20\n",
            "200/200 [==============================] - 11s 54ms/step - loss: 0.0648 - val_loss: 0.1848\n",
            "Epoch 20/20\n",
            "200/200 [==============================] - 11s 53ms/step - loss: 0.0643 - val_loss: 0.1941\n"
          ]
        }
      ]
    },
    {
      "cell_type": "code",
      "source": [
        "loss4 = history4.history['loss']\n",
        "val_loss4 = history4.history['val_loss']\n",
        "epochs4 = range(1, len(loss4) + 1)\n",
        "plt.figure()\n",
        "plt.plot(epochs4, loss4, 'bo', label='Training loss')\n",
        "plt.plot(epochs4, val_loss4, 'b', label='Validation loss')\n",
        "plt.title('Training and validation loss')\n",
        "plt.legend()\n",
        "plt.show()"
      ],
      "metadata": {
        "colab": {
          "base_uri": "https://localhost:8080/",
          "height": 281
        },
        "id": "_WZlSZ5nxv3Q",
        "outputId": "f844b1fe-ce5e-4584-a5ec-ef1620862265"
      },
      "execution_count": null,
      "outputs": [
        {
          "output_type": "display_data",
          "data": {
            "text/plain": [
              "<Figure size 432x288 with 1 Axes>"
            ],
            "image/png": "[encoded data removed]"
          },
          "metadata": {
            "needs_background": "light"
          }
        }
      ]
    },
    {
      "cell_type": "code",
      "source": [
        "eval4 = model4.evaluate(test_gen, steps = test_steps)\n",
        "eval4 *std[6]"
      ],
      "metadata": {
        "colab": {
          "base_uri": "https://localhost:8080/"
        },
        "id": "r9Duhrarx3b7",
        "outputId": "63db7806-82b6-4ab3-f28d-1f8713f589fb"
      },
      "execution_count": null,
      "outputs": [
        {
          "output_type": "stream",
          "name": "stdout",
          "text": [
            "311/311 [==============================] - 3s 10ms/step - loss: 0.3139\n"
          ]
        },
        {
          "output_type": "execute_result",
          "data": {
            "text/plain": [
              "0.1171505600198346"
            ]
          },
          "metadata": {},
          "execution_count": 24
        }
      ]
    },
    {
      "cell_type": "markdown",
      "source": [
        "TERAZ LSTM z 2 warstwami"
      ],
      "metadata": {
        "id": "pQZ4UXMmy45-"
      }
    },
    {
      "cell_type": "code",
      "source": [
        "model5 = tf.keras.models.Sequential()\n",
        "model5.add(layers.LSTM(64,\n",
        "  dropout=0.1,\n",
        "  recurrent_dropout=0.1,\n",
        "  return_sequences=True,\n",
        "  input_shape=(None, float_data.shape[-1])))\n",
        "model5.add(layers.LSTM(64,\n",
        "  dropout=0.1,\n",
        "  recurrent_dropout=0.1,\n",
        "  input_shape=(None, float_data.shape[-1])))\n",
        "model5.add(layers.Dense(1))\n",
        "model5.compile(optimizer= tf.keras.optimizers.RMSprop(), loss='mae')\n",
        "history5 = model5.fit(train_gen,\n",
        "  steps_per_epoch=200,\n",
        "  epochs=8,\n",
        "  validation_data=val_gen,\n",
        "  validation_steps=val_steps)"
      ],
      "metadata": {
        "colab": {
          "base_uri": "https://localhost:8080/"
        },
        "id": "thTr40_Ay94R",
        "outputId": "9b31753b-e0ac-4f7c-aaba-6f27d98f6892"
      },
      "execution_count": null,
      "outputs": [
        {
          "output_type": "stream",
          "name": "stdout",
          "text": [
            "Epoch 1/8\n",
            "200/200 [==============================] - 42s 171ms/step - loss: 0.1174 - val_loss: 0.2654\n",
            "Epoch 2/8\n",
            "200/200 [==============================] - 33s 167ms/step - loss: 0.0893 - val_loss: 0.1948\n",
            "Epoch 3/8\n",
            "200/200 [==============================] - 34s 170ms/step - loss: 0.0831 - val_loss: 0.2234\n",
            "Epoch 4/8\n",
            "200/200 [==============================] - 34s 170ms/step - loss: 0.0780 - val_loss: 0.2127\n",
            "Epoch 5/8\n",
            "200/200 [==============================] - 33s 164ms/step - loss: 0.0747 - val_loss: 0.2153\n",
            "Epoch 6/8\n",
            "200/200 [==============================] - 33s 166ms/step - loss: 0.0703 - val_loss: 0.1840\n",
            "Epoch 7/8\n",
            "200/200 [==============================] - 33s 164ms/step - loss: 0.0683 - val_loss: 0.2050\n",
            "Epoch 8/8\n",
            "200/200 [==============================] - 34s 168ms/step - loss: 0.0656 - val_loss: 0.1834\n"
          ]
        }
      ]
    },
    {
      "cell_type": "code",
      "source": [
        "loss5 = history5.history['loss']\n",
        "val_loss5 = history5.history['val_loss']\n",
        "epochs5 = range(1, len(loss5) + 1)\n",
        "plt.figure()\n",
        "plt.plot(epochs5, loss5, 'bo', label='Training loss')\n",
        "plt.plot(epochs5, val_loss5, 'b', label='Validation loss')\n",
        "plt.title('Training and validation loss')\n",
        "plt.legend()\n",
        "plt.show()"
      ],
      "metadata": {
        "colab": {
          "base_uri": "https://localhost:8080/",
          "height": 281
        },
        "id": "cQZ8J0Ux0JxC",
        "outputId": "4d6b09ff-3a7e-4904-c66a-034b0d4b9df8"
      },
      "execution_count": null,
      "outputs": [
        {
          "output_type": "display_data",
          "data": {
            "text/plain": [
              "<Figure size 432x288 with 1 Axes>"
            ],
            "image/png": "[encoded data removed]"
          },
          "metadata": {
            "needs_background": "light"
          }
        }
      ]
    },
    {
      "cell_type": "code",
      "source": [
        "eval5 = model5.evaluate(test_gen, steps = test_steps)\n",
        "eval5 *std[6]"
      ],
      "metadata": {
        "colab": {
          "base_uri": "https://localhost:8080/"
        },
        "id": "3GeRTom00RB4",
        "outputId": "3177d797-5f75-4fd9-d99c-4f0d8f9ce1c0"
      },
      "execution_count": null,
      "outputs": [
        {
          "output_type": "stream",
          "name": "stdout",
          "text": [
            "311/311 [==============================] - 7s 24ms/step - loss: 0.2082\n"
          ]
        },
        {
          "output_type": "execute_result",
          "data": {
            "text/plain": [
              "0.0776964141824652"
            ]
          },
          "metadata": {},
          "execution_count": 42
        }
      ]
    },
    {
      "cell_type": "markdown",
      "source": [
        "MODEL  BEZ RECUREN DROPOUT"
      ],
      "metadata": {
        "id": "o6aRTVOAB5Ks"
      }
    },
    {
      "cell_type": "code",
      "source": [
        "model6 = tf.keras.models.Sequential()\n",
        "model6.add(layers.LSTM(64,\n",
        "  dropout=0.1,\n",
        "  #recurrent_dropout=0.1,\n",
        "  return_sequences=True,\n",
        "  input_shape=(None, float_data.shape[-1])))\n",
        "model6.add(layers.LSTM(64,\n",
        "  dropout=0.1,\n",
        "  #recurrent_dropout=0.1,\n",
        "  input_shape=(None, float_data.shape[-1])))\n",
        "model6.add(layers.Dense(1))\n",
        "model6.compile(optimizer= tf.keras.optimizers.RMSprop(), loss='mae')\n",
        "history6 = model6.fit(train_gen,\n",
        "  steps_per_epoch=200,\n",
        "  epochs=8,\n",
        "  validation_data=val_gen,\n",
        "  validation_steps=val_steps)"
      ],
      "metadata": {
        "colab": {
          "base_uri": "https://localhost:8080/"
        },
        "id": "4crOUUUQBnC2",
        "outputId": "72613683-c9f8-47b9-fad6-a702e0992ec0"
      },
      "execution_count": null,
      "outputs": [
        {
          "output_type": "stream",
          "name": "stdout",
          "text": [
            "Epoch 1/8\n",
            "200/200 [==============================] - 32s 140ms/step - loss: 0.1202 - val_loss: 0.1810\n",
            "Epoch 2/8\n",
            "200/200 [==============================] - 24s 121ms/step - loss: 0.0888 - val_loss: 0.1743\n",
            "Epoch 3/8\n",
            "200/200 [==============================] - 25s 125ms/step - loss: 0.0826 - val_loss: 0.1648\n",
            "Epoch 4/8\n",
            "200/200 [==============================] - 25s 124ms/step - loss: 0.0780 - val_loss: 0.1848\n",
            "Epoch 5/8\n",
            "200/200 [==============================] - 25s 123ms/step - loss: 0.0748 - val_loss: 0.1971\n",
            "Epoch 6/8\n",
            "200/200 [==============================] - 23s 118ms/step - loss: 0.0712 - val_loss: 0.2209\n",
            "Epoch 7/8\n",
            "200/200 [==============================] - 25s 124ms/step - loss: 0.0684 - val_loss: 0.2126\n",
            "Epoch 8/8\n",
            "200/200 [==============================] - 25s 126ms/step - loss: 0.0647 - val_loss: 0.2470\n"
          ]
        }
      ]
    },
    {
      "cell_type": "code",
      "source": [
        "loss6 = history6.history['loss']\n",
        "val_loss6 = history6.history['val_loss']\n",
        "epochs6 = range(1, len(loss6) + 1)\n",
        "plt.figure()\n",
        "plt.plot(epochs6, loss6, 'bo', label='Training loss')\n",
        "plt.plot(epochs6, val_loss6, 'b', label='Validation loss')\n",
        "plt.title('Training and validation loss')\n",
        "plt.legend()\n",
        "plt.show()"
      ],
      "metadata": {
        "colab": {
          "base_uri": "https://localhost:8080/",
          "height": 281
        },
        "id": "CCE_YHElBt7g",
        "outputId": "49aff330-ceb1-4b3e-b7da-2f2200ea007f"
      },
      "execution_count": null,
      "outputs": [
        {
          "output_type": "display_data",
          "data": {
            "text/plain": [
              "<Figure size 432x288 with 1 Axes>"
            ],
            "image/png": "[encoded data removed]"
          },
          "metadata": {
            "needs_background": "light"
          }
        }
      ]
    },
    {
      "cell_type": "code",
      "source": [
        "eval6 = model6.evaluate(test_gen, steps = test_steps)\n",
        "eval6 *std[6]"
      ],
      "metadata": {
        "colab": {
          "base_uri": "https://localhost:8080/"
        },
        "id": "6vr84Q3PCzo8",
        "outputId": "db7f912e-8f98-4523-8a11-bdb8072197e3"
      },
      "execution_count": null,
      "outputs": [
        {
          "output_type": "stream",
          "name": "stdout",
          "text": [
            "311/311 [==============================] - 12s 37ms/step - loss: 0.2848\n"
          ]
        },
        {
          "output_type": "execute_result",
          "data": {
            "text/plain": [
              "0.10628395339932073"
            ]
          },
          "metadata": {},
          "execution_count": 45
        }
      ]
    },
    {
      "cell_type": "markdown",
      "source": [
        "BEZ DROPOUT"
      ],
      "metadata": {
        "id": "vnbMT-rZC6mH"
      }
    },
    {
      "cell_type": "code",
      "source": [
        "model7 = tf.keras.models.Sequential()\n",
        "model7.add(layers.LSTM(64,\n",
        "  #dropout=0.1,\n",
        "  recurrent_dropout=0.1,\n",
        "  return_sequences=True,\n",
        "  input_shape=(None, float_data.shape[-1])))\n",
        "model7.add(layers.LSTM(64,\n",
        "  #dropout=0.1,\n",
        "  recurrent_dropout=0.1,\n",
        "  input_shape=(None, float_data.shape[-1])))\n",
        "model7.add(layers.Dense(1))\n",
        "model7.compile(optimizer= tf.keras.optimizers.RMSprop(), loss='mae')\n",
        "history7 = model7.fit(train_gen,\n",
        "  steps_per_epoch=200,\n",
        "  epochs=8,\n",
        "  validation_data=val_gen,\n",
        "  validation_steps=val_steps)"
      ],
      "metadata": {
        "colab": {
          "base_uri": "https://localhost:8080/"
        },
        "id": "Zfm-R89OC8cU",
        "outputId": "12c6b882-0ea1-423f-d620-13ba6fa90485"
      },
      "execution_count": null,
      "outputs": [
        {
          "output_type": "stream",
          "name": "stdout",
          "text": [
            "Epoch 1/8\n",
            "200/200 [==============================] - 42s 181ms/step - loss: 0.1125 - val_loss: 0.2186\n",
            "Epoch 2/8\n",
            "200/200 [==============================] - 30s 149ms/step - loss: 0.0782 - val_loss: 0.1709\n",
            "Epoch 3/8\n",
            "200/200 [==============================] - 31s 153ms/step - loss: 0.0707 - val_loss: 0.2009\n",
            "Epoch 4/8\n",
            "200/200 [==============================] - 31s 156ms/step - loss: 0.0660 - val_loss: 0.1985\n",
            "Epoch 5/8\n",
            "200/200 [==============================] - 31s 153ms/step - loss: 0.0629 - val_loss: 0.1745\n",
            "Epoch 6/8\n",
            "200/200 [==============================] - 31s 154ms/step - loss: 0.0596 - val_loss: 0.2038\n",
            "Epoch 7/8\n",
            "200/200 [==============================] - 31s 153ms/step - loss: 0.0571 - val_loss: 0.1761\n",
            "Epoch 8/8\n",
            "200/200 [==============================] - 30s 148ms/step - loss: 0.0558 - val_loss: 0.1959\n"
          ]
        }
      ]
    },
    {
      "cell_type": "code",
      "source": [
        "eval7 = model7.evaluate(test_gen, steps = test_steps)\n",
        "eval7 *std[6]"
      ],
      "metadata": {
        "colab": {
          "base_uri": "https://localhost:8080/"
        },
        "id": "Xj1wtqIDDFPu",
        "outputId": "ba046a13-b13b-4d75-d90b-d1ac80d5dc98"
      },
      "execution_count": null,
      "outputs": [
        {
          "output_type": "stream",
          "name": "stdout",
          "text": [
            "311/311 [==============================] - 7s 23ms/step - loss: 0.2263\n"
          ]
        },
        {
          "output_type": "execute_result",
          "data": {
            "text/plain": [
              "0.08447412922691289"
            ]
          },
          "metadata": {},
          "execution_count": 47
        }
      ]
    },
    {
      "cell_type": "markdown",
      "source": [
        "WITHOUT DROPOUTS"
      ],
      "metadata": {
        "id": "BvouCJ9LEshA"
      }
    },
    {
      "cell_type": "code",
      "source": [
        "model8 = tf.keras.models.Sequential()\n",
        "model8.add(layers.LSTM(64,\n",
        "  #dropout=0.1,\n",
        "  #recurrent_dropout=0.1,\n",
        "  return_sequences=True,\n",
        "  input_shape=(None, float_data.shape[-1])))\n",
        "model8.add(layers.LSTM(64,\n",
        "  #dropout=0.1,\n",
        "  #recurrent_dropout=0.1,\n",
        "  input_shape=(None, float_data.shape[-1])))\n",
        "model8.add(layers.Dense(1))\n",
        "model8.compile(optimizer= tf.keras.optimizers.RMSprop(), loss='mae')\n",
        "history8 = model8.fit(train_gen,\n",
        "  steps_per_epoch=200,\n",
        "  epochs=8,\n",
        "  validation_data=val_gen,\n",
        "  validation_steps=val_steps)"
      ],
      "metadata": {
        "colab": {
          "base_uri": "https://localhost:8080/"
        },
        "id": "5TzeJaGEEmQ7",
        "outputId": "05f895ff-d6be-429e-e19b-4f8e7a5eeddb"
      },
      "execution_count": null,
      "outputs": [
        {
          "output_type": "stream",
          "name": "stdout",
          "text": [
            "Epoch 1/8\n",
            "200/200 [==============================] - 34s 147ms/step - loss: 0.1078 - val_loss: 0.1927\n",
            "Epoch 2/8\n",
            "200/200 [==============================] - 24s 118ms/step - loss: 0.0776 - val_loss: 0.1455\n",
            "Epoch 3/8\n",
            "200/200 [==============================] - 23s 116ms/step - loss: 0.0706 - val_loss: 0.1727\n",
            "Epoch 4/8\n",
            "200/200 [==============================] - 24s 119ms/step - loss: 0.0664 - val_loss: 0.1385\n",
            "Epoch 5/8\n",
            "200/200 [==============================] - 24s 121ms/step - loss: 0.0628 - val_loss: 0.1834\n",
            "Epoch 6/8\n",
            "200/200 [==============================] - 24s 120ms/step - loss: 0.0592 - val_loss: 0.1574\n",
            "Epoch 7/8\n",
            "200/200 [==============================] - 23s 117ms/step - loss: 0.0567 - val_loss: 0.1686\n",
            "Epoch 8/8\n",
            "200/200 [==============================] - 24s 119ms/step - loss: 0.0542 - val_loss: 0.1708\n"
          ]
        }
      ]
    },
    {
      "cell_type": "code",
      "source": [
        "eval8 = model8.evaluate(test_gen, steps = test_steps)\n",
        "eval8 *std[6]"
      ],
      "metadata": {
        "colab": {
          "base_uri": "https://localhost:8080/"
        },
        "id": "pAbbz03yExeE",
        "outputId": "3ad02a87-6058-40cf-a641-e478432a4530"
      },
      "execution_count": null,
      "outputs": [
        {
          "output_type": "stream",
          "name": "stdout",
          "text": [
            "311/311 [==============================] - 9s 28ms/step - loss: 0.2045\n"
          ]
        },
        {
          "output_type": "execute_result",
          "data": {
            "text/plain": [
              "0.07630462112311776"
            ]
          },
          "metadata": {},
          "execution_count": 49
        }
      ]
    },
    {
      "cell_type": "code",
      "source": [
        "#WITHOUT DROPOUTS OPTIMIZED"
      ],
      "metadata": {
        "id": "9h6C-2DXFqCz"
      },
      "execution_count": null,
      "outputs": []
    },
    {
      "cell_type": "code",
      "source": [
        "model9 = tf.keras.models.Sequential()\n",
        "model9.add(layers.LSTM(64,\n",
        "  #dropout=0.1,\n",
        "  #recurrent_dropout=0.1,\n",
        "  return_sequences=True,\n",
        "  input_shape=(None, float_data.shape[-1])))\n",
        "model9.add(layers.LSTM(64,\n",
        "  #dropout=0.1,\n",
        "  #recurrent_dropout=0.1,\n",
        "  input_shape=(None, float_data.shape[-1])))\n",
        "model9.add(layers.Dense(32))\n",
        "model9.add(layers.Dense(1))\n",
        "model9.compile(optimizer= tf.keras.optimizers.RMSprop(), loss='mae')\n",
        "history9 = model9.fit(train_gen,\n",
        "  steps_per_epoch=200,\n",
        "  epochs=10,\n",
        "  validation_data=val_gen,\n",
        "  validation_steps=val_steps)"
      ],
      "metadata": {
        "colab": {
          "base_uri": "https://localhost:8080/"
        },
        "id": "mAvyeezDFtVC",
        "outputId": "82317993-d414-4085-a30f-79d780206b70"
      },
      "execution_count": null,
      "outputs": [
        {
          "output_type": "stream",
          "name": "stdout",
          "text": [
            "Epoch 1/10\n",
            "200/200 [==============================] - 36s 153ms/step - loss: 0.1148 - val_loss: 0.1890\n",
            "Epoch 2/10\n",
            "200/200 [==============================] - 24s 118ms/step - loss: 0.0831 - val_loss: 0.1849\n",
            "Epoch 3/10\n",
            "200/200 [==============================] - 24s 118ms/step - loss: 0.0751 - val_loss: 0.1492\n",
            "Epoch 4/10\n",
            "200/200 [==============================] - 24s 122ms/step - loss: 0.0705 - val_loss: 0.1825\n",
            "Epoch 5/10\n",
            "200/200 [==============================] - 24s 122ms/step - loss: 0.0665 - val_loss: 0.1373\n",
            "Epoch 6/10\n",
            "200/200 [==============================] - 24s 120ms/step - loss: 0.0637 - val_loss: 0.1529\n",
            "Epoch 7/10\n",
            "200/200 [==============================] - 25s 123ms/step - loss: 0.0614 - val_loss: 0.1487\n",
            "Epoch 8/10\n",
            "200/200 [==============================] - 24s 118ms/step - loss: 0.0590 - val_loss: 0.1668\n",
            "Epoch 9/10\n",
            "200/200 [==============================] - 24s 122ms/step - loss: 0.0568 - val_loss: 0.1785\n",
            "Epoch 10/10\n",
            "200/200 [==============================] - 24s 119ms/step - loss: 0.0545 - val_loss: 0.1919\n"
          ]
        }
      ]
    },
    {
      "cell_type": "code",
      "source": [
        "eval9 = model9.evaluate(test_gen, steps = test_steps)\n",
        "eval9 *std[6]"
      ],
      "metadata": {
        "colab": {
          "base_uri": "https://localhost:8080/"
        },
        "id": "5lPiJnZ5F4DM",
        "outputId": "e00ba031-bfaf-4e1f-e7e8-a531094f120b"
      },
      "execution_count": null,
      "outputs": [
        {
          "output_type": "stream",
          "name": "stdout",
          "text": [
            "311/311 [==============================] - 9s 28ms/step - loss: 0.1926\n"
          ]
        },
        {
          "output_type": "execute_result",
          "data": {
            "text/plain": [
              "0.07189578325609913"
            ]
          },
          "metadata": {},
          "execution_count": 51
        }
      ]
    },
    {
      "cell_type": "code",
      "source": [
        "model10 = tf.keras.models.Sequential()\n",
        "model10.add(layers.Dense(32))\n",
        "model10.add(layers.LSTM(8,\n",
        "  #dropout=0.1,\n",
        "  #recurrent_dropout=0.1,\n",
        "  return_sequences=True,\n",
        "  input_shape=(None, float_data.shape[-1])))\n",
        "model10.add(layers.LSTM(16,\n",
        "  #dropout=0.1,\n",
        "  #recurrent_dropout=0.1,\n",
        "  input_shape=(None, float_data.shape[-1])))\n",
        "model10.add(layers.Dense(32))\n",
        "model10.add(layers.Dense(64))\n",
        "model10.add(layers.Dense(1))\n",
        "model10.compile(optimizer= tf.keras.optimizers.RMSprop(), loss='mae')\n",
        "history10 = model10.fit(train_gen,\n",
        "  steps_per_epoch=200,\n",
        "  epochs=20,\n",
        "  validation_data=val_gen,\n",
        "  validation_steps=val_steps)"
      ],
      "metadata": {
        "colab": {
          "base_uri": "https://localhost:8080/"
        },
        "id": "LbJ_rvZzG804",
        "outputId": "726d1bea-0a73-47ea-a6e8-87510385c999"
      },
      "execution_count": null,
      "outputs": [
        {
          "output_type": "stream",
          "name": "stdout",
          "text": [
            "Epoch 1/20\n",
            "200/200 [==============================] - 14s 50ms/step - loss: 0.1295 - val_loss: 0.2358\n",
            "Epoch 2/20\n",
            "200/200 [==============================] - 9s 46ms/step - loss: 0.0920 - val_loss: 0.2776\n",
            "Epoch 3/20\n",
            "200/200 [==============================] - 9s 47ms/step - loss: 0.0846 - val_loss: 0.1480\n",
            "Epoch 4/20\n",
            "200/200 [==============================] - 9s 46ms/step - loss: 0.0808 - val_loss: 0.2083\n",
            "Epoch 5/20\n",
            "200/200 [==============================] - 9s 46ms/step - loss: 0.0770 - val_loss: 0.1414\n",
            "Epoch 6/20\n",
            "200/200 [==============================] - 9s 46ms/step - loss: 0.0753 - val_loss: 0.1530\n",
            "Epoch 7/20\n",
            "200/200 [==============================] - 9s 47ms/step - loss: 0.0734 - val_loss: 0.1180\n",
            "Epoch 8/20\n",
            "200/200 [==============================] - 10s 48ms/step - loss: 0.0722 - val_loss: 0.1303\n",
            "Epoch 9/20\n",
            "200/200 [==============================] - 10s 48ms/step - loss: 0.0705 - val_loss: 0.1250\n",
            "Epoch 10/20\n",
            "200/200 [==============================] - 9s 45ms/step - loss: 0.0693 - val_loss: 0.1461\n",
            "Epoch 11/20\n",
            "200/200 [==============================] - 9s 46ms/step - loss: 0.0679 - val_loss: 0.1239\n",
            "Epoch 12/20\n",
            "200/200 [==============================] - 10s 48ms/step - loss: 0.0673 - val_loss: 0.1221\n",
            "Epoch 13/20\n",
            "200/200 [==============================] - 10s 48ms/step - loss: 0.0665 - val_loss: 0.1434\n",
            "Epoch 14/20\n",
            "200/200 [==============================] - 9s 46ms/step - loss: 0.0656 - val_loss: 0.1493\n",
            "Epoch 15/20\n",
            "200/200 [==============================] - 9s 46ms/step - loss: 0.0653 - val_loss: 0.1292\n",
            "Epoch 16/20\n",
            "200/200 [==============================] - 9s 44ms/step - loss: 0.0642 - val_loss: 0.1341\n",
            "Epoch 17/20\n",
            "200/200 [==============================] - 9s 46ms/step - loss: 0.0642 - val_loss: 0.1227\n",
            "Epoch 18/20\n",
            "200/200 [==============================] - 9s 47ms/step - loss: 0.0634 - val_loss: 0.1229\n",
            "Epoch 19/20\n",
            "200/200 [==============================] - 10s 48ms/step - loss: 0.0629 - val_loss: 0.1166\n",
            "Epoch 20/20\n",
            "200/200 [==============================] - 10s 48ms/step - loss: 0.0620 - val_loss: 0.1261\n"
          ]
        }
      ]
    },
    {
      "cell_type": "code",
      "source": [
        "eval10 = model10.evaluate(test_gen, steps = test_steps)\n",
        "eval10 *std[6]"
      ],
      "metadata": {
        "colab": {
          "base_uri": "https://localhost:8080/"
        },
        "id": "3G_lVjEYIaUu",
        "outputId": "9af82543-7293-44c1-dc64-e3f4faedaa6c"
      },
      "execution_count": null,
      "outputs": [
        {
          "output_type": "stream",
          "name": "stdout",
          "text": [
            "311/311 [==============================] - 3s 10ms/step - loss: 0.1127\n"
          ]
        },
        {
          "output_type": "execute_result",
          "data": {
            "text/plain": [
              "0.04206762076413728"
            ]
          },
          "metadata": {},
          "execution_count": 61
        }
      ]
    },
    {
      "cell_type": "code",
      "source": [
        "model11 = tf.keras.models.Sequential()\n",
        "model11.add(layers.Dense(32))\n",
        "model11.add(layers.Dense(64))\n",
        "model11.add(layers.GRU(128,\n",
        "  #dropout=0.1,\n",
        "  #recurrent_dropout=0.1,\n",
        "  return_sequences=True,\n",
        "  input_shape=(None, float_data.shape[-1])))\n",
        "model11.add(layers.LSTM(128,\n",
        "  #dropout=0.1,\n",
        "  #recurrent_dropout=0.1,\n",
        "  input_shape=(None, float_data.shape[-1])))\n",
        "model11.add(layers.Dense(64))\n",
        "model11.add(layers.Dense(32))\n",
        "model11.add(layers.Dense(1))\n",
        "model11.compile(optimizer= tf.keras.optimizers.RMSprop(), loss='mae')\n",
        "history11 = model11.fit(train_gen,\n",
        "  steps_per_epoch=200,\n",
        "  epochs=20,\n",
        "  validation_data=val_gen,\n",
        "  validation_steps=val_steps)"
      ],
      "metadata": {
        "colab": {
          "base_uri": "https://localhost:8080/"
        },
        "id": "x3z_Kix2Oo6C",
        "outputId": "4c0ce834-54d6-4575-d8b3-2015263bbf76"
      },
      "execution_count": null,
      "outputs": [
        {
          "output_type": "stream",
          "name": "stdout",
          "text": [
            "Epoch 1/20\n",
            "200/200 [==============================] - 68s 314ms/step - loss: 0.1577 - val_loss: 0.2380\n",
            "Epoch 2/20\n",
            "200/200 [==============================] - 63s 315ms/step - loss: 0.1029 - val_loss: 0.2141\n",
            "Epoch 3/20\n",
            "200/200 [==============================] - 63s 313ms/step - loss: 0.0927 - val_loss: 0.2081\n",
            "Epoch 4/20\n",
            "200/200 [==============================] - 63s 315ms/step - loss: 0.0859 - val_loss: 0.1882\n",
            "Epoch 5/20\n",
            "200/200 [==============================] - 63s 316ms/step - loss: 0.0801 - val_loss: 0.2287\n",
            "Epoch 6/20\n",
            "200/200 [==============================] - 62s 311ms/step - loss: 0.0732 - val_loss: 0.2124\n",
            "Epoch 7/20\n",
            "200/200 [==============================] - 62s 310ms/step - loss: 0.0676 - val_loss: 0.2321\n",
            "Epoch 8/20\n",
            "200/200 [==============================] - 62s 310ms/step - loss: 0.0619 - val_loss: 0.2276\n",
            "Epoch 9/20\n",
            "200/200 [==============================] - 62s 312ms/step - loss: 0.0574 - val_loss: 0.2650\n",
            "Epoch 10/20\n",
            "200/200 [==============================] - 62s 312ms/step - loss: 0.0546 - val_loss: 0.2577\n",
            "Epoch 11/20\n",
            "200/200 [==============================] - 62s 311ms/step - loss: 0.0500 - val_loss: 0.3068\n",
            "Epoch 12/20\n",
            "200/200 [==============================] - 63s 313ms/step - loss: 0.0468 - val_loss: 0.3155\n",
            "Epoch 13/20\n",
            "200/200 [==============================] - 62s 311ms/step - loss: 0.0448 - val_loss: 0.3005\n",
            "Epoch 14/20\n",
            "200/200 [==============================] - 62s 310ms/step - loss: 0.0420 - val_loss: 0.2912\n",
            "Epoch 15/20\n",
            "200/200 [==============================] - 62s 311ms/step - loss: 0.0404 - val_loss: 0.3130\n",
            "Epoch 16/20\n",
            "200/200 [==============================] - 62s 311ms/step - loss: 0.0384 - val_loss: 0.3040\n",
            "Epoch 17/20\n",
            "200/200 [==============================] - 61s 307ms/step - loss: 0.0369 - val_loss: 0.3230\n",
            "Epoch 18/20\n",
            "200/200 [==============================] - 62s 309ms/step - loss: 0.0352 - val_loss: 0.2971\n",
            "Epoch 19/20\n",
            "200/200 [==============================] - 62s 312ms/step - loss: 0.0339 - val_loss: 0.3195\n",
            "Epoch 20/20\n",
            "200/200 [==============================] - 61s 307ms/step - loss: 0.0328 - val_loss: 0.3227\n"
          ]
        }
      ]
    },
    {
      "cell_type": "code",
      "source": [
        "eval11 = model11.evaluate(test_gen, steps = test_steps)\n",
        "eval11 *std[6]"
      ],
      "metadata": {
        "colab": {
          "base_uri": "https://localhost:8080/"
        },
        "id": "4p9B5QH7O2rn",
        "outputId": "6bdd3e0d-c40a-4ee4-bf51-8dd492807bd0"
      },
      "execution_count": null,
      "outputs": [
        {
          "output_type": "stream",
          "name": "stdout",
          "text": [
            "311/311 [==============================] - 21s 68ms/step - loss: 0.4539\n"
          ]
        },
        {
          "output_type": "execute_result",
          "data": {
            "text/plain": [
              "0.16939473290322482"
            ]
          },
          "metadata": {},
          "execution_count": 67
        }
      ]
    }
  ]
}