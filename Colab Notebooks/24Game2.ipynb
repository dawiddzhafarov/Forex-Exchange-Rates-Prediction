{
  "nbformat": 4,
  "nbformat_minor": 0,
  "metadata": {
    "colab": {
      "provenance": []
    },
    "kernelspec": {
      "name": "python3",
      "display_name": "Python 3"
    },
    "language_info": {
      "name": "python"
    }
  },
  "cells": [
    {
      "cell_type": "code",
      "execution_count": null,
      "metadata": {
        "id": "1uqvufGBFnzo"
      },
      "outputs": [],
      "source": [
        "import pandas as pd\n",
        "import numpy as np\n",
        "import tensorflow as tf\n",
        "from itertools import chain\n",
        "from matplotlib import pyplot as plt\n",
        "from tensorflow.keras import layers\n",
        "from sklearn.preprocessing import MinMaxScaler\n",
        "#import keras_tuner as kt\n",
        "df = pd.read_csv(\"drive/MyDrive/Engineer's Project/test.csv\")"
      ]
    },
    {
      "cell_type": "code",
      "source": [
        "df.pop('usa_cpi')\n",
        "df.pop('pol_cpi')\n",
        "df.pop('usa_inter')\n",
        "df.pop('pol_inter')\n",
        "df.pop('Date')"
      ],
      "metadata": {
        "colab": {
          "base_uri": "https://localhost:8080/"
        },
        "id": "PS502CjzFpao",
        "outputId": "ef7faeee-5b2f-4faa-94cf-8baf22c20efc"
      },
      "execution_count": null,
      "outputs": [
        {
          "output_type": "execute_result",
          "data": {
            "text/plain": [
              "0       2010.11.15\n",
              "1       2010.11.16\n",
              "2       2010.11.17\n",
              "3       2010.11.18\n",
              "4       2010.11.19\n",
              "           ...    \n",
              "3537    2022.03.27\n",
              "3538    2022.03.28\n",
              "3539    2022.03.29\n",
              "3540    2022.03.30\n",
              "3541    2022.03.31\n",
              "Name: Date, Length: 3542, dtype: object"
            ]
          },
          "metadata": {},
          "execution_count": 2
        }
      ]
    },
    {
      "cell_type": "code",
      "source": [
        "scaler = MinMaxScaler()\n",
        "df_numpy = df.to_numpy() \n",
        "scaler = scaler.fit(df_numpy[2000:3000])\n",
        "df_scalled = scaler.transform(df_numpy)\n",
        "df_scalled = pd.DataFrame(df_scalled, columns=[\n",
        "  'Opening', 'High', 'Low', 'Closing','Momentum', 'Range', 'ohlc'])"
      ],
      "metadata": {
        "id": "WjNdiSHvFrav"
      },
      "execution_count": null,
      "outputs": []
    },
    {
      "cell_type": "code",
      "source": [
        "df_train = df_scalled[2200:3001]\n",
        "df_val = df_scalled[2000:2200] #300\n",
        "df_game = df_scalled[3001:]"
      ],
      "metadata": {
        "id": "laf7pj2lGN0q"
      },
      "execution_count": null,
      "outputs": []
    },
    {
      "cell_type": "code",
      "source": [
        "lookback = 15\n",
        "step = 1\n",
        "delay = 0\n",
        "batch_size = 128"
      ],
      "metadata": {
        "id": "gAvZYxhrFsfg"
      },
      "execution_count": null,
      "outputs": []
    },
    {
      "cell_type": "code",
      "source": [
        "len(df_train)"
      ],
      "metadata": {
        "colab": {
          "base_uri": "https://localhost:8080/"
        },
        "id": "QM48e6c9uRRZ",
        "outputId": "fddc4828-8754-40af-ef39-b44c1b452d77"
      },
      "execution_count": null,
      "outputs": [
        {
          "output_type": "execute_result",
          "data": {
            "text/plain": [
              "801"
            ]
          },
          "metadata": {},
          "execution_count": 6
        }
      ]
    },
    {
      "cell_type": "code",
      "source": [
        "len(df_val)"
      ],
      "metadata": {
        "colab": {
          "base_uri": "https://localhost:8080/"
        },
        "id": "UAzyDXmvuWAJ",
        "outputId": "954801d6-7110-4648-b24c-556bd855476d"
      },
      "execution_count": null,
      "outputs": [
        {
          "output_type": "execute_result",
          "data": {
            "text/plain": [
              "200"
            ]
          },
          "metadata": {},
          "execution_count": 7
        }
      ]
    },
    {
      "cell_type": "code",
      "source": [
        "len(df_game)"
      ],
      "metadata": {
        "id": "0ukPUec4zavI"
      },
      "execution_count": null,
      "outputs": []
    },
    {
      "cell_type": "code",
      "source": [
        "float_data = np.array(df_scalled).astype('float32')"
      ],
      "metadata": {
        "id": "ysrqOl0zuEU4"
      },
      "execution_count": null,
      "outputs": []
    },
    {
      "cell_type": "code",
      "source": [
        "float_train_data = np.array(df_train).astype('float32')"
      ],
      "metadata": {
        "id": "V5PYx1xhFtik"
      },
      "execution_count": null,
      "outputs": []
    },
    {
      "cell_type": "code",
      "source": [
        "float_val_data = np.array(df_val).astype('float32')"
      ],
      "metadata": {
        "id": "bcGW93BKLtXm"
      },
      "execution_count": null,
      "outputs": []
    },
    {
      "cell_type": "code",
      "source": [
        "float_game_data = np.array(df_game).astype('float32')"
      ],
      "metadata": {
        "id": "WiAFsAHyzTwE"
      },
      "execution_count": null,
      "outputs": []
    },
    {
      "cell_type": "code",
      "source": [
        "len(float_val_data)"
      ],
      "metadata": {
        "colab": {
          "base_uri": "https://localhost:8080/"
        },
        "id": "7aL3Bukjf3WA",
        "outputId": "b8333b1a-9db7-418c-8979-399cb9f7938a"
      },
      "execution_count": null,
      "outputs": [
        {
          "output_type": "execute_result",
          "data": {
            "text/plain": [
              "200"
            ]
          },
          "metadata": {},
          "execution_count": 30
        }
      ]
    },
    {
      "cell_type": "code",
      "source": [
        "def generator(data, lookback, delay, min_index, max_index,shuffle=False, batch_size=128, step=1):\n",
        "  if max_index is None:\n",
        "    max_index = len(data) - delay - 1\n",
        "  i = min_index + lookback\n",
        "  while 1:\n",
        "    if shuffle:\n",
        "      rows = np.random.randint(\n",
        "        min_index + lookback, max_index, size=batch_size)\n",
        "    else:\n",
        "      if i + batch_size >= max_index:\n",
        "        i = min_index + lookback\n",
        "      rows = np.arange(i, min(i + batch_size, max_index))\n",
        "      i += len(rows)\n",
        "    samples = np.zeros((len(rows),lookback // step,data.shape[-1]))\n",
        "    targets = np.zeros((len(rows),))\n",
        "    for j, row in enumerate(rows):\n",
        "      indices = range(rows[j] - lookback, rows[j], step)\n",
        "      samples[j] = data[indices]\n",
        "      targets[j] = data[rows[j] + delay][3] \n",
        "    yield samples, targets"
      ],
      "metadata": {
        "id": "gb3c6vLLFucu"
      },
      "execution_count": null,
      "outputs": []
    },
    {
      "cell_type": "code",
      "source": [
        "train_gen = generator(float_train_data,\n",
        "lookback=lookback,\n",
        "delay=delay,\n",
        "min_index=0,\n",
        "max_index=800,\n",
        "#shuffle=True,\n",
        "step=step,\n",
        "batch_size=batch_size)"
      ],
      "metadata": {
        "id": "UH5cZe3aFvc5"
      },
      "execution_count": null,
      "outputs": []
    },
    {
      "cell_type": "code",
      "source": [
        "val_gen = generator(float_val_data,\n",
        "lookback=lookback,\n",
        "delay=delay,\n",
        "min_index=0,\n",
        "max_index=199,\n",
        "step=step,\n",
        "batch_size=batch_size)"
      ],
      "metadata": {
        "id": "jigLWVSgFwUi"
      },
      "execution_count": null,
      "outputs": []
    },
    {
      "cell_type": "code",
      "source": [
        "test_gen = generator(float_data,\n",
        "lookback=lookback,\n",
        "delay=delay,\n",
        "min_index=3001,\n",
        "max_index=3541,\n",
        "step=step,\n",
        "batch_size=batch_size)"
      ],
      "metadata": {
        "id": "uQHe5fQrFxPg"
      },
      "execution_count": null,
      "outputs": []
    },
    {
      "cell_type": "code",
      "source": [
        "train_steps = (801 - lookback)\n",
        "val_steps = (200 - lookback)\n",
        "##test_steps = (3543 - 3001 - lookback)"
      ],
      "metadata": {
        "id": "_ZToRnw0FyKL"
      },
      "execution_count": null,
      "outputs": []
    },
    {
      "cell_type": "code",
      "source": [
        "del model"
      ],
      "metadata": {
        "id": "PFWX-ukwTa6p"
      },
      "execution_count": null,
      "outputs": []
    },
    {
      "cell_type": "code",
      "source": [
        "model = tf.keras.models.Sequential()\n",
        "model.add(layers.LSTM(120,\n",
        "  activation='sigmoid',\n",
        "  dropout=0.1,\n",
        "  recurrent_dropout=0.1,\n",
        "  input_shape=(None, float_train_data.shape[-1])))\n",
        "model.add(layers.Dense(160,\n",
        "  activation='sigmoid',))\n",
        "model.add(layers.Dense(1,\n",
        "  activation='sigmoid'))\n",
        "model.compile(optimizer= tf.keras.optimizers.RMSprop(0.01), loss='mae')\n",
        "history = model.fit(train_gen,\n",
        "  steps_per_epoch=200,\n",
        "  epochs=50,\n",
        "  validation_data=val_gen,\n",
        "  validation_steps=val_steps)"
      ],
      "metadata": {
        "id": "YMH209BsFzDq",
        "colab": {
          "base_uri": "https://localhost:8080/"
        },
        "outputId": "dba84e52-a803-493d-945b-22683c871130"
      },
      "execution_count": null,
      "outputs": [
        {
          "output_type": "stream",
          "name": "stdout",
          "text": [
            "Epoch 1/200\n",
            "200/200 [==============================] - 15s 62ms/step - loss: 0.1448 - val_loss: 0.1273\n",
            "Epoch 2/200\n",
            "200/200 [==============================] - 12s 62ms/step - loss: 0.0738 - val_loss: 0.0478\n",
            "Epoch 3/200\n",
            "200/200 [==============================] - 15s 74ms/step - loss: 0.0641 - val_loss: 0.0775\n",
            "Epoch 4/200\n",
            "200/200 [==============================] - 14s 72ms/step - loss: 0.0555 - val_loss: 0.0792\n",
            "Epoch 5/200\n",
            "200/200 [==============================] - 15s 78ms/step - loss: 0.0481 - val_loss: 0.0224\n",
            "Epoch 6/200\n",
            "200/200 [==============================] - 13s 63ms/step - loss: 0.0426 - val_loss: 0.0446\n",
            "Epoch 7/200\n",
            "200/200 [==============================] - 15s 76ms/step - loss: 0.0414 - val_loss: 0.0192\n",
            "Epoch 8/200\n",
            "200/200 [==============================] - 13s 67ms/step - loss: 0.0398 - val_loss: 0.0396\n",
            "Epoch 9/200\n",
            "200/200 [==============================] - 15s 76ms/step - loss: 0.0387 - val_loss: 0.0478\n",
            "Epoch 10/200\n",
            "200/200 [==============================] - 13s 66ms/step - loss: 0.0376 - val_loss: 0.0210\n",
            "Epoch 11/200\n",
            "200/200 [==============================] - 13s 66ms/step - loss: 0.0362 - val_loss: 0.0222\n",
            "Epoch 12/200\n",
            "200/200 [==============================] - 15s 74ms/step - loss: 0.0360 - val_loss: 0.0362\n",
            "Epoch 13/200\n",
            "200/200 [==============================] - 13s 66ms/step - loss: 0.0350 - val_loss: 0.0165\n",
            "Epoch 14/200\n",
            "200/200 [==============================] - 13s 67ms/step - loss: 0.0339 - val_loss: 0.0233\n",
            "Epoch 15/200\n",
            "200/200 [==============================] - 13s 65ms/step - loss: 0.0338 - val_loss: 0.0279\n",
            "Epoch 16/200\n",
            "200/200 [==============================] - 15s 75ms/step - loss: 0.0330 - val_loss: 0.0275\n",
            "Epoch 17/200\n",
            "200/200 [==============================] - 13s 64ms/step - loss: 0.0326 - val_loss: 0.0176\n",
            "Epoch 18/200\n",
            "200/200 [==============================] - 13s 65ms/step - loss: 0.0321 - val_loss: 0.0256\n",
            "Epoch 19/200\n",
            "200/200 [==============================] - 15s 75ms/step - loss: 0.0316 - val_loss: 0.0181\n",
            "Epoch 20/200\n",
            "200/200 [==============================] - 15s 75ms/step - loss: 0.0313 - val_loss: 0.0257\n",
            "Epoch 21/200\n",
            "200/200 [==============================] - 14s 71ms/step - loss: 0.0308 - val_loss: 0.0325\n",
            "Epoch 22/200\n",
            "200/200 [==============================] - 13s 64ms/step - loss: 0.0305 - val_loss: 0.0242\n",
            "Epoch 23/200\n",
            "200/200 [==============================] - 14s 70ms/step - loss: 0.0304 - val_loss: 0.0215\n",
            "Epoch 24/200\n",
            "200/200 [==============================] - 13s 64ms/step - loss: 0.0302 - val_loss: 0.0226\n",
            "Epoch 25/200\n",
            "200/200 [==============================] - 13s 63ms/step - loss: 0.0294 - val_loss: 0.0189\n",
            "Epoch 26/200\n",
            "200/200 [==============================] - 14s 71ms/step - loss: 0.0292 - val_loss: 0.0202\n",
            "Epoch 27/200\n",
            "200/200 [==============================] - 13s 63ms/step - loss: 0.0292 - val_loss: 0.0213\n",
            "Epoch 28/200\n",
            "200/200 [==============================] - 14s 70ms/step - loss: 0.0289 - val_loss: 0.0361\n",
            "Epoch 29/200\n",
            "200/200 [==============================] - 12s 62ms/step - loss: 0.0286 - val_loss: 0.0205\n",
            "Epoch 30/200\n",
            "200/200 [==============================] - 13s 63ms/step - loss: 0.0286 - val_loss: 0.0212\n",
            "Epoch 31/200\n",
            "200/200 [==============================] - 14s 72ms/step - loss: 0.0283 - val_loss: 0.0224\n",
            "Epoch 32/200\n",
            "200/200 [==============================] - 13s 64ms/step - loss: 0.0278 - val_loss: 0.0257\n",
            "Epoch 33/200\n",
            "200/200 [==============================] - 14s 72ms/step - loss: 0.0277 - val_loss: 0.0172\n",
            "Epoch 34/200\n",
            "200/200 [==============================] - 13s 63ms/step - loss: 0.0271 - val_loss: 0.0196\n",
            "Epoch 35/200\n",
            "200/200 [==============================] - 14s 68ms/step - loss: 0.0271 - val_loss: 0.0193\n",
            "Epoch 36/200\n",
            "200/200 [==============================] - 15s 74ms/step - loss: 0.0268 - val_loss: 0.0188\n",
            "Epoch 37/200\n",
            "200/200 [==============================] - 13s 63ms/step - loss: 0.0263 - val_loss: 0.0267\n",
            "Epoch 38/200\n",
            "200/200 [==============================] - 14s 70ms/step - loss: 0.0257 - val_loss: 0.0200\n",
            "Epoch 39/200\n",
            "200/200 [==============================] - 12s 62ms/step - loss: 0.0255 - val_loss: 0.0212\n",
            "Epoch 40/200\n",
            "200/200 [==============================] - 14s 71ms/step - loss: 0.0249 - val_loss: 0.0165\n",
            "Epoch 41/200\n",
            "200/200 [==============================] - 13s 63ms/step - loss: 0.0244 - val_loss: 0.0178\n",
            "Epoch 42/200\n",
            "200/200 [==============================] - 13s 63ms/step - loss: 0.0240 - val_loss: 0.0169\n",
            "Epoch 43/200\n",
            "200/200 [==============================] - 14s 71ms/step - loss: 0.0234 - val_loss: 0.0388\n",
            "Epoch 44/200\n",
            "200/200 [==============================] - 13s 63ms/step - loss: 0.0229 - val_loss: 0.0183\n",
            "Epoch 45/200\n",
            "200/200 [==============================] - 14s 71ms/step - loss: 0.0225 - val_loss: 0.0293\n",
            "Epoch 46/200\n",
            "200/200 [==============================] - 13s 63ms/step - loss: 0.0219 - val_loss: 0.0316\n",
            "Epoch 47/200\n",
            "200/200 [==============================] - 13s 64ms/step - loss: 0.0218 - val_loss: 0.0177\n",
            "Epoch 48/200\n",
            "200/200 [==============================] - 13s 63ms/step - loss: 0.0214 - val_loss: 0.0343\n",
            "Epoch 49/200\n",
            "200/200 [==============================] - 13s 63ms/step - loss: 0.0212 - val_loss: 0.0273\n",
            "Epoch 50/200\n",
            "200/200 [==============================] - 13s 66ms/step - loss: 0.0208 - val_loss: 0.0246\n",
            "Epoch 51/200\n",
            "200/200 [==============================] - 13s 64ms/step - loss: 0.0205 - val_loss: 0.0382\n",
            "Epoch 52/200\n",
            "200/200 [==============================] - 13s 65ms/step - loss: 0.0201 - val_loss: 0.0383\n",
            "Epoch 53/200\n",
            "200/200 [==============================] - 17s 87ms/step - loss: 0.0197 - val_loss: 0.0504\n",
            "Epoch 54/200\n",
            "200/200 [==============================] - 13s 64ms/step - loss: 0.0196 - val_loss: 0.0485\n",
            "Epoch 55/200\n",
            "200/200 [==============================] - 15s 73ms/step - loss: 0.0192 - val_loss: 0.0559\n",
            "Epoch 56/200\n",
            "200/200 [==============================] - 13s 64ms/step - loss: 0.0190 - val_loss: 0.0479\n",
            "Epoch 57/200\n",
            "200/200 [==============================] - 15s 73ms/step - loss: 0.0188 - val_loss: 0.0572\n",
            "Epoch 58/200\n",
            "200/200 [==============================] - 13s 64ms/step - loss: 0.0185 - val_loss: 0.0548\n",
            "Epoch 59/200\n",
            "200/200 [==============================] - 14s 71ms/step - loss: 0.0182 - val_loss: 0.0648\n",
            "Epoch 60/200\n",
            "200/200 [==============================] - 13s 64ms/step - loss: 0.0183 - val_loss: 0.0504\n",
            "Epoch 61/200\n",
            "200/200 [==============================] - 13s 64ms/step - loss: 0.0179 - val_loss: 0.0601\n",
            "Epoch 62/200\n",
            "200/200 [==============================] - 13s 65ms/step - loss: 0.0176 - val_loss: 0.0424\n",
            "Epoch 63/200\n",
            "200/200 [==============================] - 13s 64ms/step - loss: 0.0178 - val_loss: 0.0563\n",
            "Epoch 64/200\n",
            "200/200 [==============================] - 14s 72ms/step - loss: 0.0174 - val_loss: 0.0663\n",
            "Epoch 65/200\n",
            "200/200 [==============================] - 13s 64ms/step - loss: 0.0173 - val_loss: 0.0595\n",
            "Epoch 66/200\n",
            "200/200 [==============================] - 13s 65ms/step - loss: 0.0172 - val_loss: 0.0512\n",
            "Epoch 67/200\n",
            "200/200 [==============================] - 15s 73ms/step - loss: 0.0169 - val_loss: 0.0641\n",
            "Epoch 68/200\n",
            "200/200 [==============================] - 13s 64ms/step - loss: 0.0169 - val_loss: 0.0462\n",
            "Epoch 69/200\n",
            "200/200 [==============================] - 15s 77ms/step - loss: 0.0167 - val_loss: 0.0496\n",
            "Epoch 70/200\n",
            "200/200 [==============================] - 13s 64ms/step - loss: 0.0165 - val_loss: 0.0405\n",
            "Epoch 71/200\n",
            "200/200 [==============================] - 15s 73ms/step - loss: 0.0165 - val_loss: 0.0476\n",
            "Epoch 72/200\n",
            "200/200 [==============================] - 14s 68ms/step - loss: 0.0165 - val_loss: 0.0616\n",
            "Epoch 73/200\n",
            "200/200 [==============================] - 13s 68ms/step - loss: 0.0164 - val_loss: 0.0696\n",
            "Epoch 74/200\n",
            "200/200 [==============================] - 15s 75ms/step - loss: 0.0164 - val_loss: 0.0749\n",
            "Epoch 75/200\n",
            "200/200 [==============================] - 13s 66ms/step - loss: 0.0164 - val_loss: 0.0564\n",
            "Epoch 76/200\n",
            "200/200 [==============================] - 14s 71ms/step - loss: 0.0161 - val_loss: 0.0679\n",
            "Epoch 77/200\n",
            "200/200 [==============================] - 13s 67ms/step - loss: 0.0161 - val_loss: 0.0588\n",
            "Epoch 78/200\n",
            "200/200 [==============================] - 15s 74ms/step - loss: 0.0161 - val_loss: 0.0535\n",
            "Epoch 79/200\n",
            "200/200 [==============================] - 13s 67ms/step - loss: 0.0159 - val_loss: 0.0601\n",
            "Epoch 80/200\n",
            "200/200 [==============================] - 13s 67ms/step - loss: 0.0159 - val_loss: 0.0481\n",
            "Epoch 81/200\n",
            "200/200 [==============================] - 15s 73ms/step - loss: 0.0159 - val_loss: 0.0641\n",
            "Epoch 82/200\n",
            "200/200 [==============================] - 13s 67ms/step - loss: 0.0157 - val_loss: 0.0602\n",
            "Epoch 83/200\n",
            "200/200 [==============================] - 15s 74ms/step - loss: 0.0156 - val_loss: 0.0657\n",
            "Epoch 84/200\n",
            "200/200 [==============================] - 14s 68ms/step - loss: 0.0156 - val_loss: 0.0632\n",
            "Epoch 85/200\n",
            "200/200 [==============================] - 17s 83ms/step - loss: 0.0156 - val_loss: 0.0593\n",
            "Epoch 86/200\n",
            "200/200 [==============================] - 13s 67ms/step - loss: 0.0155 - val_loss: 0.0572\n",
            "Epoch 87/200\n",
            "200/200 [==============================] - 14s 70ms/step - loss: 0.0155 - val_loss: 0.0512\n",
            "Epoch 88/200\n",
            "200/200 [==============================] - 14s 71ms/step - loss: 0.0154 - val_loss: 0.0475\n",
            "Epoch 89/200\n",
            "200/200 [==============================] - 13s 66ms/step - loss: 0.0153 - val_loss: 0.0530\n",
            "Epoch 90/200\n",
            "200/200 [==============================] - 15s 73ms/step - loss: 0.0153 - val_loss: 0.0624\n",
            "Epoch 91/200\n",
            "200/200 [==============================] - 13s 67ms/step - loss: 0.0153 - val_loss: 0.0652\n",
            "Epoch 92/200\n",
            "200/200 [==============================] - 15s 76ms/step - loss: 0.0152 - val_loss: 0.0500\n",
            "Epoch 93/200\n",
            "200/200 [==============================] - 14s 68ms/step - loss: 0.0152 - val_loss: 0.0534\n",
            "Epoch 94/200\n",
            "200/200 [==============================] - 14s 69ms/step - loss: 0.0151 - val_loss: 0.0665\n",
            "Epoch 95/200\n",
            "200/200 [==============================] - 14s 68ms/step - loss: 0.0152 - val_loss: 0.0631\n",
            "Epoch 96/200\n",
            "200/200 [==============================] - 13s 64ms/step - loss: 0.0152 - val_loss: 0.0504\n",
            "Epoch 97/200\n",
            "200/200 [==============================] - 14s 71ms/step - loss: 0.0149 - val_loss: 0.0554\n",
            "Epoch 98/200\n",
            "200/200 [==============================] - 13s 65ms/step - loss: 0.0150 - val_loss: 0.0629\n",
            "Epoch 99/200\n",
            "200/200 [==============================] - 14s 71ms/step - loss: 0.0150 - val_loss: 0.0617\n",
            "Epoch 100/200\n",
            "200/200 [==============================] - 13s 64ms/step - loss: 0.0150 - val_loss: 0.0627\n",
            "Epoch 101/200\n",
            "200/200 [==============================] - 15s 77ms/step - loss: 0.0147 - val_loss: 0.0511\n",
            "Epoch 102/200\n",
            "200/200 [==============================] - 14s 69ms/step - loss: 0.0150 - val_loss: 0.0514\n",
            "Epoch 103/200\n",
            "200/200 [==============================] - 13s 64ms/step - loss: 0.0147 - val_loss: 0.0634\n",
            "Epoch 104/200\n",
            "200/200 [==============================] - 14s 71ms/step - loss: 0.0148 - val_loss: 0.0485\n",
            "Epoch 105/200\n",
            "200/200 [==============================] - 13s 64ms/step - loss: 0.0147 - val_loss: 0.0484\n",
            "Epoch 106/200\n",
            "200/200 [==============================] - 14s 73ms/step - loss: 0.0146 - val_loss: 0.0674\n",
            "Epoch 107/200\n",
            "200/200 [==============================] - 13s 65ms/step - loss: 0.0146 - val_loss: 0.0601\n",
            "Epoch 108/200\n",
            "200/200 [==============================] - 13s 65ms/step - loss: 0.0147 - val_loss: 0.0653\n",
            "Epoch 109/200\n",
            "200/200 [==============================] - 14s 71ms/step - loss: 0.0144 - val_loss: 0.0500\n",
            "Epoch 110/200\n",
            "200/200 [==============================] - 13s 65ms/step - loss: 0.0144 - val_loss: 0.0483\n",
            "Epoch 111/200\n",
            "200/200 [==============================] - 14s 72ms/step - loss: 0.0146 - val_loss: 0.0647\n",
            "Epoch 112/200\n",
            "200/200 [==============================] - 13s 65ms/step - loss: 0.0145 - val_loss: 0.0529\n",
            "Epoch 113/200\n",
            "200/200 [==============================] - 14s 72ms/step - loss: 0.0144 - val_loss: 0.0423\n",
            "Epoch 114/200\n",
            "200/200 [==============================] - 13s 65ms/step - loss: 0.0144 - val_loss: 0.0467\n",
            "Epoch 115/200\n",
            "200/200 [==============================] - 13s 65ms/step - loss: 0.0144 - val_loss: 0.0615\n",
            "Epoch 116/200\n",
            "200/200 [==============================] - 15s 73ms/step - loss: 0.0143 - val_loss: 0.0521\n",
            "Epoch 117/200\n",
            "200/200 [==============================] - 13s 65ms/step - loss: 0.0144 - val_loss: 0.0584\n",
            "Epoch 118/200\n",
            "200/200 [==============================] - 16s 82ms/step - loss: 0.0143 - val_loss: 0.0442\n",
            "Epoch 119/200\n",
            "200/200 [==============================] - 13s 65ms/step - loss: 0.0143 - val_loss: 0.0505\n",
            "Epoch 120/200\n",
            "200/200 [==============================] - 14s 71ms/step - loss: 0.0143 - val_loss: 0.0603\n",
            "Epoch 121/200\n",
            "200/200 [==============================] - 13s 65ms/step - loss: 0.0142 - val_loss: 0.0635\n",
            "Epoch 122/200\n",
            "200/200 [==============================] - 13s 65ms/step - loss: 0.0141 - val_loss: 0.0607\n",
            "Epoch 123/200\n",
            "200/200 [==============================] - 14s 71ms/step - loss: 0.0143 - val_loss: 0.0596\n",
            "Epoch 124/200\n",
            "200/200 [==============================] - 13s 65ms/step - loss: 0.0141 - val_loss: 0.0556\n",
            "Epoch 125/200\n",
            "200/200 [==============================] - 14s 72ms/step - loss: 0.0141 - val_loss: 0.0537\n",
            "Epoch 126/200\n",
            "200/200 [==============================] - 13s 65ms/step - loss: 0.0141 - val_loss: 0.0646\n",
            "Epoch 127/200\n",
            "200/200 [==============================] - 13s 66ms/step - loss: 0.0140 - val_loss: 0.0464\n",
            "Epoch 128/200\n",
            "200/200 [==============================] - 14s 70ms/step - loss: 0.0140 - val_loss: 0.0569\n",
            "Epoch 129/200\n",
            "200/200 [==============================] - 13s 65ms/step - loss: 0.0141 - val_loss: 0.0585\n",
            "Epoch 130/200\n",
            "200/200 [==============================] - 15s 73ms/step - loss: 0.0140 - val_loss: 0.0616\n",
            "Epoch 131/200\n",
            "200/200 [==============================] - 13s 65ms/step - loss: 0.0140 - val_loss: 0.0567\n",
            "Epoch 132/200\n",
            "200/200 [==============================] - 14s 70ms/step - loss: 0.0139 - val_loss: 0.0489\n",
            "Epoch 133/200\n",
            "200/200 [==============================] - 13s 67ms/step - loss: 0.0140 - val_loss: 0.0537\n",
            "Epoch 134/200\n",
            "200/200 [==============================] - 15s 77ms/step - loss: 0.0138 - val_loss: 0.0585\n",
            "Epoch 135/200\n",
            "200/200 [==============================] - 14s 71ms/step - loss: 0.0138 - val_loss: 0.0606\n",
            "Epoch 136/200\n",
            "200/200 [==============================] - 13s 65ms/step - loss: 0.0137 - val_loss: 0.0647\n",
            "Epoch 137/200\n",
            "200/200 [==============================] - 15s 73ms/step - loss: 0.0137 - val_loss: 0.0504\n",
            "Epoch 138/200\n",
            "200/200 [==============================] - 13s 65ms/step - loss: 0.0137 - val_loss: 0.0601\n",
            "Epoch 139/200\n",
            "200/200 [==============================] - 14s 68ms/step - loss: 0.0139 - val_loss: 0.0647\n",
            "Epoch 140/200\n",
            "200/200 [==============================] - 13s 65ms/step - loss: 0.0136 - val_loss: 0.0572\n",
            "Epoch 141/200\n",
            "200/200 [==============================] - 13s 65ms/step - loss: 0.0137 - val_loss: 0.0582\n",
            "Epoch 142/200\n",
            "200/200 [==============================] - 14s 73ms/step - loss: 0.0137 - val_loss: 0.0652\n",
            "Epoch 143/200\n",
            "200/200 [==============================] - 13s 65ms/step - loss: 0.0137 - val_loss: 0.0503\n",
            "Epoch 144/200\n",
            "200/200 [==============================] - 15s 73ms/step - loss: 0.0136 - val_loss: 0.0581\n",
            "Epoch 145/200\n",
            "200/200 [==============================] - 13s 65ms/step - loss: 0.0138 - val_loss: 0.0569\n",
            "Epoch 146/200\n",
            "200/200 [==============================] - 14s 71ms/step - loss: 0.0137 - val_loss: 0.0460\n",
            "Epoch 147/200\n",
            "200/200 [==============================] - 13s 66ms/step - loss: 0.0136 - val_loss: 0.0399\n",
            "Epoch 148/200\n",
            "200/200 [==============================] - 13s 65ms/step - loss: 0.0135 - val_loss: 0.0589\n",
            "Epoch 149/200\n",
            "200/200 [==============================] - 14s 71ms/step - loss: 0.0135 - val_loss: 0.0605\n",
            "Epoch 150/200\n",
            "200/200 [==============================] - 15s 75ms/step - loss: 0.0136 - val_loss: 0.0462\n",
            "Epoch 151/200\n",
            "200/200 [==============================] - 14s 71ms/step - loss: 0.0135 - val_loss: 0.0456\n",
            "Epoch 152/200\n",
            "200/200 [==============================] - 13s 65ms/step - loss: 0.0135 - val_loss: 0.0584\n",
            "Epoch 153/200\n",
            "200/200 [==============================] - 14s 71ms/step - loss: 0.0135 - val_loss: 0.0425\n",
            "Epoch 154/200\n",
            "200/200 [==============================] - 13s 65ms/step - loss: 0.0134 - val_loss: 0.0503\n",
            "Epoch 155/200\n",
            "200/200 [==============================] - 13s 65ms/step - loss: 0.0135 - val_loss: 0.0583\n",
            "Epoch 156/200\n",
            "200/200 [==============================] - 15s 73ms/step - loss: 0.0135 - val_loss: 0.0592\n",
            "Epoch 157/200\n",
            "200/200 [==============================] - 13s 65ms/step - loss: 0.0135 - val_loss: 0.0564\n",
            "Epoch 158/200\n",
            "200/200 [==============================] - 14s 72ms/step - loss: 0.0134 - val_loss: 0.0517\n",
            "Epoch 159/200\n",
            "200/200 [==============================] - 13s 65ms/step - loss: 0.0133 - val_loss: 0.0594\n",
            "Epoch 160/200\n",
            "200/200 [==============================] - 13s 67ms/step - loss: 0.0134 - val_loss: 0.0564\n",
            "Epoch 161/200\n",
            "200/200 [==============================] - 14s 68ms/step - loss: 0.0134 - val_loss: 0.0525\n",
            "Epoch 162/200\n",
            "200/200 [==============================] - 13s 65ms/step - loss: 0.0135 - val_loss: 0.0468\n",
            "Epoch 163/200\n",
            "200/200 [==============================] - 14s 72ms/step - loss: 0.0133 - val_loss: 0.0474\n",
            "Epoch 164/200\n",
            "200/200 [==============================] - 13s 65ms/step - loss: 0.0133 - val_loss: 0.0557\n",
            "Epoch 165/200\n",
            "200/200 [==============================] - 14s 72ms/step - loss: 0.0134 - val_loss: 0.0521\n",
            "Epoch 166/200\n",
            "200/200 [==============================] - 13s 65ms/step - loss: 0.0133 - val_loss: 0.0582\n",
            "Epoch 167/200\n",
            "200/200 [==============================] - 16s 81ms/step - loss: 0.0132 - val_loss: 0.0549\n",
            "Epoch 168/200\n",
            "200/200 [==============================] - 13s 66ms/step - loss: 0.0133 - val_loss: 0.0450\n",
            "Epoch 169/200\n",
            "200/200 [==============================] - 13s 65ms/step - loss: 0.0132 - val_loss: 0.0609\n",
            "Epoch 170/200\n",
            "200/200 [==============================] - 13s 66ms/step - loss: 0.0132 - val_loss: 0.0537\n",
            "Epoch 171/200\n",
            "200/200 [==============================] - 13s 65ms/step - loss: 0.0133 - val_loss: 0.0479\n",
            "Epoch 172/200\n",
            "200/200 [==============================] - 14s 72ms/step - loss: 0.0132 - val_loss: 0.0616\n",
            "Epoch 173/200\n",
            "200/200 [==============================] - 13s 65ms/step - loss: 0.0132 - val_loss: 0.0531\n",
            "Epoch 174/200\n",
            "200/200 [==============================] - 13s 66ms/step - loss: 0.0132 - val_loss: 0.0600\n",
            "Epoch 175/200\n",
            "200/200 [==============================] - 15s 73ms/step - loss: 0.0132 - val_loss: 0.0555\n",
            "Epoch 176/200\n",
            "200/200 [==============================] - 13s 65ms/step - loss: 0.0131 - val_loss: 0.0616\n",
            "Epoch 177/200\n",
            "200/200 [==============================] - 15s 74ms/step - loss: 0.0131 - val_loss: 0.0605\n",
            "Epoch 178/200\n",
            "200/200 [==============================] - 13s 66ms/step - loss: 0.0131 - val_loss: 0.0584\n",
            "Epoch 179/200\n",
            "200/200 [==============================] - 13s 65ms/step - loss: 0.0131 - val_loss: 0.0479\n",
            "Epoch 180/200\n",
            "200/200 [==============================] - 14s 72ms/step - loss: 0.0132 - val_loss: 0.0435\n",
            "Epoch 181/200\n",
            "200/200 [==============================] - 13s 65ms/step - loss: 0.0131 - val_loss: 0.0616\n",
            "Epoch 182/200\n",
            "200/200 [==============================] - 15s 73ms/step - loss: 0.0131 - val_loss: 0.0566\n",
            "Epoch 183/200\n",
            "200/200 [==============================] - 15s 76ms/step - loss: 0.0132 - val_loss: 0.0545\n",
            "Epoch 184/200\n",
            "200/200 [==============================] - 14s 72ms/step - loss: 0.0130 - val_loss: 0.0450\n",
            "Epoch 185/200\n",
            "200/200 [==============================] - 13s 65ms/step - loss: 0.0129 - val_loss: 0.0574\n",
            "Epoch 186/200\n",
            "200/200 [==============================] - 13s 65ms/step - loss: 0.0131 - val_loss: 0.0573\n",
            "Epoch 187/200\n",
            "200/200 [==============================] - 14s 72ms/step - loss: 0.0129 - val_loss: 0.0563\n",
            "Epoch 188/200\n",
            "200/200 [==============================] - 13s 65ms/step - loss: 0.0129 - val_loss: 0.0482\n",
            "Epoch 189/200\n",
            "200/200 [==============================] - 14s 71ms/step - loss: 0.0129 - val_loss: 0.0590\n",
            "Epoch 190/200\n",
            "200/200 [==============================] - 13s 65ms/step - loss: 0.0129 - val_loss: 0.0424\n",
            "Epoch 191/200\n",
            "200/200 [==============================] - 14s 71ms/step - loss: 0.0131 - val_loss: 0.0503\n",
            "Epoch 192/200\n",
            "200/200 [==============================] - 13s 65ms/step - loss: 0.0129 - val_loss: 0.0657\n",
            "Epoch 193/200\n",
            "200/200 [==============================] - 13s 65ms/step - loss: 0.0130 - val_loss: 0.0573\n",
            "Epoch 194/200\n",
            "200/200 [==============================] - 14s 72ms/step - loss: 0.0128 - val_loss: 0.0452\n",
            "Epoch 195/200\n",
            "200/200 [==============================] - 13s 65ms/step - loss: 0.0130 - val_loss: 0.0528\n",
            "Epoch 196/200\n",
            "200/200 [==============================] - 14s 71ms/step - loss: 0.0127 - val_loss: 0.0496\n",
            "Epoch 197/200\n",
            "200/200 [==============================] - 13s 65ms/step - loss: 0.0129 - val_loss: 0.0413\n",
            "Epoch 198/200\n",
            "200/200 [==============================] - 14s 68ms/step - loss: 0.0128 - val_loss: 0.0412\n",
            "Epoch 199/200\n",
            "200/200 [==============================] - 15s 75ms/step - loss: 0.0129 - val_loss: 0.0518\n",
            "Epoch 200/200\n",
            "200/200 [==============================] - 14s 68ms/step - loss: 0.0128 - val_loss: 0.0406\n"
          ]
        }
      ]
    },
    {
      "cell_type": "code",
      "source": [
        "del model"
      ],
      "metadata": {
        "id": "vnLnO2_uCwlY"
      },
      "execution_count": null,
      "outputs": []
    },
    {
      "cell_type": "markdown",
      "source": [
        "Calculate correct peaks and value that is not scaled back."
      ],
      "metadata": {
        "id": "FZl4Sv8fk64M"
      }
    },
    {
      "cell_type": "code",
      "source": [
        "model = tf.keras.models.load_model(\"drive/MyDrive/Engineer's Project/best_with_GRU2.h5\")"
      ],
      "metadata": {
        "id": "3nihIFVc7QW_"
      },
      "execution_count": null,
      "outputs": []
    },
    {
      "cell_type": "code",
      "source": [
        "model.summary()"
      ],
      "metadata": {
        "colab": {
          "base_uri": "https://localhost:8080/"
        },
        "id": "O-AhrnaQRmWv",
        "outputId": "d0da6add-45bc-4b9b-b426-237a0afe843e"
      },
      "execution_count": null,
      "outputs": [
        {
          "output_type": "stream",
          "name": "stdout",
          "text": [
            "Model: \"sequential_18\"\n",
            "_________________________________________________________________\n",
            " Layer (type)                Output Shape              Param #   \n",
            "=================================================================\n",
            " lstm_18 (LSTM)              (None, None, 120)         61440     \n",
            "                                                                 \n",
            " gru_17 (GRU)                (None, 5)                 1905      \n",
            "                                                                 \n",
            " dense_27 (Dense)            (None, 160)               960       \n",
            "                                                                 \n",
            " dense_28 (Dense)            (None, 1)                 161       \n",
            "                                                                 \n",
            "=================================================================\n",
            "Total params: 64,466\n",
            "Trainable params: 64,466\n",
            "Non-trainable params: 0\n",
            "_________________________________________________________________\n"
          ]
        }
      ]
    },
    {
      "cell_type": "code",
      "source": [
        "len(float_game_data)"
      ],
      "metadata": {
        "colab": {
          "base_uri": "https://localhost:8080/"
        },
        "id": "bnzcl5W3-FNI",
        "outputId": "0d685b82-38a6-4288-dbf2-1b1b33c192d8"
      },
      "execution_count": null,
      "outputs": [
        {
          "output_type": "execute_result",
          "data": {
            "text/plain": [
              "0"
            ]
          },
          "metadata": {},
          "execution_count": 64
        }
      ]
    },
    {
      "cell_type": "code",
      "source": [
        "correct_peaks1 = 0\n",
        "value1 = 0\n",
        "for i in range(0, 541):\n",
        "  last151 = float_train_data[-lookback:]\n",
        "  last151 = last151.reshape(1,15,7)\n",
        "  prediction1 = model.predict(last151)\n",
        "  last_val1 = last151[0][lookback-1][3]\n",
        "  actual_val1 = float_game_data[0][3]\n",
        "  if((prediction1 > last_val1) and (actual_val1 > last_val1)):\n",
        "    correct_peaks1+=1\n",
        "    value1 +=  100 *(actual_val1 - last_val1)\n",
        "  elif((prediction1 < last_val1) and (actual_val1 < last_val1)):\n",
        "    correct_peaks1+=1\n",
        "    value1 += 100 * (last_val1 - actual_val1)\n",
        "  else:\n",
        "    value1 -= 100 * abs(actual_val1 - last_val1)\n",
        "  float_train_data = np.vstack((float_train_data, float_game_data[0]))\n",
        "  float_game_data = np.delete(float_game_data, 0, 0)\n"
      ],
      "metadata": {
        "id": "3zrTHDND-pmZ"
      },
      "execution_count": null,
      "outputs": []
    },
    {
      "cell_type": "code",
      "source": [
        "correct_peaks1"
      ],
      "metadata": {
        "colab": {
          "base_uri": "https://localhost:8080/"
        },
        "id": "wRpTUU-YEV3i",
        "outputId": "3d732a8f-b653-42b8-cd3a-4e0a60310909"
      },
      "execution_count": null,
      "outputs": [
        {
          "output_type": "execute_result",
          "data": {
            "text/plain": [
              "274"
            ]
          },
          "metadata": {},
          "execution_count": 42
        }
      ]
    },
    {
      "cell_type": "code",
      "source": [
        "value1 * scaler.scale_[3]"
      ],
      "metadata": {
        "colab": {
          "base_uri": "https://localhost:8080/"
        },
        "id": "NPY19bMTkjdJ",
        "outputId": "6b748696-dae5-4507-fa05-69d9c0da3d69"
      },
      "execution_count": null,
      "outputs": [
        {
          "output_type": "execute_result",
          "data": {
            "text/plain": [
              "267.337342927077"
            ]
          },
          "metadata": {},
          "execution_count": 13
        }
      ]
    },
    {
      "cell_type": "code",
      "source": [
        "scaler.scale_ * value1"
      ],
      "metadata": {
        "colab": {
          "base_uri": "https://localhost:8080/"
        },
        "id": "cjyRoFAF8jnD",
        "outputId": "84754491-a5a6-4d87-b74c-b952a967277d"
      },
      "execution_count": null,
      "outputs": [
        {
          "output_type": "execute_result",
          "data": {
            "text/plain": [
              "array([2.62655469e+03, 2.56125347e+03, 2.68934384e+03, 2.62644947e+03,\n",
              "       9.49858034e+06, 1.56653898e+04, 2.64679502e+03])"
            ]
          },
          "metadata": {},
          "execution_count": 31
        }
      ]
    },
    {
      "cell_type": "code",
      "source": [
        "scaler.scale_"
      ],
      "metadata": {
        "colab": {
          "base_uri": "https://localhost:8080/"
        },
        "id": "EmJ5Tx0i8-Zf",
        "outputId": "94b38455-ed09-41da-fb9f-e5974e4fa9c9"
      },
      "execution_count": null,
      "outputs": [
        {
          "output_type": "execute_result",
          "data": {
            "text/plain": [
              "array([1.05629744e+00, 1.03003585e+00, 1.08154878e+00, 1.05625512e+00,\n",
              "       3.81995704e+03, 6.30000630e+00, 1.06443731e+00])"
            ]
          },
          "metadata": {},
          "execution_count": 32
        }
      ]
    },
    {
      "cell_type": "code",
      "source": [
        "def return_model():\n",
        "  model = tf.keras.models.Sequential()\n",
        "  model.add(layers.LSTM(120,\n",
        "    activation='sigmoid',\n",
        "    #dropout=0.1,\n",
        "    #recurrent_dropout=0.1,\n",
        "    return_sequences=True,\n",
        "    input_shape=(None, float_train_data.shape[-1])))\n",
        "  model.add(layers.GRU(5,\n",
        "    activation='sigmoid',\n",
        "    input_shape=(None, float_train_data.shape[-1])))\n",
        "  model.add(layers.Dense(160,\n",
        "    activation='sigmoid',))\n",
        "  model.add(layers.Dense(1,\n",
        "    activation='sigmoid'))\n",
        "  model.compile(optimizer= tf.keras.optimizers.RMSprop(0.01), loss='mae')\n",
        "  return model"
      ],
      "metadata": {
        "id": "Lt4U97bZlLUD"
      },
      "execution_count": null,
      "outputs": []
    },
    {
      "cell_type": "markdown",
      "source": [
        "version 2 creates model after lookback iterations"
      ],
      "metadata": {
        "id": "luJCXaQw6rN0"
      }
    },
    {
      "cell_type": "code",
      "source": [
        "del model"
      ],
      "metadata": {
        "id": "UYBtMyYoHYFM"
      },
      "execution_count": null,
      "outputs": []
    },
    {
      "cell_type": "code",
      "source": [
        "correct_peaks = 0\n",
        "value = 0\n",
        "for i in range(0, 541):##441\n",
        "  last15 = float_train_data[-lookback:]\n",
        "  last15 = last15.reshape(1,15,7)\n",
        "  prediction = model.predict(last15)\n",
        "  last_val = last15[0][lookback-1][3]\n",
        "  actual_val = float_game_data[0][3]\n",
        "  if((prediction > last_val) and (actual_val > last_val)):\n",
        "    correct_peaks+=1\n",
        "    value += 100 * (actual_val - last_val)\n",
        "  elif((prediction < last_val) and (actual_val < last_val)):\n",
        "    correct_peaks+=1\n",
        "    value += 100 * (last_val - actual_val)\n",
        "  else:\n",
        "    value -= 100 * abs(actual_val - last_val)\n",
        "  float_train_data = np.vstack((float_train_data, float_game_data[0]))\n",
        "  float_game_data = np.delete(float_game_data, 0, 0)\n",
        "\n",
        "  if i == 200:\n",
        "    del model\n",
        "    del train_gen\n",
        "    model = return_model()\n",
        "    train_gen = generator(float_train_data,\n",
        "      lookback=lookback,\n",
        "      delay=delay,\n",
        "      min_index=0,\n",
        "      max_index=len(float_train_data) - 1,\n",
        "      #shuffle=True,\n",
        "      step=step,\n",
        "      batch_size=batch_size)\n",
        "    model.fit(train_gen,\n",
        "      steps_per_epoch=200,\n",
        "      epochs=200,\n",
        "      validation_data=val_gen,\n",
        "      validation_steps=val_steps)\n",
        "  \n"
      ],
      "metadata": {
        "colab": {
          "base_uri": "https://localhost:8080/"
        },
        "id": "y6LHpciDlAii",
        "outputId": "97b14113-f683-44ff-8006-ec1e87c256f7"
      },
      "execution_count": null,
      "outputs": [
        {
          "output_type": "stream",
          "name": "stdout",
          "text": [
            "Epoch 1/200\n",
            "200/200 [==============================] - 13s 54ms/step - loss: 0.1703 - val_loss: 0.2248\n",
            "Epoch 2/200\n",
            "200/200 [==============================] - 11s 53ms/step - loss: 0.1493 - val_loss: 0.0752\n",
            "Epoch 3/200\n",
            "200/200 [==============================] - 11s 53ms/step - loss: 0.1103 - val_loss: 0.2105\n",
            "Epoch 4/200\n",
            "200/200 [==============================] - 10s 52ms/step - loss: 0.0968 - val_loss: 0.0644\n",
            "Epoch 5/200\n",
            "200/200 [==============================] - 11s 53ms/step - loss: 0.0882 - val_loss: 0.1925\n",
            "Epoch 6/200\n",
            "200/200 [==============================] - 11s 53ms/step - loss: 0.0814 - val_loss: 0.1310\n",
            "Epoch 7/200\n",
            "200/200 [==============================] - 12s 61ms/step - loss: 0.0722 - val_loss: 0.0712\n",
            "Epoch 8/200\n",
            "200/200 [==============================] - 11s 53ms/step - loss: 0.0644 - val_loss: 0.0735\n",
            "Epoch 9/200\n",
            "200/200 [==============================] - 11s 53ms/step - loss: 0.0611 - val_loss: 0.0576\n",
            "Epoch 10/200\n",
            "200/200 [==============================] - 12s 58ms/step - loss: 0.0581 - val_loss: 0.0632\n",
            "Epoch 11/200\n",
            "200/200 [==============================] - 11s 53ms/step - loss: 0.0554 - val_loss: 0.0534\n",
            "Epoch 12/200\n",
            "200/200 [==============================] - 11s 53ms/step - loss: 0.0495 - val_loss: 0.0776\n",
            "Epoch 13/200\n",
            "200/200 [==============================] - 11s 53ms/step - loss: 0.0443 - val_loss: 0.0550\n",
            "Epoch 14/200\n",
            "200/200 [==============================] - 11s 54ms/step - loss: 0.0405 - val_loss: 0.0277\n",
            "Epoch 15/200\n",
            "200/200 [==============================] - 11s 53ms/step - loss: 0.0375 - val_loss: 0.0196\n",
            "Epoch 16/200\n",
            "200/200 [==============================] - 11s 54ms/step - loss: 0.0362 - val_loss: 0.0326\n",
            "Epoch 17/200\n",
            "200/200 [==============================] - 11s 53ms/step - loss: 0.0329 - val_loss: 0.0452\n",
            "Epoch 18/200\n",
            "200/200 [==============================] - 11s 53ms/step - loss: 0.0306 - val_loss: 0.0367\n",
            "Epoch 19/200\n",
            "200/200 [==============================] - 11s 54ms/step - loss: 0.0300 - val_loss: 0.0295\n",
            "Epoch 20/200\n",
            "200/200 [==============================] - 11s 54ms/step - loss: 0.0291 - val_loss: 0.0412\n",
            "Epoch 21/200\n",
            "200/200 [==============================] - 11s 53ms/step - loss: 0.0284 - val_loss: 0.0147\n",
            "Epoch 22/200\n",
            "200/200 [==============================] - 11s 53ms/step - loss: 0.0276 - val_loss: 0.0141\n",
            "Epoch 23/200\n",
            "200/200 [==============================] - 11s 53ms/step - loss: 0.0273 - val_loss: 0.0363\n",
            "Epoch 24/200\n",
            "200/200 [==============================] - 11s 53ms/step - loss: 0.0267 - val_loss: 0.0150\n",
            "Epoch 25/200\n",
            "200/200 [==============================] - 11s 53ms/step - loss: 0.0263 - val_loss: 0.0188\n",
            "Epoch 26/200\n",
            "200/200 [==============================] - 11s 53ms/step - loss: 0.0253 - val_loss: 0.0285\n",
            "Epoch 27/200\n",
            "200/200 [==============================] - 11s 53ms/step - loss: 0.0250 - val_loss: 0.0143\n",
            "Epoch 28/200\n",
            "200/200 [==============================] - 13s 63ms/step - loss: 0.0247 - val_loss: 0.0217\n",
            "Epoch 29/200\n",
            "200/200 [==============================] - 11s 53ms/step - loss: 0.0240 - val_loss: 0.0127\n",
            "Epoch 30/200\n",
            "200/200 [==============================] - 11s 54ms/step - loss: 0.0238 - val_loss: 0.0321\n",
            "Epoch 31/200\n",
            "200/200 [==============================] - 11s 54ms/step - loss: 0.0232 - val_loss: 0.0147\n",
            "Epoch 32/200\n",
            "200/200 [==============================] - 11s 54ms/step - loss: 0.0228 - val_loss: 0.0149\n",
            "Epoch 33/200\n",
            "200/200 [==============================] - 11s 54ms/step - loss: 0.0222 - val_loss: 0.0294\n",
            "Epoch 34/200\n",
            "200/200 [==============================] - 11s 54ms/step - loss: 0.0218 - val_loss: 0.0267\n",
            "Epoch 35/200\n",
            "200/200 [==============================] - 11s 54ms/step - loss: 0.0218 - val_loss: 0.0189\n",
            "Epoch 36/200\n",
            "200/200 [==============================] - 11s 55ms/step - loss: 0.0213 - val_loss: 0.0204\n",
            "Epoch 37/200\n",
            "200/200 [==============================] - 11s 55ms/step - loss: 0.0216 - val_loss: 0.0210\n",
            "Epoch 38/200\n",
            "200/200 [==============================] - 11s 54ms/step - loss: 0.0211 - val_loss: 0.0174\n",
            "Epoch 39/200\n",
            "200/200 [==============================] - 11s 54ms/step - loss: 0.0208 - val_loss: 0.0156\n",
            "Epoch 40/200\n",
            "200/200 [==============================] - 11s 54ms/step - loss: 0.0207 - val_loss: 0.0204\n",
            "Epoch 41/200\n",
            "200/200 [==============================] - 11s 55ms/step - loss: 0.0205 - val_loss: 0.0403\n",
            "Epoch 42/200\n",
            "200/200 [==============================] - 11s 54ms/step - loss: 0.0202 - val_loss: 0.0212\n",
            "Epoch 43/200\n",
            "200/200 [==============================] - 11s 54ms/step - loss: 0.0199 - val_loss: 0.0279\n",
            "Epoch 44/200\n",
            "200/200 [==============================] - 11s 54ms/step - loss: 0.0196 - val_loss: 0.0187\n",
            "Epoch 45/200\n",
            "200/200 [==============================] - 11s 54ms/step - loss: 0.0198 - val_loss: 0.0170\n",
            "Epoch 46/200\n",
            "200/200 [==============================] - 11s 53ms/step - loss: 0.0192 - val_loss: 0.0213\n",
            "Epoch 47/200\n",
            "200/200 [==============================] - 11s 54ms/step - loss: 0.0195 - val_loss: 0.0170\n",
            "Epoch 48/200\n",
            "200/200 [==============================] - 11s 54ms/step - loss: 0.0193 - val_loss: 0.0175\n",
            "Epoch 49/200\n",
            "200/200 [==============================] - 12s 62ms/step - loss: 0.0192 - val_loss: 0.0161\n",
            "Epoch 50/200\n",
            "200/200 [==============================] - 11s 53ms/step - loss: 0.0189 - val_loss: 0.0232\n",
            "Epoch 51/200\n",
            "200/200 [==============================] - 11s 54ms/step - loss: 0.0190 - val_loss: 0.0176\n",
            "Epoch 52/200\n",
            "200/200 [==============================] - 11s 54ms/step - loss: 0.0187 - val_loss: 0.0146\n",
            "Epoch 53/200\n",
            "200/200 [==============================] - 11s 54ms/step - loss: 0.0185 - val_loss: 0.0200\n",
            "Epoch 54/200\n",
            "200/200 [==============================] - 11s 54ms/step - loss: 0.0184 - val_loss: 0.0193\n",
            "Epoch 55/200\n",
            "200/200 [==============================] - 11s 54ms/step - loss: 0.0181 - val_loss: 0.0207\n",
            "Epoch 56/200\n",
            "200/200 [==============================] - 11s 54ms/step - loss: 0.0181 - val_loss: 0.0166\n",
            "Epoch 57/200\n",
            "200/200 [==============================] - 11s 54ms/step - loss: 0.0178 - val_loss: 0.0199\n",
            "Epoch 58/200\n",
            "200/200 [==============================] - 11s 54ms/step - loss: 0.0179 - val_loss: 0.0154\n",
            "Epoch 59/200\n",
            "200/200 [==============================] - 11s 54ms/step - loss: 0.0174 - val_loss: 0.0188\n",
            "Epoch 60/200\n",
            "200/200 [==============================] - 11s 54ms/step - loss: 0.0174 - val_loss: 0.0303\n",
            "Epoch 61/200\n",
            "200/200 [==============================] - 11s 54ms/step - loss: 0.0177 - val_loss: 0.0197\n",
            "Epoch 62/200\n",
            "200/200 [==============================] - 11s 54ms/step - loss: 0.0173 - val_loss: 0.0293\n",
            "Epoch 63/200\n",
            "200/200 [==============================] - 11s 54ms/step - loss: 0.0173 - val_loss: 0.0240\n",
            "Epoch 64/200\n",
            "200/200 [==============================] - 11s 54ms/step - loss: 0.0170 - val_loss: 0.0185\n",
            "Epoch 65/200\n",
            "200/200 [==============================] - 11s 54ms/step - loss: 0.0169 - val_loss: 0.0285\n",
            "Epoch 66/200\n",
            "200/200 [==============================] - 11s 54ms/step - loss: 0.0167 - val_loss: 0.0138\n",
            "Epoch 67/200\n",
            "200/200 [==============================] - 11s 54ms/step - loss: 0.0168 - val_loss: 0.0161\n",
            "Epoch 68/200\n",
            "200/200 [==============================] - 11s 54ms/step - loss: 0.0166 - val_loss: 0.0172\n",
            "Epoch 69/200\n",
            "200/200 [==============================] - 13s 63ms/step - loss: 0.0164 - val_loss: 0.0171\n",
            "Epoch 70/200\n",
            "200/200 [==============================] - 11s 54ms/step - loss: 0.0164 - val_loss: 0.0153\n",
            "Epoch 71/200\n",
            "200/200 [==============================] - 11s 54ms/step - loss: 0.0162 - val_loss: 0.0162\n",
            "Epoch 72/200\n",
            "200/200 [==============================] - 11s 54ms/step - loss: 0.0161 - val_loss: 0.0171\n",
            "Epoch 73/200\n",
            "200/200 [==============================] - 11s 54ms/step - loss: 0.0161 - val_loss: 0.0171\n",
            "Epoch 74/200\n",
            "200/200 [==============================] - 11s 53ms/step - loss: 0.0158 - val_loss: 0.0160\n",
            "Epoch 75/200\n",
            "200/200 [==============================] - 11s 54ms/step - loss: 0.0157 - val_loss: 0.0172\n",
            "Epoch 76/200\n",
            "200/200 [==============================] - 11s 54ms/step - loss: 0.0156 - val_loss: 0.0156\n",
            "Epoch 77/200\n",
            "200/200 [==============================] - 11s 54ms/step - loss: 0.0154 - val_loss: 0.0220\n",
            "Epoch 78/200\n",
            "200/200 [==============================] - 11s 54ms/step - loss: 0.0154 - val_loss: 0.0151\n",
            "Epoch 79/200\n",
            "200/200 [==============================] - 11s 53ms/step - loss: 0.0152 - val_loss: 0.0171\n",
            "Epoch 80/200\n",
            "200/200 [==============================] - 11s 54ms/step - loss: 0.0151 - val_loss: 0.0156\n",
            "Epoch 81/200\n",
            "200/200 [==============================] - 11s 54ms/step - loss: 0.0151 - val_loss: 0.0186\n",
            "Epoch 82/200\n",
            "200/200 [==============================] - 11s 53ms/step - loss: 0.0149 - val_loss: 0.0171\n",
            "Epoch 83/200\n",
            "200/200 [==============================] - 11s 54ms/step - loss: 0.0148 - val_loss: 0.0279\n",
            "Epoch 84/200\n",
            "200/200 [==============================] - 11s 54ms/step - loss: 0.0147 - val_loss: 0.0149\n",
            "Epoch 85/200\n",
            "200/200 [==============================] - 11s 54ms/step - loss: 0.0147 - val_loss: 0.0188\n",
            "Epoch 86/200\n",
            "200/200 [==============================] - 11s 54ms/step - loss: 0.0146 - val_loss: 0.0211\n",
            "Epoch 87/200\n",
            "200/200 [==============================] - 11s 54ms/step - loss: 0.0148 - val_loss: 0.0158\n",
            "Epoch 88/200\n",
            "200/200 [==============================] - 11s 54ms/step - loss: 0.0146 - val_loss: 0.0167\n",
            "Epoch 89/200\n",
            "200/200 [==============================] - 11s 54ms/step - loss: 0.0146 - val_loss: 0.0180\n",
            "Epoch 90/200\n",
            "200/200 [==============================] - 13s 63ms/step - loss: 0.0147 - val_loss: 0.0163\n",
            "Epoch 91/200\n",
            "200/200 [==============================] - 11s 54ms/step - loss: 0.0145 - val_loss: 0.0178\n",
            "Epoch 92/200\n",
            "200/200 [==============================] - 11s 54ms/step - loss: 0.0143 - val_loss: 0.0168\n",
            "Epoch 93/200\n",
            "200/200 [==============================] - 11s 54ms/step - loss: 0.0144 - val_loss: 0.0187\n",
            "Epoch 94/200\n",
            "200/200 [==============================] - 11s 54ms/step - loss: 0.0143 - val_loss: 0.0178\n",
            "Epoch 95/200\n",
            "200/200 [==============================] - 11s 54ms/step - loss: 0.0142 - val_loss: 0.0168\n",
            "Epoch 96/200\n",
            "200/200 [==============================] - 11s 54ms/step - loss: 0.0142 - val_loss: 0.0190\n",
            "Epoch 97/200\n",
            "200/200 [==============================] - 11s 54ms/step - loss: 0.0138 - val_loss: 0.0221\n",
            "Epoch 98/200\n",
            "200/200 [==============================] - 11s 54ms/step - loss: 0.0139 - val_loss: 0.0239\n",
            "Epoch 99/200\n",
            "200/200 [==============================] - 11s 54ms/step - loss: 0.0138 - val_loss: 0.0222\n",
            "Epoch 100/200\n",
            "200/200 [==============================] - 11s 54ms/step - loss: 0.0137 - val_loss: 0.0213\n",
            "Epoch 101/200\n",
            "200/200 [==============================] - 11s 54ms/step - loss: 0.0135 - val_loss: 0.0294\n",
            "Epoch 102/200\n",
            "200/200 [==============================] - 11s 54ms/step - loss: 0.0135 - val_loss: 0.0245\n",
            "Epoch 103/200\n",
            "200/200 [==============================] - 11s 54ms/step - loss: 0.0136 - val_loss: 0.0171\n",
            "Epoch 104/200\n",
            "200/200 [==============================] - 11s 54ms/step - loss: 0.0134 - val_loss: 0.0247\n",
            "Epoch 105/200\n",
            "200/200 [==============================] - 11s 55ms/step - loss: 0.0132 - val_loss: 0.0211\n",
            "Epoch 106/200\n",
            "200/200 [==============================] - 11s 54ms/step - loss: 0.0131 - val_loss: 0.0227\n",
            "Epoch 107/200\n",
            "200/200 [==============================] - 11s 54ms/step - loss: 0.0130 - val_loss: 0.0204\n",
            "Epoch 108/200\n",
            "200/200 [==============================] - 11s 54ms/step - loss: 0.0129 - val_loss: 0.0249\n",
            "Epoch 109/200\n",
            "200/200 [==============================] - 11s 54ms/step - loss: 0.0130 - val_loss: 0.0190\n",
            "Epoch 110/200\n",
            "200/200 [==============================] - 11s 56ms/step - loss: 0.0128 - val_loss: 0.0196\n",
            "Epoch 111/200\n",
            "200/200 [==============================] - 12s 61ms/step - loss: 0.0127 - val_loss: 0.0282\n",
            "Epoch 112/200\n",
            "200/200 [==============================] - 11s 54ms/step - loss: 0.0128 - val_loss: 0.0228\n",
            "Epoch 113/200\n",
            "200/200 [==============================] - 11s 54ms/step - loss: 0.0126 - val_loss: 0.0237\n",
            "Epoch 114/200\n",
            "200/200 [==============================] - 11s 55ms/step - loss: 0.0125 - val_loss: 0.0190\n",
            "Epoch 115/200\n",
            "200/200 [==============================] - 11s 55ms/step - loss: 0.0124 - val_loss: 0.0188\n",
            "Epoch 116/200\n",
            "200/200 [==============================] - 11s 55ms/step - loss: 0.0124 - val_loss: 0.0179\n",
            "Epoch 117/200\n",
            "200/200 [==============================] - 11s 55ms/step - loss: 0.0124 - val_loss: 0.0186\n",
            "Epoch 118/200\n",
            "200/200 [==============================] - 11s 54ms/step - loss: 0.0122 - val_loss: 0.0194\n",
            "Epoch 119/200\n",
            "200/200 [==============================] - 11s 55ms/step - loss: 0.0123 - val_loss: 0.0183\n",
            "Epoch 120/200\n",
            "200/200 [==============================] - 11s 55ms/step - loss: 0.0122 - val_loss: 0.0236\n",
            "Epoch 121/200\n",
            "200/200 [==============================] - 11s 55ms/step - loss: 0.0121 - val_loss: 0.0207\n",
            "Epoch 122/200\n",
            "200/200 [==============================] - 11s 56ms/step - loss: 0.0121 - val_loss: 0.0202\n",
            "Epoch 123/200\n",
            "200/200 [==============================] - 11s 56ms/step - loss: 0.0120 - val_loss: 0.0206\n",
            "Epoch 124/200\n",
            "200/200 [==============================] - 11s 57ms/step - loss: 0.0120 - val_loss: 0.0189\n",
            "Epoch 125/200\n",
            "200/200 [==============================] - 11s 57ms/step - loss: 0.0118 - val_loss: 0.0200\n",
            "Epoch 126/200\n",
            "200/200 [==============================] - 11s 57ms/step - loss: 0.0118 - val_loss: 0.0179\n",
            "Epoch 127/200\n",
            "200/200 [==============================] - 11s 57ms/step - loss: 0.0116 - val_loss: 0.0188\n",
            "Epoch 128/200\n",
            "200/200 [==============================] - 11s 56ms/step - loss: 0.0118 - val_loss: 0.0225\n",
            "Epoch 129/200\n",
            "200/200 [==============================] - 11s 56ms/step - loss: 0.0117 - val_loss: 0.0224\n",
            "Epoch 130/200\n",
            "200/200 [==============================] - 12s 58ms/step - loss: 0.0117 - val_loss: 0.0253\n",
            "Epoch 131/200\n",
            "200/200 [==============================] - 12s 62ms/step - loss: 0.0115 - val_loss: 0.0214\n",
            "Epoch 132/200\n",
            "200/200 [==============================] - 11s 55ms/step - loss: 0.0115 - val_loss: 0.0229\n",
            "Epoch 133/200\n",
            "200/200 [==============================] - 11s 55ms/step - loss: 0.0114 - val_loss: 0.0231\n",
            "Epoch 134/200\n",
            "200/200 [==============================] - 11s 56ms/step - loss: 0.0114 - val_loss: 0.0207\n",
            "Epoch 135/200\n",
            "200/200 [==============================] - 11s 56ms/step - loss: 0.0113 - val_loss: 0.0212\n",
            "Epoch 136/200\n",
            "200/200 [==============================] - 11s 56ms/step - loss: 0.0112 - val_loss: 0.0231\n",
            "Epoch 137/200\n",
            "200/200 [==============================] - 11s 57ms/step - loss: 0.0113 - val_loss: 0.0202\n",
            "Epoch 138/200\n",
            "200/200 [==============================] - 11s 57ms/step - loss: 0.0111 - val_loss: 0.0176\n",
            "Epoch 139/200\n",
            "200/200 [==============================] - 11s 56ms/step - loss: 0.0111 - val_loss: 0.0180\n",
            "Epoch 140/200\n",
            "200/200 [==============================] - 11s 56ms/step - loss: 0.0112 - val_loss: 0.0185\n",
            "Epoch 141/200\n",
            "200/200 [==============================] - 11s 56ms/step - loss: 0.0111 - val_loss: 0.0181\n",
            "Epoch 142/200\n",
            "200/200 [==============================] - 11s 56ms/step - loss: 0.0110 - val_loss: 0.0193\n",
            "Epoch 143/200\n",
            "200/200 [==============================] - 11s 56ms/step - loss: 0.0110 - val_loss: 0.0237\n",
            "Epoch 144/200\n",
            "200/200 [==============================] - 11s 55ms/step - loss: 0.0109 - val_loss: 0.0197\n",
            "Epoch 145/200\n",
            "200/200 [==============================] - 11s 56ms/step - loss: 0.0108 - val_loss: 0.0208\n",
            "Epoch 146/200\n",
            "200/200 [==============================] - 11s 56ms/step - loss: 0.0110 - val_loss: 0.0225\n",
            "Epoch 147/200\n",
            "200/200 [==============================] - 11s 56ms/step - loss: 0.0111 - val_loss: 0.0187\n",
            "Epoch 148/200\n",
            "200/200 [==============================] - 11s 56ms/step - loss: 0.0108 - val_loss: 0.0191\n",
            "Epoch 149/200\n",
            "200/200 [==============================] - 11s 56ms/step - loss: 0.0108 - val_loss: 0.0260\n",
            "Epoch 150/200\n",
            "200/200 [==============================] - 13s 64ms/step - loss: 0.0107 - val_loss: 0.0248\n",
            "Epoch 151/200\n",
            "200/200 [==============================] - 11s 56ms/step - loss: 0.0108 - val_loss: 0.0223\n",
            "Epoch 152/200\n",
            "200/200 [==============================] - 11s 56ms/step - loss: 0.0107 - val_loss: 0.0214\n",
            "Epoch 153/200\n",
            "200/200 [==============================] - 11s 56ms/step - loss: 0.0107 - val_loss: 0.0206\n",
            "Epoch 154/200\n",
            "200/200 [==============================] - 11s 56ms/step - loss: 0.0105 - val_loss: 0.0232\n",
            "Epoch 155/200\n",
            "200/200 [==============================] - 11s 56ms/step - loss: 0.0105 - val_loss: 0.0240\n",
            "Epoch 156/200\n",
            "200/200 [==============================] - 11s 58ms/step - loss: 0.0105 - val_loss: 0.0264\n",
            "Epoch 157/200\n",
            "200/200 [==============================] - 11s 57ms/step - loss: 0.0105 - val_loss: 0.0193\n",
            "Epoch 158/200\n",
            "200/200 [==============================] - 12s 59ms/step - loss: 0.0105 - val_loss: 0.0196\n",
            "Epoch 159/200\n",
            "200/200 [==============================] - 12s 59ms/step - loss: 0.0105 - val_loss: 0.0239\n",
            "Epoch 160/200\n",
            "200/200 [==============================] - 11s 57ms/step - loss: 0.0103 - val_loss: 0.0195\n",
            "Epoch 161/200\n",
            "200/200 [==============================] - 11s 57ms/step - loss: 0.0106 - val_loss: 0.0226\n",
            "Epoch 162/200\n",
            "200/200 [==============================] - 11s 57ms/step - loss: 0.0105 - val_loss: 0.0250\n",
            "Epoch 163/200\n",
            "200/200 [==============================] - 11s 57ms/step - loss: 0.0105 - val_loss: 0.0273\n",
            "Epoch 164/200\n",
            "200/200 [==============================] - 11s 57ms/step - loss: 0.0107 - val_loss: 0.0247\n",
            "Epoch 165/200\n",
            "200/200 [==============================] - 11s 57ms/step - loss: 0.0103 - val_loss: 0.0201\n",
            "Epoch 166/200\n",
            "200/200 [==============================] - 11s 57ms/step - loss: 0.0104 - val_loss: 0.0199\n",
            "Epoch 167/200\n",
            "200/200 [==============================] - 11s 57ms/step - loss: 0.0103 - val_loss: 0.0203\n",
            "Epoch 168/200\n",
            "200/200 [==============================] - 12s 58ms/step - loss: 0.0103 - val_loss: 0.0279\n",
            "Epoch 169/200\n",
            "200/200 [==============================] - 12s 58ms/step - loss: 0.0101 - val_loss: 0.0251\n",
            "Epoch 170/200\n",
            "200/200 [==============================] - 13s 66ms/step - loss: 0.0102 - val_loss: 0.0278\n",
            "Epoch 171/200\n",
            "200/200 [==============================] - 11s 57ms/step - loss: 0.0102 - val_loss: 0.0203\n",
            "Epoch 172/200\n",
            "200/200 [==============================] - 11s 57ms/step - loss: 0.0099 - val_loss: 0.0376\n",
            "Epoch 173/200\n",
            "200/200 [==============================] - 11s 56ms/step - loss: 0.0102 - val_loss: 0.0228\n",
            "Epoch 174/200\n",
            "200/200 [==============================] - 11s 56ms/step - loss: 0.0099 - val_loss: 0.0206\n",
            "Epoch 175/200\n",
            "200/200 [==============================] - 11s 56ms/step - loss: 0.0099 - val_loss: 0.0237\n",
            "Epoch 176/200\n",
            "200/200 [==============================] - 11s 56ms/step - loss: 0.0099 - val_loss: 0.0205\n",
            "Epoch 177/200\n",
            "200/200 [==============================] - 11s 57ms/step - loss: 0.0099 - val_loss: 0.0200\n",
            "Epoch 178/200\n",
            "200/200 [==============================] - 11s 57ms/step - loss: 0.0099 - val_loss: 0.0246\n",
            "Epoch 179/200\n",
            "200/200 [==============================] - 11s 57ms/step - loss: 0.0098 - val_loss: 0.0188\n",
            "Epoch 180/200\n",
            "200/200 [==============================] - 11s 56ms/step - loss: 0.0099 - val_loss: 0.0245\n",
            "Epoch 181/200\n",
            "200/200 [==============================] - 11s 56ms/step - loss: 0.0096 - val_loss: 0.0234\n",
            "Epoch 182/200\n",
            "200/200 [==============================] - 11s 56ms/step - loss: 0.0096 - val_loss: 0.0264\n",
            "Epoch 183/200\n",
            "200/200 [==============================] - 11s 56ms/step - loss: 0.0098 - val_loss: 0.0186\n",
            "Epoch 184/200\n",
            "200/200 [==============================] - 11s 56ms/step - loss: 0.0096 - val_loss: 0.0260\n",
            "Epoch 185/200\n",
            "200/200 [==============================] - 11s 56ms/step - loss: 0.0096 - val_loss: 0.0222\n",
            "Epoch 186/200\n",
            "200/200 [==============================] - 11s 56ms/step - loss: 0.0095 - val_loss: 0.0205\n",
            "Epoch 187/200\n",
            "200/200 [==============================] - 11s 57ms/step - loss: 0.0097 - val_loss: 0.0183\n",
            "Epoch 188/200\n",
            "200/200 [==============================] - 11s 56ms/step - loss: 0.0091 - val_loss: 0.0198\n",
            "Epoch 189/200\n",
            "200/200 [==============================] - 13s 64ms/step - loss: 0.0095 - val_loss: 0.0292\n",
            "Epoch 190/200\n",
            "200/200 [==============================] - 11s 56ms/step - loss: 0.0094 - val_loss: 0.0209\n",
            "Epoch 191/200\n",
            "200/200 [==============================] - 11s 56ms/step - loss: 0.0092 - val_loss: 0.0329\n",
            "Epoch 192/200\n",
            "200/200 [==============================] - 11s 56ms/step - loss: 0.0093 - val_loss: 0.0218\n",
            "Epoch 193/200\n",
            "200/200 [==============================] - 11s 56ms/step - loss: 0.0093 - val_loss: 0.0185\n",
            "Epoch 194/200\n",
            "200/200 [==============================] - 11s 56ms/step - loss: 0.0092 - val_loss: 0.0228\n",
            "Epoch 195/200\n",
            "200/200 [==============================] - 11s 56ms/step - loss: 0.0094 - val_loss: 0.0221\n",
            "Epoch 196/200\n",
            "200/200 [==============================] - 11s 56ms/step - loss: 0.0093 - val_loss: 0.0256\n",
            "Epoch 197/200\n",
            "200/200 [==============================] - 11s 56ms/step - loss: 0.0091 - val_loss: 0.0196\n",
            "Epoch 198/200\n",
            "200/200 [==============================] - 11s 56ms/step - loss: 0.0090 - val_loss: 0.0240\n",
            "Epoch 199/200\n",
            "200/200 [==============================] - 11s 56ms/step - loss: 0.0091 - val_loss: 0.0260\n",
            "Epoch 200/200\n",
            "200/200 [==============================] - 11s 56ms/step - loss: 0.0090 - val_loss: 0.0249\n"
          ]
        }
      ]
    },
    {
      "cell_type": "code",
      "source": [
        "correct_peaks"
      ],
      "metadata": {
        "colab": {
          "base_uri": "https://localhost:8080/"
        },
        "id": "HVBQVYk_xLB0",
        "outputId": "8bbad490-98a5-47db-a140-e348a3df9330"
      },
      "execution_count": null,
      "outputs": [
        {
          "output_type": "execute_result",
          "data": {
            "text/plain": [
              "315"
            ]
          },
          "metadata": {},
          "execution_count": 18
        }
      ]
    },
    {
      "cell_type": "code",
      "source": [
        "value * scaler.scale_[3]"
      ],
      "metadata": {
        "colab": {
          "base_uri": "https://localhost:8080/"
        },
        "id": "umMTLiE4xP-Z",
        "outputId": "710c2254-c66c-412d-8a25-bfc5a3574701"
      },
      "execution_count": null,
      "outputs": [
        {
          "output_type": "execute_result",
          "data": {
            "text/plain": [
              "124.77533439076119"
            ]
          },
          "metadata": {},
          "execution_count": 19
        }
      ]
    },
    {
      "cell_type": "code",
      "source": [
        "skonczyl sie float_game_data - nie ma punktow"
      ],
      "metadata": {
        "id": "5x4dEjx69p5d"
      },
      "execution_count": null,
      "outputs": []
    },
    {
      "cell_type": "code",
      "source": [
        "correct_peaks = 0\n",
        "value = 0\n",
        "for i in range(0, 541):##441\n",
        "  last15 = float_train_data[-lookback:]\n",
        "  last15 = last15.reshape(1,15,7)\n",
        "  prediction = model.predict(last15)\n",
        "  last_val = last15[0][lookback-1][3]\n",
        "  actual_val = float_game_data[0][3]\n",
        "  if((prediction > last_val) and (actual_val > last_val)):\n",
        "    correct_peaks+=1\n",
        "    value += 100 * (actual_val - last_val)\n",
        "  elif((prediction < last_val) and (actual_val < last_val)):\n",
        "    correct_peaks+=1\n",
        "    value += 100 * (last_val - actual_val)\n",
        "  else:\n",
        "    value -= 100 * abs(actual_val - last_val)\n",
        "  float_train_data = np.vstack((float_train_data, float_game_data[0]))\n",
        "  float_game_data = np.delete(float_game_data, 0, 0)\n",
        "  del train_gen2\n",
        "  train_gen2 = generator(float_train_data[-lookback-2:],\n",
        "      lookback=lookback,\n",
        "      delay=delay,\n",
        "      min_index=0,\n",
        "      max_index=len(float_train_data[-lookback-2:]) - 1,\n",
        "      #shuffle=True,\n",
        "      step=step,\n",
        "      batch_size=batch_size)\n",
        "\n",
        "  model.fit(train_gen2)\n"
      ],
      "metadata": {
        "colab": {
          "base_uri": "https://localhost:8080/",
          "height": 372
        },
        "id": "SvTFE8kRxQ3p",
        "outputId": "df7ad70d-9d50-4df8-c36f-11dd113a6a66"
      },
      "execution_count": null,
      "outputs": [
        {
          "output_type": "stream",
          "name": "stdout",
          "text": [
            "    743/Unknown - 12s 16ms/step - loss: 0.0032"
          ]
        },
        {
          "output_type": "error",
          "ename": "KeyboardInterrupt",
          "evalue": "ignored",
          "traceback": [
            "\u001b[0;31m---------------------------------------------------------------------------\u001b[0m",
            "\u001b[0;31mKeyboardInterrupt\u001b[0m                         Traceback (most recent call last)",
            "\u001b[0;32m<ipython-input-124-d0cd623846fa>\u001b[0m in \u001b[0;36m<module>\u001b[0;34m\u001b[0m\n\u001b[1;32m     27\u001b[0m       batch_size=batch_size)\n\u001b[1;32m     28\u001b[0m \u001b[0;34m\u001b[0m\u001b[0m\n\u001b[0;32m---> 29\u001b[0;31m   \u001b[0mmodel\u001b[0m\u001b[0;34m.\u001b[0m\u001b[0mfit\u001b[0m\u001b[0;34m(\u001b[0m\u001b[0mtrain_gen2\u001b[0m\u001b[0;34m)\u001b[0m\u001b[0;34m\u001b[0m\u001b[0;34m\u001b[0m\u001b[0m\n\u001b[0m",
            "\u001b[0;32m/usr/local/lib/python3.7/dist-packages/keras/utils/traceback_utils.py\u001b[0m in \u001b[0;36merror_handler\u001b[0;34m(*args, **kwargs)\u001b[0m\n\u001b[1;32m     62\u001b[0m     \u001b[0mfiltered_tb\u001b[0m \u001b[0;34m=\u001b[0m \u001b[0;32mNone\u001b[0m\u001b[0;34m\u001b[0m\u001b[0;34m\u001b[0m\u001b[0m\n\u001b[1;32m     63\u001b[0m     \u001b[0;32mtry\u001b[0m\u001b[0;34m:\u001b[0m\u001b[0;34m\u001b[0m\u001b[0;34m\u001b[0m\u001b[0m\n\u001b[0;32m---> 64\u001b[0;31m       \u001b[0;32mreturn\u001b[0m \u001b[0mfn\u001b[0m\u001b[0;34m(\u001b[0m\u001b[0;34m*\u001b[0m\u001b[0margs\u001b[0m\u001b[0;34m,\u001b[0m \u001b[0;34m**\u001b[0m\u001b[0mkwargs\u001b[0m\u001b[0;34m)\u001b[0m\u001b[0;34m\u001b[0m\u001b[0;34m\u001b[0m\u001b[0m\n\u001b[0m\u001b[1;32m     65\u001b[0m     \u001b[0;32mexcept\u001b[0m \u001b[0mException\u001b[0m \u001b[0;32mas\u001b[0m \u001b[0me\u001b[0m\u001b[0;34m:\u001b[0m  \u001b[0;31m# pylint: disable=broad-except\u001b[0m\u001b[0;34m\u001b[0m\u001b[0;34m\u001b[0m\u001b[0m\n\u001b[1;32m     66\u001b[0m       \u001b[0mfiltered_tb\u001b[0m \u001b[0;34m=\u001b[0m \u001b[0m_process_traceback_frames\u001b[0m\u001b[0;34m(\u001b[0m\u001b[0me\u001b[0m\u001b[0;34m.\u001b[0m\u001b[0m__traceback__\u001b[0m\u001b[0;34m)\u001b[0m\u001b[0;34m\u001b[0m\u001b[0;34m\u001b[0m\u001b[0m\n",
            "\u001b[0;32m/usr/local/lib/python3.7/dist-packages/keras/engine/training.py\u001b[0m in \u001b[0;36mfit\u001b[0;34m(self, x, y, batch_size, epochs, verbose, callbacks, validation_split, validation_data, shuffle, class_weight, sample_weight, initial_epoch, steps_per_epoch, validation_steps, validation_batch_size, validation_freq, max_queue_size, workers, use_multiprocessing)\u001b[0m\n\u001b[1;32m   1382\u001b[0m                 _r=1):\n\u001b[1;32m   1383\u001b[0m               \u001b[0mcallbacks\u001b[0m\u001b[0;34m.\u001b[0m\u001b[0mon_train_batch_begin\u001b[0m\u001b[0;34m(\u001b[0m\u001b[0mstep\u001b[0m\u001b[0;34m)\u001b[0m\u001b[0;34m\u001b[0m\u001b[0;34m\u001b[0m\u001b[0m\n\u001b[0;32m-> 1384\u001b[0;31m               \u001b[0mtmp_logs\u001b[0m \u001b[0;34m=\u001b[0m \u001b[0mself\u001b[0m\u001b[0;34m.\u001b[0m\u001b[0mtrain_function\u001b[0m\u001b[0;34m(\u001b[0m\u001b[0miterator\u001b[0m\u001b[0;34m)\u001b[0m\u001b[0;34m\u001b[0m\u001b[0;34m\u001b[0m\u001b[0m\n\u001b[0m\u001b[1;32m   1385\u001b[0m               \u001b[0;32mif\u001b[0m \u001b[0mdata_handler\u001b[0m\u001b[0;34m.\u001b[0m\u001b[0mshould_sync\u001b[0m\u001b[0;34m:\u001b[0m\u001b[0;34m\u001b[0m\u001b[0;34m\u001b[0m\u001b[0m\n\u001b[1;32m   1386\u001b[0m                 \u001b[0mcontext\u001b[0m\u001b[0;34m.\u001b[0m\u001b[0masync_wait\u001b[0m\u001b[0;34m(\u001b[0m\u001b[0;34m)\u001b[0m\u001b[0;34m\u001b[0m\u001b[0;34m\u001b[0m\u001b[0m\n",
            "\u001b[0;32m/usr/local/lib/python3.7/dist-packages/tensorflow/python/util/traceback_utils.py\u001b[0m in \u001b[0;36merror_handler\u001b[0;34m(*args, **kwargs)\u001b[0m\n\u001b[1;32m    148\u001b[0m     \u001b[0mfiltered_tb\u001b[0m \u001b[0;34m=\u001b[0m \u001b[0;32mNone\u001b[0m\u001b[0;34m\u001b[0m\u001b[0;34m\u001b[0m\u001b[0m\n\u001b[1;32m    149\u001b[0m     \u001b[0;32mtry\u001b[0m\u001b[0;34m:\u001b[0m\u001b[0;34m\u001b[0m\u001b[0;34m\u001b[0m\u001b[0m\n\u001b[0;32m--> 150\u001b[0;31m       \u001b[0;32mreturn\u001b[0m \u001b[0mfn\u001b[0m\u001b[0;34m(\u001b[0m\u001b[0;34m*\u001b[0m\u001b[0margs\u001b[0m\u001b[0;34m,\u001b[0m \u001b[0;34m**\u001b[0m\u001b[0mkwargs\u001b[0m\u001b[0;34m)\u001b[0m\u001b[0;34m\u001b[0m\u001b[0;34m\u001b[0m\u001b[0m\n\u001b[0m\u001b[1;32m    151\u001b[0m     \u001b[0;32mexcept\u001b[0m \u001b[0mException\u001b[0m \u001b[0;32mas\u001b[0m \u001b[0me\u001b[0m\u001b[0;34m:\u001b[0m\u001b[0;34m\u001b[0m\u001b[0;34m\u001b[0m\u001b[0m\n\u001b[1;32m    152\u001b[0m       \u001b[0mfiltered_tb\u001b[0m \u001b[0;34m=\u001b[0m \u001b[0m_process_traceback_frames\u001b[0m\u001b[0;34m(\u001b[0m\u001b[0me\u001b[0m\u001b[0;34m.\u001b[0m\u001b[0m__traceback__\u001b[0m\u001b[0;34m)\u001b[0m\u001b[0;34m\u001b[0m\u001b[0;34m\u001b[0m\u001b[0m\n",
            "\u001b[0;32m/usr/local/lib/python3.7/dist-packages/tensorflow/python/eager/def_function.py\u001b[0m in \u001b[0;36m__call__\u001b[0;34m(self, *args, **kwds)\u001b[0m\n\u001b[1;32m    913\u001b[0m \u001b[0;34m\u001b[0m\u001b[0m\n\u001b[1;32m    914\u001b[0m       \u001b[0;32mwith\u001b[0m \u001b[0mOptionalXlaContext\u001b[0m\u001b[0;34m(\u001b[0m\u001b[0mself\u001b[0m\u001b[0;34m.\u001b[0m\u001b[0m_jit_compile\u001b[0m\u001b[0;34m)\u001b[0m\u001b[0;34m:\u001b[0m\u001b[0;34m\u001b[0m\u001b[0;34m\u001b[0m\u001b[0m\n\u001b[0;32m--> 915\u001b[0;31m         \u001b[0mresult\u001b[0m \u001b[0;34m=\u001b[0m \u001b[0mself\u001b[0m\u001b[0;34m.\u001b[0m\u001b[0m_call\u001b[0m\u001b[0;34m(\u001b[0m\u001b[0;34m*\u001b[0m\u001b[0margs\u001b[0m\u001b[0;34m,\u001b[0m \u001b[0;34m**\u001b[0m\u001b[0mkwds\u001b[0m\u001b[0;34m)\u001b[0m\u001b[0;34m\u001b[0m\u001b[0;34m\u001b[0m\u001b[0m\n\u001b[0m\u001b[1;32m    916\u001b[0m \u001b[0;34m\u001b[0m\u001b[0m\n\u001b[1;32m    917\u001b[0m       \u001b[0mnew_tracing_count\u001b[0m \u001b[0;34m=\u001b[0m \u001b[0mself\u001b[0m\u001b[0;34m.\u001b[0m\u001b[0mexperimental_get_tracing_count\u001b[0m\u001b[0;34m(\u001b[0m\u001b[0;34m)\u001b[0m\u001b[0;34m\u001b[0m\u001b[0;34m\u001b[0m\u001b[0m\n",
            "\u001b[0;32m/usr/local/lib/python3.7/dist-packages/tensorflow/python/eager/def_function.py\u001b[0m in \u001b[0;36m_call\u001b[0;34m(self, *args, **kwds)\u001b[0m\n\u001b[1;32m    952\u001b[0m       \u001b[0;31m# In this case we have not created variables on the first call. So we can\u001b[0m\u001b[0;34m\u001b[0m\u001b[0;34m\u001b[0m\u001b[0;34m\u001b[0m\u001b[0m\n\u001b[1;32m    953\u001b[0m       \u001b[0;31m# run the first trace but we should fail if variables are created.\u001b[0m\u001b[0;34m\u001b[0m\u001b[0;34m\u001b[0m\u001b[0;34m\u001b[0m\u001b[0m\n\u001b[0;32m--> 954\u001b[0;31m       \u001b[0mresults\u001b[0m \u001b[0;34m=\u001b[0m \u001b[0mself\u001b[0m\u001b[0;34m.\u001b[0m\u001b[0m_stateful_fn\u001b[0m\u001b[0;34m(\u001b[0m\u001b[0;34m*\u001b[0m\u001b[0margs\u001b[0m\u001b[0;34m,\u001b[0m \u001b[0;34m**\u001b[0m\u001b[0mkwds\u001b[0m\u001b[0;34m)\u001b[0m\u001b[0;34m\u001b[0m\u001b[0;34m\u001b[0m\u001b[0m\n\u001b[0m\u001b[1;32m    955\u001b[0m       \u001b[0;32mif\u001b[0m \u001b[0mself\u001b[0m\u001b[0;34m.\u001b[0m\u001b[0m_created_variables\u001b[0m \u001b[0;32mand\u001b[0m \u001b[0;32mnot\u001b[0m \u001b[0mALLOW_DYNAMIC_VARIABLE_CREATION\u001b[0m\u001b[0;34m:\u001b[0m\u001b[0;34m\u001b[0m\u001b[0;34m\u001b[0m\u001b[0m\n\u001b[1;32m    956\u001b[0m         raise ValueError(\"Creating variables on a non-first call to a function\"\n",
            "\u001b[0;32m/usr/local/lib/python3.7/dist-packages/tensorflow/python/eager/function.py\u001b[0m in \u001b[0;36m__call__\u001b[0;34m(self, *args, **kwargs)\u001b[0m\n\u001b[1;32m   2955\u001b[0m        filtered_flat_args) = self._maybe_define_function(args, kwargs)\n\u001b[1;32m   2956\u001b[0m     return graph_function._call_flat(\n\u001b[0;32m-> 2957\u001b[0;31m         filtered_flat_args, captured_inputs=graph_function.captured_inputs)  # pylint: disable=protected-access\n\u001b[0m\u001b[1;32m   2958\u001b[0m \u001b[0;34m\u001b[0m\u001b[0m\n\u001b[1;32m   2959\u001b[0m   \u001b[0;34m@\u001b[0m\u001b[0mproperty\u001b[0m\u001b[0;34m\u001b[0m\u001b[0;34m\u001b[0m\u001b[0m\n",
            "\u001b[0;32m/usr/local/lib/python3.7/dist-packages/tensorflow/python/eager/function.py\u001b[0m in \u001b[0;36m_call_flat\u001b[0;34m(self, args, captured_inputs, cancellation_manager)\u001b[0m\n\u001b[1;32m   1852\u001b[0m       \u001b[0;31m# No tape is watching; skip to running the function.\u001b[0m\u001b[0;34m\u001b[0m\u001b[0;34m\u001b[0m\u001b[0;34m\u001b[0m\u001b[0m\n\u001b[1;32m   1853\u001b[0m       return self._build_call_outputs(self._inference_function.call(\n\u001b[0;32m-> 1854\u001b[0;31m           ctx, args, cancellation_manager=cancellation_manager))\n\u001b[0m\u001b[1;32m   1855\u001b[0m     forward_backward = self._select_forward_and_backward_functions(\n\u001b[1;32m   1856\u001b[0m         \u001b[0margs\u001b[0m\u001b[0;34m,\u001b[0m\u001b[0;34m\u001b[0m\u001b[0;34m\u001b[0m\u001b[0m\n",
            "\u001b[0;32m/usr/local/lib/python3.7/dist-packages/tensorflow/python/eager/function.py\u001b[0m in \u001b[0;36mcall\u001b[0;34m(self, ctx, args, cancellation_manager)\u001b[0m\n\u001b[1;32m    502\u001b[0m               \u001b[0minputs\u001b[0m\u001b[0;34m=\u001b[0m\u001b[0margs\u001b[0m\u001b[0;34m,\u001b[0m\u001b[0;34m\u001b[0m\u001b[0;34m\u001b[0m\u001b[0m\n\u001b[1;32m    503\u001b[0m               \u001b[0mattrs\u001b[0m\u001b[0;34m=\u001b[0m\u001b[0mattrs\u001b[0m\u001b[0;34m,\u001b[0m\u001b[0;34m\u001b[0m\u001b[0;34m\u001b[0m\u001b[0m\n\u001b[0;32m--> 504\u001b[0;31m               ctx=ctx)\n\u001b[0m\u001b[1;32m    505\u001b[0m         \u001b[0;32melse\u001b[0m\u001b[0;34m:\u001b[0m\u001b[0;34m\u001b[0m\u001b[0;34m\u001b[0m\u001b[0m\n\u001b[1;32m    506\u001b[0m           outputs = execute.execute_with_cancellation(\n",
            "\u001b[0;32m/usr/local/lib/python3.7/dist-packages/tensorflow/python/eager/execute.py\u001b[0m in \u001b[0;36mquick_execute\u001b[0;34m(op_name, num_outputs, inputs, attrs, ctx, name)\u001b[0m\n\u001b[1;32m     53\u001b[0m     \u001b[0mctx\u001b[0m\u001b[0;34m.\u001b[0m\u001b[0mensure_initialized\u001b[0m\u001b[0;34m(\u001b[0m\u001b[0;34m)\u001b[0m\u001b[0;34m\u001b[0m\u001b[0;34m\u001b[0m\u001b[0m\n\u001b[1;32m     54\u001b[0m     tensors = pywrap_tfe.TFE_Py_Execute(ctx._handle, device_name, op_name,\n\u001b[0;32m---> 55\u001b[0;31m                                         inputs, attrs, num_outputs)\n\u001b[0m\u001b[1;32m     56\u001b[0m   \u001b[0;32mexcept\u001b[0m \u001b[0mcore\u001b[0m\u001b[0;34m.\u001b[0m\u001b[0m_NotOkStatusException\u001b[0m \u001b[0;32mas\u001b[0m \u001b[0me\u001b[0m\u001b[0;34m:\u001b[0m\u001b[0;34m\u001b[0m\u001b[0;34m\u001b[0m\u001b[0m\n\u001b[1;32m     57\u001b[0m     \u001b[0;32mif\u001b[0m \u001b[0mname\u001b[0m \u001b[0;32mis\u001b[0m \u001b[0;32mnot\u001b[0m \u001b[0;32mNone\u001b[0m\u001b[0;34m:\u001b[0m\u001b[0;34m\u001b[0m\u001b[0;34m\u001b[0m\u001b[0m\n",
            "\u001b[0;31mKeyboardInterrupt\u001b[0m: "
          ]
        }
      ]
    },
    {
      "cell_type": "code",
      "source": [
        "train_genTest = generator(float_train_data[-lookback-1:],\n",
        "lookback=lookback,\n",
        "delay=delay,\n",
        "min_index=0,\n",
        "max_index=14,\n",
        "#shuffle=True,\n",
        "step=step,\n",
        "batch_size=16)"
      ],
      "metadata": {
        "colab": {
          "base_uri": "https://localhost:8080/",
          "height": 205
        },
        "id": "VOiAJQjNy2x6",
        "outputId": "cfed8d8f-dc72-4f88-a20a-78b9018c33b2"
      },
      "execution_count": null,
      "outputs": [
        {
          "output_type": "error",
          "ename": "TypeError",
          "evalue": "ignored",
          "traceback": [
            "\u001b[0;31m---------------------------------------------------------------------------\u001b[0m",
            "\u001b[0;31mTypeError\u001b[0m                                 Traceback (most recent call last)",
            "\u001b[0;32m<ipython-input-67-84b960201b2f>\u001b[0m in \u001b[0;36m<module>\u001b[0;34m\u001b[0m\n\u001b[1;32m      6\u001b[0m \u001b[0;31m#shuffle=True,\u001b[0m\u001b[0;34m\u001b[0m\u001b[0;34m\u001b[0m\u001b[0;34m\u001b[0m\u001b[0m\n\u001b[1;32m      7\u001b[0m \u001b[0mstep\u001b[0m\u001b[0;34m=\u001b[0m\u001b[0mstep\u001b[0m\u001b[0;34m,\u001b[0m\u001b[0;34m\u001b[0m\u001b[0;34m\u001b[0m\u001b[0m\n\u001b[0;32m----> 8\u001b[0;31m batch_size=16)\n\u001b[0m",
            "\u001b[0;31mTypeError\u001b[0m: generator() missing 1 required positional argument: 'max_index'"
          ]
        }
      ]
    },
    {
      "cell_type": "code",
      "source": [
        "train_gen3 = generator(float_train_data,\n",
        "      lookback=lookback,\n",
        "      delay=delay,\n",
        "      min_index=0,\n",
        "      max_index=len(float_train_data) - 1,\n",
        "      #shuffle=True,\n",
        "      step=step,\n",
        "      batch_size=batch_size)"
      ],
      "metadata": {
        "id": "jh-uEcigzAv5"
      },
      "execution_count": null,
      "outputs": []
    },
    {
      "cell_type": "code",
      "source": [
        "np.asarray(np.asarray(actual_val))"
      ],
      "metadata": {
        "colab": {
          "base_uri": "https://localhost:8080/"
        },
        "id": "9EcGVYi51Pig",
        "outputId": "f83a4779-f86b-4c33-ce91-be8823d8a169"
      },
      "execution_count": null,
      "outputs": [
        {
          "output_type": "execute_result",
          "data": {
            "text/plain": [
              "array(0.67154217, dtype=float32)"
            ]
          },
          "metadata": {},
          "execution_count": 80
        }
      ]
    },
    {
      "cell_type": "code",
      "source": [
        "train_gen2 = generator(float_train_data[-lookback-2:],\n",
        "      lookback=lookback,\n",
        "      delay=delay,\n",
        "      min_index=0,\n",
        "      max_index=len(float_train_data[-lookback-2:]) - 1,\n",
        "      #shuffle=True,\n",
        "      step=step,\n",
        "      batch_size=batch_size)"
      ],
      "metadata": {
        "id": "GXI5wynG3CFa"
      },
      "execution_count": null,
      "outputs": []
    },
    {
      "cell_type": "code",
      "source": [
        "next(train_gen2)[0][0]"
      ],
      "metadata": {
        "colab": {
          "base_uri": "https://localhost:8080/",
          "height": 169
        },
        "id": "U9RPYs2E5Odt",
        "outputId": "2274016a-8a89-4d4c-8c50-ad3ba12778da"
      },
      "execution_count": null,
      "outputs": [
        {
          "output_type": "error",
          "ename": "IndexError",
          "evalue": "ignored",
          "traceback": [
            "\u001b[0;31m---------------------------------------------------------------------------\u001b[0m",
            "\u001b[0;31mIndexError\u001b[0m                                Traceback (most recent call last)",
            "\u001b[0;32m<ipython-input-118-eddff9278994>\u001b[0m in \u001b[0;36m<module>\u001b[0;34m\u001b[0m\n\u001b[0;32m----> 1\u001b[0;31m \u001b[0mnext\u001b[0m\u001b[0;34m(\u001b[0m\u001b[0mtrain_gen2\u001b[0m\u001b[0;34m)\u001b[0m\u001b[0;34m[\u001b[0m\u001b[0;36m0\u001b[0m\u001b[0;34m]\u001b[0m\u001b[0;34m[\u001b[0m\u001b[0;36m1\u001b[0m\u001b[0;34m]\u001b[0m\u001b[0;34m\u001b[0m\u001b[0;34m\u001b[0m\u001b[0m\n\u001b[0m",
            "\u001b[0;31mIndexError\u001b[0m: index 1 is out of bounds for axis 0 with size 1"
          ]
        }
      ]
    }
  ]
}