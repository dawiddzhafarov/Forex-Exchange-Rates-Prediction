{
  "nbformat": 4,
  "nbformat_minor": 0,
  "metadata": {
    "colab": {
      "provenance": []
    },
    "kernelspec": {
      "name": "python3",
      "display_name": "Python 3"
    },
    "language_info": {
      "name": "python"
    }
  },
  "cells": [
    {
      "cell_type": "markdown",
      "source": [
        "Training, validation and test split. First attempt at cross validation, fail, however there is improvement in single training process."
      ],
      "metadata": {
        "id": "1KTJ2l7aMhgY"
      }
    },
    {
      "cell_type": "code",
      "execution_count": null,
      "metadata": {
        "id": "duS59FBDMgGI"
      },
      "outputs": [],
      "source": [
        "import pandas as pd\n",
        "import numpy as np\n",
        "import tensorflow as tf\n",
        "from itertools import chain\n",
        "from keras.preprocessing.sequence import TimeseriesGenerator\n",
        "from matplotlib import pyplot as plt\n",
        "from tensorflow.keras import layers\n",
        "df = pd.read_csv(\"drive/MyDrive/Engineer's Project/test.csv\")"
      ]
    },
    {
      "cell_type": "code",
      "source": [
        "df.pop('Date')\n",
        "df.pop('usa_cpi')\n",
        "df.pop('pol_cpi')\n",
        "df.pop('usa_inter')\n",
        "df.pop('pol_inter')\n",
        "float_data1 = np.array(df).astype('float32')\n",
        "mean = float_data1[:2001].mean(axis=0)\n",
        "float_data1 -= mean\n",
        "std = float_data1[:2001].std(axis=0)\n",
        "float_data1 /= std"
      ],
      "metadata": {
        "id": "67o7TvZUMpcr"
      },
      "execution_count": null,
      "outputs": []
    },
    {
      "cell_type": "code",
      "source": [
        "float_data2 = np.array(df).astype('float32')\n",
        "mean2 = float_data2[500:2501].mean(axis=0)\n",
        "float_data2 -= mean2\n",
        "std2 = float_data2[500:2501].std(axis=0)\n",
        "float_data2 /= std2"
      ],
      "metadata": {
        "id": "arBjmKV7N-P9"
      },
      "execution_count": null,
      "outputs": []
    },
    {
      "cell_type": "code",
      "source": [
        "float_data3 = np.array(df).astype('float32')\n",
        "mean3 = float_data3[1000:].mean(axis=0)\n",
        "float_data3 -= mean3\n",
        "std3 = float_data3[1000:].std(axis=0)\n",
        "float_data3 /= std3"
      ],
      "metadata": {
        "id": "MGJ0erm_Pu5r"
      },
      "execution_count": null,
      "outputs": []
    },
    {
      "cell_type": "code",
      "source": [
        "lookback = 30\n",
        "step = 1\n",
        "delay = 1\n",
        "min_index  = 0\n",
        "batch_size = 128"
      ],
      "metadata": {
        "id": "atPRF1cHMsM6"
      },
      "execution_count": null,
      "outputs": []
    },
    {
      "cell_type": "code",
      "source": [
        "def generator(data, lookback, delay, min_index, max_index,shuffle=False, batch_size=128, step=1):\n",
        "  if max_index is None:\n",
        "    max_index = len(data) - delay - 1\n",
        "  i = min_index + lookback\n",
        "  while 1:\n",
        "    if shuffle:\n",
        "      rows = np.random.randint(\n",
        "        min_index + lookback, max_index, size=batch_size)\n",
        "    else:\n",
        "      if i + batch_size >= max_index:\n",
        "        i = min_index + lookback\n",
        "      rows = np.arange(i, min(i + batch_size, max_index))\n",
        "      i += len(rows)\n",
        "    samples = np.zeros((len(rows),lookback // step,data.shape[-1]))\n",
        "    targets = np.zeros((len(rows),))\n",
        "    for j, row in enumerate(rows):\n",
        "      indices = range(rows[j] - lookback, rows[j], step)\n",
        "      samples[j] = data[indices]\n",
        "      targets[j] = data[rows[j] + delay][3] ##### 3 is the column number that is going to be predicted\n",
        "    yield samples, targets"
      ],
      "metadata": {
        "id": "rSSX6YRqMtws"
      },
      "execution_count": null,
      "outputs": []
    },
    {
      "cell_type": "code",
      "source": [
        "train_gen1 = generator(float_data1,\n",
        "lookback=lookback,\n",
        "delay=delay,\n",
        "min_index=0,\n",
        "max_index=2000,\n",
        "shuffle=True,\n",
        "step=step,\n",
        "batch_size=batch_size)"
      ],
      "metadata": {
        "id": "xwrQ4blPMxY5"
      },
      "execution_count": null,
      "outputs": []
    },
    {
      "cell_type": "code",
      "source": [
        "val_gen1 = generator(float_data1,\n",
        "lookback=lookback,\n",
        "delay=delay,\n",
        "min_index=2001,\n",
        "max_index=2500,\n",
        "step=step,\n",
        "batch_size=batch_size)"
      ],
      "metadata": {
        "id": "d6spa4s3MycL"
      },
      "execution_count": null,
      "outputs": []
    },
    {
      "cell_type": "code",
      "source": [
        "test_gen1 = generator(float_data1,\n",
        "lookback=lookback,\n",
        "delay=delay,\n",
        "min_index=2501,\n",
        "max_index=3000,\n",
        "step=step,\n",
        "batch_size=batch_size)"
      ],
      "metadata": {
        "id": "z0qkMi3RMzk3"
      },
      "execution_count": null,
      "outputs": []
    },
    {
      "cell_type": "code",
      "source": [
        "val_steps1 = (2500 - 2001 - lookback)\n",
        "test_steps1 = (3000 - 2501 - lookback)"
      ],
      "metadata": {
        "id": "mNQ10hapM04G"
      },
      "execution_count": null,
      "outputs": []
    },
    {
      "cell_type": "code",
      "source": [
        "train_gen2 = generator(float_data2,\n",
        "lookback=lookback,\n",
        "delay=delay,\n",
        "min_index=500,\n",
        "max_index=2500,\n",
        "shuffle=True,\n",
        "step=step,\n",
        "batch_size=batch_size)"
      ],
      "metadata": {
        "id": "39dx8YOMO4Mj"
      },
      "execution_count": null,
      "outputs": []
    },
    {
      "cell_type": "code",
      "source": [
        "val_gen2 = generator(float_data2,\n",
        "lookback=lookback,\n",
        "delay=delay,\n",
        "min_index=2501,\n",
        "max_index=3000,\n",
        "step=step,\n",
        "batch_size=batch_size)"
      ],
      "metadata": {
        "id": "iflHs5phO6c6"
      },
      "execution_count": null,
      "outputs": []
    },
    {
      "cell_type": "code",
      "source": [
        "test_gen2 = generator(float_data2,\n",
        "lookback=lookback,\n",
        "delay=delay,\n",
        "min_index=3001,\n",
        "max_index=3541,\n",
        "step=step,\n",
        "batch_size=batch_size)"
      ],
      "metadata": {
        "id": "2AFgrAG_O8qU"
      },
      "execution_count": null,
      "outputs": []
    },
    {
      "cell_type": "code",
      "source": [
        "val_steps2 = (3000 - 2501 - lookback)\n",
        "test_steps2 = (3541 - 3001 - lookback)"
      ],
      "metadata": {
        "id": "61Z1sAzzO91G"
      },
      "execution_count": null,
      "outputs": []
    },
    {
      "cell_type": "code",
      "source": [
        "train_gen3 = generator(float_data3,\n",
        "lookback=lookback,\n",
        "delay=delay,\n",
        "min_index=1000,\n",
        "max_index=3541,\n",
        "shuffle=True,\n",
        "step=step,\n",
        "batch_size=batch_size)"
      ],
      "metadata": {
        "id": "e5CTRDRlPqBJ"
      },
      "execution_count": null,
      "outputs": []
    },
    {
      "cell_type": "code",
      "source": [
        "val_gen3 = generator(float_data3,\n",
        "lookback=lookback,\n",
        "delay=delay,\n",
        "min_index=0,\n",
        "max_index=500,\n",
        "step=step,\n",
        "batch_size=batch_size)"
      ],
      "metadata": {
        "id": "rSPRqV4lPrO5"
      },
      "execution_count": null,
      "outputs": []
    },
    {
      "cell_type": "code",
      "source": [
        "test_gen3 = generator(float_data3,\n",
        "lookback=lookback,\n",
        "delay=delay,\n",
        "min_index=501,\n",
        "max_index=999,\n",
        "step=step,\n",
        "batch_size=batch_size)"
      ],
      "metadata": {
        "id": "cTRRJTnHPsWx"
      },
      "execution_count": null,
      "outputs": []
    },
    {
      "cell_type": "code",
      "source": [
        "val_steps3 = (500 - 0 - lookback)\n",
        "test_steps3 = (999 - 501 - lookback)"
      ],
      "metadata": {
        "id": "MEE4deGZPtvQ"
      },
      "execution_count": null,
      "outputs": []
    },
    {
      "cell_type": "code",
      "source": [
        "print(float_data1.shape[-1])\n",
        "print(float_data2.shape[-1])\n",
        "print(float_data2.shape[-1])"
      ],
      "metadata": {
        "colab": {
          "base_uri": "https://localhost:8080/"
        },
        "id": "7onpbSRxRt8H",
        "outputId": "940f4bc3-a9d8-45ac-b150-157cf41294e6"
      },
      "execution_count": null,
      "outputs": [
        {
          "output_type": "stream",
          "name": "stdout",
          "text": [
            "7\n",
            "7\n",
            "7\n"
          ]
        }
      ]
    },
    {
      "cell_type": "code",
      "source": [
        "model = tf.keras.models.Sequential()\n",
        "model.add(layers.LSTM(128,\n",
        "  activation='sigmoid',\n",
        "  dropout=0.1,\n",
        "  recurrent_dropout=0.1,\n",
        "  input_shape=(None, 7)))\n",
        "model.add(layers.Dense(5,\n",
        "  activation='sigmoid',))\n",
        "model.add(layers.Dense(1))\n",
        "model.compile(optimizer= tf.keras.optimizers.Adam(), loss='mae')\n",
        "history1 = model.fit(train_gen1,\n",
        "  steps_per_epoch=200,\n",
        "  epochs=20,\n",
        "  validation_data=val_gen1,\n",
        "  validation_steps=val_steps1)"
      ],
      "metadata": {
        "colab": {
          "base_uri": "https://localhost:8080/"
        },
        "id": "-MfUWHQeRo9_",
        "outputId": "e002e553-b541-4797-df10-b4855f5f7e38"
      },
      "execution_count": null,
      "outputs": [
        {
          "output_type": "stream",
          "name": "stdout",
          "text": [
            "Epoch 1/20\n",
            "200/200 [==============================] - 37s 168ms/step - loss: 0.3043 - val_loss: 0.1341\n",
            "Epoch 2/20\n",
            "200/200 [==============================] - 33s 165ms/step - loss: 0.1327 - val_loss: 0.0902\n",
            "Epoch 3/20\n",
            "200/200 [==============================] - 33s 166ms/step - loss: 0.1020 - val_loss: 0.0557\n",
            "Epoch 4/20\n",
            "200/200 [==============================] - 33s 165ms/step - loss: 0.0903 - val_loss: 0.0552\n",
            "Epoch 5/20\n",
            "200/200 [==============================] - 44s 220ms/step - loss: 0.0846 - val_loss: 0.0546\n",
            "Epoch 6/20\n",
            "200/200 [==============================] - 37s 186ms/step - loss: 0.0808 - val_loss: 0.0650\n",
            "Epoch 7/20\n",
            "200/200 [==============================] - 33s 165ms/step - loss: 0.0775 - val_loss: 0.0537\n",
            "Epoch 8/20\n",
            "200/200 [==============================] - 33s 167ms/step - loss: 0.0747 - val_loss: 0.0559\n",
            "Epoch 9/20\n",
            "200/200 [==============================] - 35s 173ms/step - loss: 0.0736 - val_loss: 0.0659\n",
            "Epoch 10/20\n",
            "200/200 [==============================] - 38s 189ms/step - loss: 0.0722 - val_loss: 0.0562\n",
            "Epoch 11/20\n",
            "200/200 [==============================] - 33s 164ms/step - loss: 0.0702 - val_loss: 0.0679\n",
            "Epoch 12/20\n",
            "200/200 [==============================] - 33s 167ms/step - loss: 0.0682 - val_loss: 0.0576\n",
            "Epoch 13/20\n",
            "200/200 [==============================] - 34s 172ms/step - loss: 0.0673 - val_loss: 0.0575\n",
            "Epoch 14/20\n",
            "200/200 [==============================] - 33s 165ms/step - loss: 0.0669 - val_loss: 0.0674\n",
            "Epoch 15/20\n",
            "200/200 [==============================] - 33s 165ms/step - loss: 0.0671 - val_loss: 0.0760\n",
            "Epoch 16/20\n",
            "200/200 [==============================] - 33s 167ms/step - loss: 0.0662 - val_loss: 0.0692\n",
            "Epoch 17/20\n",
            "200/200 [==============================] - 44s 219ms/step - loss: 0.0660 - val_loss: 0.0582\n",
            "Epoch 18/20\n",
            "200/200 [==============================] - 35s 174ms/step - loss: 0.0649 - val_loss: 0.0755\n",
            "Epoch 19/20\n",
            "200/200 [==============================] - 33s 166ms/step - loss: 0.0659 - val_loss: 0.0660\n",
            "Epoch 20/20\n",
            "200/200 [==============================] - 33s 166ms/step - loss: 0.0652 - val_loss: 0.0686\n"
          ]
        }
      ]
    },
    {
      "cell_type": "code",
      "source": [
        "eval1 = model.evaluate(test_gen1, steps = test_steps1)\n",
        "eval1 *std[0]"
      ],
      "metadata": {
        "colab": {
          "base_uri": "https://localhost:8080/"
        },
        "id": "ZYFvkBXOTWco",
        "outputId": "0134c0c0-9759-4bd2-a4eb-cad370fd117d"
      },
      "execution_count": null,
      "outputs": [
        {
          "output_type": "stream",
          "name": "stdout",
          "text": [
            "469/469 [==============================] - 11s 23ms/step - loss: 0.0730\n"
          ]
        },
        {
          "output_type": "execute_result",
          "data": {
            "text/plain": [
              "0.02916087217799701"
            ]
          },
          "metadata": {},
          "execution_count": 21
        }
      ]
    },
    {
      "cell_type": "code",
      "source": [
        "loss1 = history1.history['loss']\n",
        "val_loss1 = history1.history['val_loss']\n",
        "epochs1 = range(1, len(loss1) + 1)\n",
        "plt.figure()\n",
        "plt.plot(epochs1, loss1, 'bo', label='Training loss')\n",
        "plt.plot(epochs1, val_loss1, 'b', label='Validation loss')\n",
        "plt.title('Training and validation loss, without CPI & Interest, CLOSING PRICE PREDICTION')\n",
        "plt.legend()\n",
        "plt.show()"
      ],
      "metadata": {
        "colab": {
          "base_uri": "https://localhost:8080/",
          "height": 281
        },
        "id": "VREU1R9GTZIL",
        "outputId": "1cc3b784-a08c-470a-82d2-ce9bc4991f76"
      },
      "execution_count": null,
      "outputs": [
        {
          "output_type": "display_data",
          "data": {
            "text/plain": [
              "<Figure size 432x288 with 1 Axes>"
            ],
            "image/png": "[encoded data removed]"
          },
          "metadata": {
            "needs_background": "light"
          }
        }
      ]
    },
    {
      "cell_type": "code",
      "source": [
        "history2 = model.fit(train_gen2,\n",
        "  steps_per_epoch=200,\n",
        "  epochs=20,\n",
        "  validation_data=val_gen2,\n",
        "  validation_steps=val_steps2)"
      ],
      "metadata": {
        "colab": {
          "base_uri": "https://localhost:8080/"
        },
        "id": "YWtiDzITVABz",
        "outputId": "67aa5880-6bfe-4b61-9758-95d624313690"
      },
      "execution_count": null,
      "outputs": [
        {
          "output_type": "stream",
          "name": "stdout",
          "text": [
            "Epoch 1/20\n",
            "200/200 [==============================] - 33s 166ms/step - loss: 0.0695 - val_loss: 0.0569\n",
            "Epoch 2/20\n",
            "200/200 [==============================] - 33s 165ms/step - loss: 0.0684 - val_loss: 0.0638\n",
            "Epoch 3/20\n",
            "200/200 [==============================] - 33s 166ms/step - loss: 0.0665 - val_loss: 0.0577\n",
            "Epoch 4/20\n",
            "200/200 [==============================] - 33s 165ms/step - loss: 0.0661 - val_loss: 0.0588\n",
            "Epoch 5/20\n",
            "200/200 [==============================] - 33s 166ms/step - loss: 0.0664 - val_loss: 0.0569\n",
            "Epoch 6/20\n",
            "200/200 [==============================] - 33s 166ms/step - loss: 0.0659 - val_loss: 0.0580\n",
            "Epoch 7/20\n",
            "200/200 [==============================] - 33s 166ms/step - loss: 0.0658 - val_loss: 0.0588\n",
            "Epoch 8/20\n",
            "200/200 [==============================] - 33s 165ms/step - loss: 0.0649 - val_loss: 0.0557\n",
            "Epoch 9/20\n",
            "200/200 [==============================] - 33s 166ms/step - loss: 0.0652 - val_loss: 0.0573\n",
            "Epoch 10/20\n",
            "200/200 [==============================] - 33s 167ms/step - loss: 0.0650 - val_loss: 0.0589\n",
            "Epoch 11/20\n",
            "200/200 [==============================] - 33s 165ms/step - loss: 0.0658 - val_loss: 0.0559\n",
            "Epoch 12/20\n",
            "200/200 [==============================] - 33s 165ms/step - loss: 0.0650 - val_loss: 0.0568\n",
            "Epoch 13/20\n",
            "200/200 [==============================] - 33s 165ms/step - loss: 0.0652 - val_loss: 0.0645\n",
            "Epoch 14/20\n",
            "200/200 [==============================] - 33s 165ms/step - loss: 0.0642 - val_loss: 0.0571\n",
            "Epoch 15/20\n",
            "200/200 [==============================] - 33s 165ms/step - loss: 0.0641 - val_loss: 0.0572\n",
            "Epoch 16/20\n",
            "200/200 [==============================] - 33s 166ms/step - loss: 0.0641 - val_loss: 0.0565\n",
            "Epoch 17/20\n",
            "200/200 [==============================] - 33s 166ms/step - loss: 0.0640 - val_loss: 0.0570\n",
            "Epoch 18/20\n",
            "200/200 [==============================] - 40s 201ms/step - loss: 0.0641 - val_loss: 0.0573\n",
            "Epoch 19/20\n",
            "200/200 [==============================] - 55s 276ms/step - loss: 0.0625 - val_loss: 0.0564\n",
            "Epoch 20/20\n",
            "200/200 [==============================] - 33s 166ms/step - loss: 0.0636 - val_loss: 0.0591\n"
          ]
        }
      ]
    },
    {
      "cell_type": "code",
      "source": [
        "eval2 = model.evaluate(test_gen2, steps = test_steps2)\n",
        "eval2 *std[0]"
      ],
      "metadata": {
        "colab": {
          "base_uri": "https://localhost:8080/"
        },
        "id": "dRFevss7Xydh",
        "outputId": "1b21b085-7f66-43fd-919a-5a98e9aa6291"
      },
      "execution_count": null,
      "outputs": [
        {
          "output_type": "stream",
          "name": "stdout",
          "text": [
            "510/510 [==============================] - 11s 22ms/step - loss: 0.0626\n"
          ]
        },
        {
          "output_type": "execute_result",
          "data": {
            "text/plain": [
              "0.025003134746166555"
            ]
          },
          "metadata": {},
          "execution_count": 24
        }
      ]
    },
    {
      "cell_type": "code",
      "source": [
        "loss2 = history2.history['loss']\n",
        "val_loss2 = history2.history['val_loss']\n",
        "epochs2 = range(1, len(loss2) + 1)\n",
        "plt.figure()\n",
        "plt.plot(epochs2, loss2, 'bo', label='Training loss')\n",
        "plt.plot(epochs2, val_loss2, 'b', label='Validation loss')\n",
        "plt.title('Training and validation loss, without CPI & Interest, CLOSING PRICE PREDICTION')\n",
        "plt.legend()\n",
        "plt.show()"
      ],
      "metadata": {
        "colab": {
          "base_uri": "https://localhost:8080/",
          "height": 281
        },
        "id": "0Jqzl1JlXztu",
        "outputId": "eae2c915-0e11-4a2e-fb33-a304a4be7a39"
      },
      "execution_count": null,
      "outputs": [
        {
          "output_type": "display_data",
          "data": {
            "text/plain": [
              "<Figure size 432x288 with 1 Axes>"
            ],
            "image/png": "[encoded data removed]"
          },
          "metadata": {
            "needs_background": "light"
          }
        }
      ]
    },
    {
      "cell_type": "markdown",
      "source": [
        "3rd val loss = 0.5, reason?"
      ],
      "metadata": {
        "id": "Bw7jJSmnZe0_"
      }
    }
  ]
}