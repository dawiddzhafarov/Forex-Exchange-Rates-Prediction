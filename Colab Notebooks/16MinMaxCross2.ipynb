{
  "nbformat": 4,
  "nbformat_minor": 0,
  "metadata": {
    "colab": {
      "name": "16MinMaxCross2.ipynb",
      "provenance": [],
      "collapsed_sections": []
    },
    "kernelspec": {
      "name": "python3",
      "display_name": "Python 3"
    },
    "language_info": {
      "name": "python"
    }
  },
  "cells": [
    {
      "cell_type": "markdown",
      "source": [
        "This method of cross validation (next sets consist of previous ones) causes model to perform worse after few runs."
      ],
      "metadata": {
        "id": "ciNLUmpg0k5q"
      }
    },
    {
      "cell_type": "code",
      "execution_count": null,
      "metadata": {
        "id": "_MCiRR1vmxdN"
      },
      "outputs": [],
      "source": [
        "import pandas as pd\n",
        "import numpy as np\n",
        "import tensorflow as tf\n",
        "from itertools import chain\n",
        "from matplotlib import pyplot as plt\n",
        "from tensorflow.keras import layers\n",
        "from sklearn.preprocessing import MinMaxScaler\n",
        "df = pd.read_csv(\"drive/MyDrive/Engineer's Project/test.csv\")"
      ]
    },
    {
      "cell_type": "code",
      "source": [
        "#df.pop('usa_cpi')\n",
        "#df.pop('pol_cpi')\n",
        "#df.pop('usa_inter')\n",
        "#df.pop('pol_inter')\n",
        "df.pop('Date')"
      ],
      "metadata": {
        "id": "5XE_BfdYm8jh"
      },
      "execution_count": null,
      "outputs": []
    },
    {
      "cell_type": "code",
      "source": [
        "scaler = MinMaxScaler()\n",
        " \n",
        "df_scaled = scaler.fit_transform(df.to_numpy())\n",
        "df_scaled = pd.DataFrame(df_scaled, columns=[\n",
        "  'Opening', 'High', 'Low', 'Closing','Momentum', 'Range', 'ohlc','usa_cpi','pol_cpi', 'usa_inter', 'pol_inter'])"
      ],
      "metadata": {
        "id": "Gl4pC4PBm-U_"
      },
      "execution_count": null,
      "outputs": []
    },
    {
      "cell_type": "code",
      "source": [
        "df_scaled.head()"
      ],
      "metadata": {
        "colab": {
          "base_uri": "https://localhost:8080/",
          "height": 206
        },
        "id": "a-v2ZRJrnbRN",
        "outputId": "bd6c1a22-8e6d-4bba-cd9c-df6d93eec135"
      },
      "execution_count": null,
      "outputs": [
        {
          "output_type": "execute_result",
          "data": {
            "text/plain": [
              "    Opening      High       Low   Closing  Momentum     Range      ohlc  \\\n",
              "0  0.120675  0.117873  0.126956  0.120667  0.690773  0.054192  0.119970   \n",
              "1  0.123241  0.121031  0.129086  0.123235  0.683946  0.060890  0.122587   \n",
              "2  0.142932  0.149455  0.131536  0.142949  0.611761  0.216769  0.140329   \n",
              "3  0.144181  0.147570  0.146659  0.144170  0.696958  0.119040  0.144171   \n",
              "4  0.125944  0.129385  0.130204  0.125935  0.690665  0.104427  0.126353   \n",
              "\n",
              "   usa_cpi  pol_cpi  usa_inter  pol_inter  \n",
              "0  0.15359  0.34127   0.722973   0.911417  \n",
              "1  0.15359  0.34127   0.722973   0.911417  \n",
              "2  0.15359  0.34127   0.722973   0.911417  \n",
              "3  0.15359  0.34127   0.722973   0.911417  \n",
              "4  0.15359  0.34127   0.722973   0.911417  "
            ],
            "text/html": [
              "\n",
              "  <div id=\"df-a5e3db71-c0e3-4bab-b715-d5c6ab69885a\">\n",
              "    <div class=\"colab-df-container\">\n",
              "      <div>\n",
              "<style scoped>\n",
              "    .dataframe tbody tr th:only-of-type {\n",
              "        vertical-align: middle;\n",
              "    }\n",
              "\n",
              "    .dataframe tbody tr th {\n",
              "        vertical-align: top;\n",
              "    }\n",
              "\n",
              "    .dataframe thead th {\n",
              "        text-align: right;\n",
              "    }\n",
              "</style>\n",
              "<table border=\"1\" class=\"dataframe\">\n",
              "  <thead>\n",
              "    <tr style=\"text-align: right;\">\n",
              "      <th></th>\n",
              "      <th>Opening</th>\n",
              "      <th>High</th>\n",
              "      <th>Low</th>\n",
              "      <th>Closing</th>\n",
              "      <th>Momentum</th>\n",
              "      <th>Range</th>\n",
              "      <th>ohlc</th>\n",
              "      <th>usa_cpi</th>\n",
              "      <th>pol_cpi</th>\n",
              "      <th>usa_inter</th>\n",
              "      <th>pol_inter</th>\n",
              "    </tr>\n",
              "  </thead>\n",
              "  <tbody>\n",
              "    <tr>\n",
              "      <th>0</th>\n",
              "      <td>0.120675</td>\n",
              "      <td>0.117873</td>\n",
              "      <td>0.126956</td>\n",
              "      <td>0.120667</td>\n",
              "      <td>0.690773</td>\n",
              "      <td>0.054192</td>\n",
              "      <td>0.119970</td>\n",
              "      <td>0.15359</td>\n",
              "      <td>0.34127</td>\n",
              "      <td>0.722973</td>\n",
              "      <td>0.911417</td>\n",
              "    </tr>\n",
              "    <tr>\n",
              "      <th>1</th>\n",
              "      <td>0.123241</td>\n",
              "      <td>0.121031</td>\n",
              "      <td>0.129086</td>\n",
              "      <td>0.123235</td>\n",
              "      <td>0.683946</td>\n",
              "      <td>0.060890</td>\n",
              "      <td>0.122587</td>\n",
              "      <td>0.15359</td>\n",
              "      <td>0.34127</td>\n",
              "      <td>0.722973</td>\n",
              "      <td>0.911417</td>\n",
              "    </tr>\n",
              "    <tr>\n",
              "      <th>2</th>\n",
              "      <td>0.142932</td>\n",
              "      <td>0.149455</td>\n",
              "      <td>0.131536</td>\n",
              "      <td>0.142949</td>\n",
              "      <td>0.611761</td>\n",
              "      <td>0.216769</td>\n",
              "      <td>0.140329</td>\n",
              "      <td>0.15359</td>\n",
              "      <td>0.34127</td>\n",
              "      <td>0.722973</td>\n",
              "      <td>0.911417</td>\n",
              "    </tr>\n",
              "    <tr>\n",
              "      <th>3</th>\n",
              "      <td>0.144181</td>\n",
              "      <td>0.147570</td>\n",
              "      <td>0.146659</td>\n",
              "      <td>0.144170</td>\n",
              "      <td>0.696958</td>\n",
              "      <td>0.119040</td>\n",
              "      <td>0.144171</td>\n",
              "      <td>0.15359</td>\n",
              "      <td>0.34127</td>\n",
              "      <td>0.722973</td>\n",
              "      <td>0.911417</td>\n",
              "    </tr>\n",
              "    <tr>\n",
              "      <th>4</th>\n",
              "      <td>0.125944</td>\n",
              "      <td>0.129385</td>\n",
              "      <td>0.130204</td>\n",
              "      <td>0.125935</td>\n",
              "      <td>0.690665</td>\n",
              "      <td>0.104427</td>\n",
              "      <td>0.126353</td>\n",
              "      <td>0.15359</td>\n",
              "      <td>0.34127</td>\n",
              "      <td>0.722973</td>\n",
              "      <td>0.911417</td>\n",
              "    </tr>\n",
              "  </tbody>\n",
              "</table>\n",
              "</div>\n",
              "      <button class=\"colab-df-convert\" onclick=\"convertToInteractive('df-a5e3db71-c0e3-4bab-b715-d5c6ab69885a')\"\n",
              "              title=\"Convert this dataframe to an interactive table.\"\n",
              "              style=\"display:none;\">\n",
              "        \n",
              "  <svg xmlns=\"http://www.w3.org/2000/svg\" height=\"24px\"viewBox=\"0 0 24 24\"\n",
              "       width=\"24px\">\n",
              "    <path d=\"M0 0h24v24H0V0z\" fill=\"none\"/>\n",
              "    <path d=\"M18.56 5.44l.94 2.06.94-2.06 2.06-.94-2.06-.94-.94-2.06-.94 2.06-2.06.94zm-11 1L8.5 8.5l.94-2.06 2.06-.94-2.06-.94L8.5 2.5l-.94 2.06-2.06.94zm10 10l.94 2.06.94-2.06 2.06-.94-2.06-.94-.94-2.06-.94 2.06-2.06.94z\"/><path d=\"M17.41 7.96l-1.37-1.37c-.4-.4-.92-.59-1.43-.59-.52 0-1.04.2-1.43.59L10.3 9.45l-7.72 7.72c-.78.78-.78 2.05 0 2.83L4 21.41c.39.39.9.59 1.41.59.51 0 1.02-.2 1.41-.59l7.78-7.78 2.81-2.81c.8-.78.8-2.07 0-2.86zM5.41 20L4 18.59l7.72-7.72 1.47 1.35L5.41 20z\"/>\n",
              "  </svg>\n",
              "      </button>\n",
              "      \n",
              "  <style>\n",
              "    .colab-df-container {\n",
              "      display:flex;\n",
              "      flex-wrap:wrap;\n",
              "      gap: 12px;\n",
              "    }\n",
              "\n",
              "    .colab-df-convert {\n",
              "      background-color: #E8F0FE;\n",
              "      border: none;\n",
              "      border-radius: 50%;\n",
              "      cursor: pointer;\n",
              "      display: none;\n",
              "      fill: #1967D2;\n",
              "      height: 32px;\n",
              "      padding: 0 0 0 0;\n",
              "      width: 32px;\n",
              "    }\n",
              "\n",
              "    .colab-df-convert:hover {\n",
              "      background-color: #E2EBFA;\n",
              "      box-shadow: 0px 1px 2px rgba(60, 64, 67, 0.3), 0px 1px 3px 1px rgba(60, 64, 67, 0.15);\n",
              "      fill: #174EA6;\n",
              "    }\n",
              "\n",
              "    [theme=dark] .colab-df-convert {\n",
              "      background-color: #3B4455;\n",
              "      fill: #D2E3FC;\n",
              "    }\n",
              "\n",
              "    [theme=dark] .colab-df-convert:hover {\n",
              "      background-color: #434B5C;\n",
              "      box-shadow: 0px 1px 3px 1px rgba(0, 0, 0, 0.15);\n",
              "      filter: drop-shadow(0px 1px 2px rgba(0, 0, 0, 0.3));\n",
              "      fill: #FFFFFF;\n",
              "    }\n",
              "  </style>\n",
              "\n",
              "      <script>\n",
              "        const buttonEl =\n",
              "          document.querySelector('#df-a5e3db71-c0e3-4bab-b715-d5c6ab69885a button.colab-df-convert');\n",
              "        buttonEl.style.display =\n",
              "          google.colab.kernel.accessAllowed ? 'block' : 'none';\n",
              "\n",
              "        async function convertToInteractive(key) {\n",
              "          const element = document.querySelector('#df-a5e3db71-c0e3-4bab-b715-d5c6ab69885a');\n",
              "          const dataTable =\n",
              "            await google.colab.kernel.invokeFunction('convertToInteractive',\n",
              "                                                     [key], {});\n",
              "          if (!dataTable) return;\n",
              "\n",
              "          const docLinkHtml = 'Like what you see? Visit the ' +\n",
              "            '<a target=\"_blank\" href=https://colab.research.google.com/notebooks/data_table.ipynb>data table notebook</a>'\n",
              "            + ' to learn more about interactive tables.';\n",
              "          element.innerHTML = '';\n",
              "          dataTable['output_type'] = 'display_data';\n",
              "          await google.colab.output.renderOutput(dataTable, element);\n",
              "          const docLink = document.createElement('div');\n",
              "          docLink.innerHTML = docLinkHtml;\n",
              "          element.appendChild(docLink);\n",
              "        }\n",
              "      </script>\n",
              "    </div>\n",
              "  </div>\n",
              "  "
            ]
          },
          "metadata": {},
          "execution_count": 5
        }
      ]
    },
    {
      "cell_type": "code",
      "source": [
        "std = df['Closing'].std()\n",
        "std_scaled = df_scaled['Closing'].std()"
      ],
      "metadata": {
        "id": "ZQUMV8QJm_sJ"
      },
      "execution_count": null,
      "outputs": []
    },
    {
      "cell_type": "code",
      "source": [
        "float_data = np.array(df_scaled).astype('float32')\n",
        "#mean = float_data[:2501].mean(axis=0)\n",
        "stdOld = float_data[:2501].std(axis=0)\n",
        "stdOldWhole = float_data.std(axis=0)\n",
        "#float_data -= mean\n",
        "#float_data /= std\n",
        "#stdOld\n",
        "#stdOldWhole"
      ],
      "metadata": {
        "id": "aOsHc0ijnBAf"
      },
      "execution_count": null,
      "outputs": []
    },
    {
      "cell_type": "code",
      "source": [
        "std_scaled"
      ],
      "metadata": {
        "colab": {
          "base_uri": "https://localhost:8080/"
        },
        "id": "j3dzqPt8pyl8",
        "outputId": "6960542a-a3c8-474a-f115-6a2d0e319dfb"
      },
      "execution_count": null,
      "outputs": [
        {
          "output_type": "execute_result",
          "data": {
            "text/plain": [
              "0.19873963078543957"
            ]
          },
          "metadata": {},
          "execution_count": 14
        }
      ]
    },
    {
      "cell_type": "code",
      "source": [
        "lookback = 10\n",
        "step = 1\n",
        "delay = 1\n",
        "batch_size = 128"
      ],
      "metadata": {
        "id": "PRzEcvRvnCVT"
      },
      "execution_count": null,
      "outputs": []
    },
    {
      "cell_type": "code",
      "source": [
        "def generator(data, lookback, delay, min_index, max_index,shuffle=False, batch_size=128, step=1):\n",
        "  if max_index is None:\n",
        "    max_index = len(data) - delay - 1\n",
        "  i = min_index + lookback\n",
        "  while 1:\n",
        "    if shuffle:\n",
        "      rows = np.random.randint(\n",
        "        min_index + lookback, max_index, size=batch_size)\n",
        "    else:\n",
        "      if i + batch_size >= max_index:\n",
        "        i = min_index + lookback\n",
        "      rows = np.arange(i, min(i + batch_size, max_index))\n",
        "      i += len(rows)\n",
        "    samples = np.zeros((len(rows),lookback // step,data.shape[-1]))\n",
        "    targets = np.zeros((len(rows),))\n",
        "    for j, row in enumerate(rows):\n",
        "      indices = range(rows[j] - lookback, rows[j], step)\n",
        "      samples[j] = data[indices]\n",
        "      targets[j] = data[rows[j] + delay][3] ##### HIT KURDE 1 to numer kolumny ktora przewiduje wtf\n",
        "    yield samples, targets"
      ],
      "metadata": {
        "id": "T4-D4Bd-nDXM"
      },
      "execution_count": null,
      "outputs": []
    },
    {
      "cell_type": "code",
      "source": [
        "train_gen1 = generator(float_data,\n",
        "lookback=lookback,\n",
        "delay=delay,\n",
        "min_index=0,\n",
        "max_index=601,\n",
        "shuffle=True,\n",
        "step=step,\n",
        "batch_size=batch_size)"
      ],
      "metadata": {
        "id": "IXlz-d4TnEjl"
      },
      "execution_count": null,
      "outputs": []
    },
    {
      "cell_type": "code",
      "source": [
        "val_gen1 = generator(float_data,\n",
        "lookback=lookback,\n",
        "delay=delay,\n",
        "min_index=601,\n",
        "max_index=801,\n",
        "step=step,\n",
        "batch_size=batch_size)"
      ],
      "metadata": {
        "id": "cicZvIz_nGuA"
      },
      "execution_count": null,
      "outputs": []
    },
    {
      "cell_type": "code",
      "source": [
        "test_gen1 = generator(float_data,\n",
        "lookback=lookback,\n",
        "delay=delay,\n",
        "min_index=801,\n",
        "max_index=1001,\n",
        "step=step,\n",
        "batch_size=batch_size)"
      ],
      "metadata": {
        "id": "QLMb4lrDnIPu"
      },
      "execution_count": null,
      "outputs": []
    },
    {
      "cell_type": "code",
      "source": [
        "val_steps1 = (801 - 601 - lookback)\n",
        "test_steps1 = (1001 - 801 - lookback)"
      ],
      "metadata": {
        "id": "OTDna3RAnJ8t"
      },
      "execution_count": null,
      "outputs": []
    },
    {
      "cell_type": "code",
      "source": [
        "train_gen2 = generator(float_data,\n",
        "lookback=lookback,\n",
        "delay=delay,\n",
        "min_index=0,\n",
        "max_index=1001,\n",
        "shuffle=True,\n",
        "step=step,\n",
        "batch_size=batch_size)"
      ],
      "metadata": {
        "id": "eWJR2N_NoXIL"
      },
      "execution_count": null,
      "outputs": []
    },
    {
      "cell_type": "code",
      "source": [
        "val_gen2 = generator(float_data,\n",
        "lookback=lookback,\n",
        "delay=delay,\n",
        "min_index=1001,\n",
        "max_index=1201,\n",
        "step=step,\n",
        "batch_size=batch_size)"
      ],
      "metadata": {
        "id": "pLIFWpF3oije"
      },
      "execution_count": null,
      "outputs": []
    },
    {
      "cell_type": "code",
      "source": [
        "test_gen2 = generator(float_data,\n",
        "lookback=lookback,\n",
        "delay=delay,\n",
        "min_index=1201,\n",
        "max_index=1401,\n",
        "step=step,\n",
        "batch_size=batch_size)"
      ],
      "metadata": {
        "id": "vteUzYizonPM"
      },
      "execution_count": null,
      "outputs": []
    },
    {
      "cell_type": "code",
      "source": [
        "val_steps2 = (1201 - 1001 - lookback)\n",
        "test_steps2 = (1401 - 1201 - lookback)"
      ],
      "metadata": {
        "id": "hZ2agaFKonVU"
      },
      "execution_count": null,
      "outputs": []
    },
    {
      "cell_type": "code",
      "source": [
        "train_gen3 = generator(float_data,\n",
        "lookback=lookback,\n",
        "delay=delay,\n",
        "min_index=0,\n",
        "max_index=1401,\n",
        "shuffle=True,\n",
        "step=step,\n",
        "batch_size=batch_size)"
      ],
      "metadata": {
        "id": "VFUzFkAXozHP"
      },
      "execution_count": null,
      "outputs": []
    },
    {
      "cell_type": "code",
      "source": [
        "val_gen3 = generator(float_data,\n",
        "lookback=lookback,\n",
        "delay=delay,\n",
        "min_index=1401,\n",
        "max_index=1601,\n",
        "step=step,\n",
        "batch_size=batch_size)"
      ],
      "metadata": {
        "id": "AG4u7plFpHBh"
      },
      "execution_count": null,
      "outputs": []
    },
    {
      "cell_type": "code",
      "source": [
        "test_gen3 = generator(float_data,\n",
        "lookback=lookback,\n",
        "delay=delay,\n",
        "min_index=1601,\n",
        "max_index=1801,\n",
        "step=step,\n",
        "batch_size=batch_size)"
      ],
      "metadata": {
        "id": "aYMM38cspfbi"
      },
      "execution_count": null,
      "outputs": []
    },
    {
      "cell_type": "code",
      "source": [
        "val_steps3 = (1601 - 1401 - lookback)\n",
        "test_steps3 = (1801 - 1601 - lookback)"
      ],
      "metadata": {
        "id": "DIIGfXD4pinS"
      },
      "execution_count": null,
      "outputs": []
    },
    {
      "cell_type": "code",
      "source": [
        "model1 = tf.keras.models.Sequential()\n",
        "model1.add(layers.LSTM(128,\n",
        "  activation='softmax',\n",
        "  dropout=0.1,\n",
        "  recurrent_dropout=0.1,\n",
        "  input_shape=(None, float_data.shape[-1])))\n",
        "model1.add(layers.Dense(5,\n",
        "  activation='softmax',))\n",
        "model1.add(layers.Dense(1))\n",
        "model1.compile(optimizer= tf.keras.optimizers.RMSprop(), loss='mae')\n",
        "history1 = model1.fit(train_gen1,\n",
        "  steps_per_epoch=400,\n",
        "  epochs=80,\n",
        "  validation_data=val_gen1,\n",
        "  validation_steps=val_steps1)"
      ],
      "metadata": {
        "colab": {
          "base_uri": "https://localhost:8080/"
        },
        "id": "3OVuE_IRponD",
        "outputId": "d0f5383b-0b16-46ac-820f-5c2e1d0e848d"
      },
      "execution_count": null,
      "outputs": [
        {
          "output_type": "stream",
          "name": "stdout",
          "text": [
            "Epoch 1/80\n",
            "400/400 [==============================] - 26s 56ms/step - loss: 0.1071 - val_loss: 0.0236\n",
            "Epoch 2/80\n",
            "400/400 [==============================] - 22s 55ms/step - loss: 0.0570 - val_loss: 0.0402\n",
            "Epoch 3/80\n",
            "400/400 [==============================] - 23s 59ms/step - loss: 0.0255 - val_loss: 0.0239\n",
            "Epoch 4/80\n",
            "400/400 [==============================] - 23s 58ms/step - loss: 0.0234 - val_loss: 0.0184\n",
            "Epoch 5/80\n",
            "400/400 [==============================] - 24s 60ms/step - loss: 0.0224 - val_loss: 0.0160\n",
            "Epoch 6/80\n",
            "400/400 [==============================] - 22s 56ms/step - loss: 0.0218 - val_loss: 0.0146\n",
            "Epoch 7/80\n",
            "400/400 [==============================] - 21s 53ms/step - loss: 0.0214 - val_loss: 0.0155\n",
            "Epoch 8/80\n",
            "400/400 [==============================] - 21s 53ms/step - loss: 0.0211 - val_loss: 0.0147\n",
            "Epoch 9/80\n",
            "400/400 [==============================] - 23s 58ms/step - loss: 0.0209 - val_loss: 0.0148\n",
            "Epoch 10/80\n",
            "400/400 [==============================] - 22s 56ms/step - loss: 0.0207 - val_loss: 0.0147\n",
            "Epoch 11/80\n",
            "400/400 [==============================] - 22s 54ms/step - loss: 0.0204 - val_loss: 0.0136\n",
            "Epoch 12/80\n",
            "400/400 [==============================] - 22s 54ms/step - loss: 0.0203 - val_loss: 0.0128\n",
            "Epoch 13/80\n",
            "400/400 [==============================] - 21s 54ms/step - loss: 0.0203 - val_loss: 0.0134\n",
            "Epoch 14/80\n",
            "400/400 [==============================] - 22s 54ms/step - loss: 0.0204 - val_loss: 0.0131\n",
            "Epoch 15/80\n",
            "400/400 [==============================] - 21s 52ms/step - loss: 0.0203 - val_loss: 0.0132\n",
            "Epoch 16/80\n",
            "400/400 [==============================] - 21s 54ms/step - loss: 0.0201 - val_loss: 0.0131\n",
            "Epoch 17/80\n",
            "400/400 [==============================] - 22s 55ms/step - loss: 0.0200 - val_loss: 0.0129\n",
            "Epoch 18/80\n",
            "400/400 [==============================] - 21s 53ms/step - loss: 0.0200 - val_loss: 0.0134\n",
            "Epoch 19/80\n",
            "400/400 [==============================] - 21s 53ms/step - loss: 0.0200 - val_loss: 0.0125\n",
            "Epoch 20/80\n",
            "400/400 [==============================] - 22s 54ms/step - loss: 0.0200 - val_loss: 0.0129\n",
            "Epoch 21/80\n",
            "400/400 [==============================] - 21s 54ms/step - loss: 0.0199 - val_loss: 0.0123\n",
            "Epoch 22/80\n",
            "400/400 [==============================] - 21s 51ms/step - loss: 0.0200 - val_loss: 0.0123\n",
            "Epoch 23/80\n",
            "400/400 [==============================] - 22s 54ms/step - loss: 0.0200 - val_loss: 0.0123\n",
            "Epoch 24/80\n",
            "400/400 [==============================] - 21s 53ms/step - loss: 0.0199 - val_loss: 0.0122\n",
            "Epoch 25/80\n",
            "400/400 [==============================] - 21s 52ms/step - loss: 0.0197 - val_loss: 0.0124\n",
            "Epoch 26/80\n",
            "400/400 [==============================] - 22s 55ms/step - loss: 0.0198 - val_loss: 0.0121\n",
            "Epoch 27/80\n",
            "400/400 [==============================] - 22s 54ms/step - loss: 0.0199 - val_loss: 0.0129\n",
            "Epoch 28/80\n",
            "400/400 [==============================] - 21s 53ms/step - loss: 0.0198 - val_loss: 0.0130\n",
            "Epoch 29/80\n",
            "400/400 [==============================] - 21s 52ms/step - loss: 0.0199 - val_loss: 0.0127\n",
            "Epoch 30/80\n",
            "400/400 [==============================] - 21s 52ms/step - loss: 0.0197 - val_loss: 0.0133\n",
            "Epoch 31/80\n",
            "400/400 [==============================] - 22s 55ms/step - loss: 0.0197 - val_loss: 0.0126\n",
            "Epoch 32/80\n",
            "400/400 [==============================] - 21s 53ms/step - loss: 0.0197 - val_loss: 0.0120\n",
            "Epoch 33/80\n",
            "400/400 [==============================] - 22s 54ms/step - loss: 0.0195 - val_loss: 0.0120\n",
            "Epoch 34/80\n",
            "400/400 [==============================] - 22s 55ms/step - loss: 0.0196 - val_loss: 0.0119\n",
            "Epoch 35/80\n",
            "400/400 [==============================] - 21s 53ms/step - loss: 0.0195 - val_loss: 0.0120\n",
            "Epoch 36/80\n",
            "400/400 [==============================] - 21s 53ms/step - loss: 0.0196 - val_loss: 0.0121\n",
            "Epoch 37/80\n",
            "400/400 [==============================] - 22s 55ms/step - loss: 0.0196 - val_loss: 0.0120\n",
            "Epoch 38/80\n",
            "400/400 [==============================] - 22s 54ms/step - loss: 0.0195 - val_loss: 0.0120\n",
            "Epoch 39/80\n",
            "400/400 [==============================] - 21s 53ms/step - loss: 0.0195 - val_loss: 0.0123\n",
            "Epoch 40/80\n",
            "400/400 [==============================] - 22s 55ms/step - loss: 0.0197 - val_loss: 0.0122\n",
            "Epoch 41/80\n",
            "400/400 [==============================] - 22s 54ms/step - loss: 0.0195 - val_loss: 0.0120\n",
            "Epoch 42/80\n",
            "400/400 [==============================] - 21s 53ms/step - loss: 0.0194 - val_loss: 0.0121\n",
            "Epoch 43/80\n",
            "400/400 [==============================] - 21s 53ms/step - loss: 0.0194 - val_loss: 0.0119\n",
            "Epoch 44/80\n",
            "400/400 [==============================] - 22s 56ms/step - loss: 0.0195 - val_loss: 0.0121\n",
            "Epoch 45/80\n",
            "400/400 [==============================] - 22s 55ms/step - loss: 0.0195 - val_loss: 0.0122\n",
            "Epoch 46/80\n",
            "400/400 [==============================] - 21s 53ms/step - loss: 0.0194 - val_loss: 0.0119\n",
            "Epoch 47/80\n",
            "400/400 [==============================] - 21s 53ms/step - loss: 0.0194 - val_loss: 0.0119\n",
            "Epoch 48/80\n",
            "400/400 [==============================] - 22s 56ms/step - loss: 0.0193 - val_loss: 0.0119\n",
            "Epoch 49/80\n",
            "400/400 [==============================] - 22s 54ms/step - loss: 0.0194 - val_loss: 0.0119\n",
            "Epoch 50/80\n",
            "400/400 [==============================] - 21s 53ms/step - loss: 0.0194 - val_loss: 0.0120\n",
            "Epoch 51/80\n",
            "400/400 [==============================] - 22s 55ms/step - loss: 0.0193 - val_loss: 0.0120\n",
            "Epoch 52/80\n",
            "400/400 [==============================] - 21s 54ms/step - loss: 0.0195 - val_loss: 0.0122\n",
            "Epoch 53/80\n",
            "400/400 [==============================] - 22s 54ms/step - loss: 0.0194 - val_loss: 0.0121\n",
            "Epoch 54/80\n",
            "400/400 [==============================] - 22s 54ms/step - loss: 0.0194 - val_loss: 0.0119\n",
            "Epoch 55/80\n",
            "400/400 [==============================] - 22s 54ms/step - loss: 0.0191 - val_loss: 0.0121\n",
            "Epoch 56/80\n",
            "400/400 [==============================] - 22s 55ms/step - loss: 0.0193 - val_loss: 0.0124\n",
            "Epoch 57/80\n",
            "400/400 [==============================] - 21s 52ms/step - loss: 0.0193 - val_loss: 0.0121\n",
            "Epoch 58/80\n",
            "400/400 [==============================] - 21s 54ms/step - loss: 0.0193 - val_loss: 0.0119\n",
            "Epoch 59/80\n",
            "400/400 [==============================] - 23s 57ms/step - loss: 0.0194 - val_loss: 0.0123\n",
            "Epoch 60/80\n",
            "400/400 [==============================] - 21s 54ms/step - loss: 0.0195 - val_loss: 0.0126\n",
            "Epoch 61/80\n",
            "400/400 [==============================] - 21s 54ms/step - loss: 0.0193 - val_loss: 0.0119\n",
            "Epoch 62/80\n",
            "400/400 [==============================] - 23s 56ms/step - loss: 0.0193 - val_loss: 0.0120\n",
            "Epoch 63/80\n",
            "400/400 [==============================] - 22s 54ms/step - loss: 0.0194 - val_loss: 0.0119\n",
            "Epoch 64/80\n",
            "400/400 [==============================] - 21s 52ms/step - loss: 0.0191 - val_loss: 0.0122\n",
            "Epoch 65/80\n",
            "400/400 [==============================] - 21s 54ms/step - loss: 0.0191 - val_loss: 0.0121\n",
            "Epoch 66/80\n",
            "400/400 [==============================] - 22s 54ms/step - loss: 0.0192 - val_loss: 0.0124\n",
            "Epoch 67/80\n",
            "400/400 [==============================] - 23s 58ms/step - loss: 0.0192 - val_loss: 0.0119\n",
            "Epoch 68/80\n",
            "400/400 [==============================] - 34s 86ms/step - loss: 0.0193 - val_loss: 0.0121\n",
            "Epoch 69/80\n",
            "400/400 [==============================] - 21s 53ms/step - loss: 0.0192 - val_loss: 0.0119\n",
            "Epoch 70/80\n",
            "400/400 [==============================] - 21s 53ms/step - loss: 0.0192 - val_loss: 0.0119\n",
            "Epoch 71/80\n",
            "400/400 [==============================] - 21s 54ms/step - loss: 0.0193 - val_loss: 0.0120\n",
            "Epoch 72/80\n",
            "400/400 [==============================] - 26s 65ms/step - loss: 0.0192 - val_loss: 0.0119\n",
            "Epoch 73/80\n",
            "400/400 [==============================] - 23s 57ms/step - loss: 0.0193 - val_loss: 0.0125\n",
            "Epoch 74/80\n",
            "400/400 [==============================] - 24s 59ms/step - loss: 0.0192 - val_loss: 0.0119\n",
            "Epoch 75/80\n",
            "400/400 [==============================] - 22s 55ms/step - loss: 0.0192 - val_loss: 0.0121\n",
            "Epoch 76/80\n",
            "400/400 [==============================] - 22s 56ms/step - loss: 0.0191 - val_loss: 0.0126\n",
            "Epoch 77/80\n",
            "400/400 [==============================] - 22s 55ms/step - loss: 0.0191 - val_loss: 0.0120\n",
            "Epoch 78/80\n",
            "400/400 [==============================] - 22s 54ms/step - loss: 0.0192 - val_loss: 0.0120\n",
            "Epoch 79/80\n",
            "400/400 [==============================] - 23s 56ms/step - loss: 0.0191 - val_loss: 0.0121\n",
            "Epoch 80/80\n",
            "400/400 [==============================] - 25s 63ms/step - loss: 0.0192 - val_loss: 0.0120\n"
          ]
        }
      ]
    },
    {
      "cell_type": "code",
      "source": [
        "eval = model1.evaluate(test_gen1, steps = test_steps1)"
      ],
      "metadata": {
        "colab": {
          "base_uri": "https://localhost:8080/"
        },
        "id": "QAJvJVlgviSb",
        "outputId": "46f24d98-367d-43cd-ff4e-7ab1db59922b"
      },
      "execution_count": null,
      "outputs": [
        {
          "output_type": "stream",
          "name": "stdout",
          "text": [
            "190/190 [==============================] - 4s 18ms/step - loss: 0.0166\n"
          ]
        }
      ]
    },
    {
      "cell_type": "code",
      "source": [
        "loss1 = history1.history['loss']\n",
        "val_loss1 = history1.history['val_loss']\n",
        "epochs1 = range(1, len(loss1) + 1)\n",
        "plt.figure()\n",
        "plt.plot(epochs1, loss1, 'r', label='Training loss')\n",
        "plt.plot(epochs1, val_loss1, 'b', label='Validation loss')\n",
        "plt.title('Training and validation loss,softmax, RMSprop,  CLOSING PRICE PREDICTION')\n",
        "plt.legend()\n",
        "plt.show()"
      ],
      "metadata": {
        "colab": {
          "base_uri": "https://localhost:8080/",
          "height": 281
        },
        "id": "WhUI8L9YvkWH",
        "outputId": "d2e14436-3c7a-479e-8932-a38e6422865c"
      },
      "execution_count": null,
      "outputs": [
        {
          "output_type": "display_data",
          "data": {
            "text/plain": [
              "<Figure size 432x288 with 1 Axes>"
            ],
            "image/png": "[encoded data removed]"
          },
          "metadata": {
            "needs_background": "light"
          }
        }
      ]
    },
    {
      "cell_type": "code",
      "source": [
        "history2 = model1.fit(train_gen2,\n",
        "  steps_per_epoch=400,\n",
        "  epochs=80,\n",
        "  validation_data=val_gen2,\n",
        "  validation_steps=val_steps2)"
      ],
      "metadata": {
        "colab": {
          "base_uri": "https://localhost:8080/"
        },
        "id": "yMyp0Mk5w5AA",
        "outputId": "0d4ddc2c-471f-421f-9911-3703acdf9754"
      },
      "execution_count": null,
      "outputs": [
        {
          "output_type": "stream",
          "name": "stdout",
          "text": [
            "Epoch 1/80\n",
            "400/400 [==============================] - 21s 53ms/step - loss: 0.0173 - val_loss: 0.0054\n",
            "Epoch 2/80\n",
            "400/400 [==============================] - 22s 56ms/step - loss: 0.0174 - val_loss: 0.0083\n",
            "Epoch 3/80\n",
            "400/400 [==============================] - 22s 55ms/step - loss: 0.0172 - val_loss: 0.0096\n",
            "Epoch 4/80\n",
            "400/400 [==============================] - 25s 62ms/step - loss: 0.0171 - val_loss: 0.0057\n",
            "Epoch 5/80\n",
            "400/400 [==============================] - 23s 58ms/step - loss: 0.0172 - val_loss: 0.0059\n",
            "Epoch 6/80\n",
            "400/400 [==============================] - 22s 54ms/step - loss: 0.0172 - val_loss: 0.0078\n",
            "Epoch 7/80\n",
            "400/400 [==============================] - 23s 57ms/step - loss: 0.0170 - val_loss: 0.0067\n",
            "Epoch 8/80\n",
            "400/400 [==============================] - 22s 55ms/step - loss: 0.0171 - val_loss: 0.0059\n",
            "Epoch 9/80\n",
            "400/400 [==============================] - 22s 54ms/step - loss: 0.0171 - val_loss: 0.0103\n",
            "Epoch 10/80\n",
            "400/400 [==============================] - 22s 56ms/step - loss: 0.0170 - val_loss: 0.0095\n",
            "Epoch 11/80\n",
            "400/400 [==============================] - 22s 55ms/step - loss: 0.0170 - val_loss: 0.0121\n",
            "Epoch 12/80\n",
            "400/400 [==============================] - 22s 54ms/step - loss: 0.0170 - val_loss: 0.0063\n",
            "Epoch 13/80\n",
            "400/400 [==============================] - 21s 53ms/step - loss: 0.0171 - val_loss: 0.0076\n",
            "Epoch 14/80\n",
            "400/400 [==============================] - 22s 55ms/step - loss: 0.0170 - val_loss: 0.0072\n",
            "Epoch 15/80\n",
            "400/400 [==============================] - 23s 56ms/step - loss: 0.0171 - val_loss: 0.0052\n",
            "Epoch 16/80\n",
            "400/400 [==============================] - 22s 55ms/step - loss: 0.0171 - val_loss: 0.0108\n",
            "Epoch 17/80\n",
            "400/400 [==============================] - 21s 53ms/step - loss: 0.0170 - val_loss: 0.0070\n",
            "Epoch 18/80\n",
            "400/400 [==============================] - 23s 56ms/step - loss: 0.0170 - val_loss: 0.0062\n",
            "Epoch 19/80\n",
            "400/400 [==============================] - 22s 55ms/step - loss: 0.0169 - val_loss: 0.0084\n",
            "Epoch 20/80\n",
            "400/400 [==============================] - 22s 54ms/step - loss: 0.0169 - val_loss: 0.0099\n",
            "Epoch 21/80\n",
            "400/400 [==============================] - 22s 54ms/step - loss: 0.0170 - val_loss: 0.0080\n",
            "Epoch 22/80\n",
            "400/400 [==============================] - 22s 55ms/step - loss: 0.0170 - val_loss: 0.0084\n",
            "Epoch 23/80\n",
            "400/400 [==============================] - 22s 56ms/step - loss: 0.0170 - val_loss: 0.0085\n",
            "Epoch 24/80\n",
            "400/400 [==============================] - 22s 54ms/step - loss: 0.0169 - val_loss: 0.0063\n",
            "Epoch 25/80\n",
            "400/400 [==============================] - 22s 56ms/step - loss: 0.0168 - val_loss: 0.0120\n",
            "Epoch 26/80\n",
            "400/400 [==============================] - 22s 56ms/step - loss: 0.0168 - val_loss: 0.0117\n",
            "Epoch 27/80\n",
            "400/400 [==============================] - 21s 53ms/step - loss: 0.0170 - val_loss: 0.0082\n",
            "Epoch 28/80\n",
            "400/400 [==============================] - 21s 53ms/step - loss: 0.0168 - val_loss: 0.0086\n",
            "Epoch 29/80\n",
            "400/400 [==============================] - 23s 57ms/step - loss: 0.0168 - val_loss: 0.0085\n",
            "Epoch 30/80\n",
            "400/400 [==============================] - 22s 54ms/step - loss: 0.0167 - val_loss: 0.0065\n",
            "Epoch 31/80\n",
            "400/400 [==============================] - 21s 53ms/step - loss: 0.0169 - val_loss: 0.0084\n",
            "Epoch 32/80\n",
            "400/400 [==============================] - 22s 54ms/step - loss: 0.0168 - val_loss: 0.0099\n",
            "Epoch 33/80\n",
            "400/400 [==============================] - 22s 54ms/step - loss: 0.0167 - val_loss: 0.0098\n",
            "Epoch 34/80\n",
            "400/400 [==============================] - 22s 55ms/step - loss: 0.0168 - val_loss: 0.0095\n",
            "Epoch 35/80\n",
            "400/400 [==============================] - 21s 53ms/step - loss: 0.0168 - val_loss: 0.0106\n",
            "Epoch 36/80\n",
            "400/400 [==============================] - 21s 53ms/step - loss: 0.0169 - val_loss: 0.0082\n",
            "Epoch 37/80\n",
            "400/400 [==============================] - 22s 56ms/step - loss: 0.0168 - val_loss: 0.0100\n",
            "Epoch 38/80\n",
            "400/400 [==============================] - 21s 53ms/step - loss: 0.0168 - val_loss: 0.0139\n",
            "Epoch 39/80\n",
            "400/400 [==============================] - 21s 52ms/step - loss: 0.0167 - val_loss: 0.0128\n",
            "Epoch 40/80\n",
            "400/400 [==============================] - 22s 55ms/step - loss: 0.0168 - val_loss: 0.0081\n",
            "Epoch 41/80\n",
            "400/400 [==============================] - 21s 53ms/step - loss: 0.0167 - val_loss: 0.0087\n",
            "Epoch 42/80\n",
            "400/400 [==============================] - 21s 52ms/step - loss: 0.0166 - val_loss: 0.0105\n",
            "Epoch 43/80\n",
            "400/400 [==============================] - 22s 56ms/step - loss: 0.0168 - val_loss: 0.0084\n",
            "Epoch 44/80\n",
            "400/400 [==============================] - 22s 55ms/step - loss: 0.0167 - val_loss: 0.0108\n",
            "Epoch 45/80\n",
            "400/400 [==============================] - 22s 55ms/step - loss: 0.0167 - val_loss: 0.0114\n",
            "Epoch 46/80\n",
            "400/400 [==============================] - 22s 54ms/step - loss: 0.0168 - val_loss: 0.0088\n",
            "Epoch 47/80\n",
            "400/400 [==============================] - 22s 55ms/step - loss: 0.0166 - val_loss: 0.0100\n",
            "Epoch 48/80\n",
            "400/400 [==============================] - 22s 56ms/step - loss: 0.0166 - val_loss: 0.0071\n",
            "Epoch 49/80\n",
            "400/400 [==============================] - 22s 55ms/step - loss: 0.0166 - val_loss: 0.0116\n",
            "Epoch 50/80\n",
            "400/400 [==============================] - 21s 54ms/step - loss: 0.0166 - val_loss: 0.0126\n",
            "Epoch 51/80\n",
            "400/400 [==============================] - 23s 58ms/step - loss: 0.0165 - val_loss: 0.0136\n",
            "Epoch 52/80\n",
            "400/400 [==============================] - 22s 55ms/step - loss: 0.0165 - val_loss: 0.0099\n",
            "Epoch 53/80\n",
            "400/400 [==============================] - 21s 53ms/step - loss: 0.0166 - val_loss: 0.0136\n",
            "Epoch 54/80\n",
            "400/400 [==============================] - 21s 52ms/step - loss: 0.0166 - val_loss: 0.0150\n",
            "Epoch 55/80\n",
            "400/400 [==============================] - 22s 55ms/step - loss: 0.0165 - val_loss: 0.0075\n",
            "Epoch 56/80\n",
            "400/400 [==============================] - 22s 54ms/step - loss: 0.0165 - val_loss: 0.0152\n",
            "Epoch 57/80\n",
            "400/400 [==============================] - 22s 55ms/step - loss: 0.0166 - val_loss: 0.0119\n",
            "Epoch 58/80\n",
            "400/400 [==============================] - 22s 55ms/step - loss: 0.0165 - val_loss: 0.0104\n",
            "Epoch 59/80\n",
            "400/400 [==============================] - 20s 51ms/step - loss: 0.0164 - val_loss: 0.0071\n",
            "Epoch 60/80\n",
            "400/400 [==============================] - 21s 53ms/step - loss: 0.0165 - val_loss: 0.0111\n",
            "Epoch 61/80\n",
            "400/400 [==============================] - 22s 54ms/step - loss: 0.0165 - val_loss: 0.0126\n",
            "Epoch 62/80\n",
            "400/400 [==============================] - 22s 55ms/step - loss: 0.0164 - val_loss: 0.0109\n",
            "Epoch 63/80\n",
            "400/400 [==============================] - 22s 54ms/step - loss: 0.0165 - val_loss: 0.0146\n",
            "Epoch 64/80\n",
            "400/400 [==============================] - 21s 54ms/step - loss: 0.0164 - val_loss: 0.0172\n",
            "Epoch 65/80\n",
            "400/400 [==============================] - 23s 57ms/step - loss: 0.0164 - val_loss: 0.0158\n",
            "Epoch 66/80\n",
            "400/400 [==============================] - 22s 55ms/step - loss: 0.0164 - val_loss: 0.0179\n",
            "Epoch 67/80\n",
            "400/400 [==============================] - 22s 54ms/step - loss: 0.0163 - val_loss: 0.0117\n",
            "Epoch 68/80\n",
            "400/400 [==============================] - 21s 54ms/step - loss: 0.0162 - val_loss: 0.0168\n",
            "Epoch 69/80\n",
            "400/400 [==============================] - 22s 55ms/step - loss: 0.0164 - val_loss: 0.0171\n",
            "Epoch 70/80\n",
            "400/400 [==============================] - 22s 56ms/step - loss: 0.0163 - val_loss: 0.0164\n",
            "Epoch 71/80\n",
            "400/400 [==============================] - 22s 54ms/step - loss: 0.0162 - val_loss: 0.0155\n",
            "Epoch 72/80\n",
            "400/400 [==============================] - 22s 55ms/step - loss: 0.0163 - val_loss: 0.0183\n",
            "Epoch 73/80\n",
            "400/400 [==============================] - 23s 57ms/step - loss: 0.0163 - val_loss: 0.0120\n",
            "Epoch 74/80\n",
            "400/400 [==============================] - 22s 55ms/step - loss: 0.0163 - val_loss: 0.0190\n",
            "Epoch 75/80\n",
            "400/400 [==============================] - 21s 53ms/step - loss: 0.0163 - val_loss: 0.0136\n",
            "Epoch 76/80\n",
            "400/400 [==============================] - 22s 55ms/step - loss: 0.0163 - val_loss: 0.0163\n",
            "Epoch 77/80\n",
            "400/400 [==============================] - 22s 55ms/step - loss: 0.0162 - val_loss: 0.0208\n",
            "Epoch 78/80\n",
            "400/400 [==============================] - 22s 56ms/step - loss: 0.0162 - val_loss: 0.0170\n",
            "Epoch 79/80\n",
            "400/400 [==============================] - 22s 56ms/step - loss: 0.0162 - val_loss: 0.0197\n",
            "Epoch 80/80\n",
            "400/400 [==============================] - 23s 57ms/step - loss: 0.0161 - val_loss: 0.0188\n"
          ]
        }
      ]
    },
    {
      "cell_type": "code",
      "source": [
        "eval2 = model1.evaluate(test_gen2, steps = test_steps2)"
      ],
      "metadata": {
        "colab": {
          "base_uri": "https://localhost:8080/"
        },
        "id": "ZNpFslpT4PAR",
        "outputId": "58186169-a521-49ee-9356-9651ee7611c3"
      },
      "execution_count": null,
      "outputs": [
        {
          "output_type": "stream",
          "name": "stdout",
          "text": [
            "190/190 [==============================] - 5s 25ms/step - loss: 0.0213\n"
          ]
        }
      ]
    },
    {
      "cell_type": "code",
      "source": [
        "loss2 = history2.history['loss']\n",
        "val_loss2 = history2.history['val_loss']\n",
        "epochs2 = range(1, len(loss2) + 1)\n",
        "plt.figure()\n",
        "plt.plot(epochs2, loss2, 'r', label='Training loss')\n",
        "plt.plot(epochs2, val_loss2, 'b', label='Validation loss')\n",
        "plt.title('Training and validation loss,softmax, RMSprop,  CLOSING PRICE PREDICTION')\n",
        "plt.legend()\n",
        "plt.show()"
      ],
      "metadata": {
        "colab": {
          "base_uri": "https://localhost:8080/",
          "height": 281
        },
        "id": "eOjSLCdO4Tm4",
        "outputId": "addf99b0-7167-40c5-c9ef-e946d910ebdd"
      },
      "execution_count": null,
      "outputs": [
        {
          "output_type": "display_data",
          "data": {
            "text/plain": [
              "<Figure size 432x288 with 1 Axes>"
            ],
            "image/png": "[encoded data removed]"
          },
          "metadata": {
            "needs_background": "light"
          }
        }
      ]
    },
    {
      "cell_type": "code",
      "source": [
        "history3 = model1.fit(train_gen3,\n",
        "  steps_per_epoch=400,\n",
        "  epochs=80,\n",
        "  validation_data=val_gen3,\n",
        "  validation_steps=val_steps3)"
      ],
      "metadata": {
        "colab": {
          "base_uri": "https://localhost:8080/"
        },
        "id": "kLrc0aUK4jZF",
        "outputId": "84334d17-ba8b-4b86-9e42-547e5821005c"
      },
      "execution_count": null,
      "outputs": [
        {
          "output_type": "stream",
          "name": "stdout",
          "text": [
            "Epoch 1/80\n",
            "400/400 [==============================] - 23s 57ms/step - loss: 0.0163 - val_loss: 0.0178\n",
            "Epoch 2/80\n",
            "400/400 [==============================] - 22s 56ms/step - loss: 0.0160 - val_loss: 0.0251\n",
            "Epoch 3/80\n",
            "400/400 [==============================] - 21s 53ms/step - loss: 0.0159 - val_loss: 0.0244\n",
            "Epoch 4/80\n",
            "400/400 [==============================] - 23s 58ms/step - loss: 0.0158 - val_loss: 0.0291\n",
            "Epoch 5/80\n",
            "400/400 [==============================] - 22s 54ms/step - loss: 0.0157 - val_loss: 0.0303\n",
            "Epoch 6/80\n",
            "400/400 [==============================] - 23s 56ms/step - loss: 0.0158 - val_loss: 0.0317\n",
            "Epoch 7/80\n",
            "400/400 [==============================] - 22s 54ms/step - loss: 0.0158 - val_loss: 0.0248\n",
            "Epoch 8/80\n",
            "400/400 [==============================] - 22s 54ms/step - loss: 0.0157 - val_loss: 0.0322\n",
            "Epoch 9/80\n",
            "400/400 [==============================] - 22s 55ms/step - loss: 0.0156 - val_loss: 0.0320\n",
            "Epoch 10/80\n",
            "400/400 [==============================] - 21s 53ms/step - loss: 0.0157 - val_loss: 0.0362\n",
            "Epoch 11/80\n",
            "400/400 [==============================] - 21s 53ms/step - loss: 0.0156 - val_loss: 0.0329\n",
            "Epoch 12/80\n",
            "400/400 [==============================] - 22s 56ms/step - loss: 0.0157 - val_loss: 0.0358\n",
            "Epoch 13/80\n",
            "400/400 [==============================] - 22s 54ms/step - loss: 0.0157 - val_loss: 0.0357\n",
            "Epoch 14/80\n",
            "400/400 [==============================] - 22s 54ms/step - loss: 0.0156 - val_loss: 0.0331\n",
            "Epoch 15/80\n",
            "400/400 [==============================] - 22s 54ms/step - loss: 0.0156 - val_loss: 0.0375\n",
            "Epoch 16/80\n",
            "400/400 [==============================] - 22s 55ms/step - loss: 0.0155 - val_loss: 0.0356\n",
            "Epoch 17/80\n",
            "400/400 [==============================] - 22s 55ms/step - loss: 0.0156 - val_loss: 0.0366\n",
            "Epoch 18/80\n",
            "400/400 [==============================] - 21s 53ms/step - loss: 0.0156 - val_loss: 0.0359\n",
            "Epoch 19/80\n",
            "400/400 [==============================] - 26s 66ms/step - loss: 0.0156 - val_loss: 0.0391\n",
            "Epoch 20/80\n",
            "400/400 [==============================] - 23s 56ms/step - loss: 0.0155 - val_loss: 0.0425\n",
            "Epoch 21/80\n",
            "400/400 [==============================] - 22s 55ms/step - loss: 0.0156 - val_loss: 0.0359\n",
            "Epoch 22/80\n",
            "400/400 [==============================] - 22s 54ms/step - loss: 0.0155 - val_loss: 0.0424\n",
            "Epoch 23/80\n",
            "400/400 [==============================] - 22s 55ms/step - loss: 0.0155 - val_loss: 0.0372\n",
            "Epoch 24/80\n",
            "400/400 [==============================] - 22s 55ms/step - loss: 0.0154 - val_loss: 0.0380\n",
            "Epoch 25/80\n",
            "400/400 [==============================] - 22s 56ms/step - loss: 0.0155 - val_loss: 0.0461\n",
            "Epoch 26/80\n",
            "400/400 [==============================] - 21s 54ms/step - loss: 0.0155 - val_loss: 0.0441\n",
            "Epoch 27/80\n",
            "400/400 [==============================] - 22s 54ms/step - loss: 0.0155 - val_loss: 0.0467\n",
            "Epoch 28/80\n",
            "400/400 [==============================] - 23s 57ms/step - loss: 0.0154 - val_loss: 0.0386\n",
            "Epoch 29/80\n",
            "400/400 [==============================] - 22s 55ms/step - loss: 0.0155 - val_loss: 0.0461\n",
            "Epoch 30/80\n",
            "400/400 [==============================] - 21s 54ms/step - loss: 0.0155 - val_loss: 0.0447\n",
            "Epoch 31/80\n",
            "400/400 [==============================] - 22s 56ms/step - loss: 0.0155 - val_loss: 0.0440\n",
            "Epoch 32/80\n",
            "400/400 [==============================] - 23s 58ms/step - loss: 0.0153 - val_loss: 0.0422\n",
            "Epoch 33/80\n",
            "400/400 [==============================] - 22s 55ms/step - loss: 0.0154 - val_loss: 0.0494\n",
            "Epoch 34/80\n",
            "400/400 [==============================] - 21s 53ms/step - loss: 0.0155 - val_loss: 0.0461\n",
            "Epoch 35/80\n",
            "400/400 [==============================] - 22s 55ms/step - loss: 0.0155 - val_loss: 0.0428\n",
            "Epoch 36/80\n",
            "400/400 [==============================] - 22s 56ms/step - loss: 0.0154 - val_loss: 0.0510\n",
            "Epoch 37/80\n",
            "400/400 [==============================] - 21s 53ms/step - loss: 0.0153 - val_loss: 0.0491\n",
            "Epoch 38/80\n",
            "400/400 [==============================] - 22s 54ms/step - loss: 0.0153 - val_loss: 0.0418\n",
            "Epoch 39/80\n",
            "400/400 [==============================] - 22s 56ms/step - loss: 0.0153 - val_loss: 0.0509\n",
            "Epoch 40/80\n",
            "400/400 [==============================] - 21s 54ms/step - loss: 0.0153 - val_loss: 0.0496\n",
            "Epoch 41/80\n",
            "400/400 [==============================] - 21s 53ms/step - loss: 0.0153 - val_loss: 0.0447\n",
            "Epoch 42/80\n",
            "400/400 [==============================] - 22s 56ms/step - loss: 0.0153 - val_loss: 0.0499\n",
            "Epoch 43/80\n",
            "400/400 [==============================] - 22s 55ms/step - loss: 0.0154 - val_loss: 0.0453\n",
            "Epoch 44/80\n",
            "400/400 [==============================] - 21s 54ms/step - loss: 0.0152 - val_loss: 0.0504\n",
            "Epoch 45/80\n",
            "400/400 [==============================] - 21s 53ms/step - loss: 0.0153 - val_loss: 0.0470\n",
            "Epoch 46/80\n",
            "400/400 [==============================] - 22s 54ms/step - loss: 0.0153 - val_loss: 0.0513\n",
            "Epoch 47/80\n",
            "400/400 [==============================] - 22s 55ms/step - loss: 0.0153 - val_loss: 0.0529\n",
            "Epoch 48/80\n",
            "400/400 [==============================] - 21s 52ms/step - loss: 0.0152 - val_loss: 0.0527\n",
            "Epoch 49/80\n",
            "400/400 [==============================] - 21s 54ms/step - loss: 0.0153 - val_loss: 0.0562\n",
            "Epoch 50/80\n",
            "400/400 [==============================] - 22s 55ms/step - loss: 0.0152 - val_loss: 0.0505\n",
            "Epoch 51/80\n",
            "400/400 [==============================] - 21s 53ms/step - loss: 0.0153 - val_loss: 0.0488\n",
            "Epoch 52/80\n",
            "400/400 [==============================] - 21s 53ms/step - loss: 0.0153 - val_loss: 0.0531\n",
            "Epoch 53/80\n",
            "400/400 [==============================] - 22s 55ms/step - loss: 0.0153 - val_loss: 0.0480\n",
            "Epoch 54/80\n",
            "400/400 [==============================] - 21s 53ms/step - loss: 0.0152 - val_loss: 0.0482\n",
            "Epoch 55/80\n",
            "400/400 [==============================] - 21s 52ms/step - loss: 0.0153 - val_loss: 0.0509\n",
            "Epoch 56/80\n",
            "400/400 [==============================] - 21s 54ms/step - loss: 0.0152 - val_loss: 0.0580\n",
            "Epoch 57/80\n",
            "400/400 [==============================] - 21s 53ms/step - loss: 0.0152 - val_loss: 0.0498\n",
            "Epoch 58/80\n",
            "400/400 [==============================] - 21s 53ms/step - loss: 0.0153 - val_loss: 0.0421\n",
            "Epoch 59/80\n",
            "400/400 [==============================] - 21s 53ms/step - loss: 0.0152 - val_loss: 0.0490\n",
            "Epoch 60/80\n",
            "400/400 [==============================] - 22s 54ms/step - loss: 0.0152 - val_loss: 0.0573\n",
            "Epoch 61/80\n",
            "400/400 [==============================] - 23s 57ms/step - loss: 0.0151 - val_loss: 0.0516\n",
            "Epoch 62/80\n",
            "400/400 [==============================] - 26s 65ms/step - loss: 0.0152 - val_loss: 0.0510\n",
            "Epoch 63/80\n",
            "400/400 [==============================] - 22s 54ms/step - loss: 0.0152 - val_loss: 0.0551\n",
            "Epoch 64/80\n",
            "400/400 [==============================] - 23s 57ms/step - loss: 0.0151 - val_loss: 0.0503\n",
            "Epoch 65/80\n",
            "400/400 [==============================] - 22s 54ms/step - loss: 0.0152 - val_loss: 0.0443\n",
            "Epoch 66/80\n",
            "400/400 [==============================] - 21s 54ms/step - loss: 0.0151 - val_loss: 0.0579\n",
            "Epoch 67/80\n",
            "400/400 [==============================] - 32s 79ms/step - loss: 0.0151 - val_loss: 0.0493\n",
            "Epoch 68/80\n",
            "400/400 [==============================] - 22s 54ms/step - loss: 0.0150 - val_loss: 0.0547\n",
            "Epoch 69/80\n",
            "400/400 [==============================] - 23s 57ms/step - loss: 0.0153 - val_loss: 0.0500\n",
            "Epoch 70/80\n",
            "400/400 [==============================] - 22s 56ms/step - loss: 0.0152 - val_loss: 0.0556\n",
            "Epoch 71/80\n",
            "400/400 [==============================] - 22s 55ms/step - loss: 0.0152 - val_loss: 0.0589\n",
            "Epoch 72/80\n",
            "400/400 [==============================] - 22s 55ms/step - loss: 0.0152 - val_loss: 0.0629\n",
            "Epoch 73/80\n",
            "400/400 [==============================] - 22s 54ms/step - loss: 0.0152 - val_loss: 0.0538\n",
            "Epoch 74/80\n",
            "400/400 [==============================] - 22s 55ms/step - loss: 0.0151 - val_loss: 0.0529\n",
            "Epoch 75/80\n",
            "400/400 [==============================] - 22s 54ms/step - loss: 0.0151 - val_loss: 0.0517\n",
            "Epoch 76/80\n",
            "400/400 [==============================] - 22s 54ms/step - loss: 0.0152 - val_loss: 0.0545\n",
            "Epoch 77/80\n",
            "400/400 [==============================] - 22s 56ms/step - loss: 0.0151 - val_loss: 0.0614\n",
            "Epoch 78/80\n",
            "400/400 [==============================] - 21s 53ms/step - loss: 0.0152 - val_loss: 0.0568\n",
            "Epoch 79/80\n",
            "400/400 [==============================] - 21s 53ms/step - loss: 0.0151 - val_loss: 0.0625\n",
            "Epoch 80/80\n",
            "400/400 [==============================] - 22s 56ms/step - loss: 0.0151 - val_loss: 0.0534\n"
          ]
        }
      ]
    },
    {
      "cell_type": "code",
      "source": [
        "eval3 = model1.evaluate(test_gen3, steps = test_steps3)"
      ],
      "metadata": {
        "colab": {
          "base_uri": "https://localhost:8080/"
        },
        "id": "r4E1q9-v-MaD",
        "outputId": "1b543d2a-2cf8-4473-e095-04db909be855"
      },
      "execution_count": null,
      "outputs": [
        {
          "output_type": "stream",
          "name": "stdout",
          "text": [
            "190/190 [==============================] - 2s 12ms/step - loss: 0.0254\n"
          ]
        }
      ]
    },
    {
      "cell_type": "code",
      "source": [
        "loss3 = history3.history['loss']\n",
        "val_loss3 = history3.history['val_loss']\n",
        "epochs3 = range(1, len(loss3) + 1)\n",
        "plt.figure()\n",
        "plt.plot(epochs3, loss3, 'r', label='Training loss')\n",
        "plt.plot(epochs3, val_loss3, 'b', label='Validation loss')\n",
        "plt.title('Training and validation loss,softmax, RMSprop,  CLOSING PRICE PREDICTION')\n",
        "plt.legend()\n",
        "plt.show()"
      ],
      "metadata": {
        "colab": {
          "base_uri": "https://localhost:8080/",
          "height": 281
        },
        "id": "uixlFouI_hmI",
        "outputId": "31c6b4f9-37b4-4a0b-d14c-78ceeea6cb5e"
      },
      "execution_count": null,
      "outputs": [
        {
          "output_type": "display_data",
          "data": {
            "text/plain": [
              "<Figure size 432x288 with 1 Axes>"
            ],
            "image/png": "[encoded data removed]"
          },
          "metadata": {
            "needs_background": "light"
          }
        }
      ]
    },
    {
      "cell_type": "markdown",
      "source": [
        "Doesn't work, even not whole data is used, maybe divide into 3 parts and train separately?\n"
      ],
      "metadata": {
        "id": "_E_wq0ju6Nov"
      }
    }
  ]
}