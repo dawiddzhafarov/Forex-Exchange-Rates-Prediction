{
  "nbformat": 4,
  "nbformat_minor": 0,
  "metadata": {
    "colab": {
      "provenance": []
    },
    "kernelspec": {
      "name": "python3",
      "display_name": "Python 3"
    },
    "language_info": {
      "name": "python"
    }
  },
  "cells": [
    {
      "cell_type": "markdown",
      "source": [
        "Here I used MinMax Scaler for the 1st time, and tried to use cross validation. Altough the loss was minimal after first set, it decreased after last 2 runs."
      ],
      "metadata": {
        "id": "G7Ss8-hm0EAR"
      }
    },
    {
      "cell_type": "code",
      "execution_count": null,
      "metadata": {
        "id": "lTlr4mC0PkAi"
      },
      "outputs": [],
      "source": [
        "import pandas as pd\n",
        "import numpy as np\n",
        "import tensorflow as tf\n",
        "from itertools import chain\n",
        "from matplotlib import pyplot as plt\n",
        "from tensorflow.keras import layers\n",
        "from sklearn.preprocessing import MinMaxScaler\n",
        "df = pd.read_csv(\"drive/MyDrive/Engineer's Project/test.csv\")"
      ]
    },
    {
      "cell_type": "code",
      "source": [
        "df.pop('usa_cpi')\n",
        "df.pop('pol_cpi')\n",
        "df.pop('usa_inter')\n",
        "df.pop('pol_inter')\n",
        "df.pop('Date')"
      ],
      "metadata": {
        "id": "UgCHKWUSPkiQ"
      },
      "execution_count": null,
      "outputs": []
    },
    {
      "cell_type": "code",
      "source": [
        "df.head()"
      ],
      "metadata": {
        "id": "-SqPjmElPn1i"
      },
      "execution_count": null,
      "outputs": []
    },
    {
      "cell_type": "code",
      "source": [
        "scaler = MinMaxScaler()\n",
        " \n",
        "df_scaled = scaler.fit_transform(df.to_numpy())\n",
        "df_scaled = pd.DataFrame(df_scaled, columns=[\n",
        "  'Opening', 'High', 'Low', 'Closing','Momentum', 'Range', 'ohlc'])"
      ],
      "metadata": {
        "id": "2Ncb48kzQumw"
      },
      "execution_count": null,
      "outputs": []
    },
    {
      "cell_type": "code",
      "source": [
        "std = df['Closing'].std()\n",
        "std_scaled = df_scaled['Closing'].std()"
      ],
      "metadata": {
        "id": "59ZAy-7FJeOP"
      },
      "execution_count": null,
      "outputs": []
    },
    {
      "cell_type": "code",
      "source": [
        "df_scaled.head()"
      ],
      "metadata": {
        "id": "H_eqJHhHRHW3"
      },
      "execution_count": null,
      "outputs": []
    },
    {
      "cell_type": "code",
      "source": [
        "float_data = np.array(df_scaled).astype('float32')\n",
        "#mean = float_data[:2501].mean(axis=0)\n",
        "stdOld = float_data[:2501].std(axis=0)\n",
        "stdOldWhole = float_data.std(axis=0)\n",
        "#float_data -= mean\n",
        "#float_data /= std\n",
        "stdOld\n",
        "stdOldWhole"
      ],
      "metadata": {
        "id": "dYHjihnRPo5e",
        "colab": {
          "base_uri": "https://localhost:8080/"
        },
        "outputId": "f5f90eab-547d-45b6-c2fd-f130377a01ba"
      },
      "execution_count": null,
      "outputs": [
        {
          "output_type": "execute_result",
          "data": {
            "text/plain": [
              "array([0.19871785, 0.19444253, 0.20236225, 0.19871159, 0.04161202,\n",
              "       0.06428276, 0.19881721], dtype=float32)"
            ]
          },
          "metadata": {},
          "execution_count": 33
        }
      ]
    },
    {
      "cell_type": "code",
      "source": [
        "print(stdOld[3])\n",
        "print(stdOldWhole[3])"
      ],
      "metadata": {
        "colab": {
          "base_uri": "https://localhost:8080/"
        },
        "id": "76mp1XZ_y6E-",
        "outputId": "b16b87d3-2be0-4d25-9831-d509a8626ae5"
      },
      "execution_count": null,
      "outputs": [
        {
          "output_type": "stream",
          "name": "stdout",
          "text": [
            "0.19482403\n",
            "0.19871159\n"
          ]
        }
      ]
    },
    {
      "cell_type": "code",
      "source": [
        "lookback = 10\n",
        "step = 1\n",
        "delay = 1\n",
        "batch_size = 128"
      ],
      "metadata": {
        "id": "Laadkn1-PqWg"
      },
      "execution_count": null,
      "outputs": []
    },
    {
      "cell_type": "code",
      "source": [
        "def generator(data, lookback, delay, min_index, max_index,shuffle=False, batch_size=128, step=1):\n",
        "  if max_index is None:\n",
        "    max_index = len(data) - delay - 1\n",
        "  i = min_index + lookback\n",
        "  while 1:\n",
        "    if shuffle:\n",
        "      rows = np.random.randint(\n",
        "        min_index + lookback, max_index, size=batch_size)\n",
        "    else:\n",
        "      if i + batch_size >= max_index:\n",
        "        i = min_index + lookback\n",
        "      rows = np.arange(i, min(i + batch_size, max_index))\n",
        "      i += len(rows)\n",
        "    samples = np.zeros((len(rows),lookback // step,data.shape[-1]))\n",
        "    targets = np.zeros((len(rows),))\n",
        "    for j, row in enumerate(rows):\n",
        "      indices = range(rows[j] - lookback, rows[j], step)\n",
        "      samples[j] = data[indices]\n",
        "      targets[j] = data[rows[j] + delay][3]\n",
        "    yield samples, targets"
      ],
      "metadata": {
        "id": "WWQdE3mlPrg1"
      },
      "execution_count": null,
      "outputs": []
    },
    {
      "cell_type": "code",
      "source": [
        "train_gen1 = generator(float_data,\n",
        "lookback=lookback,\n",
        "delay=delay,\n",
        "min_index=0,\n",
        "max_index=801,\n",
        "shuffle=True,\n",
        "step=step,\n",
        "batch_size=batch_size)"
      ],
      "metadata": {
        "id": "oWsxTAx1PsgC"
      },
      "execution_count": null,
      "outputs": []
    },
    {
      "cell_type": "code",
      "source": [
        "val_gen1 = generator(float_data,\n",
        "lookback=lookback,\n",
        "delay=delay,\n",
        "min_index=801,\n",
        "max_index=1001,\n",
        "step=step,\n",
        "batch_size=batch_size)"
      ],
      "metadata": {
        "id": "L7hfEFUlPtja"
      },
      "execution_count": null,
      "outputs": []
    },
    {
      "cell_type": "code",
      "source": [
        "test_gen1 = generator(float_data,\n",
        "lookback=lookback,\n",
        "delay=delay,\n",
        "min_index=1001,\n",
        "max_index=1201,\n",
        "step=step,\n",
        "batch_size=batch_size)"
      ],
      "metadata": {
        "id": "ZZCgjwh3PujF"
      },
      "execution_count": null,
      "outputs": []
    },
    {
      "cell_type": "code",
      "source": [
        "val_steps1 = (1001 - 801 - lookback)\n",
        "test_steps1 = (1201 - 1001 - lookback)"
      ],
      "metadata": {
        "id": "AS_zAr8lPvt-"
      },
      "execution_count": null,
      "outputs": []
    },
    {
      "cell_type": "code",
      "source": [
        "train_gen2 = generator(float_data,\n",
        "lookback=lookback,\n",
        "delay=delay,\n",
        "min_index=1201,\n",
        "max_index=2001,\n",
        "shuffle=True,\n",
        "step=step,\n",
        "batch_size=batch_size)"
      ],
      "metadata": {
        "id": "0Z4_5lgkp6aP"
      },
      "execution_count": null,
      "outputs": []
    },
    {
      "cell_type": "code",
      "source": [
        "val_gen2 = generator(float_data,\n",
        "lookback=lookback,\n",
        "delay=delay,\n",
        "min_index=2001,\n",
        "max_index=2201,\n",
        "step=step,\n",
        "batch_size=batch_size)"
      ],
      "metadata": {
        "id": "PrjjXbHgp9jg"
      },
      "execution_count": null,
      "outputs": []
    },
    {
      "cell_type": "code",
      "source": [
        "test_gen2 = generator(float_data,\n",
        "lookback=lookback,\n",
        "delay=delay,\n",
        "min_index=2201,\n",
        "max_index=2401,\n",
        "step=step,\n",
        "batch_size=batch_size)"
      ],
      "metadata": {
        "id": "hgxmIP5XqAbI"
      },
      "execution_count": null,
      "outputs": []
    },
    {
      "cell_type": "code",
      "source": [
        "val_steps2 = (2201 - 2001 - lookback)\n",
        "test_steps2 = (2401 - 2201 - lookback)"
      ],
      "metadata": {
        "id": "VS-ZfqmHqB53"
      },
      "execution_count": null,
      "outputs": []
    },
    {
      "cell_type": "code",
      "source": [
        "train_gen3 = generator(float_data,\n",
        "lookback=lookback,\n",
        "delay=delay,\n",
        "min_index=2401,\n",
        "max_index=3201,\n",
        "shuffle=True,\n",
        "step=step,\n",
        "batch_size=batch_size)"
      ],
      "metadata": {
        "id": "RTCXd-ERqb1m"
      },
      "execution_count": null,
      "outputs": []
    },
    {
      "cell_type": "code",
      "source": [
        "val_gen3 = generator(float_data,\n",
        "lookback=lookback,\n",
        "delay=delay,\n",
        "min_index=3201,\n",
        "max_index=3401,\n",
        "step=step,\n",
        "batch_size=batch_size)"
      ],
      "metadata": {
        "id": "TtB7Axq5qdeQ"
      },
      "execution_count": null,
      "outputs": []
    },
    {
      "cell_type": "code",
      "source": [
        "test_gen3 = generator(float_data,\n",
        "lookback=lookback,\n",
        "delay=delay,\n",
        "min_index=3401,\n",
        "max_index=3542,\n",
        "step=step,\n",
        "batch_size=batch_size)"
      ],
      "metadata": {
        "id": "Uet8d6tDqfPD"
      },
      "execution_count": null,
      "outputs": []
    },
    {
      "cell_type": "code",
      "source": [
        "val_steps3 = (3401 - 3201 - lookback)\n",
        "test_steps3 = (3542 - 3401 - lookback)"
      ],
      "metadata": {
        "id": "2epge6icqgPz"
      },
      "execution_count": null,
      "outputs": []
    },
    {
      "cell_type": "code",
      "source": [
        "model = tf.keras.models.Sequential()\n",
        "model.add(layers.LSTM(128,\n",
        "  activation='softmax',\n",
        "  dropout=0.1,\n",
        "  recurrent_dropout=0.1,\n",
        "  input_shape=(None, float_data.shape[-1])))\n",
        "model.add(layers.Dense(5,\n",
        "  activation='softmax',))\n",
        "model.add(layers.Dense(1))\n",
        "model.compile(optimizer= tf.keras.optimizers.RMSprop(), loss='mae')\n",
        "history = model.fit(train_gen,\n",
        "  steps_per_epoch=400,\n",
        "  epochs=200,\n",
        "  validation_data=val_gen,\n",
        "  validation_steps=val_steps)"
      ],
      "metadata": {
        "colab": {
          "base_uri": "https://localhost:8080/"
        },
        "id": "GrJP3GGkPxGw",
        "outputId": "0af8c001-7678-44e7-d21c-6a3c03f36b55"
      },
      "execution_count": null,
      "outputs": [
        {
          "output_type": "stream",
          "name": "stdout",
          "text": [
            "Epoch 1/200\n",
            "400/400 [==============================] - 63s 149ms/step - loss: 0.3250 - val_loss: 0.2279\n",
            "Epoch 2/200\n",
            "400/400 [==============================] - 59s 148ms/step - loss: 0.0876 - val_loss: 0.0253\n",
            "Epoch 3/200\n",
            "400/400 [==============================] - 59s 147ms/step - loss: 0.0372 - val_loss: 0.0233\n",
            "Epoch 4/200\n",
            "400/400 [==============================] - 59s 148ms/step - loss: 0.0289 - val_loss: 0.0195\n",
            "Epoch 5/200\n",
            "400/400 [==============================] - 59s 146ms/step - loss: 0.0262 - val_loss: 0.0194\n",
            "Epoch 6/200\n",
            "400/400 [==============================] - 58s 146ms/step - loss: 0.0251 - val_loss: 0.0180\n",
            "Epoch 7/200\n",
            "400/400 [==============================] - 58s 146ms/step - loss: 0.0242 - val_loss: 0.0177\n",
            "Epoch 8/200\n",
            "400/400 [==============================] - 58s 146ms/step - loss: 0.0237 - val_loss: 0.0248\n",
            "Epoch 9/200\n",
            "400/400 [==============================] - 58s 146ms/step - loss: 0.0232 - val_loss: 0.0247\n",
            "Epoch 10/200\n",
            "400/400 [==============================] - 58s 146ms/step - loss: 0.0227 - val_loss: 0.0164\n",
            "Epoch 11/200\n",
            "400/400 [==============================] - 59s 146ms/step - loss: 0.0224 - val_loss: 0.0163\n",
            "Epoch 12/200\n",
            "400/400 [==============================] - 59s 147ms/step - loss: 0.0222 - val_loss: 0.0159\n",
            "Epoch 13/200\n",
            "400/400 [==============================] - 59s 147ms/step - loss: 0.0219 - val_loss: 0.0170\n",
            "Epoch 14/200\n",
            "400/400 [==============================] - 59s 147ms/step - loss: 0.0216 - val_loss: 0.0168\n",
            "Epoch 15/200\n",
            "400/400 [==============================] - 59s 148ms/step - loss: 0.0213 - val_loss: 0.0169\n",
            "Epoch 16/200\n",
            "400/400 [==============================] - 60s 149ms/step - loss: 0.0215 - val_loss: 0.0160\n",
            "Epoch 17/200\n",
            "400/400 [==============================] - 60s 149ms/step - loss: 0.0213 - val_loss: 0.0151\n",
            "Epoch 18/200\n",
            "400/400 [==============================] - 60s 149ms/step - loss: 0.0212 - val_loss: 0.0150\n",
            "Epoch 19/200\n",
            "400/400 [==============================] - 59s 148ms/step - loss: 0.0210 - val_loss: 0.0156\n",
            "Epoch 20/200\n",
            "400/400 [==============================] - 59s 148ms/step - loss: 0.0208 - val_loss: 0.0163\n",
            "Epoch 21/200\n",
            "400/400 [==============================] - 59s 147ms/step - loss: 0.0209 - val_loss: 0.0150\n",
            "Epoch 22/200\n",
            "400/400 [==============================] - 58s 145ms/step - loss: 0.0209 - val_loss: 0.0163\n",
            "Epoch 23/200\n",
            "400/400 [==============================] - 59s 148ms/step - loss: 0.0207 - val_loss: 0.0148\n",
            "Epoch 24/200\n",
            "400/400 [==============================] - 60s 149ms/step - loss: 0.0206 - val_loss: 0.0151\n",
            "Epoch 25/200\n",
            "400/400 [==============================] - 59s 147ms/step - loss: 0.0206 - val_loss: 0.0154\n",
            "Epoch 26/200\n",
            "400/400 [==============================] - 59s 148ms/step - loss: 0.0207 - val_loss: 0.0156\n",
            "Epoch 27/200\n",
            "400/400 [==============================] - 59s 147ms/step - loss: 0.0206 - val_loss: 0.0146\n",
            "Epoch 28/200\n",
            "400/400 [==============================] - 59s 148ms/step - loss: 0.0204 - val_loss: 0.0145\n",
            "Epoch 29/200\n",
            "400/400 [==============================] - 59s 148ms/step - loss: 0.0203 - val_loss: 0.0195\n",
            "Epoch 30/200\n",
            "400/400 [==============================] - 58s 146ms/step - loss: 0.0204 - val_loss: 0.0143\n",
            "Epoch 31/200\n",
            "400/400 [==============================] - 58s 145ms/step - loss: 0.0203 - val_loss: 0.0143\n",
            "Epoch 32/200\n",
            "400/400 [==============================] - 58s 145ms/step - loss: 0.0204 - val_loss: 0.0151\n",
            "Epoch 33/200\n",
            "400/400 [==============================] - 58s 146ms/step - loss: 0.0203 - val_loss: 0.0149\n",
            "Epoch 34/200\n",
            "400/400 [==============================] - 59s 148ms/step - loss: 0.0203 - val_loss: 0.0178\n",
            "Epoch 35/200\n",
            "400/400 [==============================] - 59s 147ms/step - loss: 0.0201 - val_loss: 0.0141\n",
            "Epoch 36/200\n",
            "400/400 [==============================] - 59s 148ms/step - loss: 0.0201 - val_loss: 0.0149\n",
            "Epoch 37/200\n",
            "400/400 [==============================] - 59s 147ms/step - loss: 0.0201 - val_loss: 0.0142\n",
            "Epoch 38/200\n",
            "400/400 [==============================] - 59s 148ms/step - loss: 0.0201 - val_loss: 0.0143\n",
            "Epoch 39/200\n",
            "400/400 [==============================] - 59s 147ms/step - loss: 0.0201 - val_loss: 0.0157\n",
            "Epoch 40/200\n",
            "400/400 [==============================] - 59s 147ms/step - loss: 0.0200 - val_loss: 0.0152\n",
            "Epoch 41/200\n",
            "400/400 [==============================] - 59s 147ms/step - loss: 0.0200 - val_loss: 0.0142\n",
            "Epoch 42/200\n",
            "400/400 [==============================] - 58s 146ms/step - loss: 0.0201 - val_loss: 0.0140\n",
            "Epoch 43/200\n",
            "400/400 [==============================] - 58s 146ms/step - loss: 0.0199 - val_loss: 0.0140\n",
            "Epoch 44/200\n",
            "400/400 [==============================] - 58s 146ms/step - loss: 0.0201 - val_loss: 0.0143\n",
            "Epoch 45/200\n",
            "400/400 [==============================] - 58s 146ms/step - loss: 0.0199 - val_loss: 0.0151\n",
            "Epoch 46/200\n",
            "400/400 [==============================] - 59s 146ms/step - loss: 0.0200 - val_loss: 0.0140\n",
            "Epoch 47/200\n",
            "400/400 [==============================] - 59s 147ms/step - loss: 0.0199 - val_loss: 0.0140\n",
            "Epoch 48/200\n",
            "400/400 [==============================] - 59s 147ms/step - loss: 0.0199 - val_loss: 0.0160\n",
            "Epoch 49/200\n",
            "400/400 [==============================] - 59s 147ms/step - loss: 0.0198 - val_loss: 0.0139\n",
            "Epoch 50/200\n",
            "400/400 [==============================] - 59s 147ms/step - loss: 0.0198 - val_loss: 0.0155\n",
            "Epoch 51/200\n",
            "400/400 [==============================] - 59s 147ms/step - loss: 0.0198 - val_loss: 0.0147\n",
            "Epoch 52/200\n",
            "400/400 [==============================] - 59s 148ms/step - loss: 0.0198 - val_loss: 0.0151\n",
            "Epoch 53/200\n",
            "400/400 [==============================] - 59s 148ms/step - loss: 0.0199 - val_loss: 0.0140\n",
            "Epoch 54/200\n",
            "400/400 [==============================] - 59s 149ms/step - loss: 0.0199 - val_loss: 0.0145\n",
            "Epoch 55/200\n",
            "400/400 [==============================] - 59s 148ms/step - loss: 0.0197 - val_loss: 0.0140\n",
            "Epoch 56/200\n",
            "400/400 [==============================] - 59s 148ms/step - loss: 0.0198 - val_loss: 0.0165\n",
            "Epoch 57/200\n",
            "400/400 [==============================] - 59s 147ms/step - loss: 0.0198 - val_loss: 0.0138\n",
            "Epoch 58/200\n",
            "400/400 [==============================] - 58s 146ms/step - loss: 0.0197 - val_loss: 0.0147\n",
            "Epoch 59/200\n",
            "400/400 [==============================] - 59s 147ms/step - loss: 0.0197 - val_loss: 0.0144\n",
            "Epoch 60/200\n",
            "400/400 [==============================] - 59s 146ms/step - loss: 0.0196 - val_loss: 0.0138\n",
            "Epoch 61/200\n",
            "400/400 [==============================] - 59s 147ms/step - loss: 0.0197 - val_loss: 0.0148\n",
            "Epoch 62/200\n",
            "400/400 [==============================] - 58s 146ms/step - loss: 0.0196 - val_loss: 0.0137\n",
            "Epoch 63/200\n",
            "400/400 [==============================] - 59s 146ms/step - loss: 0.0197 - val_loss: 0.0151\n",
            "Epoch 64/200\n",
            "400/400 [==============================] - 59s 147ms/step - loss: 0.0196 - val_loss: 0.0143\n",
            "Epoch 65/200\n",
            "400/400 [==============================] - 58s 146ms/step - loss: 0.0196 - val_loss: 0.0146\n",
            "Epoch 66/200\n",
            "400/400 [==============================] - 59s 146ms/step - loss: 0.0197 - val_loss: 0.0136\n",
            "Epoch 67/200\n",
            "400/400 [==============================] - 60s 149ms/step - loss: 0.0196 - val_loss: 0.0141\n",
            "Epoch 68/200\n",
            "400/400 [==============================] - 59s 147ms/step - loss: 0.0196 - val_loss: 0.0136\n",
            "Epoch 69/200\n",
            "400/400 [==============================] - 59s 146ms/step - loss: 0.0195 - val_loss: 0.0139\n",
            "Epoch 70/200\n",
            "400/400 [==============================] - 58s 146ms/step - loss: 0.0196 - val_loss: 0.0136\n",
            "Epoch 71/200\n",
            "400/400 [==============================] - 59s 146ms/step - loss: 0.0195 - val_loss: 0.0136\n",
            "Epoch 72/200\n",
            "400/400 [==============================] - 58s 146ms/step - loss: 0.0195 - val_loss: 0.0158\n",
            "Epoch 73/200\n",
            "400/400 [==============================] - 59s 146ms/step - loss: 0.0195 - val_loss: 0.0150\n",
            "Epoch 74/200\n",
            "400/400 [==============================] - 58s 146ms/step - loss: 0.0195 - val_loss: 0.0137\n",
            "Epoch 75/200\n",
            "400/400 [==============================] - 59s 146ms/step - loss: 0.0195 - val_loss: 0.0136\n",
            "Epoch 76/200\n",
            "400/400 [==============================] - 58s 146ms/step - loss: 0.0194 - val_loss: 0.0166\n",
            "Epoch 77/200\n",
            "400/400 [==============================] - 59s 146ms/step - loss: 0.0193 - val_loss: 0.0135\n",
            "Epoch 78/200\n",
            "400/400 [==============================] - 58s 146ms/step - loss: 0.0193 - val_loss: 0.0134\n",
            "Epoch 79/200\n",
            "400/400 [==============================] - 59s 146ms/step - loss: 0.0194 - val_loss: 0.0136\n",
            "Epoch 80/200\n",
            "400/400 [==============================] - 59s 147ms/step - loss: 0.0193 - val_loss: 0.0138\n",
            "Epoch 81/200\n",
            "400/400 [==============================] - 59s 146ms/step - loss: 0.0194 - val_loss: 0.0142\n",
            "Epoch 82/200\n",
            "400/400 [==============================] - 59s 147ms/step - loss: 0.0193 - val_loss: 0.0185\n",
            "Epoch 83/200\n",
            "400/400 [==============================] - 59s 147ms/step - loss: 0.0193 - val_loss: 0.0137\n",
            "Epoch 84/200\n",
            "400/400 [==============================] - 59s 147ms/step - loss: 0.0192 - val_loss: 0.0134\n",
            "Epoch 85/200\n",
            "400/400 [==============================] - 59s 147ms/step - loss: 0.0193 - val_loss: 0.0146\n",
            "Epoch 86/200\n",
            "400/400 [==============================] - 59s 147ms/step - loss: 0.0193 - val_loss: 0.0135\n",
            "Epoch 87/200\n",
            "400/400 [==============================] - 59s 147ms/step - loss: 0.0194 - val_loss: 0.0133\n",
            "Epoch 88/200\n",
            "400/400 [==============================] - 59s 147ms/step - loss: 0.0193 - val_loss: 0.0147\n",
            "Epoch 89/200\n",
            "400/400 [==============================] - 59s 147ms/step - loss: 0.0192 - val_loss: 0.0135\n",
            "Epoch 90/200\n",
            "400/400 [==============================] - 59s 147ms/step - loss: 0.0192 - val_loss: 0.0137\n",
            "Epoch 91/200\n",
            "400/400 [==============================] - 59s 147ms/step - loss: 0.0193 - val_loss: 0.0135\n",
            "Epoch 92/200\n",
            "400/400 [==============================] - 59s 147ms/step - loss: 0.0192 - val_loss: 0.0137\n",
            "Epoch 93/200\n",
            "400/400 [==============================] - 59s 148ms/step - loss: 0.0189 - val_loss: 0.0132\n",
            "Epoch 94/200\n",
            "400/400 [==============================] - 59s 148ms/step - loss: 0.0191 - val_loss: 0.0133\n",
            "Epoch 95/200\n",
            "400/400 [==============================] - 60s 149ms/step - loss: 0.0192 - val_loss: 0.0133\n",
            "Epoch 96/200\n",
            "400/400 [==============================] - 59s 148ms/step - loss: 0.0192 - val_loss: 0.0162\n",
            "Epoch 97/200\n",
            "400/400 [==============================] - 59s 147ms/step - loss: 0.0190 - val_loss: 0.0191\n",
            "Epoch 98/200\n",
            "400/400 [==============================] - 59s 147ms/step - loss: 0.0191 - val_loss: 0.0172\n",
            "Epoch 99/200\n",
            "400/400 [==============================] - 59s 146ms/step - loss: 0.0190 - val_loss: 0.0161\n",
            "Epoch 100/200\n",
            "400/400 [==============================] - 59s 148ms/step - loss: 0.0190 - val_loss: 0.0165\n",
            "Epoch 101/200\n",
            "400/400 [==============================] - 59s 149ms/step - loss: 0.0190 - val_loss: 0.0132\n",
            "Epoch 102/200\n",
            "400/400 [==============================] - 59s 148ms/step - loss: 0.0190 - val_loss: 0.0152\n",
            "Epoch 103/200\n",
            "400/400 [==============================] - 59s 148ms/step - loss: 0.0189 - val_loss: 0.0143\n",
            "Epoch 104/200\n",
            "400/400 [==============================] - 59s 149ms/step - loss: 0.0188 - val_loss: 0.0136\n",
            "Epoch 105/200\n",
            "400/400 [==============================] - 59s 149ms/step - loss: 0.0189 - val_loss: 0.0149\n",
            "Epoch 106/200\n",
            "400/400 [==============================] - 59s 148ms/step - loss: 0.0189 - val_loss: 0.0194\n",
            "Epoch 107/200\n",
            "400/400 [==============================] - 59s 148ms/step - loss: 0.0189 - val_loss: 0.0156\n",
            "Epoch 108/200\n",
            "400/400 [==============================] - 59s 148ms/step - loss: 0.0188 - val_loss: 0.0180\n",
            "Epoch 109/200\n",
            "400/400 [==============================] - 59s 148ms/step - loss: 0.0187 - val_loss: 0.0161\n",
            "Epoch 110/200\n",
            "400/400 [==============================] - 59s 147ms/step - loss: 0.0189 - val_loss: 0.0140\n",
            "Epoch 111/200\n",
            "400/400 [==============================] - 59s 148ms/step - loss: 0.0188 - val_loss: 0.0151\n",
            "Epoch 112/200\n",
            "400/400 [==============================] - 59s 149ms/step - loss: 0.0188 - val_loss: 0.0236\n",
            "Epoch 113/200\n",
            "400/400 [==============================] - 59s 148ms/step - loss: 0.0187 - val_loss: 0.0137\n",
            "Epoch 114/200\n",
            "400/400 [==============================] - 59s 148ms/step - loss: 0.0186 - val_loss: 0.0259\n",
            "Epoch 115/200\n",
            "400/400 [==============================] - 59s 149ms/step - loss: 0.0188 - val_loss: 0.0188\n",
            "Epoch 116/200\n",
            "400/400 [==============================] - 60s 149ms/step - loss: 0.0187 - val_loss: 0.0222\n",
            "Epoch 117/200\n",
            "400/400 [==============================] - 59s 148ms/step - loss: 0.0187 - val_loss: 0.0192\n",
            "Epoch 118/200\n",
            "400/400 [==============================] - 59s 149ms/step - loss: 0.0186 - val_loss: 0.0215\n",
            "Epoch 119/200\n",
            "400/400 [==============================] - 59s 147ms/step - loss: 0.0187 - val_loss: 0.0201\n",
            "Epoch 120/200\n",
            "400/400 [==============================] - 59s 148ms/step - loss: 0.0187 - val_loss: 0.0184\n",
            "Epoch 121/200\n",
            "400/400 [==============================] - 59s 147ms/step - loss: 0.0186 - val_loss: 0.0142\n",
            "Epoch 122/200\n",
            "400/400 [==============================] - 59s 147ms/step - loss: 0.0186 - val_loss: 0.0271\n",
            "Epoch 123/200\n",
            "400/400 [==============================] - 59s 147ms/step - loss: 0.0186 - val_loss: 0.0187\n",
            "Epoch 124/200\n",
            "400/400 [==============================] - 59s 147ms/step - loss: 0.0186 - val_loss: 0.0179\n",
            "Epoch 125/200\n",
            "400/400 [==============================] - 59s 148ms/step - loss: 0.0186 - val_loss: 0.0251\n",
            "Epoch 126/200\n",
            "400/400 [==============================] - 59s 147ms/step - loss: 0.0185 - val_loss: 0.0244\n",
            "Epoch 127/200\n",
            "400/400 [==============================] - 59s 147ms/step - loss: 0.0186 - val_loss: 0.0241\n",
            "Epoch 128/200\n",
            "400/400 [==============================] - 59s 147ms/step - loss: 0.0185 - val_loss: 0.0198\n",
            "Epoch 129/200\n",
            "400/400 [==============================] - 59s 147ms/step - loss: 0.0184 - val_loss: 0.0157\n",
            "Epoch 130/200\n",
            "400/400 [==============================] - 59s 147ms/step - loss: 0.0185 - val_loss: 0.0159\n",
            "Epoch 131/200\n",
            "400/400 [==============================] - 59s 148ms/step - loss: 0.0185 - val_loss: 0.0324\n",
            "Epoch 132/200\n",
            "400/400 [==============================] - 59s 147ms/step - loss: 0.0183 - val_loss: 0.0178\n",
            "Epoch 133/200\n",
            "400/400 [==============================] - 59s 148ms/step - loss: 0.0183 - val_loss: 0.0257\n",
            "Epoch 134/200\n",
            "400/400 [==============================] - 59s 148ms/step - loss: 0.0184 - val_loss: 0.0265\n",
            "Epoch 135/200\n",
            "400/400 [==============================] - 59s 148ms/step - loss: 0.0184 - val_loss: 0.0259\n",
            "Epoch 136/200\n",
            "400/400 [==============================] - 59s 147ms/step - loss: 0.0184 - val_loss: 0.0179\n",
            "Epoch 137/200\n",
            "400/400 [==============================] - 59s 148ms/step - loss: 0.0184 - val_loss: 0.0208\n",
            "Epoch 138/200\n",
            "400/400 [==============================] - 59s 148ms/step - loss: 0.0184 - val_loss: 0.0266\n",
            "Epoch 139/200\n",
            "400/400 [==============================] - 59s 147ms/step - loss: 0.0183 - val_loss: 0.0225\n",
            "Epoch 140/200\n",
            "400/400 [==============================] - 59s 148ms/step - loss: 0.0182 - val_loss: 0.0235\n",
            "Epoch 141/200\n",
            "400/400 [==============================] - 59s 148ms/step - loss: 0.0184 - val_loss: 0.0337\n",
            "Epoch 142/200\n",
            "400/400 [==============================] - 59s 147ms/step - loss: 0.0184 - val_loss: 0.0230\n",
            "Epoch 143/200\n",
            "400/400 [==============================] - 59s 149ms/step - loss: 0.0184 - val_loss: 0.0336\n",
            "Epoch 144/200\n",
            "400/400 [==============================] - 59s 148ms/step - loss: 0.0182 - val_loss: 0.0268\n",
            "Epoch 145/200\n",
            "400/400 [==============================] - 59s 148ms/step - loss: 0.0183 - val_loss: 0.0291\n",
            "Epoch 146/200\n",
            "400/400 [==============================] - 59s 149ms/step - loss: 0.0184 - val_loss: 0.0233\n",
            "Epoch 147/200\n",
            "400/400 [==============================] - 59s 149ms/step - loss: 0.0182 - val_loss: 0.0211\n",
            "Epoch 148/200\n",
            "400/400 [==============================] - 59s 148ms/step - loss: 0.0182 - val_loss: 0.0240\n",
            "Epoch 149/200\n",
            "400/400 [==============================] - 59s 148ms/step - loss: 0.0182 - val_loss: 0.0205\n",
            "Epoch 150/200\n",
            "400/400 [==============================] - 59s 148ms/step - loss: 0.0183 - val_loss: 0.0250\n",
            "Epoch 151/200\n",
            "400/400 [==============================] - 59s 149ms/step - loss: 0.0182 - val_loss: 0.0192\n",
            "Epoch 152/200\n",
            "400/400 [==============================] - 59s 149ms/step - loss: 0.0182 - val_loss: 0.0194\n",
            "Epoch 153/200\n",
            "400/400 [==============================] - 59s 148ms/step - loss: 0.0181 - val_loss: 0.0254\n",
            "Epoch 154/200\n",
            "400/400 [==============================] - 59s 149ms/step - loss: 0.0182 - val_loss: 0.0324\n",
            "Epoch 155/200\n",
            "400/400 [==============================] - 60s 149ms/step - loss: 0.0181 - val_loss: 0.0310\n",
            "Epoch 156/200\n",
            "400/400 [==============================] - 60s 150ms/step - loss: 0.0183 - val_loss: 0.0356\n",
            "Epoch 157/200\n",
            "400/400 [==============================] - 59s 149ms/step - loss: 0.0181 - val_loss: 0.0282\n",
            "Epoch 158/200\n",
            "400/400 [==============================] - 60s 149ms/step - loss: 0.0180 - val_loss: 0.0339\n",
            "Epoch 159/200\n",
            "400/400 [==============================] - 60s 149ms/step - loss: 0.0183 - val_loss: 0.0302\n",
            "Epoch 160/200\n",
            "400/400 [==============================] - 60s 149ms/step - loss: 0.0181 - val_loss: 0.0355\n",
            "Epoch 161/200\n",
            "400/400 [==============================] - 60s 150ms/step - loss: 0.0181 - val_loss: 0.0261\n",
            "Epoch 162/200\n",
            "400/400 [==============================] - 60s 149ms/step - loss: 0.0181 - val_loss: 0.0219\n",
            "Epoch 163/200\n",
            "400/400 [==============================] - 60s 149ms/step - loss: 0.0181 - val_loss: 0.0266\n",
            "Epoch 164/200\n",
            "400/400 [==============================] - 60s 149ms/step - loss: 0.0180 - val_loss: 0.0308\n",
            "Epoch 165/200\n",
            "400/400 [==============================] - 60s 150ms/step - loss: 0.0180 - val_loss: 0.0286\n",
            "Epoch 166/200\n",
            "400/400 [==============================] - 60s 150ms/step - loss: 0.0181 - val_loss: 0.0341\n",
            "Epoch 167/200\n",
            "400/400 [==============================] - 60s 149ms/step - loss: 0.0180 - val_loss: 0.0332\n",
            "Epoch 168/200\n",
            "400/400 [==============================] - 60s 149ms/step - loss: 0.0181 - val_loss: 0.0252\n",
            "Epoch 169/200\n",
            "400/400 [==============================] - 60s 149ms/step - loss: 0.0180 - val_loss: 0.0356\n",
            "Epoch 170/200\n",
            "400/400 [==============================] - 60s 149ms/step - loss: 0.0181 - val_loss: 0.0317\n",
            "Epoch 171/200\n",
            "400/400 [==============================] - 60s 150ms/step - loss: 0.0180 - val_loss: 0.0258\n",
            "Epoch 172/200\n",
            "400/400 [==============================] - 60s 149ms/step - loss: 0.0180 - val_loss: 0.0365\n",
            "Epoch 173/200\n",
            "400/400 [==============================] - 60s 149ms/step - loss: 0.0181 - val_loss: 0.0328\n",
            "Epoch 174/200\n",
            "400/400 [==============================] - 60s 149ms/step - loss: 0.0180 - val_loss: 0.0211\n",
            "Epoch 175/200\n",
            "400/400 [==============================] - 60s 149ms/step - loss: 0.0179 - val_loss: 0.0287\n",
            "Epoch 176/200\n",
            "400/400 [==============================] - 60s 150ms/step - loss: 0.0180 - val_loss: 0.0400\n",
            "Epoch 177/200\n",
            "400/400 [==============================] - 60s 149ms/step - loss: 0.0180 - val_loss: 0.0383\n",
            "Epoch 178/200\n",
            "400/400 [==============================] - 60s 149ms/step - loss: 0.0180 - val_loss: 0.0459\n",
            "Epoch 179/200\n",
            "400/400 [==============================] - 59s 149ms/step - loss: 0.0181 - val_loss: 0.0358\n",
            "Epoch 180/200\n",
            "400/400 [==============================] - 60s 149ms/step - loss: 0.0179 - val_loss: 0.0497\n",
            "Epoch 181/200\n",
            "400/400 [==============================] - 60s 149ms/step - loss: 0.0179 - val_loss: 0.0257\n",
            "Epoch 182/200\n",
            "400/400 [==============================] - 60s 149ms/step - loss: 0.0179 - val_loss: 0.0379\n",
            "Epoch 183/200\n",
            "400/400 [==============================] - 60s 149ms/step - loss: 0.0179 - val_loss: 0.0463\n",
            "Epoch 184/200\n",
            "400/400 [==============================] - 60s 150ms/step - loss: 0.0179 - val_loss: 0.0336\n",
            "Epoch 185/200\n",
            "400/400 [==============================] - 60s 149ms/step - loss: 0.0178 - val_loss: 0.0284\n",
            "Epoch 186/200\n",
            "400/400 [==============================] - 60s 150ms/step - loss: 0.0179 - val_loss: 0.0388\n",
            "Epoch 187/200\n",
            "400/400 [==============================] - 60s 149ms/step - loss: 0.0179 - val_loss: 0.0468\n",
            "Epoch 188/200\n",
            "400/400 [==============================] - 60s 149ms/step - loss: 0.0179 - val_loss: 0.0422\n",
            "Epoch 189/200\n",
            "400/400 [==============================] - 60s 150ms/step - loss: 0.0180 - val_loss: 0.0412\n",
            "Epoch 190/200\n",
            "400/400 [==============================] - 60s 150ms/step - loss: 0.0179 - val_loss: 0.0401\n",
            "Epoch 191/200\n",
            "400/400 [==============================] - 60s 151ms/step - loss: 0.0178 - val_loss: 0.0408\n",
            "Epoch 192/200\n",
            "400/400 [==============================] - 60s 150ms/step - loss: 0.0179 - val_loss: 0.0413\n",
            "Epoch 193/200\n",
            "400/400 [==============================] - 60s 150ms/step - loss: 0.0178 - val_loss: 0.0357\n",
            "Epoch 194/200\n",
            "400/400 [==============================] - 60s 151ms/step - loss: 0.0178 - val_loss: 0.0429\n",
            "Epoch 195/200\n",
            "400/400 [==============================] - 60s 151ms/step - loss: 0.0178 - val_loss: 0.0419\n",
            "Epoch 196/200\n",
            "400/400 [==============================] - 60s 151ms/step - loss: 0.0179 - val_loss: 0.0405\n",
            "Epoch 197/200\n",
            "400/400 [==============================] - 60s 150ms/step - loss: 0.0178 - val_loss: 0.0420\n",
            "Epoch 198/200\n",
            "400/400 [==============================] - 60s 151ms/step - loss: 0.0178 - val_loss: 0.0433\n",
            "Epoch 199/200\n",
            "400/400 [==============================] - 60s 150ms/step - loss: 0.0178 - val_loss: 0.0460\n",
            "Epoch 200/200\n",
            "400/400 [==============================] - 60s 150ms/step - loss: 0.0179 - val_loss: 0.0319\n"
          ]
        }
      ]
    },
    {
      "cell_type": "code",
      "source": [
        "eval = model.evaluate(test_gen, steps = test_steps)\n"
      ],
      "metadata": {
        "colab": {
          "base_uri": "https://localhost:8080/"
        },
        "id": "m5XrzTgvPyge",
        "outputId": "f6f73e6e-caac-4787-e08f-09e7ffd04f91"
      },
      "execution_count": null,
      "outputs": [
        {
          "output_type": "stream",
          "name": "stdout",
          "text": [
            "511/511 [==============================] - 19s 37ms/step - loss: 0.0308\n"
          ]
        }
      ]
    },
    {
      "cell_type": "code",
      "source": [
        "eval"
      ],
      "metadata": {
        "colab": {
          "base_uri": "https://localhost:8080/"
        },
        "id": "wmC6fGAVHDFU",
        "outputId": "3ba029f3-2f2e-4f1c-861d-c9530bdb7894"
      },
      "execution_count": null,
      "outputs": [
        {
          "output_type": "execute_result",
          "data": {
            "text/plain": [
              "0.030848689377307892"
            ]
          },
          "metadata": {},
          "execution_count": 15
        }
      ]
    },
    {
      "cell_type": "code",
      "source": [
        "std * eval"
      ],
      "metadata": {
        "colab": {
          "base_uri": "https://localhost:8080/"
        },
        "id": "qaRcR7niIJTu",
        "outputId": "71da8e4b-5c1b-4bcd-b06d-8b876c1a80ab"
      },
      "execution_count": null,
      "outputs": [
        {
          "output_type": "execute_result",
          "data": {
            "text/plain": [
              "0.01174985752848425"
            ]
          },
          "metadata": {},
          "execution_count": 32
        }
      ]
    },
    {
      "cell_type": "code",
      "source": [
        "std * 0.0725"
      ],
      "metadata": {
        "colab": {
          "base_uri": "https://localhost:8080/"
        },
        "id": "RTE4YpRmKO9g",
        "outputId": "fbb6301f-2a79-4646-d562-92c09f0de3e7"
      },
      "execution_count": null,
      "outputs": [
        {
          "output_type": "execute_result",
          "data": {
            "text/plain": [
              "0.027614290526123113"
            ]
          },
          "metadata": {},
          "execution_count": 34
        }
      ]
    },
    {
      "cell_type": "code",
      "source": [
        "std_scaled = df_scaled['Closing'].std()"
      ],
      "metadata": {
        "id": "eSb7OXRtKc6R"
      },
      "execution_count": null,
      "outputs": []
    },
    {
      "cell_type": "code",
      "source": [
        "std_scaled * eval"
      ],
      "metadata": {
        "colab": {
          "base_uri": "https://localhost:8080/"
        },
        "id": "dWhSgN94Kjob",
        "outputId": "ef7e5cfc-bb9d-4dba-f01a-b7bce099fca8"
      },
      "execution_count": null,
      "outputs": [
        {
          "output_type": "execute_result",
          "data": {
            "text/plain": [
              "0.006130857137060883"
            ]
          },
          "metadata": {},
          "execution_count": 36
        }
      ]
    },
    {
      "cell_type": "code",
      "source": [
        "loss = history.history['loss']\n",
        "val_loss = history.history['val_loss']\n",
        "epochs = range(1, len(loss) + 1)\n",
        "plt.figure()\n",
        "plt.plot(epochs, loss, 'r', label='Training loss')\n",
        "plt.plot(epochs, val_loss, 'b', label='Validation loss')\n",
        "plt.title('Training and validation loss,softmax, RMSprop,  CLOSING PRICE PREDICTION')\n",
        "plt.legend()\n",
        "plt.show()"
      ],
      "metadata": {
        "colab": {
          "base_uri": "https://localhost:8080/",
          "height": 281
        },
        "id": "yg352FctPzt9",
        "outputId": "d672baec-0c82-488e-86e3-4686ccfb0ee4"
      },
      "execution_count": null,
      "outputs": [
        {
          "output_type": "display_data",
          "data": {
            "text/plain": [
              "<Figure size 432x288 with 1 Axes>"
            ],
            "image/png": "[encoded data removed]"
          },
          "metadata": {
            "needs_background": "light"
          }
        }
      ]
    },
    {
      "cell_type": "markdown",
      "source": [
        "Training of first set."
      ],
      "metadata": {
        "id": "K5QGFrsVruQh"
      }
    },
    {
      "cell_type": "code",
      "source": [
        "model1 = tf.keras.models.Sequential()\n",
        "model1.add(layers.LSTM(128,\n",
        "  activation='softmax',\n",
        "  dropout=0.1,\n",
        "  recurrent_dropout=0.1,\n",
        "  input_shape=(None, float_data.shape[-1])))\n",
        "model1.add(layers.Dense(5,\n",
        "  activation='softmax',))\n",
        "model1.add(layers.Dense(1))\n",
        "model1.compile(optimizer= tf.keras.optimizers.RMSprop(), loss='mae')\n",
        "history1 = model1.fit(train_gen1,\n",
        "  steps_per_epoch=400,\n",
        "  epochs=80,\n",
        "  validation_data=val_gen1,\n",
        "  validation_steps=val_steps1)"
      ],
      "metadata": {
        "colab": {
          "base_uri": "https://localhost:8080/"
        },
        "id": "qtnPrZIprQMK",
        "outputId": "8fd8be1a-a53a-4c53-e263-f95d5ea7baa0"
      },
      "execution_count": null,
      "outputs": [
        {
          "output_type": "stream",
          "name": "stdout",
          "text": [
            "Epoch 1/80\n",
            "400/400 [==============================] - 30s 65ms/step - loss: 0.0849 - val_loss: 0.0350\n",
            "Epoch 2/80\n",
            "400/400 [==============================] - 25s 62ms/step - loss: 0.0773 - val_loss: 0.0281\n",
            "Epoch 3/80\n",
            "400/400 [==============================] - 29s 73ms/step - loss: 0.0392 - val_loss: 0.0166\n",
            "Epoch 4/80\n",
            "400/400 [==============================] - 26s 66ms/step - loss: 0.0228 - val_loss: 0.0157\n",
            "Epoch 5/80\n",
            "400/400 [==============================] - 22s 54ms/step - loss: 0.0222 - val_loss: 0.0159\n",
            "Epoch 6/80\n",
            "400/400 [==============================] - 20s 51ms/step - loss: 0.0218 - val_loss: 0.0170\n",
            "Epoch 7/80\n",
            "400/400 [==============================] - 20s 51ms/step - loss: 0.0215 - val_loss: 0.0165\n",
            "Epoch 8/80\n",
            "400/400 [==============================] - 20s 50ms/step - loss: 0.0212 - val_loss: 0.0159\n",
            "Epoch 9/80\n",
            "400/400 [==============================] - 20s 50ms/step - loss: 0.0210 - val_loss: 0.0176\n",
            "Epoch 10/80\n",
            "400/400 [==============================] - 21s 52ms/step - loss: 0.0208 - val_loss: 0.0150\n",
            "Epoch 11/80\n",
            "400/400 [==============================] - 20s 49ms/step - loss: 0.0205 - val_loss: 0.0153\n",
            "Epoch 12/80\n",
            "400/400 [==============================] - 20s 49ms/step - loss: 0.0203 - val_loss: 0.0157\n",
            "Epoch 13/80\n",
            "400/400 [==============================] - 20s 51ms/step - loss: 0.0203 - val_loss: 0.0154\n",
            "Epoch 14/80\n",
            "400/400 [==============================] - 19s 49ms/step - loss: 0.0200 - val_loss: 0.0148\n",
            "Epoch 15/80\n",
            "400/400 [==============================] - 20s 49ms/step - loss: 0.0200 - val_loss: 0.0144\n",
            "Epoch 16/80\n",
            "400/400 [==============================] - 20s 50ms/step - loss: 0.0198 - val_loss: 0.0141\n",
            "Epoch 17/80\n",
            "400/400 [==============================] - 20s 49ms/step - loss: 0.0197 - val_loss: 0.0145\n",
            "Epoch 18/80\n",
            "400/400 [==============================] - 20s 50ms/step - loss: 0.0195 - val_loss: 0.0138\n",
            "Epoch 19/80\n",
            "400/400 [==============================] - 20s 50ms/step - loss: 0.0196 - val_loss: 0.0140\n",
            "Epoch 20/80\n",
            "400/400 [==============================] - 20s 50ms/step - loss: 0.0195 - val_loss: 0.0138\n",
            "Epoch 21/80\n",
            "400/400 [==============================] - 20s 49ms/step - loss: 0.0195 - val_loss: 0.0145\n",
            "Epoch 22/80\n",
            "400/400 [==============================] - 20s 50ms/step - loss: 0.0194 - val_loss: 0.0140\n",
            "Epoch 23/80\n",
            "400/400 [==============================] - 20s 50ms/step - loss: 0.0193 - val_loss: 0.0135\n",
            "Epoch 24/80\n",
            "400/400 [==============================] - 20s 50ms/step - loss: 0.0194 - val_loss: 0.0131\n",
            "Epoch 25/80\n",
            "400/400 [==============================] - 20s 50ms/step - loss: 0.0194 - val_loss: 0.0152\n",
            "Epoch 26/80\n",
            "400/400 [==============================] - 20s 49ms/step - loss: 0.0193 - val_loss: 0.0157\n",
            "Epoch 27/80\n",
            "400/400 [==============================] - 20s 50ms/step - loss: 0.0194 - val_loss: 0.0132\n",
            "Epoch 28/80\n",
            "400/400 [==============================] - 20s 50ms/step - loss: 0.0192 - val_loss: 0.0135\n",
            "Epoch 29/80\n",
            "400/400 [==============================] - 20s 50ms/step - loss: 0.0192 - val_loss: 0.0131\n",
            "Epoch 30/80\n",
            "400/400 [==============================] - 20s 50ms/step - loss: 0.0191 - val_loss: 0.0134\n",
            "Epoch 31/80\n",
            "400/400 [==============================] - 20s 50ms/step - loss: 0.0191 - val_loss: 0.0137\n",
            "Epoch 32/80\n",
            "400/400 [==============================] - 20s 50ms/step - loss: 0.0190 - val_loss: 0.0131\n",
            "Epoch 33/80\n",
            "400/400 [==============================] - 20s 49ms/step - loss: 0.0190 - val_loss: 0.0134\n",
            "Epoch 34/80\n",
            "400/400 [==============================] - 19s 49ms/step - loss: 0.0191 - val_loss: 0.0127\n",
            "Epoch 35/80\n",
            "400/400 [==============================] - 20s 49ms/step - loss: 0.0191 - val_loss: 0.0155\n",
            "Epoch 36/80\n",
            "400/400 [==============================] - 20s 49ms/step - loss: 0.0190 - val_loss: 0.0131\n",
            "Epoch 37/80\n",
            "400/400 [==============================] - 20s 49ms/step - loss: 0.0188 - val_loss: 0.0132\n",
            "Epoch 38/80\n",
            "400/400 [==============================] - 20s 49ms/step - loss: 0.0189 - val_loss: 0.0127\n",
            "Epoch 39/80\n",
            "400/400 [==============================] - 20s 50ms/step - loss: 0.0189 - val_loss: 0.0133\n",
            "Epoch 40/80\n",
            "400/400 [==============================] - 23s 58ms/step - loss: 0.0189 - val_loss: 0.0137\n",
            "Epoch 41/80\n",
            "400/400 [==============================] - 20s 50ms/step - loss: 0.0188 - val_loss: 0.0146\n",
            "Epoch 42/80\n",
            "400/400 [==============================] - 20s 50ms/step - loss: 0.0189 - val_loss: 0.0132\n",
            "Epoch 43/80\n",
            "400/400 [==============================] - 20s 50ms/step - loss: 0.0187 - val_loss: 0.0135\n",
            "Epoch 44/80\n",
            "400/400 [==============================] - 20s 50ms/step - loss: 0.0188 - val_loss: 0.0129\n",
            "Epoch 45/80\n",
            "400/400 [==============================] - 20s 50ms/step - loss: 0.0190 - val_loss: 0.0144\n",
            "Epoch 46/80\n",
            "400/400 [==============================] - 20s 50ms/step - loss: 0.0187 - val_loss: 0.0134\n",
            "Epoch 47/80\n",
            "400/400 [==============================] - 20s 50ms/step - loss: 0.0189 - val_loss: 0.0153\n",
            "Epoch 48/80\n",
            "400/400 [==============================] - 20s 50ms/step - loss: 0.0188 - val_loss: 0.0133\n",
            "Epoch 49/80\n",
            "400/400 [==============================] - 20s 50ms/step - loss: 0.0189 - val_loss: 0.0138\n",
            "Epoch 50/80\n",
            "400/400 [==============================] - 20s 49ms/step - loss: 0.0188 - val_loss: 0.0144\n",
            "Epoch 51/80\n",
            "400/400 [==============================] - 20s 50ms/step - loss: 0.0187 - val_loss: 0.0145\n",
            "Epoch 52/80\n",
            "400/400 [==============================] - 20s 50ms/step - loss: 0.0187 - val_loss: 0.0139\n",
            "Epoch 53/80\n",
            "400/400 [==============================] - 20s 49ms/step - loss: 0.0186 - val_loss: 0.0132\n",
            "Epoch 54/80\n",
            "400/400 [==============================] - 20s 49ms/step - loss: 0.0188 - val_loss: 0.0142\n",
            "Epoch 55/80\n",
            "400/400 [==============================] - 20s 50ms/step - loss: 0.0187 - val_loss: 0.0153\n",
            "Epoch 56/80\n",
            "400/400 [==============================] - 20s 49ms/step - loss: 0.0187 - val_loss: 0.0147\n",
            "Epoch 57/80\n",
            "400/400 [==============================] - 20s 50ms/step - loss: 0.0189 - val_loss: 0.0127\n",
            "Epoch 58/80\n",
            "400/400 [==============================] - 20s 49ms/step - loss: 0.0187 - val_loss: 0.0139\n",
            "Epoch 59/80\n",
            "400/400 [==============================] - 20s 49ms/step - loss: 0.0186 - val_loss: 0.0166\n",
            "Epoch 60/80\n",
            "400/400 [==============================] - 20s 49ms/step - loss: 0.0186 - val_loss: 0.0134\n",
            "Epoch 61/80\n",
            "400/400 [==============================] - 19s 49ms/step - loss: 0.0187 - val_loss: 0.0136\n",
            "Epoch 62/80\n",
            "400/400 [==============================] - 20s 49ms/step - loss: 0.0186 - val_loss: 0.0134\n",
            "Epoch 63/80\n",
            "400/400 [==============================] - 20s 50ms/step - loss: 0.0186 - val_loss: 0.0136\n",
            "Epoch 64/80\n",
            "400/400 [==============================] - 20s 50ms/step - loss: 0.0186 - val_loss: 0.0126\n",
            "Epoch 65/80\n",
            "400/400 [==============================] - 20s 50ms/step - loss: 0.0186 - val_loss: 0.0140\n",
            "Epoch 66/80\n",
            "400/400 [==============================] - 20s 49ms/step - loss: 0.0187 - val_loss: 0.0147\n",
            "Epoch 67/80\n",
            "400/400 [==============================] - 20s 50ms/step - loss: 0.0185 - val_loss: 0.0132\n",
            "Epoch 68/80\n",
            "400/400 [==============================] - 20s 50ms/step - loss: 0.0185 - val_loss: 0.0137\n",
            "Epoch 69/80\n",
            "400/400 [==============================] - 36s 91ms/step - loss: 0.0184 - val_loss: 0.0196\n",
            "Epoch 70/80\n",
            "400/400 [==============================] - 22s 56ms/step - loss: 0.0184 - val_loss: 0.0138\n",
            "Epoch 71/80\n",
            "400/400 [==============================] - 20s 50ms/step - loss: 0.0184 - val_loss: 0.0152\n",
            "Epoch 72/80\n",
            "400/400 [==============================] - 20s 51ms/step - loss: 0.0184 - val_loss: 0.0137\n",
            "Epoch 73/80\n",
            "400/400 [==============================] - 20s 51ms/step - loss: 0.0185 - val_loss: 0.0148\n",
            "Epoch 74/80\n",
            "400/400 [==============================] - 21s 52ms/step - loss: 0.0184 - val_loss: 0.0174\n",
            "Epoch 75/80\n",
            "400/400 [==============================] - 21s 52ms/step - loss: 0.0185 - val_loss: 0.0151\n",
            "Epoch 76/80\n",
            "400/400 [==============================] - 20s 51ms/step - loss: 0.0184 - val_loss: 0.0151\n",
            "Epoch 77/80\n",
            "400/400 [==============================] - 20s 51ms/step - loss: 0.0184 - val_loss: 0.0169\n",
            "Epoch 78/80\n",
            "400/400 [==============================] - 20s 51ms/step - loss: 0.0184 - val_loss: 0.0142\n",
            "Epoch 79/80\n",
            "400/400 [==============================] - 20s 50ms/step - loss: 0.0183 - val_loss: 0.0143\n",
            "Epoch 80/80\n",
            "400/400 [==============================] - 20s 50ms/step - loss: 0.0185 - val_loss: 0.0141\n"
          ]
        }
      ]
    },
    {
      "cell_type": "code",
      "source": [
        "eval1 = model1.evaluate(test_gen1, steps = test_steps1)"
      ],
      "metadata": {
        "colab": {
          "base_uri": "https://localhost:8080/"
        },
        "id": "yDKbe_GRrZHG",
        "outputId": "6bc54acc-2652-4587-c51a-4b9c65b5ad3e"
      },
      "execution_count": null,
      "outputs": [
        {
          "output_type": "stream",
          "name": "stdout",
          "text": [
            "190/190 [==============================] - 4s 20ms/step - loss: 0.0067\n"
          ]
        }
      ]
    },
    {
      "cell_type": "code",
      "source": [
        "std_scaled * eval1"
      ],
      "metadata": {
        "colab": {
          "base_uri": "https://localhost:8080/"
        },
        "id": "AmMfVfHkrdpt",
        "outputId": "ae8b677e-4ce8-42ed-af3b-c37fefd3940c"
      },
      "execution_count": null,
      "outputs": [
        {
          "output_type": "execute_result",
          "data": {
            "text/plain": [
              "0.001322307428338018"
            ]
          },
          "metadata": {},
          "execution_count": 27
        }
      ]
    },
    {
      "cell_type": "code",
      "source": [
        "std * eval1"
      ],
      "metadata": {
        "colab": {
          "base_uri": "https://localhost:8080/"
        },
        "id": "sfraZtuirfdY",
        "outputId": "0cc72487-e0b2-4a08-9872-79e46a666abc"
      },
      "execution_count": null,
      "outputs": [
        {
          "output_type": "execute_result",
          "data": {
            "text/plain": [
              "0.002534217246379431"
            ]
          },
          "metadata": {},
          "execution_count": 28
        }
      ]
    },
    {
      "cell_type": "code",
      "source": [
        "print(std_scaled)\n",
        "print(std)\n",
        "print(scaler.scale_[3])"
      ],
      "metadata": {
        "colab": {
          "base_uri": "https://localhost:8080/"
        },
        "id": "Pl6VfIWmzBp8",
        "outputId": "493cc44c-aecc-46a4-881a-bb9c7b533b24"
      },
      "execution_count": null,
      "outputs": [
        {
          "output_type": "stream",
          "name": "stdout",
          "text": [
            "0.19873963078543957\n",
            "0.3808867658775602\n",
            "0.5217814022168643\n"
          ]
        }
      ]
    },
    {
      "cell_type": "markdown",
      "source": [
        "Which one to use?"
      ],
      "metadata": {
        "id": "IAn6oLv2zN4O"
      }
    },
    {
      "cell_type": "code",
      "source": [
        "scaler.scale_[3] * eval1"
      ],
      "metadata": {
        "colab": {
          "base_uri": "https://localhost:8080/"
        },
        "id": "_wuYxRHerk_W",
        "outputId": "7d10fed8-ed06-420d-a2d5-c1d6b2e99488"
      },
      "execution_count": null,
      "outputs": [
        {
          "output_type": "execute_result",
          "data": {
            "text/plain": [
              "0.003471654955748945"
            ]
          },
          "metadata": {},
          "execution_count": 30
        }
      ]
    },
    {
      "cell_type": "code",
      "source": [
        "loss1 = history1.history['loss']\n",
        "val_loss1 = history1.history['val_loss']\n",
        "epochs1 = range(1, len(loss1) + 1)\n",
        "plt.figure()\n",
        "plt.plot(epochs1, loss1, 'r', label='Training loss')\n",
        "plt.plot(epochs1, val_loss1, 'b', label='Validation loss')\n",
        "plt.title('Training and validation loss,softmax, RMSprop,  CLOSING PRICE PREDICTION')\n",
        "plt.legend()\n",
        "plt.show()"
      ],
      "metadata": {
        "colab": {
          "base_uri": "https://localhost:8080/",
          "height": 281
        },
        "id": "P7sNDWYOrqtH",
        "outputId": "8ec20007-4e35-426c-82e2-62bdaf84d973"
      },
      "execution_count": null,
      "outputs": [
        {
          "output_type": "display_data",
          "data": {
            "text/plain": [
              "<Figure size 432x288 with 1 Axes>"
            ],
            "image/png": "[encoded data removed]"
          },
          "metadata": {
            "needs_background": "light"
          }
        }
      ]
    },
    {
      "cell_type": "markdown",
      "source": [
        "Training on 2 set."
      ],
      "metadata": {
        "id": "9ShZ4W4Kz30y"
      }
    },
    {
      "cell_type": "code",
      "source": [
        "history2 = model1.fit(train_gen2,\n",
        "  steps_per_epoch=400,\n",
        "  epochs=80,\n",
        "  validation_data=val_gen2,\n",
        "  validation_steps=val_steps2)"
      ],
      "metadata": {
        "colab": {
          "base_uri": "https://localhost:8080/"
        },
        "id": "jBtBEe6dwpmS",
        "outputId": "28a804e5-8f86-46e8-bfa6-d8e87df20c41"
      },
      "execution_count": null,
      "outputs": [
        {
          "output_type": "stream",
          "name": "stdout",
          "text": [
            "Epoch 1/80\n",
            "400/400 [==============================] - 21s 52ms/step - loss: 0.0324 - val_loss: 0.0249\n",
            "Epoch 2/80\n",
            "400/400 [==============================] - 20s 49ms/step - loss: 0.0254 - val_loss: 0.0300\n",
            "Epoch 3/80\n",
            "400/400 [==============================] - 20s 50ms/step - loss: 0.0248 - val_loss: 0.0250\n",
            "Epoch 4/80\n",
            "400/400 [==============================] - 19s 49ms/step - loss: 0.0242 - val_loss: 0.0225\n",
            "Epoch 5/80\n",
            "400/400 [==============================] - 20s 51ms/step - loss: 0.0240 - val_loss: 0.0269\n",
            "Epoch 6/80\n",
            "400/400 [==============================] - 19s 49ms/step - loss: 0.0236 - val_loss: 0.0287\n",
            "Epoch 7/80\n",
            "400/400 [==============================] - 20s 49ms/step - loss: 0.0234 - val_loss: 0.0311\n",
            "Epoch 8/80\n",
            "400/400 [==============================] - 20s 49ms/step - loss: 0.0232 - val_loss: 0.0302\n",
            "Epoch 9/80\n",
            "400/400 [==============================] - 20s 49ms/step - loss: 0.0231 - val_loss: 0.0380\n",
            "Epoch 10/80\n",
            "400/400 [==============================] - 20s 49ms/step - loss: 0.0228 - val_loss: 0.0357\n",
            "Epoch 11/80\n",
            "400/400 [==============================] - 20s 49ms/step - loss: 0.0230 - val_loss: 0.0363\n",
            "Epoch 12/80\n",
            "400/400 [==============================] - 20s 49ms/step - loss: 0.0229 - val_loss: 0.0360\n",
            "Epoch 13/80\n",
            "400/400 [==============================] - 20s 49ms/step - loss: 0.0229 - val_loss: 0.0393\n",
            "Epoch 14/80\n",
            "400/400 [==============================] - 20s 49ms/step - loss: 0.0227 - val_loss: 0.0379\n",
            "Epoch 15/80\n",
            "400/400 [==============================] - 20s 49ms/step - loss: 0.0226 - val_loss: 0.0367\n",
            "Epoch 16/80\n",
            "400/400 [==============================] - 20s 49ms/step - loss: 0.0225 - val_loss: 0.0368\n",
            "Epoch 17/80\n",
            "400/400 [==============================] - 20s 50ms/step - loss: 0.0225 - val_loss: 0.0314\n",
            "Epoch 18/80\n",
            "400/400 [==============================] - 20s 50ms/step - loss: 0.0225 - val_loss: 0.0381\n",
            "Epoch 19/80\n",
            "400/400 [==============================] - 20s 50ms/step - loss: 0.0223 - val_loss: 0.0362\n",
            "Epoch 20/80\n",
            "400/400 [==============================] - 20s 50ms/step - loss: 0.0224 - val_loss: 0.0337\n",
            "Epoch 21/80\n",
            "400/400 [==============================] - 20s 50ms/step - loss: 0.0223 - val_loss: 0.0397\n",
            "Epoch 22/80\n",
            "400/400 [==============================] - 20s 50ms/step - loss: 0.0223 - val_loss: 0.0358\n",
            "Epoch 23/80\n",
            "400/400 [==============================] - 20s 50ms/step - loss: 0.0222 - val_loss: 0.0449\n",
            "Epoch 24/80\n",
            "400/400 [==============================] - 20s 50ms/step - loss: 0.0222 - val_loss: 0.0446\n",
            "Epoch 25/80\n",
            "400/400 [==============================] - 20s 50ms/step - loss: 0.0221 - val_loss: 0.0442\n",
            "Epoch 26/80\n",
            "400/400 [==============================] - 20s 49ms/step - loss: 0.0220 - val_loss: 0.0397\n",
            "Epoch 27/80\n",
            "400/400 [==============================] - 20s 49ms/step - loss: 0.0222 - val_loss: 0.0401\n",
            "Epoch 28/80\n",
            "400/400 [==============================] - 20s 49ms/step - loss: 0.0218 - val_loss: 0.0423\n",
            "Epoch 29/80\n",
            "400/400 [==============================] - 20s 49ms/step - loss: 0.0220 - val_loss: 0.0384\n",
            "Epoch 30/80\n",
            "400/400 [==============================] - 20s 49ms/step - loss: 0.0220 - val_loss: 0.0475\n",
            "Epoch 31/80\n",
            "400/400 [==============================] - 20s 49ms/step - loss: 0.0218 - val_loss: 0.0421\n",
            "Epoch 32/80\n",
            "400/400 [==============================] - 20s 49ms/step - loss: 0.0219 - val_loss: 0.0500\n",
            "Epoch 33/80\n",
            "400/400 [==============================] - 20s 49ms/step - loss: 0.0217 - val_loss: 0.0507\n",
            "Epoch 34/80\n",
            "400/400 [==============================] - 20s 49ms/step - loss: 0.0217 - val_loss: 0.0488\n",
            "Epoch 35/80\n",
            "400/400 [==============================] - 20s 49ms/step - loss: 0.0219 - val_loss: 0.0410\n",
            "Epoch 36/80\n",
            "400/400 [==============================] - 19s 49ms/step - loss: 0.0219 - val_loss: 0.0529\n",
            "Epoch 37/80\n",
            "400/400 [==============================] - 20s 49ms/step - loss: 0.0217 - val_loss: 0.0518\n",
            "Epoch 38/80\n",
            "400/400 [==============================] - 20s 49ms/step - loss: 0.0216 - val_loss: 0.0502\n",
            "Epoch 39/80\n",
            "400/400 [==============================] - 20s 49ms/step - loss: 0.0217 - val_loss: 0.0473\n",
            "Epoch 40/80\n",
            "400/400 [==============================] - 20s 49ms/step - loss: 0.0216 - val_loss: 0.0550\n",
            "Epoch 41/80\n",
            "400/400 [==============================] - 20s 49ms/step - loss: 0.0217 - val_loss: 0.0590\n",
            "Epoch 42/80\n",
            "400/400 [==============================] - 20s 49ms/step - loss: 0.0216 - val_loss: 0.0489\n",
            "Epoch 43/80\n",
            "400/400 [==============================] - 20s 49ms/step - loss: 0.0216 - val_loss: 0.0529\n",
            "Epoch 44/80\n",
            "400/400 [==============================] - 20s 49ms/step - loss: 0.0216 - val_loss: 0.0470\n",
            "Epoch 45/80\n",
            "400/400 [==============================] - 20s 50ms/step - loss: 0.0216 - val_loss: 0.0575\n",
            "Epoch 46/80\n",
            "400/400 [==============================] - 20s 50ms/step - loss: 0.0215 - val_loss: 0.0575\n",
            "Epoch 47/80\n",
            "400/400 [==============================] - 20s 49ms/step - loss: 0.0215 - val_loss: 0.0566\n",
            "Epoch 48/80\n",
            "400/400 [==============================] - 20s 49ms/step - loss: 0.0215 - val_loss: 0.0467\n",
            "Epoch 49/80\n",
            "400/400 [==============================] - 20s 49ms/step - loss: 0.0216 - val_loss: 0.0502\n",
            "Epoch 50/80\n",
            "400/400 [==============================] - 20s 49ms/step - loss: 0.0216 - val_loss: 0.0540\n",
            "Epoch 51/80\n",
            "400/400 [==============================] - 20s 49ms/step - loss: 0.0215 - val_loss: 0.0501\n",
            "Epoch 52/80\n",
            "400/400 [==============================] - 20s 50ms/step - loss: 0.0215 - val_loss: 0.0547\n",
            "Epoch 53/80\n",
            "400/400 [==============================] - 20s 49ms/step - loss: 0.0214 - val_loss: 0.0560\n",
            "Epoch 54/80\n",
            "400/400 [==============================] - 20s 49ms/step - loss: 0.0215 - val_loss: 0.0579\n",
            "Epoch 55/80\n",
            "400/400 [==============================] - 20s 49ms/step - loss: 0.0214 - val_loss: 0.0605\n",
            "Epoch 56/80\n",
            "400/400 [==============================] - 20s 49ms/step - loss: 0.0214 - val_loss: 0.0458\n",
            "Epoch 57/80\n",
            "400/400 [==============================] - 20s 49ms/step - loss: 0.0214 - val_loss: 0.0584\n",
            "Epoch 58/80\n",
            "400/400 [==============================] - 20s 49ms/step - loss: 0.0215 - val_loss: 0.0607\n",
            "Epoch 59/80\n",
            "400/400 [==============================] - 20s 49ms/step - loss: 0.0214 - val_loss: 0.0587\n",
            "Epoch 60/80\n",
            "400/400 [==============================] - 20s 49ms/step - loss: 0.0214 - val_loss: 0.0614\n",
            "Epoch 61/80\n",
            "400/400 [==============================] - 20s 49ms/step - loss: 0.0213 - val_loss: 0.0635\n",
            "Epoch 62/80\n",
            "400/400 [==============================] - 20s 49ms/step - loss: 0.0213 - val_loss: 0.0534\n",
            "Epoch 63/80\n",
            "400/400 [==============================] - 20s 49ms/step - loss: 0.0214 - val_loss: 0.0497\n",
            "Epoch 64/80\n",
            "400/400 [==============================] - 20s 49ms/step - loss: 0.0214 - val_loss: 0.0623\n",
            "Epoch 65/80\n",
            "400/400 [==============================] - 20s 49ms/step - loss: 0.0212 - val_loss: 0.0537\n",
            "Epoch 66/80\n",
            "400/400 [==============================] - 20s 49ms/step - loss: 0.0213 - val_loss: 0.0578\n",
            "Epoch 67/80\n",
            "400/400 [==============================] - 20s 51ms/step - loss: 0.0212 - val_loss: 0.0579\n",
            "Epoch 68/80\n",
            "400/400 [==============================] - 20s 49ms/step - loss: 0.0212 - val_loss: 0.0591\n",
            "Epoch 69/80\n",
            "400/400 [==============================] - 20s 50ms/step - loss: 0.0213 - val_loss: 0.0570\n",
            "Epoch 70/80\n",
            "400/400 [==============================] - 20s 49ms/step - loss: 0.0212 - val_loss: 0.0631\n",
            "Epoch 71/80\n",
            "400/400 [==============================] - 20s 49ms/step - loss: 0.0213 - val_loss: 0.0521\n",
            "Epoch 72/80\n",
            "400/400 [==============================] - 20s 50ms/step - loss: 0.0213 - val_loss: 0.0607\n",
            "Epoch 73/80\n",
            "400/400 [==============================] - 20s 50ms/step - loss: 0.0213 - val_loss: 0.0551\n",
            "Epoch 74/80\n",
            "400/400 [==============================] - 20s 49ms/step - loss: 0.0213 - val_loss: 0.0674\n",
            "Epoch 75/80\n",
            "400/400 [==============================] - 20s 49ms/step - loss: 0.0212 - val_loss: 0.0601\n",
            "Epoch 76/80\n",
            "400/400 [==============================] - 20s 49ms/step - loss: 0.0213 - val_loss: 0.0550\n",
            "Epoch 77/80\n",
            "400/400 [==============================] - 20s 49ms/step - loss: 0.0212 - val_loss: 0.0540\n",
            "Epoch 78/80\n",
            "400/400 [==============================] - 22s 55ms/step - loss: 0.0211 - val_loss: 0.0567\n",
            "Epoch 79/80\n",
            "400/400 [==============================] - 38s 95ms/step - loss: 0.0213 - val_loss: 0.0670\n",
            "Epoch 80/80\n",
            "400/400 [==============================] - 26s 65ms/step - loss: 0.0211 - val_loss: 0.0592\n"
          ]
        }
      ]
    },
    {
      "cell_type": "code",
      "source": [
        "eval2 = model1.evaluate(test_gen2, steps = test_steps2)"
      ],
      "metadata": {
        "colab": {
          "base_uri": "https://localhost:8080/"
        },
        "id": "isr3IMVj5Nk_",
        "outputId": "47b70fc1-c72a-47e7-c0e9-e04d8889b190"
      },
      "execution_count": null,
      "outputs": [
        {
          "output_type": "stream",
          "name": "stdout",
          "text": [
            "190/190 [==============================] - 2s 12ms/step - loss: 0.0461\n"
          ]
        }
      ]
    },
    {
      "cell_type": "code",
      "source": [
        "std * eval2"
      ],
      "metadata": {
        "colab": {
          "base_uri": "https://localhost:8080/"
        },
        "id": "7hEwZM3d5aaX",
        "outputId": "1c079d0d-3622-4dd5-de91-efb0d3104e6f"
      },
      "execution_count": null,
      "outputs": [
        {
          "output_type": "execute_result",
          "data": {
            "text/plain": [
              "0.017546036578284015"
            ]
          },
          "metadata": {},
          "execution_count": 44
        }
      ]
    },
    {
      "cell_type": "code",
      "source": [
        "loss2 = history2.history['loss']\n",
        "val_loss2 = history2.history['val_loss']\n",
        "epochs2 = range(1, len(loss2) + 1)\n",
        "plt.figure()\n",
        "plt.plot(epochs2, loss2, 'r', label='Training loss')\n",
        "plt.plot(epochs2, val_loss2, 'b', label='Validation loss')\n",
        "plt.title('Training and validation loss,softmax, RMSprop,  CLOSING PRICE PREDICTION')\n",
        "plt.legend()\n",
        "plt.show()"
      ],
      "metadata": {
        "colab": {
          "base_uri": "https://localhost:8080/",
          "height": 281
        },
        "id": "DUuNpYWW5SKC",
        "outputId": "787255aa-054c-442b-b84a-4ee8b9dfe21c"
      },
      "execution_count": null,
      "outputs": [
        {
          "output_type": "display_data",
          "data": {
            "text/plain": [
              "<Figure size 432x288 with 1 Axes>"
            ],
            "image/png": "[encoded data removed]"
          },
          "metadata": {
            "needs_background": "light"
          }
        }
      ]
    },
    {
      "cell_type": "markdown",
      "source": [
        "Training on 3 set."
      ],
      "metadata": {
        "id": "YouKLTqX0BID"
      }
    },
    {
      "cell_type": "code",
      "source": [
        "history3 = model1.fit(train_gen3,\n",
        "  steps_per_epoch=400,\n",
        "  epochs=80,\n",
        "  validation_data=val_gen3,\n",
        "  validation_steps=val_steps3)"
      ],
      "metadata": {
        "colab": {
          "base_uri": "https://localhost:8080/"
        },
        "id": "7cqVOFNq5_8x",
        "outputId": "783126d2-bfc5-403b-a4ef-72ded7c1c5b9"
      },
      "execution_count": null,
      "outputs": [
        {
          "output_type": "stream",
          "name": "stdout",
          "text": [
            "Epoch 1/80\n",
            "400/400 [==============================] - 23s 58ms/step - loss: 0.0196 - val_loss: 0.0454\n",
            "Epoch 2/80\n",
            "400/400 [==============================] - 20s 49ms/step - loss: 0.0194 - val_loss: 0.0531\n",
            "Epoch 3/80\n",
            "400/400 [==============================] - 20s 49ms/step - loss: 0.0192 - val_loss: 0.0465\n",
            "Epoch 4/80\n",
            "400/400 [==============================] - 20s 49ms/step - loss: 0.0192 - val_loss: 0.0486\n",
            "Epoch 5/80\n",
            "400/400 [==============================] - 21s 53ms/step - loss: 0.0192 - val_loss: 0.0508\n",
            "Epoch 6/80\n",
            "400/400 [==============================] - 26s 64ms/step - loss: 0.0189 - val_loss: 0.0500\n",
            "Epoch 7/80\n",
            "400/400 [==============================] - 20s 49ms/step - loss: 0.0190 - val_loss: 0.0539\n",
            "Epoch 8/80\n",
            "400/400 [==============================] - 20s 50ms/step - loss: 0.0189 - val_loss: 0.0558\n",
            "Epoch 9/80\n",
            "400/400 [==============================] - 20s 50ms/step - loss: 0.0189 - val_loss: 0.0519\n",
            "Epoch 10/80\n",
            "400/400 [==============================] - 21s 52ms/step - loss: 0.0188 - val_loss: 0.0432\n",
            "Epoch 11/80\n",
            "400/400 [==============================] - 20s 50ms/step - loss: 0.0189 - val_loss: 0.0457\n",
            "Epoch 12/80\n",
            "400/400 [==============================] - 21s 53ms/step - loss: 0.0189 - val_loss: 0.0573\n",
            "Epoch 13/80\n",
            "400/400 [==============================] - 25s 62ms/step - loss: 0.0188 - val_loss: 0.0515\n",
            "Epoch 14/80\n",
            "400/400 [==============================] - 20s 50ms/step - loss: 0.0187 - val_loss: 0.0574\n",
            "Epoch 15/80\n",
            "400/400 [==============================] - 20s 50ms/step - loss: 0.0188 - val_loss: 0.0451\n",
            "Epoch 16/80\n",
            "400/400 [==============================] - 20s 50ms/step - loss: 0.0187 - val_loss: 0.0438\n",
            "Epoch 17/80\n",
            "400/400 [==============================] - 20s 50ms/step - loss: 0.0187 - val_loss: 0.0524\n",
            "Epoch 18/80\n",
            "400/400 [==============================] - 20s 50ms/step - loss: 0.0187 - val_loss: 0.0467\n",
            "Epoch 19/80\n",
            "400/400 [==============================] - 20s 51ms/step - loss: 0.0187 - val_loss: 0.0510\n",
            "Epoch 20/80\n",
            "400/400 [==============================] - 20s 50ms/step - loss: 0.0187 - val_loss: 0.0352\n",
            "Epoch 21/80\n",
            "400/400 [==============================] - 20s 49ms/step - loss: 0.0186 - val_loss: 0.0575\n",
            "Epoch 22/80\n",
            "400/400 [==============================] - 20s 50ms/step - loss: 0.0186 - val_loss: 0.0395\n",
            "Epoch 23/80\n",
            "400/400 [==============================] - 20s 49ms/step - loss: 0.0185 - val_loss: 0.0466\n",
            "Epoch 24/80\n",
            "400/400 [==============================] - 20s 50ms/step - loss: 0.0185 - val_loss: 0.0433\n",
            "Epoch 25/80\n",
            "400/400 [==============================] - 20s 50ms/step - loss: 0.0186 - val_loss: 0.0511\n",
            "Epoch 26/80\n",
            "400/400 [==============================] - 20s 50ms/step - loss: 0.0185 - val_loss: 0.0479\n",
            "Epoch 27/80\n",
            "400/400 [==============================] - 20s 50ms/step - loss: 0.0187 - val_loss: 0.0475\n",
            "Epoch 28/80\n",
            "400/400 [==============================] - 20s 50ms/step - loss: 0.0187 - val_loss: 0.0509\n",
            "Epoch 29/80\n",
            "400/400 [==============================] - 20s 50ms/step - loss: 0.0186 - val_loss: 0.0531\n",
            "Epoch 30/80\n",
            "400/400 [==============================] - 20s 50ms/step - loss: 0.0186 - val_loss: 0.0397\n",
            "Epoch 31/80\n",
            "400/400 [==============================] - 20s 50ms/step - loss: 0.0186 - val_loss: 0.0476\n",
            "Epoch 32/80\n",
            "400/400 [==============================] - 20s 50ms/step - loss: 0.0186 - val_loss: 0.0449\n",
            "Epoch 33/80\n",
            "400/400 [==============================] - 20s 50ms/step - loss: 0.0186 - val_loss: 0.0419\n",
            "Epoch 34/80\n",
            "400/400 [==============================] - 20s 51ms/step - loss: 0.0185 - val_loss: 0.0425\n",
            "Epoch 35/80\n",
            "400/400 [==============================] - 20s 50ms/step - loss: 0.0185 - val_loss: 0.0414\n",
            "Epoch 36/80\n",
            "400/400 [==============================] - 20s 51ms/step - loss: 0.0184 - val_loss: 0.0454\n",
            "Epoch 37/80\n",
            "400/400 [==============================] - 21s 51ms/step - loss: 0.0186 - val_loss: 0.0451\n",
            "Epoch 38/80\n",
            "400/400 [==============================] - 20s 51ms/step - loss: 0.0184 - val_loss: 0.0477\n",
            "Epoch 39/80\n",
            "400/400 [==============================] - 20s 50ms/step - loss: 0.0184 - val_loss: 0.0417\n",
            "Epoch 40/80\n",
            "400/400 [==============================] - 20s 50ms/step - loss: 0.0186 - val_loss: 0.0474\n",
            "Epoch 41/80\n",
            "400/400 [==============================] - 20s 50ms/step - loss: 0.0186 - val_loss: 0.0447\n",
            "Epoch 42/80\n",
            "400/400 [==============================] - 20s 50ms/step - loss: 0.0184 - val_loss: 0.0468\n",
            "Epoch 43/80\n",
            "400/400 [==============================] - 20s 50ms/step - loss: 0.0185 - val_loss: 0.0480\n",
            "Epoch 44/80\n",
            "400/400 [==============================] - 20s 50ms/step - loss: 0.0185 - val_loss: 0.0449\n",
            "Epoch 45/80\n",
            "400/400 [==============================] - 20s 51ms/step - loss: 0.0185 - val_loss: 0.0495\n",
            "Epoch 46/80\n",
            "400/400 [==============================] - 20s 51ms/step - loss: 0.0185 - val_loss: 0.0519\n",
            "Epoch 47/80\n",
            "400/400 [==============================] - 20s 50ms/step - loss: 0.0185 - val_loss: 0.0475\n",
            "Epoch 48/80\n",
            "400/400 [==============================] - 20s 50ms/step - loss: 0.0184 - val_loss: 0.0387\n",
            "Epoch 49/80\n",
            "400/400 [==============================] - 20s 50ms/step - loss: 0.0185 - val_loss: 0.0433\n",
            "Epoch 50/80\n",
            "400/400 [==============================] - 20s 50ms/step - loss: 0.0185 - val_loss: 0.0473\n",
            "Epoch 51/80\n",
            "400/400 [==============================] - 20s 50ms/step - loss: 0.0183 - val_loss: 0.0382\n",
            "Epoch 52/80\n",
            "400/400 [==============================] - 20s 51ms/step - loss: 0.0184 - val_loss: 0.0444\n",
            "Epoch 53/80\n",
            "400/400 [==============================] - 20s 50ms/step - loss: 0.0185 - val_loss: 0.0426\n",
            "Epoch 54/80\n",
            "400/400 [==============================] - 20s 51ms/step - loss: 0.0185 - val_loss: 0.0512\n",
            "Epoch 55/80\n",
            "400/400 [==============================] - 20s 51ms/step - loss: 0.0185 - val_loss: 0.0503\n",
            "Epoch 56/80\n",
            "400/400 [==============================] - 20s 51ms/step - loss: 0.0185 - val_loss: 0.0384\n",
            "Epoch 57/80\n",
            "400/400 [==============================] - 20s 51ms/step - loss: 0.0185 - val_loss: 0.0500\n",
            "Epoch 58/80\n",
            "400/400 [==============================] - 20s 51ms/step - loss: 0.0186 - val_loss: 0.0424\n",
            "Epoch 59/80\n",
            "400/400 [==============================] - 21s 51ms/step - loss: 0.0185 - val_loss: 0.0405\n",
            "Epoch 60/80\n",
            "400/400 [==============================] - 21s 51ms/step - loss: 0.0185 - val_loss: 0.0429\n",
            "Epoch 61/80\n",
            "400/400 [==============================] - 20s 51ms/step - loss: 0.0184 - val_loss: 0.0494\n",
            "Epoch 62/80\n",
            "400/400 [==============================] - 20s 51ms/step - loss: 0.0184 - val_loss: 0.0447\n",
            "Epoch 63/80\n",
            "400/400 [==============================] - 21s 52ms/step - loss: 0.0184 - val_loss: 0.0346\n",
            "Epoch 64/80\n",
            "400/400 [==============================] - 21s 52ms/step - loss: 0.0185 - val_loss: 0.0442\n",
            "Epoch 65/80\n",
            "400/400 [==============================] - 20s 50ms/step - loss: 0.0184 - val_loss: 0.0376\n",
            "Epoch 66/80\n",
            "400/400 [==============================] - 20s 51ms/step - loss: 0.0184 - val_loss: 0.0409\n",
            "Epoch 67/80\n",
            "400/400 [==============================] - 20s 51ms/step - loss: 0.0185 - val_loss: 0.0541\n",
            "Epoch 68/80\n",
            "400/400 [==============================] - 20s 51ms/step - loss: 0.0185 - val_loss: 0.0574\n",
            "Epoch 69/80\n",
            "400/400 [==============================] - 20s 51ms/step - loss: 0.0184 - val_loss: 0.0418\n",
            "Epoch 70/80\n",
            "400/400 [==============================] - 20s 51ms/step - loss: 0.0184 - val_loss: 0.0426\n",
            "Epoch 71/80\n",
            "400/400 [==============================] - 20s 51ms/step - loss: 0.0184 - val_loss: 0.0483\n",
            "Epoch 72/80\n",
            "400/400 [==============================] - 20s 51ms/step - loss: 0.0184 - val_loss: 0.0409\n",
            "Epoch 73/80\n",
            "400/400 [==============================] - 20s 51ms/step - loss: 0.0184 - val_loss: 0.0485\n",
            "Epoch 74/80\n",
            "400/400 [==============================] - 20s 50ms/step - loss: 0.0185 - val_loss: 0.0450\n",
            "Epoch 75/80\n",
            "400/400 [==============================] - 20s 50ms/step - loss: 0.0183 - val_loss: 0.0420\n",
            "Epoch 76/80\n",
            "400/400 [==============================] - 20s 50ms/step - loss: 0.0184 - val_loss: 0.0427\n",
            "Epoch 77/80\n",
            "400/400 [==============================] - 20s 50ms/step - loss: 0.0184 - val_loss: 0.0426\n",
            "Epoch 78/80\n",
            "400/400 [==============================] - 20s 51ms/step - loss: 0.0184 - val_loss: 0.0471\n",
            "Epoch 79/80\n",
            "400/400 [==============================] - 20s 50ms/step - loss: 0.0186 - val_loss: 0.0455\n",
            "Epoch 80/80\n",
            "400/400 [==============================] - 20s 50ms/step - loss: 0.0184 - val_loss: 0.0488\n"
          ]
        }
      ]
    },
    {
      "cell_type": "code",
      "source": [
        "eval3 = model1.evaluate(test_gen3, steps = test_steps3)"
      ],
      "metadata": {
        "colab": {
          "base_uri": "https://localhost:8080/"
        },
        "id": "QvCBWtmJHU0W",
        "outputId": "8e9d52b8-68df-4a0d-ff65-c796f0ae6f86"
      },
      "execution_count": null,
      "outputs": [
        {
          "output_type": "stream",
          "name": "stdout",
          "text": [
            "131/131 [==============================] - 3s 21ms/step - loss: 0.0802\n"
          ]
        }
      ]
    },
    {
      "cell_type": "code",
      "source": [
        "loss3 = history3.history['loss']\n",
        "val_loss3 = history3.history['val_loss']\n",
        "epochs3 = range(1, len(loss3) + 1)\n",
        "plt.figure()\n",
        "plt.plot(epochs3, loss3, 'r', label='Training loss')\n",
        "plt.plot(epochs3, val_loss3, 'b', label='Validation loss')\n",
        "plt.title('Training and validation loss,softmax, RMSprop,  CLOSING PRICE PREDICTION')\n",
        "plt.legend()\n",
        "plt.show()"
      ],
      "metadata": {
        "colab": {
          "base_uri": "https://localhost:8080/",
          "height": 281
        },
        "id": "ATRi7YEJHbaS",
        "outputId": "3d0dd8b7-248e-4cd9-e681-0317eb0bf543"
      },
      "execution_count": null,
      "outputs": [
        {
          "output_type": "display_data",
          "data": {
            "text/plain": [
              "<Figure size 432x288 with 1 Axes>"
            ],
            "image/png": "[encoded data removed]"
          },
          "metadata": {
            "needs_background": "light"
          }
        }
      ]
    }
  ]
}