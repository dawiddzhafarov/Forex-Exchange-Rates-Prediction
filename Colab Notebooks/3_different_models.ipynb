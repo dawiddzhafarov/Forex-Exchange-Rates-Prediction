{
  "cells": [
    {
      "cell_type": "markdown",
      "source": [
        "Different models, best val loss = 0.17"
      ],
      "metadata": {
        "id": "My5CAfTxJuNk"
      }
    },
    {
      "cell_type": "code",
      "execution_count": null,
      "metadata": {
        "id": "LrUMD01yxDhk"
      },
      "outputs": [],
      "source": [
        "import pandas as pd\n",
        "import numpy as np\n",
        "import tensorflow as tf\n",
        "from matplotlib import pyplot as plt\n",
        "from tensorflow.keras import layers\n",
        "df = pd.read_csv(\"drive/MyDrive/Engineer's Project/test.csv\")"
      ]
    },
    {
      "cell_type": "code",
      "execution_count": null,
      "metadata": {
        "colab": {
          "base_uri": "https://localhost:8080/",
          "height": 206
        },
        "id": "CwrLlpV9xIng",
        "outputId": "3fc63785-d73f-4565-ef98-9b8b170842c5"
      },
      "outputs": [
        {
          "output_type": "execute_result",
          "data": {
            "text/plain": [
              "    Opening    High     Low   Closing  Momentum   Range      ohlc   usa_cpi  \\\n",
              "0  2.879833  2.8879  2.8701  2.879821  0.000011  0.0178  2.879414  1.143161   \n",
              "1  2.884751  2.8941  2.8741  2.884744  0.000007  0.0200  2.884424  1.143161   \n",
              "2  2.922487  2.9499  2.8787  2.922526 -0.000040  0.0712  2.918403  1.143161   \n",
              "3  2.924881  2.9462  2.9071  2.924866  0.000015  0.0391  2.925762  1.143161   \n",
              "4  2.889930  2.9105  2.8762  2.889919  0.000011  0.0343  2.891637  1.143161   \n",
              "\n",
              "   pol_cpi  usa_inter  pol_inter  \n",
              "0      2.7       2.76       5.82  \n",
              "1      2.7       2.76       5.82  \n",
              "2      2.7       2.76       5.82  \n",
              "3      2.7       2.76       5.82  \n",
              "4      2.7       2.76       5.82  "
            ],
            "text/html": [
              "\n",
              "  <div id=\"df-336024e9-f170-41eb-b98c-f59928b61810\">\n",
              "    <div class=\"colab-df-container\">\n",
              "      <div>\n",
              "<style scoped>\n",
              "    .dataframe tbody tr th:only-of-type {\n",
              "        vertical-align: middle;\n",
              "    }\n",
              "\n",
              "    .dataframe tbody tr th {\n",
              "        vertical-align: top;\n",
              "    }\n",
              "\n",
              "    .dataframe thead th {\n",
              "        text-align: right;\n",
              "    }\n",
              "</style>\n",
              "<table border=\"1\" class=\"dataframe\">\n",
              "  <thead>\n",
              "    <tr style=\"text-align: right;\">\n",
              "      <th></th>\n",
              "      <th>Opening</th>\n",
              "      <th>High</th>\n",
              "      <th>Low</th>\n",
              "      <th>Closing</th>\n",
              "      <th>Momentum</th>\n",
              "      <th>Range</th>\n",
              "      <th>ohlc</th>\n",
              "      <th>usa_cpi</th>\n",
              "      <th>pol_cpi</th>\n",
              "      <th>usa_inter</th>\n",
              "      <th>pol_inter</th>\n",
              "    </tr>\n",
              "  </thead>\n",
              "  <tbody>\n",
              "    <tr>\n",
              "      <th>0</th>\n",
              "      <td>2.879833</td>\n",
              "      <td>2.8879</td>\n",
              "      <td>2.8701</td>\n",
              "      <td>2.879821</td>\n",
              "      <td>0.000011</td>\n",
              "      <td>0.0178</td>\n",
              "      <td>2.879414</td>\n",
              "      <td>1.143161</td>\n",
              "      <td>2.7</td>\n",
              "      <td>2.76</td>\n",
              "      <td>5.82</td>\n",
              "    </tr>\n",
              "    <tr>\n",
              "      <th>1</th>\n",
              "      <td>2.884751</td>\n",
              "      <td>2.8941</td>\n",
              "      <td>2.8741</td>\n",
              "      <td>2.884744</td>\n",
              "      <td>0.000007</td>\n",
              "      <td>0.0200</td>\n",
              "      <td>2.884424</td>\n",
              "      <td>1.143161</td>\n",
              "      <td>2.7</td>\n",
              "      <td>2.76</td>\n",
              "      <td>5.82</td>\n",
              "    </tr>\n",
              "    <tr>\n",
              "      <th>2</th>\n",
              "      <td>2.922487</td>\n",
              "      <td>2.9499</td>\n",
              "      <td>2.8787</td>\n",
              "      <td>2.922526</td>\n",
              "      <td>-0.000040</td>\n",
              "      <td>0.0712</td>\n",
              "      <td>2.918403</td>\n",
              "      <td>1.143161</td>\n",
              "      <td>2.7</td>\n",
              "      <td>2.76</td>\n",
              "      <td>5.82</td>\n",
              "    </tr>\n",
              "    <tr>\n",
              "      <th>3</th>\n",
              "      <td>2.924881</td>\n",
              "      <td>2.9462</td>\n",
              "      <td>2.9071</td>\n",
              "      <td>2.924866</td>\n",
              "      <td>0.000015</td>\n",
              "      <td>0.0391</td>\n",
              "      <td>2.925762</td>\n",
              "      <td>1.143161</td>\n",
              "      <td>2.7</td>\n",
              "      <td>2.76</td>\n",
              "      <td>5.82</td>\n",
              "    </tr>\n",
              "    <tr>\n",
              "      <th>4</th>\n",
              "      <td>2.889930</td>\n",
              "      <td>2.9105</td>\n",
              "      <td>2.8762</td>\n",
              "      <td>2.889919</td>\n",
              "      <td>0.000011</td>\n",
              "      <td>0.0343</td>\n",
              "      <td>2.891637</td>\n",
              "      <td>1.143161</td>\n",
              "      <td>2.7</td>\n",
              "      <td>2.76</td>\n",
              "      <td>5.82</td>\n",
              "    </tr>\n",
              "  </tbody>\n",
              "</table>\n",
              "</div>\n",
              "      <button class=\"colab-df-convert\" onclick=\"convertToInteractive('df-336024e9-f170-41eb-b98c-f59928b61810')\"\n",
              "              title=\"Convert this dataframe to an interactive table.\"\n",
              "              style=\"display:none;\">\n",
              "        \n",
              "  <svg xmlns=\"http://www.w3.org/2000/svg\" height=\"24px\"viewBox=\"0 0 24 24\"\n",
              "       width=\"24px\">\n",
              "    <path d=\"M0 0h24v24H0V0z\" fill=\"none\"/>\n",
              "    <path d=\"M18.56 5.44l.94 2.06.94-2.06 2.06-.94-2.06-.94-.94-2.06-.94 2.06-2.06.94zm-11 1L8.5 8.5l.94-2.06 2.06-.94-2.06-.94L8.5 2.5l-.94 2.06-2.06.94zm10 10l.94 2.06.94-2.06 2.06-.94-2.06-.94-.94-2.06-.94 2.06-2.06.94z\"/><path d=\"M17.41 7.96l-1.37-1.37c-.4-.4-.92-.59-1.43-.59-.52 0-1.04.2-1.43.59L10.3 9.45l-7.72 7.72c-.78.78-.78 2.05 0 2.83L4 21.41c.39.39.9.59 1.41.59.51 0 1.02-.2 1.41-.59l7.78-7.78 2.81-2.81c.8-.78.8-2.07 0-2.86zM5.41 20L4 18.59l7.72-7.72 1.47 1.35L5.41 20z\"/>\n",
              "  </svg>\n",
              "      </button>\n",
              "      \n",
              "  <style>\n",
              "    .colab-df-container {\n",
              "      display:flex;\n",
              "      flex-wrap:wrap;\n",
              "      gap: 12px;\n",
              "    }\n",
              "\n",
              "    .colab-df-convert {\n",
              "      background-color: #E8F0FE;\n",
              "      border: none;\n",
              "      border-radius: 50%;\n",
              "      cursor: pointer;\n",
              "      display: none;\n",
              "      fill: #1967D2;\n",
              "      height: 32px;\n",
              "      padding: 0 0 0 0;\n",
              "      width: 32px;\n",
              "    }\n",
              "\n",
              "    .colab-df-convert:hover {\n",
              "      background-color: #E2EBFA;\n",
              "      box-shadow: 0px 1px 2px rgba(60, 64, 67, 0.3), 0px 1px 3px 1px rgba(60, 64, 67, 0.15);\n",
              "      fill: #174EA6;\n",
              "    }\n",
              "\n",
              "    [theme=dark] .colab-df-convert {\n",
              "      background-color: #3B4455;\n",
              "      fill: #D2E3FC;\n",
              "    }\n",
              "\n",
              "    [theme=dark] .colab-df-convert:hover {\n",
              "      background-color: #434B5C;\n",
              "      box-shadow: 0px 1px 3px 1px rgba(0, 0, 0, 0.15);\n",
              "      filter: drop-shadow(0px 1px 2px rgba(0, 0, 0, 0.3));\n",
              "      fill: #FFFFFF;\n",
              "    }\n",
              "  </style>\n",
              "\n",
              "      <script>\n",
              "        const buttonEl =\n",
              "          document.querySelector('#df-336024e9-f170-41eb-b98c-f59928b61810 button.colab-df-convert');\n",
              "        buttonEl.style.display =\n",
              "          google.colab.kernel.accessAllowed ? 'block' : 'none';\n",
              "\n",
              "        async function convertToInteractive(key) {\n",
              "          const element = document.querySelector('#df-336024e9-f170-41eb-b98c-f59928b61810');\n",
              "          const dataTable =\n",
              "            await google.colab.kernel.invokeFunction('convertToInteractive',\n",
              "                                                     [key], {});\n",
              "          if (!dataTable) return;\n",
              "\n",
              "          const docLinkHtml = 'Like what you see? Visit the ' +\n",
              "            '<a target=\"_blank\" href=https://colab.research.google.com/notebooks/data_table.ipynb>data table notebook</a>'\n",
              "            + ' to learn more about interactive tables.';\n",
              "          element.innerHTML = '';\n",
              "          dataTable['output_type'] = 'display_data';\n",
              "          await google.colab.output.renderOutput(dataTable, element);\n",
              "          const docLink = document.createElement('div');\n",
              "          docLink.innerHTML = docLinkHtml;\n",
              "          element.appendChild(docLink);\n",
              "        }\n",
              "      </script>\n",
              "    </div>\n",
              "  </div>\n",
              "  "
            ]
          },
          "metadata": {},
          "execution_count": 2
        }
      ],
      "source": [
        "df.pop('Date')\n",
        "df.head()"
      ]
    },
    {
      "cell_type": "code",
      "execution_count": null,
      "metadata": {
        "id": "0_H_QlkYxO0p"
      },
      "outputs": [],
      "source": [
        "float_data = np.array(df).astype('float32')"
      ]
    },
    {
      "cell_type": "code",
      "execution_count": null,
      "metadata": {
        "id": "oauXXmfRxeyS"
      },
      "outputs": [],
      "source": [
        "mean = float_data[:2500].mean(axis=0)\n",
        "float_data -= mean\n",
        "std = float_data[:2500].std(axis=0)\n",
        "float_data /= std"
      ]
    },
    {
      "cell_type": "code",
      "execution_count": null,
      "metadata": {
        "id": "XDBfN1Bb0AMz"
      },
      "outputs": [],
      "source": [
        "lookback = 30\n",
        "step = 1\n",
        "delay =1\n",
        "min_index  = 0\n",
        "max_index = 2500\n",
        "#max_index  = 3541\n",
        "batch_size = 128"
      ]
    },
    {
      "cell_type": "code",
      "execution_count": null,
      "metadata": {
        "id": "_p7HA_hs1r6x"
      },
      "outputs": [],
      "source": [
        "def generator(data, lookback, delay, min_index, max_index,shuffle=False, batch_size=128, step=1):\n",
        "  if max_index is None:\n",
        "    max_index = len(data) - delay - 1\n",
        "  i = min_index + lookback\n",
        "  while 1:\n",
        "    if shuffle:\n",
        "      rows = np.random.randint(\n",
        "        min_index + lookback, max_index, size=batch_size)\n",
        "    else:\n",
        "      if i + batch_size >= max_index:\n",
        "        i = min_index + lookback\n",
        "      rows = np.arange(i, min(i + batch_size, max_index))\n",
        "      i += len(rows)\n",
        "    samples = np.zeros((len(rows),lookback // step,data.shape[-1]))\n",
        "    targets = np.zeros((len(rows),))\n",
        "    for j, row in enumerate(rows):\n",
        "      indices = range(rows[j] - lookback, rows[j], step)\n",
        "      samples[j] = data[indices]\n",
        "      targets[j] = data[rows[j] + delay][1]\n",
        "    yield samples, targets"
      ]
    },
    {
      "cell_type": "code",
      "execution_count": null,
      "metadata": {
        "id": "HRHHf8U1143-"
      },
      "outputs": [],
      "source": [
        "train_gen = generator(float_data,\n",
        "lookback=lookback,\n",
        "delay=delay,\n",
        "min_index=0,\n",
        "max_index=2500,\n",
        "#max_index=3541,\n",
        "shuffle=True,\n",
        "step=step,\n",
        "batch_size=batch_size)"
      ]
    },
    {
      "cell_type": "code",
      "execution_count": null,
      "metadata": {
        "id": "WZf_8WYZ2EyB"
      },
      "outputs": [],
      "source": [
        "val_gen = generator(float_data,\n",
        "lookback=lookback,\n",
        "delay=delay,\n",
        "min_index=2501,\n",
        "max_index=3000,\n",
        "step=step,\n",
        "batch_size=batch_size)"
      ]
    },
    {
      "cell_type": "code",
      "execution_count": null,
      "metadata": {
        "id": "dR5p7H2z0st3"
      },
      "outputs": [],
      "source": [
        "test_gen = generator(float_data,\n",
        "lookback=lookback,\n",
        "delay=delay,\n",
        "min_index=3001,\n",
        "max_index=3541,\n",
        "step=step,\n",
        "batch_size=batch_size)"
      ]
    },
    {
      "cell_type": "code",
      "execution_count": null,
      "metadata": {
        "id": "5v3Ie0ysxaYh"
      },
      "outputs": [],
      "source": [
        "val_steps = (3000 - 2501 - lookback)\n",
        "test_steps = (len(float_data) - 3001 - lookback)"
      ]
    },
    {
      "cell_type": "code",
      "execution_count": null,
      "metadata": {
        "colab": {
          "base_uri": "https://localhost:8080/"
        },
        "id": "YRA5NUsx328w",
        "outputId": "67c7a1ce-4fbe-44dd-d888-8db18ca09956"
      },
      "outputs": [
        {
          "name": "stdout",
          "output_type": "stream",
          "text": [
            "Epoch 1/12\n",
            "200/200 [==============================] - 31s 136ms/step - loss: 0.1145 - val_loss: 0.3042\n",
            "Epoch 2/12\n",
            "200/200 [==============================] - 26s 131ms/step - loss: 0.0836 - val_loss: 0.2918\n",
            "Epoch 3/12\n",
            "200/200 [==============================] - 27s 136ms/step - loss: 0.0761 - val_loss: 0.2542\n",
            "Epoch 4/12\n",
            "200/200 [==============================] - 27s 134ms/step - loss: 0.0711 - val_loss: 0.2523\n",
            "Epoch 5/12\n",
            "200/200 [==============================] - 26s 132ms/step - loss: 0.0675 - val_loss: 0.2066\n",
            "Epoch 6/12\n",
            "200/200 [==============================] - 27s 134ms/step - loss: 0.0648 - val_loss: 0.2007\n",
            "Epoch 7/12\n",
            "200/200 [==============================] - 27s 135ms/step - loss: 0.0612 - val_loss: 0.2845\n",
            "Epoch 8/12\n",
            "200/200 [==============================] - 27s 134ms/step - loss: 0.0589 - val_loss: 0.2339\n",
            "Epoch 9/12\n",
            "200/200 [==============================] - 27s 134ms/step - loss: 0.0564 - val_loss: 0.2005\n",
            "Epoch 10/12\n",
            "200/200 [==============================] - 27s 133ms/step - loss: 0.0546 - val_loss: 0.2166\n",
            "Epoch 11/12\n",
            "200/200 [==============================] - 26s 131ms/step - loss: 0.0522 - val_loss: 0.2662\n",
            "Epoch 12/12\n",
            "200/200 [==============================] - 26s 131ms/step - loss: 0.0501 - val_loss: 0.2588\n"
          ]
        }
      ],
      "source": [
        "model5 = tf.keras.models.Sequential()\n",
        "model5.add(layers.LSTM(64,\n",
        "  #dropout=0.1,\n",
        "  #recurrent_dropout=0.1,\n",
        "  return_sequences=True,\n",
        "  input_shape=(None, float_data.shape[-1])))\n",
        "model5.add(layers.LSTM(64,\n",
        "  #dropout=0.1,\n",
        "  #recurrent_dropout=0.1,\n",
        "  input_shape=(None, float_data.shape[-1])))\n",
        "model5.add(layers.Dense(64))\n",
        "model5.add(layers.Dense(1))\n",
        "model5.compile(optimizer= tf.keras.optimizers.RMSprop(), loss='mae')\n",
        "history5 = model5.fit(train_gen,\n",
        "  steps_per_epoch=200,\n",
        "  epochs=12,\n",
        "  validation_data=val_gen,\n",
        "  validation_steps=val_steps)"
      ]
    },
    {
      "cell_type": "markdown",
      "metadata": {
        "id": "pQTU-IFd_tUb"
      },
      "source": [
        "WOW!"
      ]
    },
    {
      "cell_type": "code",
      "execution_count": null,
      "metadata": {
        "colab": {
          "base_uri": "https://localhost:8080/"
        },
        "id": "2p72SUj837O6",
        "outputId": "edf34b2a-8d7e-488c-f6e9-45e6a6095b1c"
      },
      "outputs": [
        {
          "name": "stdout",
          "output_type": "stream",
          "text": [
            "511/511 [==============================] - 15s 29ms/step - loss: 0.1766\n"
          ]
        },
        {
          "data": {
            "text/plain": [
              "0.06594478231906908"
            ]
          },
          "execution_count": 12,
          "metadata": {},
          "output_type": "execute_result"
        }
      ],
      "source": [
        "eval5 = model5.evaluate(test_gen, steps = test_steps)\n",
        "eval5 *std[6]"
      ]
    },
    {
      "cell_type": "markdown",
      "metadata": {
        "id": "EOcwfiiPACaU"
      },
      "source": [
        "ADAM instead of RMSprop"
      ]
    },
    {
      "cell_type": "code",
      "execution_count": null,
      "metadata": {
        "colab": {
          "background_save": true,
          "base_uri": "https://localhost:8080/"
        },
        "id": "gCEGiWP__vLC",
        "outputId": "48f22103-002a-42c3-c167-50dece4f895a"
      },
      "outputs": [
        {
          "name": "stdout",
          "output_type": "stream",
          "text": [
            "Epoch 1/12\n",
            "200/200 [==============================] - 56s 255ms/step - loss: 0.1356 - val_loss: 0.2330\n",
            "Epoch 2/12\n",
            "200/200 [==============================] - 50s 249ms/step - loss: 0.0944 - val_loss: 0.4246\n",
            "Epoch 3/12\n",
            "200/200 [==============================] - 50s 250ms/step - loss: 0.0849 - val_loss: 0.2883\n",
            "Epoch 4/12\n",
            "200/200 [==============================] - 50s 250ms/step - loss: 0.0795 - val_loss: 0.3127\n",
            "Epoch 5/12\n",
            "200/200 [==============================] - 49s 246ms/step - loss: 0.0750 - val_loss: 0.3190\n",
            "Epoch 6/12\n",
            "200/200 [==============================] - 49s 244ms/step - loss: 0.0721 - val_loss: 0.3183\n",
            "Epoch 7/12\n",
            "200/200 [==============================] - 48s 243ms/step - loss: 0.0693 - val_loss: 0.2281\n",
            "Epoch 8/12\n",
            "200/200 [==============================] - 48s 243ms/step - loss: 0.0656 - val_loss: 0.2774\n",
            "Epoch 9/12\n",
            "200/200 [==============================] - 48s 242ms/step - loss: 0.0622 - val_loss: 0.2857\n",
            "Epoch 10/12\n",
            "200/200 [==============================] - 49s 245ms/step - loss: 0.0599 - val_loss: 0.3584\n",
            "Epoch 11/12\n",
            "200/200 [==============================] - 49s 244ms/step - loss: 0.0569 - val_loss: 0.2438\n",
            "Epoch 12/12\n",
            "200/200 [==============================] - 48s 242ms/step - loss: 0.0542 - val_loss: 0.1830\n"
          ]
        }
      ],
      "source": [
        "model6 = tf.keras.models.Sequential()\n",
        "model6.add(layers.GRU(32,\n",
        "  #dropout=0.1,\n",
        "  #recurrent_dropout=0.1,\n",
        "  return_sequences=True,\n",
        "  input_shape=(None, float_data.shape[-1])))\n",
        "model6.add(layers.GRU(64,\n",
        "  #dropout=0.1,\n",
        "  #recurrent_dropout=0.1,\n",
        "  return_sequences=True,\n",
        "  input_shape=(None, float_data.shape[-1])))\n",
        "model6.add(layers.LSTM(128,\n",
        "  #dropout=0.1,\n",
        "  #recurrent_dropout=0.1,\n",
        "  input_shape=(None, float_data.shape[-1])))\n",
        "model6.add(layers.Dense(64))\n",
        "model6.add(layers.Dense(1))\n",
        "model6.compile(optimizer= tf.keras.optimizers.RMSprop(), loss='mae')\n",
        "history6 = model6.fit(train_gen,\n",
        "  steps_per_epoch=200,\n",
        "  epochs=12,\n",
        "  validation_data=val_gen,\n",
        "  validation_steps=val_steps)"
      ]
    },
    {
      "cell_type": "code",
      "execution_count": null,
      "metadata": {
        "colab": {
          "base_uri": "https://localhost:8080/"
        },
        "id": "br7BtXTMABd_",
        "outputId": "a5f0d943-ca87-4cd1-c700-cb15eafc7551"
      },
      "outputs": [
        {
          "name": "stdout",
          "output_type": "stream",
          "text": [
            "511/511 [==============================] - 27s 52ms/step - loss: 0.2229\n"
          ]
        },
        {
          "data": {
            "text/plain": [
              "0.08321104263750012"
            ]
          },
          "execution_count": 20,
          "metadata": {},
          "output_type": "execute_result"
        }
      ],
      "source": [
        "eval6 = model6.evaluate(test_gen, steps = test_steps)\n",
        "eval6 *std[6]"
      ]
    },
    {
      "cell_type": "code",
      "execution_count": null,
      "metadata": {
        "id": "SCcdrAvFEUA1"
      },
      "outputs": [],
      "source": [
        "del model6"
      ]
    },
    {
      "cell_type": "code",
      "execution_count": null,
      "metadata": {
        "colab": {
          "base_uri": "https://localhost:8080/"
        },
        "id": "AhY7cw02Esx3",
        "outputId": "1ace3a27-ca52-4c2b-e3d7-b2c3a2b150a9"
      },
      "outputs": [
        {
          "name": "stdout",
          "output_type": "stream",
          "text": [
            "511/511 [==============================] - 20s 38ms/step - loss: 0.3883\n"
          ]
        },
        {
          "data": {
            "text/plain": [
              "0.14495999005955973"
            ]
          },
          "execution_count": 25,
          "metadata": {},
          "output_type": "execute_result"
        }
      ],
      "source": [
        "eval7 = model7.evaluate(test_gen, steps = test_steps)\n",
        "eval7 *std[6]"
      ]
    },
    {
      "cell_type": "code",
      "execution_count": null,
      "metadata": {
        "colab": {
          "base_uri": "https://localhost:8080/"
        },
        "id": "8PxQ5RJGEj9a",
        "outputId": "9430e81c-039e-483f-d310-b0e5681b59ea"
      },
      "outputs": [
        {
          "name": "stdout",
          "output_type": "stream",
          "text": [
            "Epoch 1/12\n",
            "200/200 [==============================] - 72s 315ms/step - loss: 0.1498 - val_loss: 0.1594\n",
            "Epoch 2/12\n",
            "200/200 [==============================] - 61s 307ms/step - loss: 0.1124 - val_loss: 0.2611\n",
            "Epoch 3/12\n",
            "200/200 [==============================] - 61s 308ms/step - loss: 0.1014 - val_loss: 0.2787\n",
            "Epoch 4/12\n",
            "200/200 [==============================] - 60s 302ms/step - loss: 0.0972 - val_loss: 0.2566\n",
            "Epoch 5/12\n",
            "200/200 [==============================] - 61s 304ms/step - loss: 0.0921 - val_loss: 0.2634\n",
            "Epoch 6/12\n",
            "200/200 [==============================] - 62s 309ms/step - loss: 0.0889 - val_loss: 0.2882\n",
            "Epoch 7/12\n",
            "200/200 [==============================] - 61s 303ms/step - loss: 0.0851 - val_loss: 0.3272\n",
            "Epoch 8/12\n",
            "200/200 [==============================] - 60s 303ms/step - loss: 0.0825 - val_loss: 0.2402\n",
            "Epoch 9/12\n",
            "200/200 [==============================] - 61s 305ms/step - loss: 0.0785 - val_loss: 0.3131\n",
            "Epoch 10/12\n",
            "200/200 [==============================] - 61s 304ms/step - loss: 0.0761 - val_loss: 0.4056\n",
            "Epoch 11/12\n",
            "200/200 [==============================] - 62s 310ms/step - loss: 0.0726 - val_loss: 0.3265\n",
            "Epoch 12/12\n",
            "200/200 [==============================] - 61s 305ms/step - loss: 0.0700 - val_loss: 0.3583\n"
          ]
        }
      ],
      "source": [
        "model7 = tf.keras.models.Sequential()\n",
        "model7.add(layers.GRU(32,\n",
        "  dropout=0.1,\n",
        "  recurrent_dropout=0.1,\n",
        "  return_sequences=True,\n",
        "  input_shape=(None, float_data.shape[-1])))\n",
        "model7.add(layers.GRU(64,\n",
        "  dropout=0.1,\n",
        "  recurrent_dropout=0.1,\n",
        "  return_sequences=True,\n",
        "  input_shape=(None, float_data.shape[-1])))\n",
        "model7.add(layers.LSTM(128,\n",
        "  dropout=0.1,\n",
        "  recurrent_dropout=0.1,\n",
        "  input_shape=(None, float_data.shape[-1])))\n",
        "model7.add(layers.Dense(64))\n",
        "model7.add(layers.Dense(1))\n",
        "model7.compile(optimizer= tf.keras.optimizers.RMSprop(), loss='mae')\n",
        "history7 = model7.fit(train_gen,\n",
        "  steps_per_epoch=200,\n",
        "  epochs=12,\n",
        "  validation_data=val_gen,\n",
        "  validation_steps=val_steps)"
      ]
    },
    {
      "cell_type": "code",
      "execution_count": null,
      "metadata": {
        "colab": {
          "base_uri": "https://localhost:8080/"
        },
        "id": "Cm9_GuDmGLR6",
        "outputId": "63d5366c-adc0-4d87-c984-15e1ea3ea28b"
      },
      "outputs": [
        {
          "output_type": "stream",
          "name": "stdout",
          "text": [
            "Epoch 1/20\n",
            "200/200 [==============================] - 101s 485ms/step - loss: 0.1353 - val_loss: 0.2076\n",
            "Epoch 2/20\n",
            "200/200 [==============================] - 93s 465ms/step - loss: 0.0990 - val_loss: 0.2110\n",
            "Epoch 3/20\n",
            "200/200 [==============================] - 91s 458ms/step - loss: 0.0898 - val_loss: 0.1679\n",
            "Epoch 4/20\n",
            "200/200 [==============================] - 92s 463ms/step - loss: 0.0844 - val_loss: 0.3248\n",
            "Epoch 5/20\n",
            "200/200 [==============================] - 94s 472ms/step - loss: 0.0808 - val_loss: 0.2022\n",
            "Epoch 6/20\n",
            "200/200 [==============================] - 93s 465ms/step - loss: 0.0770 - val_loss: 0.1973\n",
            "Epoch 7/20\n",
            "200/200 [==============================] - 94s 469ms/step - loss: 0.0752 - val_loss: 0.2188\n",
            "Epoch 8/20\n",
            "200/200 [==============================] - 93s 465ms/step - loss: 0.0721 - val_loss: 0.1862\n",
            "Epoch 9/20\n",
            "200/200 [==============================] - 95s 474ms/step - loss: 0.0690 - val_loss: 0.2101\n",
            "Epoch 10/20\n",
            "200/200 [==============================] - 94s 470ms/step - loss: 0.0670 - val_loss: 0.3502\n",
            "Epoch 11/20\n",
            "200/200 [==============================] - 92s 460ms/step - loss: 0.0646 - val_loss: 0.2769\n",
            "Epoch 12/20\n",
            "200/200 [==============================] - 91s 455ms/step - loss: 0.0616 - val_loss: 0.2685\n",
            "Epoch 13/20\n",
            "200/200 [==============================] - 95s 474ms/step - loss: 0.0595 - val_loss: 0.2951\n",
            "Epoch 14/20\n",
            "200/200 [==============================] - 97s 487ms/step - loss: 0.0572 - val_loss: 0.3011\n",
            "Epoch 15/20\n",
            "200/200 [==============================] - 94s 473ms/step - loss: 0.0550 - val_loss: 0.2999\n",
            "Epoch 16/20\n",
            "200/200 [==============================] - 94s 469ms/step - loss: 0.0534 - val_loss: 0.3259\n",
            "Epoch 17/20\n",
            "200/200 [==============================] - 96s 481ms/step - loss: 0.0517 - val_loss: 0.2713\n",
            "Epoch 18/20\n",
            "200/200 [==============================] - 95s 476ms/step - loss: 0.0496 - val_loss: 0.2592\n",
            "Epoch 19/20\n",
            "200/200 [==============================] - 95s 477ms/step - loss: 0.0485 - val_loss: 0.2629\n",
            "Epoch 20/20\n",
            "200/200 [==============================] - 100s 500ms/step - loss: 0.0468 - val_loss: 0.2729\n"
          ]
        }
      ],
      "source": [
        "model1 = tf.keras.models.Sequential()\n",
        "model1.add(layers.GRU(20,\n",
        "  #dropout=0.1,\n",
        "  #recurrent_dropout=0.1,\n",
        "  return_sequences=True,\n",
        "  input_shape=(None, float_data.shape[-1])))\n",
        "model1.add(layers.LSTM(256,\n",
        "  dropout=0.1,\n",
        "  #recurrent_dropout=0.1,\n",
        "  input_shape=(None, float_data.shape[-1])))\n",
        "model1.add(layers.Dense(64))\n",
        "model1.add(layers.Dense(1))\n",
        "model1.compile(optimizer= tf.keras.optimizers.RMSprop(), loss='mae')\n",
        "history1 = model1.fit(train_gen,\n",
        "  steps_per_epoch=200,\n",
        "  epochs=20,\n",
        "  validation_data=val_gen,\n",
        "  validation_steps=val_steps)"
      ]
    },
    {
      "cell_type": "code",
      "execution_count": null,
      "metadata": {
        "colab": {
          "base_uri": "https://localhost:8080/"
        },
        "id": "3MIe7-TJcJBs",
        "outputId": "4c3b2f3c-8d26-431a-ae78-3f8f56cd91f2"
      },
      "outputs": [
        {
          "output_type": "stream",
          "name": "stdout",
          "text": [
            "511/511 [==============================] - 47s 91ms/step - loss: 0.2918\n"
          ]
        },
        {
          "output_type": "execute_result",
          "data": {
            "text/plain": [
              "0.10892725858839825"
            ]
          },
          "metadata": {},
          "execution_count": 12
        }
      ],
      "source": [
        "eval1 = model1.evaluate(test_gen, steps = test_steps)\n",
        "eval1 *std[6]"
      ]
    },
    {
      "cell_type": "code",
      "execution_count": null,
      "metadata": {
        "id": "-YURA0uKcQU9",
        "colab": {
          "base_uri": "https://localhost:8080/",
          "height": 187
        },
        "outputId": "24b32886-e9a1-4f0b-ae71-2b64eb916740"
      },
      "outputs": [
        {
          "output_type": "error",
          "ename": "NameError",
          "evalue": "ignored",
          "traceback": [
            "\u001b[0;31m---------------------------------------------------------------------------\u001b[0m",
            "\u001b[0;31mNameError\u001b[0m                                 Traceback (most recent call last)",
            "\u001b[0;32m<ipython-input-13-ebef89280f12>\u001b[0m in \u001b[0;36m<module>\u001b[0;34m()\u001b[0m\n\u001b[0;32m----> 1\u001b[0;31m \u001b[0;32mdel\u001b[0m \u001b[0mmodel1\u001b[0m\u001b[0;34m\u001b[0m\u001b[0;34m\u001b[0m\u001b[0m\n\u001b[0m\u001b[1;32m      2\u001b[0m \u001b[0mmodel1\u001b[0m\u001b[0;34m\u001b[0m\u001b[0;34m\u001b[0m\u001b[0m\n",
            "\u001b[0;31mNameError\u001b[0m: name 'model1' is not defined"
          ]
        }
      ],
      "source": [
        "del model1"
      ]
    }
  ],
  "metadata": {
    "colab": {
      "provenance": []
    },
    "kernelspec": {
      "display_name": "Python 3",
      "name": "python3"
    },
    "language_info": {
      "name": "python"
    }
  },
  "nbformat": 4,
  "nbformat_minor": 0
}