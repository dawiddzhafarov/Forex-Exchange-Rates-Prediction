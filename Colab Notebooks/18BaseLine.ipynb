{
  "nbformat": 4,
  "nbformat_minor": 0,
  "metadata": {
    "colab": {
      "name": "18BaseLine.ipynb",
      "provenance": [],
      "collapsed_sections": []
    },
    "kernelspec": {
      "name": "python3",
      "display_name": "Python 3"
    },
    "language_info": {
      "name": "python"
    }
  },
  "cells": [
    {
      "cell_type": "markdown",
      "source": [
        "Here I have examined a baseline model, that calculates average from the lookback days, and prediction is that calculated average. On the whole training set it is around 0.04, so the goal is to beat it. Model here created manages to get 0.02 val loss. I also used a keras auto tuner for the 1st time."
      ],
      "metadata": {
        "id": "IObJV6Sm11Vt"
      }
    },
    {
      "cell_type": "code",
      "execution_count": null,
      "metadata": {
        "id": "R5dFsaNt8jxv"
      },
      "outputs": [],
      "source": [
        "import pandas as pd\n",
        "import numpy as np\n",
        "import tensorflow as tf\n",
        "from itertools import chain\n",
        "from matplotlib import pyplot as plt\n",
        "from tensorflow.keras import layers\n",
        "from sklearn.preprocessing import MinMaxScaler\n",
        "import keras_tuner as kt\n",
        "df = pd.read_csv(\"drive/MyDrive/Engineer's Project/test.csv\")"
      ]
    },
    {
      "cell_type": "code",
      "source": [
        "pip install -q -U keras-tuner"
      ],
      "metadata": {
        "colab": {
          "base_uri": "https://localhost:8080/"
        },
        "id": "FZyPiHowmUjC",
        "outputId": "abba8807-6801-4c5b-ffb6-8470e6f80d6a"
      },
      "execution_count": null,
      "outputs": [
        {
          "output_type": "stream",
          "name": "stdout",
          "text": [
            "\u001b[?25l\r\u001b[K     |██▌                             | 10 kB 25.0 MB/s eta 0:00:01\r\u001b[K     |█████                           | 20 kB 19.7 MB/s eta 0:00:01\r\u001b[K     |███████▍                        | 30 kB 12.4 MB/s eta 0:00:01\r\u001b[K     |█████████▉                      | 40 kB 10.2 MB/s eta 0:00:01\r\u001b[K     |████████████▎                   | 51 kB 4.9 MB/s eta 0:00:01\r\u001b[K     |██████████████▊                 | 61 kB 5.7 MB/s eta 0:00:01\r\u001b[K     |█████████████████▏              | 71 kB 5.8 MB/s eta 0:00:01\r\u001b[K     |███████████████████▋            | 81 kB 4.3 MB/s eta 0:00:01\r\u001b[K     |██████████████████████          | 92 kB 4.7 MB/s eta 0:00:01\r\u001b[K     |████████████████████████▌       | 102 kB 5.2 MB/s eta 0:00:01\r\u001b[K     |███████████████████████████     | 112 kB 5.2 MB/s eta 0:00:01\r\u001b[K     |█████████████████████████████▍  | 122 kB 5.2 MB/s eta 0:00:01\r\u001b[K     |███████████████████████████████▉| 133 kB 5.2 MB/s eta 0:00:01\r\u001b[K     |████████████████████████████████| 133 kB 5.2 MB/s \n",
            "\u001b[?25h"
          ]
        }
      ]
    },
    {
      "cell_type": "code",
      "source": [
        "df.pop('usa_cpi')\n",
        "df.pop('pol_cpi')\n",
        "df.pop('usa_inter')\n",
        "df.pop('pol_inter')\n",
        "df.pop('Date')"
      ],
      "metadata": {
        "colab": {
          "base_uri": "https://localhost:8080/"
        },
        "id": "MqPxiaZ-8s1y",
        "outputId": "822ae335-97ec-42a7-dc0c-d479dbd79b6e"
      },
      "execution_count": null,
      "outputs": [
        {
          "output_type": "execute_result",
          "data": {
            "text/plain": [
              "0       2010.11.15\n",
              "1       2010.11.16\n",
              "2       2010.11.17\n",
              "3       2010.11.18\n",
              "4       2010.11.19\n",
              "           ...    \n",
              "3537    2022.03.27\n",
              "3538    2022.03.28\n",
              "3539    2022.03.29\n",
              "3540    2022.03.30\n",
              "3541    2022.03.31\n",
              "Name: Date, Length: 3542, dtype: object"
            ]
          },
          "metadata": {},
          "execution_count": 5
        }
      ]
    },
    {
      "cell_type": "code",
      "source": [
        "df.head()"
      ],
      "metadata": {
        "colab": {
          "base_uri": "https://localhost:8080/",
          "height": 206
        },
        "id": "htkSZHADK7K-",
        "outputId": "8c6eeed9-116e-4470-ff3b-6fac865fa6f5"
      },
      "execution_count": null,
      "outputs": [
        {
          "output_type": "execute_result",
          "data": {
            "text/plain": [
              "    Opening    High     Low   Closing  Momentum   Range      ohlc\n",
              "0  2.879833  2.8879  2.8701  2.879821  0.000011  0.0178  2.879414\n",
              "1  2.884751  2.8941  2.8741  2.884744  0.000007  0.0200  2.884424\n",
              "2  2.922487  2.9499  2.8787  2.922526 -0.000040  0.0712  2.918403\n",
              "3  2.924881  2.9462  2.9071  2.924866  0.000015  0.0391  2.925762\n",
              "4  2.889930  2.9105  2.8762  2.889919  0.000011  0.0343  2.891637"
            ],
            "text/html": [
              "\n",
              "  <div id=\"df-59f632e1-0f6c-4ff7-9ea1-57fee7433e38\">\n",
              "    <div class=\"colab-df-container\">\n",
              "      <div>\n",
              "<style scoped>\n",
              "    .dataframe tbody tr th:only-of-type {\n",
              "        vertical-align: middle;\n",
              "    }\n",
              "\n",
              "    .dataframe tbody tr th {\n",
              "        vertical-align: top;\n",
              "    }\n",
              "\n",
              "    .dataframe thead th {\n",
              "        text-align: right;\n",
              "    }\n",
              "</style>\n",
              "<table border=\"1\" class=\"dataframe\">\n",
              "  <thead>\n",
              "    <tr style=\"text-align: right;\">\n",
              "      <th></th>\n",
              "      <th>Opening</th>\n",
              "      <th>High</th>\n",
              "      <th>Low</th>\n",
              "      <th>Closing</th>\n",
              "      <th>Momentum</th>\n",
              "      <th>Range</th>\n",
              "      <th>ohlc</th>\n",
              "    </tr>\n",
              "  </thead>\n",
              "  <tbody>\n",
              "    <tr>\n",
              "      <th>0</th>\n",
              "      <td>2.879833</td>\n",
              "      <td>2.8879</td>\n",
              "      <td>2.8701</td>\n",
              "      <td>2.879821</td>\n",
              "      <td>0.000011</td>\n",
              "      <td>0.0178</td>\n",
              "      <td>2.879414</td>\n",
              "    </tr>\n",
              "    <tr>\n",
              "      <th>1</th>\n",
              "      <td>2.884751</td>\n",
              "      <td>2.8941</td>\n",
              "      <td>2.8741</td>\n",
              "      <td>2.884744</td>\n",
              "      <td>0.000007</td>\n",
              "      <td>0.0200</td>\n",
              "      <td>2.884424</td>\n",
              "    </tr>\n",
              "    <tr>\n",
              "      <th>2</th>\n",
              "      <td>2.922487</td>\n",
              "      <td>2.9499</td>\n",
              "      <td>2.8787</td>\n",
              "      <td>2.922526</td>\n",
              "      <td>-0.000040</td>\n",
              "      <td>0.0712</td>\n",
              "      <td>2.918403</td>\n",
              "    </tr>\n",
              "    <tr>\n",
              "      <th>3</th>\n",
              "      <td>2.924881</td>\n",
              "      <td>2.9462</td>\n",
              "      <td>2.9071</td>\n",
              "      <td>2.924866</td>\n",
              "      <td>0.000015</td>\n",
              "      <td>0.0391</td>\n",
              "      <td>2.925762</td>\n",
              "    </tr>\n",
              "    <tr>\n",
              "      <th>4</th>\n",
              "      <td>2.889930</td>\n",
              "      <td>2.9105</td>\n",
              "      <td>2.8762</td>\n",
              "      <td>2.889919</td>\n",
              "      <td>0.000011</td>\n",
              "      <td>0.0343</td>\n",
              "      <td>2.891637</td>\n",
              "    </tr>\n",
              "  </tbody>\n",
              "</table>\n",
              "</div>\n",
              "      <button class=\"colab-df-convert\" onclick=\"convertToInteractive('df-59f632e1-0f6c-4ff7-9ea1-57fee7433e38')\"\n",
              "              title=\"Convert this dataframe to an interactive table.\"\n",
              "              style=\"display:none;\">\n",
              "        \n",
              "  <svg xmlns=\"http://www.w3.org/2000/svg\" height=\"24px\"viewBox=\"0 0 24 24\"\n",
              "       width=\"24px\">\n",
              "    <path d=\"M0 0h24v24H0V0z\" fill=\"none\"/>\n",
              "    <path d=\"M18.56 5.44l.94 2.06.94-2.06 2.06-.94-2.06-.94-.94-2.06-.94 2.06-2.06.94zm-11 1L8.5 8.5l.94-2.06 2.06-.94-2.06-.94L8.5 2.5l-.94 2.06-2.06.94zm10 10l.94 2.06.94-2.06 2.06-.94-2.06-.94-.94-2.06-.94 2.06-2.06.94z\"/><path d=\"M17.41 7.96l-1.37-1.37c-.4-.4-.92-.59-1.43-.59-.52 0-1.04.2-1.43.59L10.3 9.45l-7.72 7.72c-.78.78-.78 2.05 0 2.83L4 21.41c.39.39.9.59 1.41.59.51 0 1.02-.2 1.41-.59l7.78-7.78 2.81-2.81c.8-.78.8-2.07 0-2.86zM5.41 20L4 18.59l7.72-7.72 1.47 1.35L5.41 20z\"/>\n",
              "  </svg>\n",
              "      </button>\n",
              "      \n",
              "  <style>\n",
              "    .colab-df-container {\n",
              "      display:flex;\n",
              "      flex-wrap:wrap;\n",
              "      gap: 12px;\n",
              "    }\n",
              "\n",
              "    .colab-df-convert {\n",
              "      background-color: #E8F0FE;\n",
              "      border: none;\n",
              "      border-radius: 50%;\n",
              "      cursor: pointer;\n",
              "      display: none;\n",
              "      fill: #1967D2;\n",
              "      height: 32px;\n",
              "      padding: 0 0 0 0;\n",
              "      width: 32px;\n",
              "    }\n",
              "\n",
              "    .colab-df-convert:hover {\n",
              "      background-color: #E2EBFA;\n",
              "      box-shadow: 0px 1px 2px rgba(60, 64, 67, 0.3), 0px 1px 3px 1px rgba(60, 64, 67, 0.15);\n",
              "      fill: #174EA6;\n",
              "    }\n",
              "\n",
              "    [theme=dark] .colab-df-convert {\n",
              "      background-color: #3B4455;\n",
              "      fill: #D2E3FC;\n",
              "    }\n",
              "\n",
              "    [theme=dark] .colab-df-convert:hover {\n",
              "      background-color: #434B5C;\n",
              "      box-shadow: 0px 1px 3px 1px rgba(0, 0, 0, 0.15);\n",
              "      filter: drop-shadow(0px 1px 2px rgba(0, 0, 0, 0.3));\n",
              "      fill: #FFFFFF;\n",
              "    }\n",
              "  </style>\n",
              "\n",
              "      <script>\n",
              "        const buttonEl =\n",
              "          document.querySelector('#df-59f632e1-0f6c-4ff7-9ea1-57fee7433e38 button.colab-df-convert');\n",
              "        buttonEl.style.display =\n",
              "          google.colab.kernel.accessAllowed ? 'block' : 'none';\n",
              "\n",
              "        async function convertToInteractive(key) {\n",
              "          const element = document.querySelector('#df-59f632e1-0f6c-4ff7-9ea1-57fee7433e38');\n",
              "          const dataTable =\n",
              "            await google.colab.kernel.invokeFunction('convertToInteractive',\n",
              "                                                     [key], {});\n",
              "          if (!dataTable) return;\n",
              "\n",
              "          const docLinkHtml = 'Like what you see? Visit the ' +\n",
              "            '<a target=\"_blank\" href=https://colab.research.google.com/notebooks/data_table.ipynb>data table notebook</a>'\n",
              "            + ' to learn more about interactive tables.';\n",
              "          element.innerHTML = '';\n",
              "          dataTable['output_type'] = 'display_data';\n",
              "          await google.colab.output.renderOutput(dataTable, element);\n",
              "          const docLink = document.createElement('div');\n",
              "          docLink.innerHTML = docLinkHtml;\n",
              "          element.appendChild(docLink);\n",
              "        }\n",
              "      </script>\n",
              "    </div>\n",
              "  </div>\n",
              "  "
            ]
          },
          "metadata": {},
          "execution_count": 4
        }
      ]
    },
    {
      "cell_type": "code",
      "source": [
        "df_scalled.head(-5)"
      ],
      "metadata": {
        "colab": {
          "base_uri": "https://localhost:8080/",
          "height": 424
        },
        "id": "LGRSO1DzK_c-",
        "outputId": "fe705777-f0bf-4c35-efc3-30eabb417708"
      },
      "execution_count": null,
      "outputs": [
        {
          "output_type": "execute_result",
          "data": {
            "text/plain": [
              "       Opening      High       Low   Closing  Momentum     Range      ohlc\n",
              "0     0.142401  0.140186  0.149033  0.142394  0.563639  0.054192  0.142222\n",
              "1     0.145429  0.143942  0.151533  0.145425  0.554006  0.060890  0.145324\n",
              "2     0.168665  0.177747  0.154409  0.168688  0.452143  0.216769  0.166357\n",
              "3     0.170139  0.175506  0.172163  0.170129  0.572368  0.119040  0.170912\n",
              "4     0.148618  0.153878  0.152846  0.148611  0.563487  0.104427  0.149789\n",
              "...        ...       ...       ...       ...       ...       ...       ...\n",
              "3532  0.991975  0.974859  1.008314  0.991970  0.486151  0.063965  0.995177\n",
              "3533  0.990055  0.982037  0.996999  0.990052  0.478911  0.155148  0.993245\n",
              "3534  0.986508  0.985394  0.998812  0.986473  0.593006  0.163186  0.992761\n",
              "3535  1.003241  0.993572  1.001106  1.003248  0.439827  0.193113  1.003839\n",
              "3536  1.027102  1.021797  1.028006  1.027105  0.453190  0.203952  1.029700\n",
              "\n",
              "[3537 rows x 7 columns]"
            ],
            "text/html": [
              "\n",
              "  <div id=\"df-2988c7fa-7b56-4b8c-a9ea-4b070cb33195\">\n",
              "    <div class=\"colab-df-container\">\n",
              "      <div>\n",
              "<style scoped>\n",
              "    .dataframe tbody tr th:only-of-type {\n",
              "        vertical-align: middle;\n",
              "    }\n",
              "\n",
              "    .dataframe tbody tr th {\n",
              "        vertical-align: top;\n",
              "    }\n",
              "\n",
              "    .dataframe thead th {\n",
              "        text-align: right;\n",
              "    }\n",
              "</style>\n",
              "<table border=\"1\" class=\"dataframe\">\n",
              "  <thead>\n",
              "    <tr style=\"text-align: right;\">\n",
              "      <th></th>\n",
              "      <th>Opening</th>\n",
              "      <th>High</th>\n",
              "      <th>Low</th>\n",
              "      <th>Closing</th>\n",
              "      <th>Momentum</th>\n",
              "      <th>Range</th>\n",
              "      <th>ohlc</th>\n",
              "    </tr>\n",
              "  </thead>\n",
              "  <tbody>\n",
              "    <tr>\n",
              "      <th>0</th>\n",
              "      <td>0.142401</td>\n",
              "      <td>0.140186</td>\n",
              "      <td>0.149033</td>\n",
              "      <td>0.142394</td>\n",
              "      <td>0.563639</td>\n",
              "      <td>0.054192</td>\n",
              "      <td>0.142222</td>\n",
              "    </tr>\n",
              "    <tr>\n",
              "      <th>1</th>\n",
              "      <td>0.145429</td>\n",
              "      <td>0.143942</td>\n",
              "      <td>0.151533</td>\n",
              "      <td>0.145425</td>\n",
              "      <td>0.554006</td>\n",
              "      <td>0.060890</td>\n",
              "      <td>0.145324</td>\n",
              "    </tr>\n",
              "    <tr>\n",
              "      <th>2</th>\n",
              "      <td>0.168665</td>\n",
              "      <td>0.177747</td>\n",
              "      <td>0.154409</td>\n",
              "      <td>0.168688</td>\n",
              "      <td>0.452143</td>\n",
              "      <td>0.216769</td>\n",
              "      <td>0.166357</td>\n",
              "    </tr>\n",
              "    <tr>\n",
              "      <th>3</th>\n",
              "      <td>0.170139</td>\n",
              "      <td>0.175506</td>\n",
              "      <td>0.172163</td>\n",
              "      <td>0.170129</td>\n",
              "      <td>0.572368</td>\n",
              "      <td>0.119040</td>\n",
              "      <td>0.170912</td>\n",
              "    </tr>\n",
              "    <tr>\n",
              "      <th>4</th>\n",
              "      <td>0.148618</td>\n",
              "      <td>0.153878</td>\n",
              "      <td>0.152846</td>\n",
              "      <td>0.148611</td>\n",
              "      <td>0.563487</td>\n",
              "      <td>0.104427</td>\n",
              "      <td>0.149789</td>\n",
              "    </tr>\n",
              "    <tr>\n",
              "      <th>...</th>\n",
              "      <td>...</td>\n",
              "      <td>...</td>\n",
              "      <td>...</td>\n",
              "      <td>...</td>\n",
              "      <td>...</td>\n",
              "      <td>...</td>\n",
              "      <td>...</td>\n",
              "    </tr>\n",
              "    <tr>\n",
              "      <th>3532</th>\n",
              "      <td>0.991975</td>\n",
              "      <td>0.974859</td>\n",
              "      <td>1.008314</td>\n",
              "      <td>0.991970</td>\n",
              "      <td>0.486151</td>\n",
              "      <td>0.063965</td>\n",
              "      <td>0.995177</td>\n",
              "    </tr>\n",
              "    <tr>\n",
              "      <th>3533</th>\n",
              "      <td>0.990055</td>\n",
              "      <td>0.982037</td>\n",
              "      <td>0.996999</td>\n",
              "      <td>0.990052</td>\n",
              "      <td>0.478911</td>\n",
              "      <td>0.155148</td>\n",
              "      <td>0.993245</td>\n",
              "    </tr>\n",
              "    <tr>\n",
              "      <th>3534</th>\n",
              "      <td>0.986508</td>\n",
              "      <td>0.985394</td>\n",
              "      <td>0.998812</td>\n",
              "      <td>0.986473</td>\n",
              "      <td>0.593006</td>\n",
              "      <td>0.163186</td>\n",
              "      <td>0.992761</td>\n",
              "    </tr>\n",
              "    <tr>\n",
              "      <th>3535</th>\n",
              "      <td>1.003241</td>\n",
              "      <td>0.993572</td>\n",
              "      <td>1.001106</td>\n",
              "      <td>1.003248</td>\n",
              "      <td>0.439827</td>\n",
              "      <td>0.193113</td>\n",
              "      <td>1.003839</td>\n",
              "    </tr>\n",
              "    <tr>\n",
              "      <th>3536</th>\n",
              "      <td>1.027102</td>\n",
              "      <td>1.021797</td>\n",
              "      <td>1.028006</td>\n",
              "      <td>1.027105</td>\n",
              "      <td>0.453190</td>\n",
              "      <td>0.203952</td>\n",
              "      <td>1.029700</td>\n",
              "    </tr>\n",
              "  </tbody>\n",
              "</table>\n",
              "<p>3537 rows × 7 columns</p>\n",
              "</div>\n",
              "      <button class=\"colab-df-convert\" onclick=\"convertToInteractive('df-2988c7fa-7b56-4b8c-a9ea-4b070cb33195')\"\n",
              "              title=\"Convert this dataframe to an interactive table.\"\n",
              "              style=\"display:none;\">\n",
              "        \n",
              "  <svg xmlns=\"http://www.w3.org/2000/svg\" height=\"24px\"viewBox=\"0 0 24 24\"\n",
              "       width=\"24px\">\n",
              "    <path d=\"M0 0h24v24H0V0z\" fill=\"none\"/>\n",
              "    <path d=\"M18.56 5.44l.94 2.06.94-2.06 2.06-.94-2.06-.94-.94-2.06-.94 2.06-2.06.94zm-11 1L8.5 8.5l.94-2.06 2.06-.94-2.06-.94L8.5 2.5l-.94 2.06-2.06.94zm10 10l.94 2.06.94-2.06 2.06-.94-2.06-.94-.94-2.06-.94 2.06-2.06.94z\"/><path d=\"M17.41 7.96l-1.37-1.37c-.4-.4-.92-.59-1.43-.59-.52 0-1.04.2-1.43.59L10.3 9.45l-7.72 7.72c-.78.78-.78 2.05 0 2.83L4 21.41c.39.39.9.59 1.41.59.51 0 1.02-.2 1.41-.59l7.78-7.78 2.81-2.81c.8-.78.8-2.07 0-2.86zM5.41 20L4 18.59l7.72-7.72 1.47 1.35L5.41 20z\"/>\n",
              "  </svg>\n",
              "      </button>\n",
              "      \n",
              "  <style>\n",
              "    .colab-df-container {\n",
              "      display:flex;\n",
              "      flex-wrap:wrap;\n",
              "      gap: 12px;\n",
              "    }\n",
              "\n",
              "    .colab-df-convert {\n",
              "      background-color: #E8F0FE;\n",
              "      border: none;\n",
              "      border-radius: 50%;\n",
              "      cursor: pointer;\n",
              "      display: none;\n",
              "      fill: #1967D2;\n",
              "      height: 32px;\n",
              "      padding: 0 0 0 0;\n",
              "      width: 32px;\n",
              "    }\n",
              "\n",
              "    .colab-df-convert:hover {\n",
              "      background-color: #E2EBFA;\n",
              "      box-shadow: 0px 1px 2px rgba(60, 64, 67, 0.3), 0px 1px 3px 1px rgba(60, 64, 67, 0.15);\n",
              "      fill: #174EA6;\n",
              "    }\n",
              "\n",
              "    [theme=dark] .colab-df-convert {\n",
              "      background-color: #3B4455;\n",
              "      fill: #D2E3FC;\n",
              "    }\n",
              "\n",
              "    [theme=dark] .colab-df-convert:hover {\n",
              "      background-color: #434B5C;\n",
              "      box-shadow: 0px 1px 3px 1px rgba(0, 0, 0, 0.15);\n",
              "      filter: drop-shadow(0px 1px 2px rgba(0, 0, 0, 0.3));\n",
              "      fill: #FFFFFF;\n",
              "    }\n",
              "  </style>\n",
              "\n",
              "      <script>\n",
              "        const buttonEl =\n",
              "          document.querySelector('#df-2988c7fa-7b56-4b8c-a9ea-4b070cb33195 button.colab-df-convert');\n",
              "        buttonEl.style.display =\n",
              "          google.colab.kernel.accessAllowed ? 'block' : 'none';\n",
              "\n",
              "        async function convertToInteractive(key) {\n",
              "          const element = document.querySelector('#df-2988c7fa-7b56-4b8c-a9ea-4b070cb33195');\n",
              "          const dataTable =\n",
              "            await google.colab.kernel.invokeFunction('convertToInteractive',\n",
              "                                                     [key], {});\n",
              "          if (!dataTable) return;\n",
              "\n",
              "          const docLinkHtml = 'Like what you see? Visit the ' +\n",
              "            '<a target=\"_blank\" href=https://colab.research.google.com/notebooks/data_table.ipynb>data table notebook</a>'\n",
              "            + ' to learn more about interactive tables.';\n",
              "          element.innerHTML = '';\n",
              "          dataTable['output_type'] = 'display_data';\n",
              "          await google.colab.output.renderOutput(dataTable, element);\n",
              "          const docLink = document.createElement('div');\n",
              "          docLink.innerHTML = docLinkHtml;\n",
              "          element.appendChild(docLink);\n",
              "        }\n",
              "      </script>\n",
              "    </div>\n",
              "  </div>\n",
              "  "
            ]
          },
          "metadata": {},
          "execution_count": 6
        }
      ]
    },
    {
      "cell_type": "code",
      "source": [
        "df_scalled2.head(-5)"
      ],
      "metadata": {
        "colab": {
          "base_uri": "https://localhost:8080/",
          "height": 424
        },
        "id": "mxFs98-TLaj1",
        "outputId": "0dc23b33-9b93-473e-a759-b7d203741c26"
      },
      "execution_count": null,
      "outputs": [
        {
          "output_type": "execute_result",
          "data": {
            "text/plain": [
              "       Opening      High       Low   Closing  Momentum     Range      ohlc\n",
              "0     0.120675  0.117873  0.126956  0.120667  0.690773  0.054192  0.119970\n",
              "1     0.123241  0.121031  0.129086  0.123235  0.683946  0.060890  0.122587\n",
              "2     0.142932  0.149455  0.131536  0.142949  0.611761  0.216769  0.140329\n",
              "3     0.144181  0.147570  0.146659  0.144170  0.696958  0.119040  0.144171\n",
              "4     0.125944  0.129385  0.130204  0.125935  0.690665  0.104427  0.126353\n",
              "...        ...       ...       ...       ...       ...       ...       ...\n",
              "3532  0.840629  0.819691  0.858948  0.840612  0.635861  0.063965  0.839473\n",
              "3533  0.839002  0.825727  0.849309  0.838986  0.630730  0.155148  0.837844\n",
              "3534  0.835997  0.828549  0.850854  0.835954  0.711583  0.163186  0.837435\n",
              "3535  0.850176  0.835426  0.852808  0.850169  0.603033  0.193113  0.846780\n",
              "3536  0.870397  0.859159  0.875723  0.870386  0.612503  0.203952  0.868595\n",
              "\n",
              "[3537 rows x 7 columns]"
            ],
            "text/html": [
              "\n",
              "  <div id=\"df-acfd6f56-ee7f-4970-9a12-5115b60c0bb6\">\n",
              "    <div class=\"colab-df-container\">\n",
              "      <div>\n",
              "<style scoped>\n",
              "    .dataframe tbody tr th:only-of-type {\n",
              "        vertical-align: middle;\n",
              "    }\n",
              "\n",
              "    .dataframe tbody tr th {\n",
              "        vertical-align: top;\n",
              "    }\n",
              "\n",
              "    .dataframe thead th {\n",
              "        text-align: right;\n",
              "    }\n",
              "</style>\n",
              "<table border=\"1\" class=\"dataframe\">\n",
              "  <thead>\n",
              "    <tr style=\"text-align: right;\">\n",
              "      <th></th>\n",
              "      <th>Opening</th>\n",
              "      <th>High</th>\n",
              "      <th>Low</th>\n",
              "      <th>Closing</th>\n",
              "      <th>Momentum</th>\n",
              "      <th>Range</th>\n",
              "      <th>ohlc</th>\n",
              "    </tr>\n",
              "  </thead>\n",
              "  <tbody>\n",
              "    <tr>\n",
              "      <th>0</th>\n",
              "      <td>0.120675</td>\n",
              "      <td>0.117873</td>\n",
              "      <td>0.126956</td>\n",
              "      <td>0.120667</td>\n",
              "      <td>0.690773</td>\n",
              "      <td>0.054192</td>\n",
              "      <td>0.119970</td>\n",
              "    </tr>\n",
              "    <tr>\n",
              "      <th>1</th>\n",
              "      <td>0.123241</td>\n",
              "      <td>0.121031</td>\n",
              "      <td>0.129086</td>\n",
              "      <td>0.123235</td>\n",
              "      <td>0.683946</td>\n",
              "      <td>0.060890</td>\n",
              "      <td>0.122587</td>\n",
              "    </tr>\n",
              "    <tr>\n",
              "      <th>2</th>\n",
              "      <td>0.142932</td>\n",
              "      <td>0.149455</td>\n",
              "      <td>0.131536</td>\n",
              "      <td>0.142949</td>\n",
              "      <td>0.611761</td>\n",
              "      <td>0.216769</td>\n",
              "      <td>0.140329</td>\n",
              "    </tr>\n",
              "    <tr>\n",
              "      <th>3</th>\n",
              "      <td>0.144181</td>\n",
              "      <td>0.147570</td>\n",
              "      <td>0.146659</td>\n",
              "      <td>0.144170</td>\n",
              "      <td>0.696958</td>\n",
              "      <td>0.119040</td>\n",
              "      <td>0.144171</td>\n",
              "    </tr>\n",
              "    <tr>\n",
              "      <th>4</th>\n",
              "      <td>0.125944</td>\n",
              "      <td>0.129385</td>\n",
              "      <td>0.130204</td>\n",
              "      <td>0.125935</td>\n",
              "      <td>0.690665</td>\n",
              "      <td>0.104427</td>\n",
              "      <td>0.126353</td>\n",
              "    </tr>\n",
              "    <tr>\n",
              "      <th>...</th>\n",
              "      <td>...</td>\n",
              "      <td>...</td>\n",
              "      <td>...</td>\n",
              "      <td>...</td>\n",
              "      <td>...</td>\n",
              "      <td>...</td>\n",
              "      <td>...</td>\n",
              "    </tr>\n",
              "    <tr>\n",
              "      <th>3532</th>\n",
              "      <td>0.840629</td>\n",
              "      <td>0.819691</td>\n",
              "      <td>0.858948</td>\n",
              "      <td>0.840612</td>\n",
              "      <td>0.635861</td>\n",
              "      <td>0.063965</td>\n",
              "      <td>0.839473</td>\n",
              "    </tr>\n",
              "    <tr>\n",
              "      <th>3533</th>\n",
              "      <td>0.839002</td>\n",
              "      <td>0.825727</td>\n",
              "      <td>0.849309</td>\n",
              "      <td>0.838986</td>\n",
              "      <td>0.630730</td>\n",
              "      <td>0.155148</td>\n",
              "      <td>0.837844</td>\n",
              "    </tr>\n",
              "    <tr>\n",
              "      <th>3534</th>\n",
              "      <td>0.835997</td>\n",
              "      <td>0.828549</td>\n",
              "      <td>0.850854</td>\n",
              "      <td>0.835954</td>\n",
              "      <td>0.711583</td>\n",
              "      <td>0.163186</td>\n",
              "      <td>0.837435</td>\n",
              "    </tr>\n",
              "    <tr>\n",
              "      <th>3535</th>\n",
              "      <td>0.850176</td>\n",
              "      <td>0.835426</td>\n",
              "      <td>0.852808</td>\n",
              "      <td>0.850169</td>\n",
              "      <td>0.603033</td>\n",
              "      <td>0.193113</td>\n",
              "      <td>0.846780</td>\n",
              "    </tr>\n",
              "    <tr>\n",
              "      <th>3536</th>\n",
              "      <td>0.870397</td>\n",
              "      <td>0.859159</td>\n",
              "      <td>0.875723</td>\n",
              "      <td>0.870386</td>\n",
              "      <td>0.612503</td>\n",
              "      <td>0.203952</td>\n",
              "      <td>0.868595</td>\n",
              "    </tr>\n",
              "  </tbody>\n",
              "</table>\n",
              "<p>3537 rows × 7 columns</p>\n",
              "</div>\n",
              "      <button class=\"colab-df-convert\" onclick=\"convertToInteractive('df-acfd6f56-ee7f-4970-9a12-5115b60c0bb6')\"\n",
              "              title=\"Convert this dataframe to an interactive table.\"\n",
              "              style=\"display:none;\">\n",
              "        \n",
              "  <svg xmlns=\"http://www.w3.org/2000/svg\" height=\"24px\"viewBox=\"0 0 24 24\"\n",
              "       width=\"24px\">\n",
              "    <path d=\"M0 0h24v24H0V0z\" fill=\"none\"/>\n",
              "    <path d=\"M18.56 5.44l.94 2.06.94-2.06 2.06-.94-2.06-.94-.94-2.06-.94 2.06-2.06.94zm-11 1L8.5 8.5l.94-2.06 2.06-.94-2.06-.94L8.5 2.5l-.94 2.06-2.06.94zm10 10l.94 2.06.94-2.06 2.06-.94-2.06-.94-.94-2.06-.94 2.06-2.06.94z\"/><path d=\"M17.41 7.96l-1.37-1.37c-.4-.4-.92-.59-1.43-.59-.52 0-1.04.2-1.43.59L10.3 9.45l-7.72 7.72c-.78.78-.78 2.05 0 2.83L4 21.41c.39.39.9.59 1.41.59.51 0 1.02-.2 1.41-.59l7.78-7.78 2.81-2.81c.8-.78.8-2.07 0-2.86zM5.41 20L4 18.59l7.72-7.72 1.47 1.35L5.41 20z\"/>\n",
              "  </svg>\n",
              "      </button>\n",
              "      \n",
              "  <style>\n",
              "    .colab-df-container {\n",
              "      display:flex;\n",
              "      flex-wrap:wrap;\n",
              "      gap: 12px;\n",
              "    }\n",
              "\n",
              "    .colab-df-convert {\n",
              "      background-color: #E8F0FE;\n",
              "      border: none;\n",
              "      border-radius: 50%;\n",
              "      cursor: pointer;\n",
              "      display: none;\n",
              "      fill: #1967D2;\n",
              "      height: 32px;\n",
              "      padding: 0 0 0 0;\n",
              "      width: 32px;\n",
              "    }\n",
              "\n",
              "    .colab-df-convert:hover {\n",
              "      background-color: #E2EBFA;\n",
              "      box-shadow: 0px 1px 2px rgba(60, 64, 67, 0.3), 0px 1px 3px 1px rgba(60, 64, 67, 0.15);\n",
              "      fill: #174EA6;\n",
              "    }\n",
              "\n",
              "    [theme=dark] .colab-df-convert {\n",
              "      background-color: #3B4455;\n",
              "      fill: #D2E3FC;\n",
              "    }\n",
              "\n",
              "    [theme=dark] .colab-df-convert:hover {\n",
              "      background-color: #434B5C;\n",
              "      box-shadow: 0px 1px 3px 1px rgba(0, 0, 0, 0.15);\n",
              "      filter: drop-shadow(0px 1px 2px rgba(0, 0, 0, 0.3));\n",
              "      fill: #FFFFFF;\n",
              "    }\n",
              "  </style>\n",
              "\n",
              "      <script>\n",
              "        const buttonEl =\n",
              "          document.querySelector('#df-acfd6f56-ee7f-4970-9a12-5115b60c0bb6 button.colab-df-convert');\n",
              "        buttonEl.style.display =\n",
              "          google.colab.kernel.accessAllowed ? 'block' : 'none';\n",
              "\n",
              "        async function convertToInteractive(key) {\n",
              "          const element = document.querySelector('#df-acfd6f56-ee7f-4970-9a12-5115b60c0bb6');\n",
              "          const dataTable =\n",
              "            await google.colab.kernel.invokeFunction('convertToInteractive',\n",
              "                                                     [key], {});\n",
              "          if (!dataTable) return;\n",
              "\n",
              "          const docLinkHtml = 'Like what you see? Visit the ' +\n",
              "            '<a target=\"_blank\" href=https://colab.research.google.com/notebooks/data_table.ipynb>data table notebook</a>'\n",
              "            + ' to learn more about interactive tables.';\n",
              "          element.innerHTML = '';\n",
              "          dataTable['output_type'] = 'display_data';\n",
              "          await google.colab.output.renderOutput(dataTable, element);\n",
              "          const docLink = document.createElement('div');\n",
              "          docLink.innerHTML = docLinkHtml;\n",
              "          element.appendChild(docLink);\n",
              "        }\n",
              "      </script>\n",
              "    </div>\n",
              "  </div>\n",
              "  "
            ]
          },
          "metadata": {},
          "execution_count": 6
        }
      ]
    },
    {
      "cell_type": "markdown",
      "source": [
        "SCALER1"
      ],
      "metadata": {
        "id": "zygdyB6SKoFU"
      }
    },
    {
      "cell_type": "code",
      "source": [
        "scaler = MinMaxScaler()\n",
        "df_numpy = df.to_numpy() \n",
        "#len(df_numpy[:2500])\n",
        "scaler1 = scaler.fit(df_numpy[:3000])\n",
        "df_scalled = scaler1.transform(df_numpy)\n",
        "#df_scaled_all = scaler.\n",
        "df_scalled = pd.DataFrame(df_scalled, columns=[\n",
        "  'Opening', 'High', 'Low', 'Closing','Momentum', 'Range', 'ohlc'])"
      ],
      "metadata": {
        "id": "Rnw4XLWT8vit"
      },
      "execution_count": null,
      "outputs": []
    },
    {
      "cell_type": "code",
      "source": [
        "scaler2 = MinMaxScaler()\n",
        "df_numpy2 = df.to_numpy() \n",
        "#len(df_numpy[:2500])\n",
        "scaler3 = scaler2.fit(df_numpy2)\n",
        "df_scalled2 = scaler3.fit_transform(df_numpy2)\n",
        "#df_scaled_all = scaler.\n",
        "df_scalled2 = pd.DataFrame(df_scalled2, columns=[\n",
        "  'Opening', 'High', 'Low', 'Closing','Momentum', 'Range', 'ohlc'])"
      ],
      "metadata": {
        "id": "Sz4p3-BeLMas"
      },
      "execution_count": null,
      "outputs": []
    },
    {
      "cell_type": "code",
      "source": [
        "lookback = 15\n",
        "step = 1\n",
        "delay = 1\n",
        "batch_size = 128"
      ],
      "metadata": {
        "id": "63LK26NW8zcj"
      },
      "execution_count": null,
      "outputs": []
    },
    {
      "cell_type": "code",
      "source": [
        "float_data = np.array(df_scalled).astype('float32')"
      ],
      "metadata": {
        "id": "5aPIYOTk_wDh"
      },
      "execution_count": null,
      "outputs": []
    },
    {
      "cell_type": "code",
      "source": [
        "def generator(data, lookback, delay, min_index, max_index,shuffle=False, batch_size=128, step=1):\n",
        "  if max_index is None:\n",
        "    max_index = len(data) - delay - 1\n",
        "  i = min_index + lookback\n",
        "  while 1:\n",
        "    if shuffle:\n",
        "      rows = np.random.randint(\n",
        "        min_index + lookback, max_index, size=batch_size)\n",
        "    else:\n",
        "      if i + batch_size >= max_index:\n",
        "        i = min_index + lookback\n",
        "      rows = np.arange(i, min(i + batch_size, max_index))\n",
        "      i += len(rows)\n",
        "    samples = np.zeros((len(rows),lookback // step,data.shape[-1]))\n",
        "    targets = np.zeros((len(rows),))\n",
        "    for j, row in enumerate(rows):\n",
        "      indices = range(rows[j] - lookback, rows[j], step)\n",
        "      samples[j] = data[indices]\n",
        "      targets[j] = data[rows[j] + delay][3] ##### HIT KURDE 1 to numer kolumny ktora przewiduje wtf\n",
        "    yield samples, targets"
      ],
      "metadata": {
        "id": "4KsOUCiN81e0"
      },
      "execution_count": null,
      "outputs": []
    },
    {
      "cell_type": "code",
      "source": [
        "train_gen = generator(float_data,\n",
        "lookback=lookback,\n",
        "delay=delay,\n",
        "min_index=0,\n",
        "max_index=2501,\n",
        "#shuffle=True,\n",
        "step=step,\n",
        "batch_size=batch_size)"
      ],
      "metadata": {
        "id": "rX1fQ_z783Va"
      },
      "execution_count": null,
      "outputs": []
    },
    {
      "cell_type": "code",
      "source": [
        "val_gen = generator(float_data,\n",
        "lookback=lookback,\n",
        "delay=delay,\n",
        "min_index=2501,\n",
        "max_index=3001,\n",
        "step=step,\n",
        "batch_size=batch_size)"
      ],
      "metadata": {
        "id": "aDihzV9a85NF"
      },
      "execution_count": null,
      "outputs": []
    },
    {
      "cell_type": "code",
      "source": [
        "test_gen = generator(float_data,\n",
        "lookback=lookback,\n",
        "delay=delay,\n",
        "min_index=3001,\n",
        "max_index=3543,\n",
        "step=step,\n",
        "batch_size=batch_size)"
      ],
      "metadata": {
        "id": "Nx8Vs0TE86wZ"
      },
      "execution_count": null,
      "outputs": []
    },
    {
      "cell_type": "code",
      "source": [
        ""
      ],
      "metadata": {
        "id": "gI6hPg6ur44E"
      },
      "execution_count": null,
      "outputs": []
    },
    {
      "cell_type": "code",
      "source": [
        "train_steps = (2501 - lookback)\n",
        "val_steps = (3001 - 2501 - lookback)\n",
        "test_steps = (3543 - 3001 - lookback)"
      ],
      "metadata": {
        "id": "FpusekJS88uI"
      },
      "execution_count": null,
      "outputs": []
    },
    {
      "cell_type": "code",
      "source": [
        "print(samples[0][2][3])"
      ],
      "metadata": {
        "colab": {
          "base_uri": "https://localhost:8080/"
        },
        "id": "EOvkHhHGnIAR",
        "outputId": "97b23440-6207-4ea6-c31c-94b38cbc16c9"
      },
      "execution_count": null,
      "outputs": [
        {
          "output_type": "stream",
          "name": "stdout",
          "text": [
            "0.6897284388542175\n"
          ]
        }
      ]
    },
    {
      "cell_type": "markdown",
      "source": [
        "Baseline on validation set"
      ],
      "metadata": {
        "id": "Chwze3KCsADx"
      }
    },
    {
      "cell_type": "code",
      "source": [
        "batch_maes = []\n",
        "for step in range(val_steps):\n",
        "  samples,targets = next(val_gen)\n",
        "  for i in range(0,127):\n",
        "    pred = 0\n",
        "    for j in range(0,14):\n",
        "      pred += samples[i][j][3]\n",
        "    pred /= 15\n",
        "    mae = np.mean(np.abs(pred - targets[i]))\n",
        "    batch_maes.append(mae)\n",
        "print(np.mean(batch_maes))"
      ],
      "metadata": {
        "colab": {
          "base_uri": "https://localhost:8080/"
        },
        "id": "7dtTU-ihU4XE",
        "outputId": "f1e6bb28-4dc0-42e8-a80e-59c086e58eba"
      },
      "execution_count": null,
      "outputs": [
        {
          "output_type": "stream",
          "name": "stdout",
          "text": [
            "0.050866267483068675\n"
          ]
        }
      ]
    },
    {
      "cell_type": "markdown",
      "source": [
        "Baseline on training set"
      ],
      "metadata": {
        "id": "LJMOohnDsU_5"
      }
    },
    {
      "cell_type": "code",
      "source": [
        "batch_maes2 = []\n",
        "for step in range(train_steps):\n",
        "  samples2,targets2 = next(train_gen)\n",
        "  for i in range(0,127):\n",
        "    pred2 = 0\n",
        "    for j in range(0,14):\n",
        "      pred2 += samples2[i][j][3]\n",
        "    pred2 /= 15\n",
        "    mae2 = np.mean(np.abs(pred2 - targets2[i]))\n",
        "    batch_maes2.append(mae2)\n",
        "print(np.mean(batch_maes2))"
      ],
      "metadata": {
        "colab": {
          "base_uri": "https://localhost:8080/"
        },
        "id": "OHYBpiHesDGP",
        "outputId": "e46220eb-269b-4ecd-9d40-dac6055b99b5"
      },
      "execution_count": null,
      "outputs": [
        {
          "output_type": "stream",
          "name": "stdout",
          "text": [
            "0.040624508813941675\n"
          ]
        }
      ]
    },
    {
      "cell_type": "code",
      "source": [
        "print(len(targets))"
      ],
      "metadata": {
        "colab": {
          "base_uri": "https://localhost:8080/"
        },
        "id": "7VweuppxoldW",
        "outputId": "66aca967-c8c9-4ad1-b427-642154045257"
      },
      "execution_count": null,
      "outputs": [
        {
          "output_type": "stream",
          "name": "stdout",
          "text": [
            "128\n"
          ]
        }
      ]
    },
    {
      "cell_type": "markdown",
      "source": [
        "Scaler 1 with cpi and interest"
      ],
      "metadata": {
        "id": "ku6klTGkRE93"
      }
    },
    {
      "cell_type": "code",
      "source": [
        "model = tf.keras.models.Sequential()\n",
        "model.add(layers.LSTM(128,\n",
        "  activation='softmax',\n",
        "  dropout=0.1,\n",
        "  recurrent_dropout=0.1,\n",
        "  input_shape=(None, float_data.shape[-1])))\n",
        "model.add(layers.Dense(5,\n",
        "  activation='softmax',))\n",
        "model.add(layers.Dense(1))\n",
        "model.compile(optimizer= tf.keras.optimizers.RMSprop(), loss='mae')\n",
        "history = model.fit(train_gen,\n",
        "  steps_per_epoch=400,\n",
        "  epochs=80,\n",
        "  validation_data=val_gen,\n",
        "  validation_steps=val_steps)"
      ],
      "metadata": {
        "colab": {
          "base_uri": "https://localhost:8080/",
          "height": 1000
        },
        "id": "kKw5EsjDANw2",
        "outputId": "d8cd7eda-29a1-40de-8398-90b3fb8135d8"
      },
      "execution_count": null,
      "outputs": [
        {
          "output_type": "stream",
          "name": "stdout",
          "text": [
            "Epoch 1/80\n",
            "400/400 [==============================] - 36s 83ms/step - loss: 0.2221 - val_loss: 0.2646\n",
            "Epoch 2/80\n",
            "400/400 [==============================] - 33s 81ms/step - loss: 0.1935 - val_loss: 0.2398\n",
            "Epoch 3/80\n",
            "400/400 [==============================] - 33s 83ms/step - loss: 0.1307 - val_loss: 0.0906\n",
            "Epoch 4/80\n",
            "400/400 [==============================] - 33s 81ms/step - loss: 0.0694 - val_loss: 0.0310\n",
            "Epoch 5/80\n",
            "400/400 [==============================] - 33s 83ms/step - loss: 0.0607 - val_loss: 0.0262\n",
            "Epoch 6/80\n",
            "400/400 [==============================] - 33s 82ms/step - loss: 0.0553 - val_loss: 0.0249\n",
            "Epoch 7/80\n",
            "400/400 [==============================] - 33s 81ms/step - loss: 0.0490 - val_loss: 0.0267\n",
            "Epoch 8/80\n",
            "400/400 [==============================] - 32s 81ms/step - loss: 0.0434 - val_loss: 0.0304\n",
            "Epoch 9/80\n",
            "400/400 [==============================] - 32s 81ms/step - loss: 0.0398 - val_loss: 0.0259\n",
            "Epoch 10/80\n",
            "400/400 [==============================] - 32s 81ms/step - loss: 0.0362 - val_loss: 0.0217\n",
            "Epoch 11/80\n",
            "400/400 [==============================] - 32s 81ms/step - loss: 0.0327 - val_loss: 0.0288\n",
            "Epoch 12/80\n",
            "400/400 [==============================] - 32s 81ms/step - loss: 0.0297 - val_loss: 0.0203\n",
            "Epoch 13/80\n",
            "400/400 [==============================] - 33s 82ms/step - loss: 0.0283 - val_loss: 0.0195\n",
            "Epoch 14/80\n",
            "400/400 [==============================] - 33s 82ms/step - loss: 0.0277 - val_loss: 0.0305\n",
            "Epoch 15/80\n",
            "400/400 [==============================] - 33s 81ms/step - loss: 0.0272 - val_loss: 0.0221\n",
            "Epoch 16/80\n",
            "400/400 [==============================] - 32s 81ms/step - loss: 0.0269 - val_loss: 0.0244\n",
            "Epoch 17/80\n",
            "400/400 [==============================] - 33s 82ms/step - loss: 0.0266 - val_loss: 0.0331\n",
            "Epoch 18/80\n",
            "400/400 [==============================] - 33s 83ms/step - loss: 0.0264 - val_loss: 0.0434\n",
            "Epoch 19/80\n",
            "400/400 [==============================] - 36s 90ms/step - loss: 0.0262 - val_loss: 0.0330\n",
            "Epoch 20/80\n",
            "400/400 [==============================] - 33s 81ms/step - loss: 0.0260 - val_loss: 0.0459\n",
            "Epoch 21/80\n",
            "400/400 [==============================] - 32s 81ms/step - loss: 0.0260 - val_loss: 0.0423\n",
            "Epoch 22/80\n",
            "400/400 [==============================] - 33s 81ms/step - loss: 0.0258 - val_loss: 0.0433\n",
            "Epoch 23/80\n",
            "400/400 [==============================] - 33s 82ms/step - loss: 0.0255 - val_loss: 0.0375\n",
            "Epoch 24/80\n",
            "400/400 [==============================] - 33s 81ms/step - loss: 0.0254 - val_loss: 0.0438\n",
            "Epoch 25/80\n",
            "400/400 [==============================] - 33s 82ms/step - loss: 0.0253 - val_loss: 0.0494\n",
            "Epoch 26/80\n",
            "400/400 [==============================] - 33s 81ms/step - loss: 0.0252 - val_loss: 0.0499\n",
            "Epoch 27/80\n",
            "400/400 [==============================] - 32s 81ms/step - loss: 0.0249 - val_loss: 0.0482\n",
            "Epoch 28/80\n",
            "400/400 [==============================] - 32s 81ms/step - loss: 0.0248 - val_loss: 0.0539\n",
            "Epoch 29/80\n",
            "400/400 [==============================] - 33s 82ms/step - loss: 0.0247 - val_loss: 0.0509\n",
            "Epoch 30/80\n",
            "400/400 [==============================] - 33s 82ms/step - loss: 0.0247 - val_loss: 0.0663\n",
            "Epoch 31/80\n",
            "400/400 [==============================] - 33s 82ms/step - loss: 0.0246 - val_loss: 0.0502\n",
            "Epoch 32/80\n",
            "400/400 [==============================] - 33s 81ms/step - loss: 0.0245 - val_loss: 0.0546\n",
            "Epoch 33/80\n",
            "261/400 [==================>...........] - ETA: 10s - loss: 0.0243"
          ]
        },
        {
          "output_type": "error",
          "ename": "KeyboardInterrupt",
          "evalue": "ignored",
          "traceback": [
            "\u001b[0;31m---------------------------------------------------------------------------\u001b[0m",
            "\u001b[0;31mKeyboardInterrupt\u001b[0m                         Traceback (most recent call last)",
            "\u001b[0;32m<ipython-input-14-6c16854c41c9>\u001b[0m in \u001b[0;36m<module>\u001b[0;34m()\u001b[0m\n\u001b[1;32m     13\u001b[0m   \u001b[0mepochs\u001b[0m\u001b[0;34m=\u001b[0m\u001b[0;36m80\u001b[0m\u001b[0;34m,\u001b[0m\u001b[0;34m\u001b[0m\u001b[0;34m\u001b[0m\u001b[0m\n\u001b[1;32m     14\u001b[0m   \u001b[0mvalidation_data\u001b[0m\u001b[0;34m=\u001b[0m\u001b[0mval_gen\u001b[0m\u001b[0;34m,\u001b[0m\u001b[0;34m\u001b[0m\u001b[0;34m\u001b[0m\u001b[0m\n\u001b[0;32m---> 15\u001b[0;31m   validation_steps=val_steps)\n\u001b[0m",
            "\u001b[0;32m/usr/local/lib/python3.7/dist-packages/keras/utils/traceback_utils.py\u001b[0m in \u001b[0;36merror_handler\u001b[0;34m(*args, **kwargs)\u001b[0m\n\u001b[1;32m     62\u001b[0m     \u001b[0mfiltered_tb\u001b[0m \u001b[0;34m=\u001b[0m \u001b[0;32mNone\u001b[0m\u001b[0;34m\u001b[0m\u001b[0;34m\u001b[0m\u001b[0m\n\u001b[1;32m     63\u001b[0m     \u001b[0;32mtry\u001b[0m\u001b[0;34m:\u001b[0m\u001b[0;34m\u001b[0m\u001b[0;34m\u001b[0m\u001b[0m\n\u001b[0;32m---> 64\u001b[0;31m       \u001b[0;32mreturn\u001b[0m \u001b[0mfn\u001b[0m\u001b[0;34m(\u001b[0m\u001b[0;34m*\u001b[0m\u001b[0margs\u001b[0m\u001b[0;34m,\u001b[0m \u001b[0;34m**\u001b[0m\u001b[0mkwargs\u001b[0m\u001b[0;34m)\u001b[0m\u001b[0;34m\u001b[0m\u001b[0;34m\u001b[0m\u001b[0m\n\u001b[0m\u001b[1;32m     65\u001b[0m     \u001b[0;32mexcept\u001b[0m \u001b[0mException\u001b[0m \u001b[0;32mas\u001b[0m \u001b[0me\u001b[0m\u001b[0;34m:\u001b[0m  \u001b[0;31m# pylint: disable=broad-except\u001b[0m\u001b[0;34m\u001b[0m\u001b[0;34m\u001b[0m\u001b[0m\n\u001b[1;32m     66\u001b[0m       \u001b[0mfiltered_tb\u001b[0m \u001b[0;34m=\u001b[0m \u001b[0m_process_traceback_frames\u001b[0m\u001b[0;34m(\u001b[0m\u001b[0me\u001b[0m\u001b[0;34m.\u001b[0m\u001b[0m__traceback__\u001b[0m\u001b[0;34m)\u001b[0m\u001b[0;34m\u001b[0m\u001b[0;34m\u001b[0m\u001b[0m\n",
            "\u001b[0;32m/usr/local/lib/python3.7/dist-packages/keras/engine/training.py\u001b[0m in \u001b[0;36mfit\u001b[0;34m(self, x, y, batch_size, epochs, verbose, callbacks, validation_split, validation_data, shuffle, class_weight, sample_weight, initial_epoch, steps_per_epoch, validation_steps, validation_batch_size, validation_freq, max_queue_size, workers, use_multiprocessing)\u001b[0m\n\u001b[1;32m   1382\u001b[0m                 _r=1):\n\u001b[1;32m   1383\u001b[0m               \u001b[0mcallbacks\u001b[0m\u001b[0;34m.\u001b[0m\u001b[0mon_train_batch_begin\u001b[0m\u001b[0;34m(\u001b[0m\u001b[0mstep\u001b[0m\u001b[0;34m)\u001b[0m\u001b[0;34m\u001b[0m\u001b[0;34m\u001b[0m\u001b[0m\n\u001b[0;32m-> 1384\u001b[0;31m               \u001b[0mtmp_logs\u001b[0m \u001b[0;34m=\u001b[0m \u001b[0mself\u001b[0m\u001b[0;34m.\u001b[0m\u001b[0mtrain_function\u001b[0m\u001b[0;34m(\u001b[0m\u001b[0miterator\u001b[0m\u001b[0;34m)\u001b[0m\u001b[0;34m\u001b[0m\u001b[0;34m\u001b[0m\u001b[0m\n\u001b[0m\u001b[1;32m   1385\u001b[0m               \u001b[0;32mif\u001b[0m \u001b[0mdata_handler\u001b[0m\u001b[0;34m.\u001b[0m\u001b[0mshould_sync\u001b[0m\u001b[0;34m:\u001b[0m\u001b[0;34m\u001b[0m\u001b[0;34m\u001b[0m\u001b[0m\n\u001b[1;32m   1386\u001b[0m                 \u001b[0mcontext\u001b[0m\u001b[0;34m.\u001b[0m\u001b[0masync_wait\u001b[0m\u001b[0;34m(\u001b[0m\u001b[0;34m)\u001b[0m\u001b[0;34m\u001b[0m\u001b[0;34m\u001b[0m\u001b[0m\n",
            "\u001b[0;32m/usr/local/lib/python3.7/dist-packages/tensorflow/python/util/traceback_utils.py\u001b[0m in \u001b[0;36merror_handler\u001b[0;34m(*args, **kwargs)\u001b[0m\n\u001b[1;32m    148\u001b[0m     \u001b[0mfiltered_tb\u001b[0m \u001b[0;34m=\u001b[0m \u001b[0;32mNone\u001b[0m\u001b[0;34m\u001b[0m\u001b[0;34m\u001b[0m\u001b[0m\n\u001b[1;32m    149\u001b[0m     \u001b[0;32mtry\u001b[0m\u001b[0;34m:\u001b[0m\u001b[0;34m\u001b[0m\u001b[0;34m\u001b[0m\u001b[0m\n\u001b[0;32m--> 150\u001b[0;31m       \u001b[0;32mreturn\u001b[0m \u001b[0mfn\u001b[0m\u001b[0;34m(\u001b[0m\u001b[0;34m*\u001b[0m\u001b[0margs\u001b[0m\u001b[0;34m,\u001b[0m \u001b[0;34m**\u001b[0m\u001b[0mkwargs\u001b[0m\u001b[0;34m)\u001b[0m\u001b[0;34m\u001b[0m\u001b[0;34m\u001b[0m\u001b[0m\n\u001b[0m\u001b[1;32m    151\u001b[0m     \u001b[0;32mexcept\u001b[0m \u001b[0mException\u001b[0m \u001b[0;32mas\u001b[0m \u001b[0me\u001b[0m\u001b[0;34m:\u001b[0m\u001b[0;34m\u001b[0m\u001b[0;34m\u001b[0m\u001b[0m\n\u001b[1;32m    152\u001b[0m       \u001b[0mfiltered_tb\u001b[0m \u001b[0;34m=\u001b[0m \u001b[0m_process_traceback_frames\u001b[0m\u001b[0;34m(\u001b[0m\u001b[0me\u001b[0m\u001b[0;34m.\u001b[0m\u001b[0m__traceback__\u001b[0m\u001b[0;34m)\u001b[0m\u001b[0;34m\u001b[0m\u001b[0;34m\u001b[0m\u001b[0m\n",
            "\u001b[0;32m/usr/local/lib/python3.7/dist-packages/tensorflow/python/eager/def_function.py\u001b[0m in \u001b[0;36m__call__\u001b[0;34m(self, *args, **kwds)\u001b[0m\n\u001b[1;32m    913\u001b[0m \u001b[0;34m\u001b[0m\u001b[0m\n\u001b[1;32m    914\u001b[0m       \u001b[0;32mwith\u001b[0m \u001b[0mOptionalXlaContext\u001b[0m\u001b[0;34m(\u001b[0m\u001b[0mself\u001b[0m\u001b[0;34m.\u001b[0m\u001b[0m_jit_compile\u001b[0m\u001b[0;34m)\u001b[0m\u001b[0;34m:\u001b[0m\u001b[0;34m\u001b[0m\u001b[0;34m\u001b[0m\u001b[0m\n\u001b[0;32m--> 915\u001b[0;31m         \u001b[0mresult\u001b[0m \u001b[0;34m=\u001b[0m \u001b[0mself\u001b[0m\u001b[0;34m.\u001b[0m\u001b[0m_call\u001b[0m\u001b[0;34m(\u001b[0m\u001b[0;34m*\u001b[0m\u001b[0margs\u001b[0m\u001b[0;34m,\u001b[0m \u001b[0;34m**\u001b[0m\u001b[0mkwds\u001b[0m\u001b[0;34m)\u001b[0m\u001b[0;34m\u001b[0m\u001b[0;34m\u001b[0m\u001b[0m\n\u001b[0m\u001b[1;32m    916\u001b[0m \u001b[0;34m\u001b[0m\u001b[0m\n\u001b[1;32m    917\u001b[0m       \u001b[0mnew_tracing_count\u001b[0m \u001b[0;34m=\u001b[0m \u001b[0mself\u001b[0m\u001b[0;34m.\u001b[0m\u001b[0mexperimental_get_tracing_count\u001b[0m\u001b[0;34m(\u001b[0m\u001b[0;34m)\u001b[0m\u001b[0;34m\u001b[0m\u001b[0;34m\u001b[0m\u001b[0m\n",
            "\u001b[0;32m/usr/local/lib/python3.7/dist-packages/tensorflow/python/eager/def_function.py\u001b[0m in \u001b[0;36m_call\u001b[0;34m(self, *args, **kwds)\u001b[0m\n\u001b[1;32m    945\u001b[0m       \u001b[0;31m# In this case we have created variables on the first call, so we run the\u001b[0m\u001b[0;34m\u001b[0m\u001b[0;34m\u001b[0m\u001b[0;34m\u001b[0m\u001b[0m\n\u001b[1;32m    946\u001b[0m       \u001b[0;31m# defunned version which is guaranteed to never create variables.\u001b[0m\u001b[0;34m\u001b[0m\u001b[0;34m\u001b[0m\u001b[0;34m\u001b[0m\u001b[0m\n\u001b[0;32m--> 947\u001b[0;31m       \u001b[0;32mreturn\u001b[0m \u001b[0mself\u001b[0m\u001b[0;34m.\u001b[0m\u001b[0m_stateless_fn\u001b[0m\u001b[0;34m(\u001b[0m\u001b[0;34m*\u001b[0m\u001b[0margs\u001b[0m\u001b[0;34m,\u001b[0m \u001b[0;34m**\u001b[0m\u001b[0mkwds\u001b[0m\u001b[0;34m)\u001b[0m  \u001b[0;31m# pylint: disable=not-callable\u001b[0m\u001b[0;34m\u001b[0m\u001b[0;34m\u001b[0m\u001b[0m\n\u001b[0m\u001b[1;32m    948\u001b[0m     \u001b[0;32melif\u001b[0m \u001b[0mself\u001b[0m\u001b[0;34m.\u001b[0m\u001b[0m_stateful_fn\u001b[0m \u001b[0;32mis\u001b[0m \u001b[0;32mnot\u001b[0m \u001b[0;32mNone\u001b[0m\u001b[0;34m:\u001b[0m\u001b[0;34m\u001b[0m\u001b[0;34m\u001b[0m\u001b[0m\n\u001b[1;32m    949\u001b[0m       \u001b[0;31m# Release the lock early so that multiple threads can perform the call\u001b[0m\u001b[0;34m\u001b[0m\u001b[0;34m\u001b[0m\u001b[0;34m\u001b[0m\u001b[0m\n",
            "\u001b[0;32m/usr/local/lib/python3.7/dist-packages/tensorflow/python/eager/function.py\u001b[0m in \u001b[0;36m__call__\u001b[0;34m(self, *args, **kwargs)\u001b[0m\n\u001b[1;32m   2955\u001b[0m        filtered_flat_args) = self._maybe_define_function(args, kwargs)\n\u001b[1;32m   2956\u001b[0m     return graph_function._call_flat(\n\u001b[0;32m-> 2957\u001b[0;31m         filtered_flat_args, captured_inputs=graph_function.captured_inputs)  # pylint: disable=protected-access\n\u001b[0m\u001b[1;32m   2958\u001b[0m \u001b[0;34m\u001b[0m\u001b[0m\n\u001b[1;32m   2959\u001b[0m   \u001b[0;34m@\u001b[0m\u001b[0mproperty\u001b[0m\u001b[0;34m\u001b[0m\u001b[0;34m\u001b[0m\u001b[0m\n",
            "\u001b[0;32m/usr/local/lib/python3.7/dist-packages/tensorflow/python/eager/function.py\u001b[0m in \u001b[0;36m_call_flat\u001b[0;34m(self, args, captured_inputs, cancellation_manager)\u001b[0m\n\u001b[1;32m   1852\u001b[0m       \u001b[0;31m# No tape is watching; skip to running the function.\u001b[0m\u001b[0;34m\u001b[0m\u001b[0;34m\u001b[0m\u001b[0;34m\u001b[0m\u001b[0m\n\u001b[1;32m   1853\u001b[0m       return self._build_call_outputs(self._inference_function.call(\n\u001b[0;32m-> 1854\u001b[0;31m           ctx, args, cancellation_manager=cancellation_manager))\n\u001b[0m\u001b[1;32m   1855\u001b[0m     forward_backward = self._select_forward_and_backward_functions(\n\u001b[1;32m   1856\u001b[0m         \u001b[0margs\u001b[0m\u001b[0;34m,\u001b[0m\u001b[0;34m\u001b[0m\u001b[0;34m\u001b[0m\u001b[0m\n",
            "\u001b[0;32m/usr/local/lib/python3.7/dist-packages/tensorflow/python/eager/function.py\u001b[0m in \u001b[0;36mcall\u001b[0;34m(self, ctx, args, cancellation_manager)\u001b[0m\n\u001b[1;32m    502\u001b[0m               \u001b[0minputs\u001b[0m\u001b[0;34m=\u001b[0m\u001b[0margs\u001b[0m\u001b[0;34m,\u001b[0m\u001b[0;34m\u001b[0m\u001b[0;34m\u001b[0m\u001b[0m\n\u001b[1;32m    503\u001b[0m               \u001b[0mattrs\u001b[0m\u001b[0;34m=\u001b[0m\u001b[0mattrs\u001b[0m\u001b[0;34m,\u001b[0m\u001b[0;34m\u001b[0m\u001b[0;34m\u001b[0m\u001b[0m\n\u001b[0;32m--> 504\u001b[0;31m               ctx=ctx)\n\u001b[0m\u001b[1;32m    505\u001b[0m         \u001b[0;32melse\u001b[0m\u001b[0;34m:\u001b[0m\u001b[0;34m\u001b[0m\u001b[0;34m\u001b[0m\u001b[0m\n\u001b[1;32m    506\u001b[0m           outputs = execute.execute_with_cancellation(\n",
            "\u001b[0;32m/usr/local/lib/python3.7/dist-packages/tensorflow/python/eager/execute.py\u001b[0m in \u001b[0;36mquick_execute\u001b[0;34m(op_name, num_outputs, inputs, attrs, ctx, name)\u001b[0m\n\u001b[1;32m     53\u001b[0m     \u001b[0mctx\u001b[0m\u001b[0;34m.\u001b[0m\u001b[0mensure_initialized\u001b[0m\u001b[0;34m(\u001b[0m\u001b[0;34m)\u001b[0m\u001b[0;34m\u001b[0m\u001b[0;34m\u001b[0m\u001b[0m\n\u001b[1;32m     54\u001b[0m     tensors = pywrap_tfe.TFE_Py_Execute(ctx._handle, device_name, op_name,\n\u001b[0;32m---> 55\u001b[0;31m                                         inputs, attrs, num_outputs)\n\u001b[0m\u001b[1;32m     56\u001b[0m   \u001b[0;32mexcept\u001b[0m \u001b[0mcore\u001b[0m\u001b[0;34m.\u001b[0m\u001b[0m_NotOkStatusException\u001b[0m \u001b[0;32mas\u001b[0m \u001b[0me\u001b[0m\u001b[0;34m:\u001b[0m\u001b[0;34m\u001b[0m\u001b[0;34m\u001b[0m\u001b[0m\n\u001b[1;32m     57\u001b[0m     \u001b[0;32mif\u001b[0m \u001b[0mname\u001b[0m \u001b[0;32mis\u001b[0m \u001b[0;32mnot\u001b[0m \u001b[0;32mNone\u001b[0m\u001b[0;34m:\u001b[0m\u001b[0;34m\u001b[0m\u001b[0;34m\u001b[0m\u001b[0m\n",
            "\u001b[0;31mKeyboardInterrupt\u001b[0m: "
          ]
        }
      ]
    },
    {
      "cell_type": "code",
      "source": [
        "eval = model.evaluate(test_gen, steps = test_steps)"
      ],
      "metadata": {
        "colab": {
          "base_uri": "https://localhost:8080/"
        },
        "id": "LtPiN6F_Kaug",
        "outputId": "7db0fc86-c7b5-4cd8-de47-aeca5a5da40b"
      },
      "execution_count": null,
      "outputs": [
        {
          "output_type": "stream",
          "name": "stdout",
          "text": [
            "532/532 [==============================] - 8s 15ms/step - loss: 0.0181\n"
          ]
        }
      ]
    },
    {
      "cell_type": "markdown",
      "source": [
        "After using fit() and transform() correctly."
      ],
      "metadata": {
        "id": "QDFCiy3OMh1-"
      }
    },
    {
      "cell_type": "code",
      "source": [
        "model1 = tf.keras.models.Sequential()\n",
        "model1.add(layers.LSTM(128,\n",
        "  activation='softmax',\n",
        "  dropout=0.1,\n",
        "  recurrent_dropout=0.1,\n",
        "  input_shape=(None, float_data.shape[-1])))\n",
        "model1.add(layers.Dense(5,\n",
        "  activation='softmax',))\n",
        "model1.add(layers.Dense(1))\n",
        "model1.compile(optimizer= tf.keras.optimizers.RMSprop(), loss='mae')\n",
        "history1 = model1.fit(train_gen,\n",
        "  steps_per_epoch=400,\n",
        "  epochs=80,\n",
        "  validation_data=val_gen,\n",
        "  validation_steps=val_steps)"
      ],
      "metadata": {
        "colab": {
          "base_uri": "https://localhost:8080/"
        },
        "id": "TogaOU5pMkdg",
        "outputId": "03d09792-8076-4e0f-95c1-c9b91f49288a"
      },
      "execution_count": null,
      "outputs": [
        {
          "output_type": "stream",
          "name": "stdout",
          "text": [
            "Epoch 1/80\n",
            "400/400 [==============================] - 43s 97ms/step - loss: 0.2141 - val_loss: 0.2807\n",
            "Epoch 2/80\n",
            "400/400 [==============================] - 34s 85ms/step - loss: 0.1993 - val_loss: 0.2678\n",
            "Epoch 3/80\n",
            "400/400 [==============================] - 34s 86ms/step - loss: 0.1883 - val_loss: 0.2101\n",
            "Epoch 4/80\n",
            "400/400 [==============================] - 35s 88ms/step - loss: 0.1340 - val_loss: 0.1315\n",
            "Epoch 5/80\n",
            "400/400 [==============================] - 38s 94ms/step - loss: 0.0779 - val_loss: 0.0451\n",
            "Epoch 6/80\n",
            "400/400 [==============================] - 36s 90ms/step - loss: 0.0641 - val_loss: 0.0321\n",
            "Epoch 7/80\n",
            "400/400 [==============================] - 36s 89ms/step - loss: 0.0582 - val_loss: 0.0270\n",
            "Epoch 8/80\n",
            "400/400 [==============================] - 35s 86ms/step - loss: 0.0519 - val_loss: 0.0254\n",
            "Epoch 9/80\n",
            "400/400 [==============================] - 35s 87ms/step - loss: 0.0462 - val_loss: 0.0227\n",
            "Epoch 10/80\n",
            "400/400 [==============================] - 35s 88ms/step - loss: 0.0411 - val_loss: 0.0190\n",
            "Epoch 11/80\n",
            "400/400 [==============================] - 35s 87ms/step - loss: 0.0362 - val_loss: 0.0187\n",
            "Epoch 12/80\n",
            "400/400 [==============================] - 34s 84ms/step - loss: 0.0326 - val_loss: 0.0205\n",
            "Epoch 13/80\n",
            "400/400 [==============================] - 35s 87ms/step - loss: 0.0308 - val_loss: 0.0229\n",
            "Epoch 14/80\n",
            "400/400 [==============================] - 37s 92ms/step - loss: 0.0298 - val_loss: 0.0197\n",
            "Epoch 15/80\n",
            "400/400 [==============================] - 39s 98ms/step - loss: 0.0293 - val_loss: 0.0395\n",
            "Epoch 16/80\n",
            "400/400 [==============================] - 39s 96ms/step - loss: 0.0289 - val_loss: 0.0188\n",
            "Epoch 17/80\n",
            "400/400 [==============================] - 37s 91ms/step - loss: 0.0286 - val_loss: 0.0169\n",
            "Epoch 18/80\n",
            "400/400 [==============================] - 34s 86ms/step - loss: 0.0285 - val_loss: 0.0164\n",
            "Epoch 19/80\n",
            "400/400 [==============================] - 34s 84ms/step - loss: 0.0283 - val_loss: 0.0177\n",
            "Epoch 20/80\n",
            "400/400 [==============================] - 34s 85ms/step - loss: 0.0279 - val_loss: 0.0165\n",
            "Epoch 21/80\n",
            "400/400 [==============================] - 34s 85ms/step - loss: 0.0278 - val_loss: 0.0171\n",
            "Epoch 22/80\n",
            "400/400 [==============================] - 34s 84ms/step - loss: 0.0278 - val_loss: 0.0153\n",
            "Epoch 23/80\n",
            "400/400 [==============================] - 33s 83ms/step - loss: 0.0276 - val_loss: 0.0154\n",
            "Epoch 24/80\n",
            "400/400 [==============================] - 33s 82ms/step - loss: 0.0275 - val_loss: 0.0167\n",
            "Epoch 25/80\n",
            "400/400 [==============================] - 33s 83ms/step - loss: 0.0272 - val_loss: 0.0156\n",
            "Epoch 26/80\n",
            "400/400 [==============================] - 33s 83ms/step - loss: 0.0273 - val_loss: 0.0158\n",
            "Epoch 27/80\n",
            "400/400 [==============================] - 33s 83ms/step - loss: 0.0271 - val_loss: 0.0166\n",
            "Epoch 28/80\n",
            "400/400 [==============================] - 33s 82ms/step - loss: 0.0271 - val_loss: 0.0148\n",
            "Epoch 29/80\n",
            "400/400 [==============================] - 32s 81ms/step - loss: 0.0268 - val_loss: 0.0157\n",
            "Epoch 30/80\n",
            "400/400 [==============================] - 33s 83ms/step - loss: 0.0268 - val_loss: 0.0149\n",
            "Epoch 31/80\n",
            "400/400 [==============================] - 33s 83ms/step - loss: 0.0268 - val_loss: 0.0209\n",
            "Epoch 32/80\n",
            "400/400 [==============================] - 33s 82ms/step - loss: 0.0267 - val_loss: 0.0162\n",
            "Epoch 33/80\n",
            "400/400 [==============================] - 32s 80ms/step - loss: 0.0266 - val_loss: 0.0169\n",
            "Epoch 34/80\n",
            "400/400 [==============================] - 32s 80ms/step - loss: 0.0265 - val_loss: 0.0441\n",
            "Epoch 35/80\n",
            "400/400 [==============================] - 32s 79ms/step - loss: 0.0265 - val_loss: 0.0167\n",
            "Epoch 36/80\n",
            "400/400 [==============================] - 31s 79ms/step - loss: 0.0264 - val_loss: 0.0146\n",
            "Epoch 37/80\n",
            "400/400 [==============================] - 31s 77ms/step - loss: 0.0263 - val_loss: 0.0144\n",
            "Epoch 38/80\n",
            "400/400 [==============================] - 31s 76ms/step - loss: 0.0264 - val_loss: 0.0150\n",
            "Epoch 39/80\n",
            "400/400 [==============================] - 31s 78ms/step - loss: 0.0261 - val_loss: 0.0155\n",
            "Epoch 40/80\n",
            "400/400 [==============================] - 31s 78ms/step - loss: 0.0262 - val_loss: 0.0149\n",
            "Epoch 41/80\n",
            "400/400 [==============================] - 31s 78ms/step - loss: 0.0261 - val_loss: 0.0148\n",
            "Epoch 42/80\n",
            "400/400 [==============================] - 32s 80ms/step - loss: 0.0261 - val_loss: 0.0144\n",
            "Epoch 43/80\n",
            "400/400 [==============================] - 32s 79ms/step - loss: 0.0260 - val_loss: 0.0145\n",
            "Epoch 44/80\n",
            "400/400 [==============================] - 31s 79ms/step - loss: 0.0260 - val_loss: 0.0142\n",
            "Epoch 45/80\n",
            "400/400 [==============================] - 31s 78ms/step - loss: 0.0259 - val_loss: 0.0159\n",
            "Epoch 46/80\n",
            "400/400 [==============================] - 31s 78ms/step - loss: 0.0259 - val_loss: 0.0183\n",
            "Epoch 47/80\n",
            "400/400 [==============================] - 31s 78ms/step - loss: 0.0258 - val_loss: 0.0141\n",
            "Epoch 48/80\n",
            "400/400 [==============================] - 32s 80ms/step - loss: 0.0258 - val_loss: 0.0160\n",
            "Epoch 49/80\n",
            "400/400 [==============================] - 32s 79ms/step - loss: 0.0256 - val_loss: 0.0140\n",
            "Epoch 50/80\n",
            "400/400 [==============================] - 32s 80ms/step - loss: 0.0257 - val_loss: 0.0143\n",
            "Epoch 51/80\n",
            "400/400 [==============================] - 32s 81ms/step - loss: 0.0258 - val_loss: 0.0143\n",
            "Epoch 52/80\n",
            "400/400 [==============================] - 33s 83ms/step - loss: 0.0255 - val_loss: 0.0260\n",
            "Epoch 53/80\n",
            "400/400 [==============================] - 32s 80ms/step - loss: 0.0257 - val_loss: 0.0419\n",
            "Epoch 54/80\n",
            "400/400 [==============================] - 31s 79ms/step - loss: 0.0255 - val_loss: 0.0159\n",
            "Epoch 55/80\n",
            "400/400 [==============================] - 32s 79ms/step - loss: 0.0255 - val_loss: 0.0140\n",
            "Epoch 56/80\n",
            "400/400 [==============================] - 32s 79ms/step - loss: 0.0255 - val_loss: 0.0139\n",
            "Epoch 57/80\n",
            "400/400 [==============================] - 31s 78ms/step - loss: 0.0255 - val_loss: 0.0156\n",
            "Epoch 58/80\n",
            "400/400 [==============================] - 31s 78ms/step - loss: 0.0254 - val_loss: 0.0141\n",
            "Epoch 59/80\n",
            "400/400 [==============================] - 32s 79ms/step - loss: 0.0255 - val_loss: 0.0158\n",
            "Epoch 60/80\n",
            "400/400 [==============================] - 32s 80ms/step - loss: 0.0254 - val_loss: 0.0141\n",
            "Epoch 61/80\n",
            "400/400 [==============================] - 32s 79ms/step - loss: 0.0253 - val_loss: 0.0139\n",
            "Epoch 62/80\n",
            "400/400 [==============================] - 32s 79ms/step - loss: 0.0254 - val_loss: 0.0164\n",
            "Epoch 63/80\n",
            "400/400 [==============================] - 31s 79ms/step - loss: 0.0253 - val_loss: 0.0150\n",
            "Epoch 64/80\n",
            "400/400 [==============================] - 31s 78ms/step - loss: 0.0252 - val_loss: 0.0155\n",
            "Epoch 65/80\n",
            "400/400 [==============================] - 31s 78ms/step - loss: 0.0251 - val_loss: 0.0164\n",
            "Epoch 66/80\n",
            "400/400 [==============================] - 31s 78ms/step - loss: 0.0251 - val_loss: 0.0140\n",
            "Epoch 67/80\n",
            "400/400 [==============================] - 32s 79ms/step - loss: 0.0252 - val_loss: 0.0163\n",
            "Epoch 68/80\n",
            "400/400 [==============================] - 31s 79ms/step - loss: 0.0253 - val_loss: 0.0137\n",
            "Epoch 69/80\n",
            "400/400 [==============================] - 31s 78ms/step - loss: 0.0252 - val_loss: 0.0226\n",
            "Epoch 70/80\n",
            "400/400 [==============================] - 31s 78ms/step - loss: 0.0251 - val_loss: 0.0137\n",
            "Epoch 71/80\n",
            "400/400 [==============================] - 31s 78ms/step - loss: 0.0251 - val_loss: 0.0171\n",
            "Epoch 72/80\n",
            "400/400 [==============================] - 31s 79ms/step - loss: 0.0251 - val_loss: 0.0438\n",
            "Epoch 73/80\n",
            "400/400 [==============================] - 31s 78ms/step - loss: 0.0250 - val_loss: 0.0154\n",
            "Epoch 74/80\n",
            "400/400 [==============================] - 32s 79ms/step - loss: 0.0250 - val_loss: 0.0137\n",
            "Epoch 75/80\n",
            "400/400 [==============================] - 31s 78ms/step - loss: 0.0249 - val_loss: 0.0140\n",
            "Epoch 76/80\n",
            "400/400 [==============================] - 31s 78ms/step - loss: 0.0250 - val_loss: 0.0144\n",
            "Epoch 77/80\n",
            "400/400 [==============================] - 31s 78ms/step - loss: 0.0250 - val_loss: 0.0138\n",
            "Epoch 78/80\n",
            "400/400 [==============================] - 32s 79ms/step - loss: 0.0250 - val_loss: 0.0139\n",
            "Epoch 79/80\n",
            "400/400 [==============================] - 31s 78ms/step - loss: 0.0250 - val_loss: 0.0135\n",
            "Epoch 80/80\n",
            "400/400 [==============================] - 31s 78ms/step - loss: 0.0248 - val_loss: 0.0134\n"
          ]
        }
      ]
    },
    {
      "cell_type": "code",
      "source": [
        "eval1 = model1.evaluate(test_gen, steps = test_steps)"
      ],
      "metadata": {
        "colab": {
          "base_uri": "https://localhost:8080/"
        },
        "id": "cSWDuJESWr-u",
        "outputId": "73fb734e-ad10-44fe-d783-81c182dbe291"
      },
      "execution_count": null,
      "outputs": [
        {
          "output_type": "stream",
          "name": "stdout",
          "text": [
            "527/527 [==============================] - 9s 17ms/step - loss: 0.0212\n"
          ]
        }
      ]
    },
    {
      "cell_type": "code",
      "source": [
        "model2 = tf.keras.models.Sequential()\n",
        "model2.add(layers.LSTM(units=hp_units,\n",
        "  activation='softmax',\n",
        "  dropout=0.1,\n",
        "  recurrent_dropout=0.1,\n",
        "  input_shape=(None, float_data.shape[-1])))\n",
        "model2.add(layers.Dense(5,\n",
        "  activation='softmax',))\n",
        "model2.add(layers.Dense(1))\n",
        "model2.compile(optimizer= tf.keras.optimizers.RMSprop(), loss='mae')\n",
        "history2 = model2.fit(train_gen,\n",
        "  steps_per_epoch=400,\n",
        "  epochs=80,\n",
        "  validation_data=val_gen,\n",
        "  validation_steps=val_steps)"
      ],
      "metadata": {
        "id": "OzBUsnXnW6_1"
      },
      "execution_count": null,
      "outputs": []
    },
    {
      "cell_type": "code",
      "source": [
        "def model_builder(hp):\n",
        "  hp_learning_rate = hp.Choice('learning_rate', values=[1e-2, 1e-3, 1e-4])\n",
        "  hp_units = hp.Int('units', min_value=16, max_value=512, step=16)\n",
        "  model = tf.keras.models.Sequential()\n",
        "  model.add(layers.LSTM(units=hp_units,\n",
        "    activation=hp.Choice('lstm_activation',values=['relu', 'sigmoid','softmax']),\n",
        "    recurrent_dropout=0.1,\n",
        "    input_shape=(None, float_data.shape[-1])))\n",
        "  model.add(layers.Dropout(hp.Float('Dropout_rate',min_value=0,max_value=0.5,step=0.1)))\n",
        "  model.add(layers.Dense(5,\n",
        "    activation=hp.Choice('dense_activation',values=['relu', 'sigmoid','softmax'])))\n",
        "  model.add(layers.Dense(1))\n",
        "  model.compile(optimizer= tf.keras.optimizers.RMSprop(learning_rate=hp_learning_rate), loss='mae')\n",
        "  return model"
      ],
      "metadata": {
        "id": "nqhKP3EqYOPa"
      },
      "execution_count": null,
      "outputs": []
    },
    {
      "cell_type": "code",
      "source": [
        "tuner = kt.RandomSearch(model_builder,\n",
        "                     objective = 'val_loss',\n",
        "                     #max_epochs=100,\n",
        "                     #factor=3,\n",
        "                     directory='my_dir',\n",
        "                     project_name='intro_to_kt3',\n",
        "                     max_trials = 30)\n"
      ],
      "metadata": {
        "colab": {
          "base_uri": "https://localhost:8080/"
        },
        "id": "Ob-PmQYfZ7X8",
        "outputId": "7b925462-7962-4b2a-d123-e3fd6dc80a53"
      },
      "execution_count": null,
      "outputs": [
        {
          "output_type": "stream",
          "name": "stdout",
          "text": [
            "INFO:tensorflow:Reloading Oracle from existing project my_dir/intro_to_kt3/oracle.json\n"
          ]
        }
      ]
    },
    {
      "cell_type": "code",
      "source": [
        "#tuner.search(train_gen, val_gen, epochs=100)\n",
        "tuner.search(train_gen, \n",
        "             validation_data = val_gen,\n",
        "             validation_steps = val_steps, \n",
        "             epochs=10,\n",
        "             steps_per_epoch = 200,\n",
        "             )\n"
      ],
      "metadata": {
        "colab": {
          "base_uri": "https://localhost:8080/"
        },
        "id": "-PzAT6pJaSKe",
        "outputId": "c82e0fa7-4e54-4071-f314-384ccca9c921"
      },
      "execution_count": null,
      "outputs": [
        {
          "output_type": "stream",
          "name": "stdout",
          "text": [
            "Trial 30 Complete [00h 05m 24s]\n",
            "val_loss: 0.024721957743167877\n",
            "\n",
            "Best val_loss So Far: 0.011476642452180386\n",
            "Total elapsed time: 06h 01m 01s\n",
            "INFO:tensorflow:Oracle triggered exit\n"
          ]
        }
      ]
    },
    {
      "cell_type": "code",
      "source": [
        "tuner.results_summary()"
      ],
      "metadata": {
        "colab": {
          "base_uri": "https://localhost:8080/"
        },
        "id": "qvtqXpTwEQI6",
        "outputId": "b1f6b3a3-ee49-41b4-a3fe-f2a44e986a03"
      },
      "execution_count": null,
      "outputs": [
        {
          "output_type": "stream",
          "name": "stdout",
          "text": [
            "Results summary\n",
            "Results in my_dir/intro_to_kt3\n",
            "Showing 10 best trials\n",
            "<keras_tuner.engine.objective.Objective object at 0x7fd5a86a6090>\n",
            "Trial summary\n",
            "Hyperparameters:\n",
            "learning_rate: 0.01\n",
            "units: 352\n",
            "lstm_activation: sigmoid\n",
            "Dropout_rate: 0.30000000000000004\n",
            "dense_activation: sigmoid\n",
            "Score: 0.011476642452180386\n",
            "Trial summary\n",
            "Hyperparameters:\n",
            "learning_rate: 0.0001\n",
            "units: 480\n",
            "lstm_activation: relu\n",
            "Dropout_rate: 0.1\n",
            "dense_activation: relu\n",
            "Score: 0.011646261438727379\n",
            "Trial summary\n",
            "Hyperparameters:\n",
            "learning_rate: 0.001\n",
            "units: 160\n",
            "lstm_activation: sigmoid\n",
            "Dropout_rate: 0.4\n",
            "dense_activation: relu\n",
            "Score: 0.012687504291534424\n",
            "Trial summary\n",
            "Hyperparameters:\n",
            "learning_rate: 0.001\n",
            "units: 144\n",
            "lstm_activation: relu\n",
            "Dropout_rate: 0.4\n",
            "dense_activation: sigmoid\n",
            "Score: 0.016649186611175537\n",
            "Trial summary\n",
            "Hyperparameters:\n",
            "learning_rate: 0.01\n",
            "units: 128\n",
            "lstm_activation: sigmoid\n",
            "Dropout_rate: 0.0\n",
            "dense_activation: sigmoid\n",
            "Score: 0.016744622960686684\n",
            "Trial summary\n",
            "Hyperparameters:\n",
            "learning_rate: 0.01\n",
            "units: 464\n",
            "lstm_activation: softmax\n",
            "Dropout_rate: 0.4\n",
            "dense_activation: softmax\n",
            "Score: 0.017047788947820663\n",
            "Trial summary\n",
            "Hyperparameters:\n",
            "learning_rate: 0.0001\n",
            "units: 48\n",
            "lstm_activation: relu\n",
            "Dropout_rate: 0.1\n",
            "dense_activation: relu\n",
            "Score: 0.017212171107530594\n",
            "Trial summary\n",
            "Hyperparameters:\n",
            "learning_rate: 0.01\n",
            "units: 192\n",
            "lstm_activation: softmax\n",
            "Dropout_rate: 0.30000000000000004\n",
            "dense_activation: sigmoid\n",
            "Score: 0.017537692561745644\n",
            "Trial summary\n",
            "Hyperparameters:\n",
            "learning_rate: 0.0001\n",
            "units: 416\n",
            "lstm_activation: sigmoid\n",
            "Dropout_rate: 0.1\n",
            "dense_activation: relu\n",
            "Score: 0.018563317134976387\n",
            "Trial summary\n",
            "Hyperparameters:\n",
            "learning_rate: 0.01\n",
            "units: 32\n",
            "lstm_activation: relu\n",
            "Dropout_rate: 0.4\n",
            "dense_activation: softmax\n",
            "Score: 0.01867533288896084\n"
          ]
        }
      ]
    },
    {
      "cell_type": "code",
      "source": [
        ""
      ],
      "metadata": {
        "id": "oe0iWheDEeI9"
      },
      "execution_count": null,
      "outputs": []
    },
    {
      "cell_type": "code",
      "source": [
        "#best_hps=tuner.get_best_hyperparameters()\n",
        "best = tuner.get_best_hyperparameters()\n"
      ],
      "metadata": {
        "id": "J5NHH6czDr3x"
      },
      "execution_count": null,
      "outputs": []
    },
    {
      "cell_type": "code",
      "source": [
        "best2 = tuner.get_best_hyperparameters(num_trials =1)"
      ],
      "metadata": {
        "id": "S1z--AZgEKj4"
      },
      "execution_count": null,
      "outputs": []
    },
    {
      "cell_type": "code",
      "source": [
        "best[0]"
      ],
      "metadata": {
        "colab": {
          "base_uri": "https://localhost:8080/"
        },
        "id": "SVVgo2egD5G7",
        "outputId": "7cab0c22-1b83-4bbf-90d2-fdc7fa0baea3"
      },
      "execution_count": null,
      "outputs": [
        {
          "output_type": "execute_result",
          "data": {
            "text/plain": [
              "<keras_tuner.engine.hyperparameters.HyperParameters at 0x7fd5a886c950>"
            ]
          },
          "metadata": {},
          "execution_count": 32
        }
      ]
    },
    {
      "cell_type": "code",
      "source": [
        "best2[0]"
      ],
      "metadata": {
        "colab": {
          "base_uri": "https://localhost:8080/"
        },
        "id": "pxPr2Q_vENAW",
        "outputId": "71b2a497-b842-463a-fc05-e0b1960501ab"
      },
      "execution_count": null,
      "outputs": [
        {
          "output_type": "execute_result",
          "data": {
            "text/plain": [
              "<keras_tuner.engine.hyperparameters.HyperParameters at 0x7fd5a886c950>"
            ]
          },
          "metadata": {},
          "execution_count": 35
        }
      ]
    }
  ]
}