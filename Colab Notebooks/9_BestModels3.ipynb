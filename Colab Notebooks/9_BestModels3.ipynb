{
  "nbformat": 4,
  "nbformat_minor": 0,
  "metadata": {
    "colab": {
      "name": "9_BestModels3.ipynb",
      "provenance": [],
      "collapsed_sections": []
    },
    "kernelspec": {
      "name": "python3",
      "display_name": "Python 3"
    },
    "language_info": {
      "name": "python"
    }
  },
  "cells": [
    {
      "cell_type": "markdown",
      "source": [
        "Different parameters, no improvement, loss ~0.7"
      ],
      "metadata": {
        "id": "--11-WmKPCDW"
      }
    },
    {
      "cell_type": "code",
      "execution_count": null,
      "metadata": {
        "id": "9TH9K4iWOW0R"
      },
      "outputs": [],
      "source": [
        "import pandas as pd\n",
        "import numpy as np\n",
        "import tensorflow as tf\n",
        "from itertools import chain\n",
        "from keras.preprocessing.sequence import TimeseriesGenerator\n",
        "from matplotlib import pyplot as plt\n",
        "from tensorflow.keras import layers\n",
        "df = pd.read_csv(\"drive/MyDrive/Engineer's Project/test.csv\")"
      ]
    },
    {
      "cell_type": "code",
      "source": [
        "df.pop('usa_cpi')\n",
        "df.pop('pol_cpi')\n",
        "df.pop('usa_inter')\n",
        "df.pop('pol_inter')"
      ],
      "metadata": {
        "colab": {
          "base_uri": "https://localhost:8080/"
        },
        "id": "N6TPdlB3OZ61",
        "outputId": "18f5f41e-a44e-4d92-8aef-5f6c3e9dce81"
      },
      "execution_count": null,
      "outputs": [
        {
          "output_type": "execute_result",
          "data": {
            "text/plain": [
              "0       5.82\n",
              "1       5.82\n",
              "2       5.82\n",
              "3       5.82\n",
              "4       5.82\n",
              "        ... \n",
              "3537    4.83\n",
              "3538    4.83\n",
              "3539    4.83\n",
              "3540    4.83\n",
              "3541    4.83\n",
              "Name: pol_inter, Length: 3542, dtype: float64"
            ]
          },
          "metadata": {},
          "execution_count": 2
        }
      ]
    },
    {
      "cell_type": "code",
      "source": [
        "df.pop('Date')\n",
        "float_data = np.array(df).astype('float32')\n",
        "mean = float_data[:2501].mean(axis=0)\n",
        "std = float_data[:2501].std(axis=0)\n",
        "float_data -= mean\n",
        "float_data /= std"
      ],
      "metadata": {
        "id": "eGz7dfvPObF2"
      },
      "execution_count": null,
      "outputs": []
    },
    {
      "cell_type": "code",
      "source": [
        "lookback = 30\n",
        "step = 1\n",
        "delay = 1\n",
        "batch_size = 128"
      ],
      "metadata": {
        "id": "Yhk_0iRHOcNP"
      },
      "execution_count": null,
      "outputs": []
    },
    {
      "cell_type": "code",
      "source": [
        "def generator(data, lookback, delay, min_index, max_index,shuffle=False, batch_size=128, step=1):\n",
        "  if max_index is None:\n",
        "    max_index = len(data) - delay - 1\n",
        "  i = min_index + lookback\n",
        "  while 1:\n",
        "    if shuffle:\n",
        "      rows = np.random.randint(\n",
        "        min_index + lookback, max_index, size=batch_size)\n",
        "    else:\n",
        "      if i + batch_size >= max_index:\n",
        "        i = min_index + lookback\n",
        "      rows = np.arange(i, min(i + batch_size, max_index))\n",
        "      i += len(rows)\n",
        "    samples = np.zeros((len(rows),lookback // step,data.shape[-1]))\n",
        "    targets = np.zeros((len(rows),))\n",
        "    for j, row in enumerate(rows):\n",
        "      indices = range(rows[j] - lookback, rows[j], step)\n",
        "      samples[j] = data[indices]\n",
        "      targets[j] = data[rows[j] + delay][3] ##### HIT KURDE 1 to numer kolumny ktora przewiduje wtf\n",
        "    yield samples, targets"
      ],
      "metadata": {
        "id": "XacQsqMcOeh0"
      },
      "execution_count": null,
      "outputs": []
    },
    {
      "cell_type": "code",
      "source": [
        "train_gen = generator(float_data,\n",
        "lookback=lookback,\n",
        "delay=delay,\n",
        "min_index=0,\n",
        "max_index=2501,\n",
        "shuffle=True,\n",
        "step=step,\n",
        "batch_size=batch_size)"
      ],
      "metadata": {
        "id": "ZeK_eunAOfve"
      },
      "execution_count": null,
      "outputs": []
    },
    {
      "cell_type": "code",
      "source": [
        "val_gen = generator(float_data,\n",
        "lookback=lookback,\n",
        "delay=delay,\n",
        "min_index=2501,\n",
        "max_index=3001,\n",
        "step=step,\n",
        "batch_size=batch_size)"
      ],
      "metadata": {
        "id": "njq4XEWYOg86"
      },
      "execution_count": null,
      "outputs": []
    },
    {
      "cell_type": "code",
      "source": [
        "test_gen = generator(float_data,\n",
        "lookback=lookback,\n",
        "delay=delay,\n",
        "min_index=3001,\n",
        "max_index=3541,\n",
        "step=step,\n",
        "batch_size=batch_size)"
      ],
      "metadata": {
        "id": "z6MDZB--OiPf"
      },
      "execution_count": null,
      "outputs": []
    },
    {
      "cell_type": "code",
      "source": [
        "val_steps = (3001 - 2501 - lookback)\n",
        "test_steps = (len(float_data) - 3001 - lookback)"
      ],
      "metadata": {
        "id": "Hhgs3q6lOjM0"
      },
      "execution_count": null,
      "outputs": []
    },
    {
      "cell_type": "markdown",
      "source": [
        "Without shuffle in generator, higher dropout"
      ],
      "metadata": {
        "id": "V3gWl74wPEQU"
      }
    },
    {
      "cell_type": "code",
      "source": [
        "model = tf.keras.models.Sequential()\n",
        "model.add(layers.LSTM(128,\n",
        "  activation='sigmoid',\n",
        "  dropout=0.3,\n",
        "  recurrent_dropout=0.1,\n",
        "  return_sequences=True,\n",
        "  input_shape=(None, float_data.shape[-1])))\n",
        "model.add(layers.GRU(16,\n",
        "  activation='sigmoid',\n",
        "  dropout=0.3,\n",
        "  recurrent_dropout=0.1,\n",
        "  input_shape=(None, float_data.shape[-1])))\n",
        "model.add(layers.Dense(1))\n",
        "model.compile(optimizer= tf.keras.optimizers.Adam(), loss='mae')\n",
        "history = model.fit(train_gen,\n",
        "  steps_per_epoch=400,\n",
        "  epochs=80,\n",
        "  validation_data=val_gen,\n",
        "  validation_steps=val_steps)"
      ],
      "metadata": {
        "colab": {
          "base_uri": "https://localhost:8080/"
        },
        "id": "yXsSgAg9OuKw",
        "outputId": "f74750cf-ff33-44ab-881b-eee01c6a42f6"
      },
      "execution_count": null,
      "outputs": [
        {
          "output_type": "stream",
          "name": "stdout",
          "text": [
            "Epoch 1/80\n",
            "400/400 [==============================] - 53s 114ms/step - loss: 0.5958 - val_loss: 0.5636\n",
            "Epoch 2/80\n",
            "400/400 [==============================] - 42s 106ms/step - loss: 0.2300 - val_loss: 0.1724\n",
            "Epoch 3/80\n",
            "400/400 [==============================] - 43s 107ms/step - loss: 0.1605 - val_loss: 0.0849\n",
            "Epoch 4/80\n",
            "400/400 [==============================] - 43s 106ms/step - loss: 0.1320 - val_loss: 0.0745\n",
            "Epoch 5/80\n",
            "400/400 [==============================] - 42s 106ms/step - loss: 0.1181 - val_loss: 0.1497\n",
            "Epoch 6/80\n",
            "400/400 [==============================] - 42s 106ms/step - loss: 0.1142 - val_loss: 0.1146\n",
            "Epoch 7/80\n",
            "400/400 [==============================] - 42s 105ms/step - loss: 0.1082 - val_loss: 0.1106\n",
            "Epoch 8/80\n",
            "400/400 [==============================] - 42s 105ms/step - loss: 0.1083 - val_loss: 0.1068\n",
            "Epoch 9/80\n",
            "400/400 [==============================] - 42s 106ms/step - loss: 0.1043 - val_loss: 0.0631\n",
            "Epoch 10/80\n",
            "400/400 [==============================] - 42s 106ms/step - loss: 0.1012 - val_loss: 0.1017\n",
            "Epoch 11/80\n",
            "400/400 [==============================] - 42s 105ms/step - loss: 0.1038 - val_loss: 0.0704\n",
            "Epoch 12/80\n",
            "400/400 [==============================] - 42s 106ms/step - loss: 0.0989 - val_loss: 0.0665\n",
            "Epoch 13/80\n",
            "400/400 [==============================] - 42s 106ms/step - loss: 0.1003 - val_loss: 0.0637\n",
            "Epoch 14/80\n",
            "400/400 [==============================] - 42s 105ms/step - loss: 0.0979 - val_loss: 0.0694\n",
            "Epoch 15/80\n",
            "400/400 [==============================] - 42s 106ms/step - loss: 0.0957 - val_loss: 0.0763\n",
            "Epoch 16/80\n",
            "400/400 [==============================] - 43s 106ms/step - loss: 0.0950 - val_loss: 0.0872\n",
            "Epoch 17/80\n",
            "400/400 [==============================] - 43s 107ms/step - loss: 0.0933 - val_loss: 0.0654\n",
            "Epoch 18/80\n",
            "400/400 [==============================] - 42s 106ms/step - loss: 0.0942 - val_loss: 0.0606\n",
            "Epoch 19/80\n",
            "400/400 [==============================] - 42s 105ms/step - loss: 0.0935 - val_loss: 0.0751\n",
            "Epoch 20/80\n",
            "400/400 [==============================] - 42s 106ms/step - loss: 0.0923 - val_loss: 0.0601\n",
            "Epoch 21/80\n",
            "400/400 [==============================] - 42s 106ms/step - loss: 0.0927 - val_loss: 0.0620\n",
            "Epoch 22/80\n",
            "400/400 [==============================] - 42s 106ms/step - loss: 0.0925 - val_loss: 0.0610\n",
            "Epoch 23/80\n",
            "400/400 [==============================] - 43s 107ms/step - loss: 0.0920 - val_loss: 0.0599\n",
            "Epoch 24/80\n",
            "400/400 [==============================] - 43s 107ms/step - loss: 0.0908 - val_loss: 0.0813\n",
            "Epoch 25/80\n",
            "400/400 [==============================] - 42s 106ms/step - loss: 0.0903 - val_loss: 0.0663\n",
            "Epoch 26/80\n",
            "400/400 [==============================] - 42s 106ms/step - loss: 0.0893 - val_loss: 0.0642\n",
            "Epoch 27/80\n",
            "400/400 [==============================] - 43s 107ms/step - loss: 0.0891 - val_loss: 0.0624\n",
            "Epoch 28/80\n",
            "400/400 [==============================] - 43s 106ms/step - loss: 0.0908 - val_loss: 0.0986\n",
            "Epoch 29/80\n",
            "400/400 [==============================] - 42s 106ms/step - loss: 0.0890 - val_loss: 0.0631\n",
            "Epoch 30/80\n",
            "400/400 [==============================] - 42s 105ms/step - loss: 0.0878 - val_loss: 0.0667\n",
            "Epoch 31/80\n",
            "400/400 [==============================] - 42s 106ms/step - loss: 0.0891 - val_loss: 0.0635\n",
            "Epoch 32/80\n",
            "400/400 [==============================] - 42s 106ms/step - loss: 0.0906 - val_loss: 0.0587\n",
            "Epoch 33/80\n",
            "400/400 [==============================] - 42s 105ms/step - loss: 0.0917 - val_loss: 0.0631\n",
            "Epoch 34/80\n",
            "400/400 [==============================] - 46s 115ms/step - loss: 0.0904 - val_loss: 0.0635\n",
            "Epoch 35/80\n",
            "400/400 [==============================] - 67s 167ms/step - loss: 0.0861 - val_loss: 0.0590\n",
            "Epoch 36/80\n",
            "400/400 [==============================] - 46s 115ms/step - loss: 0.0879 - val_loss: 0.0953\n",
            "Epoch 37/80\n",
            "400/400 [==============================] - 51s 128ms/step - loss: 0.0902 - val_loss: 0.0572\n",
            "Epoch 38/80\n",
            "400/400 [==============================] - 43s 108ms/step - loss: 0.0878 - val_loss: 0.0597\n",
            "Epoch 39/80\n",
            "400/400 [==============================] - 44s 111ms/step - loss: 0.0876 - val_loss: 0.1044\n",
            "Epoch 40/80\n",
            "400/400 [==============================] - 43s 108ms/step - loss: 0.0895 - val_loss: 0.0624\n",
            "Epoch 41/80\n",
            "400/400 [==============================] - 43s 107ms/step - loss: 0.0891 - val_loss: 0.1065\n",
            "Epoch 42/80\n",
            "400/400 [==============================] - 43s 108ms/step - loss: 0.0882 - val_loss: 0.0639\n",
            "Epoch 43/80\n",
            "400/400 [==============================] - 43s 107ms/step - loss: 0.0852 - val_loss: 0.0590\n",
            "Epoch 44/80\n",
            "400/400 [==============================] - 43s 106ms/step - loss: 0.0888 - val_loss: 0.0597\n",
            "Epoch 45/80\n",
            "400/400 [==============================] - 43s 108ms/step - loss: 0.0857 - val_loss: 0.0698\n",
            "Epoch 46/80\n",
            "400/400 [==============================] - 43s 108ms/step - loss: 0.0848 - val_loss: 0.0909\n",
            "Epoch 47/80\n",
            "400/400 [==============================] - 43s 106ms/step - loss: 0.0848 - val_loss: 0.0697\n",
            "Epoch 48/80\n",
            "400/400 [==============================] - 42s 106ms/step - loss: 0.0851 - val_loss: 0.0637\n",
            "Epoch 49/80\n",
            "400/400 [==============================] - 43s 106ms/step - loss: 0.0835 - val_loss: 0.0954\n",
            "Epoch 50/80\n",
            "400/400 [==============================] - 42s 106ms/step - loss: 0.0859 - val_loss: 0.1074\n",
            "Epoch 51/80\n",
            "400/400 [==============================] - 42s 106ms/step - loss: 0.0863 - val_loss: 0.0655\n",
            "Epoch 52/80\n",
            "400/400 [==============================] - 43s 107ms/step - loss: 0.0872 - val_loss: 0.0606\n",
            "Epoch 53/80\n",
            "400/400 [==============================] - 42s 106ms/step - loss: 0.0837 - val_loss: 0.0614\n",
            "Epoch 54/80\n",
            "400/400 [==============================] - 43s 107ms/step - loss: 0.0854 - val_loss: 0.0625\n",
            "Epoch 55/80\n",
            "400/400 [==============================] - 43s 107ms/step - loss: 0.0838 - val_loss: 0.0588\n",
            "Epoch 56/80\n",
            "400/400 [==============================] - 43s 106ms/step - loss: 0.0806 - val_loss: 0.0606\n",
            "Epoch 57/80\n",
            "400/400 [==============================] - 43s 106ms/step - loss: 0.0868 - val_loss: 0.0782\n",
            "Epoch 58/80\n",
            "400/400 [==============================] - 42s 106ms/step - loss: 0.0837 - val_loss: 0.0616\n",
            "Epoch 59/80\n",
            "400/400 [==============================] - 43s 107ms/step - loss: 0.0836 - val_loss: 0.0610\n",
            "Epoch 60/80\n",
            "400/400 [==============================] - 42s 106ms/step - loss: 0.0840 - val_loss: 0.0751\n",
            "Epoch 61/80\n",
            "400/400 [==============================] - 43s 106ms/step - loss: 0.0818 - val_loss: 0.0747\n",
            "Epoch 62/80\n",
            "400/400 [==============================] - 43s 107ms/step - loss: 0.0827 - val_loss: 0.0581\n",
            "Epoch 63/80\n",
            "400/400 [==============================] - 43s 106ms/step - loss: 0.0825 - val_loss: 0.0551\n",
            "Epoch 64/80\n",
            "400/400 [==============================] - 42s 106ms/step - loss: 0.0841 - val_loss: 0.0674\n",
            "Epoch 65/80\n",
            "400/400 [==============================] - 42s 106ms/step - loss: 0.0825 - val_loss: 0.0937\n",
            "Epoch 66/80\n",
            "400/400 [==============================] - 43s 107ms/step - loss: 0.0807 - val_loss: 0.0636\n",
            "Epoch 67/80\n",
            "400/400 [==============================] - 42s 106ms/step - loss: 0.0824 - val_loss: 0.0851\n",
            "Epoch 68/80\n",
            "400/400 [==============================] - 42s 106ms/step - loss: 0.0835 - val_loss: 0.0674\n",
            "Epoch 69/80\n",
            "400/400 [==============================] - 42s 106ms/step - loss: 0.0821 - val_loss: 0.0615\n",
            "Epoch 70/80\n",
            "400/400 [==============================] - 43s 108ms/step - loss: 0.0804 - val_loss: 0.0573\n",
            "Epoch 71/80\n",
            "400/400 [==============================] - 43s 107ms/step - loss: 0.0836 - val_loss: 0.0642\n",
            "Epoch 72/80\n",
            "400/400 [==============================] - 42s 106ms/step - loss: 0.0801 - val_loss: 0.0630\n",
            "Epoch 73/80\n",
            "400/400 [==============================] - 43s 107ms/step - loss: 0.0818 - val_loss: 0.0650\n",
            "Epoch 74/80\n",
            "400/400 [==============================] - 43s 107ms/step - loss: 0.0779 - val_loss: 0.0554\n",
            "Epoch 75/80\n",
            "400/400 [==============================] - 43s 106ms/step - loss: 0.0819 - val_loss: 0.0689\n",
            "Epoch 76/80\n",
            "400/400 [==============================] - 43s 109ms/step - loss: 0.0822 - val_loss: 0.0591\n",
            "Epoch 77/80\n",
            "400/400 [==============================] - 43s 109ms/step - loss: 0.0793 - val_loss: 0.0549\n",
            "Epoch 78/80\n",
            "400/400 [==============================] - 43s 107ms/step - loss: 0.0789 - val_loss: 0.0716\n",
            "Epoch 79/80\n",
            "400/400 [==============================] - 42s 106ms/step - loss: 0.0805 - val_loss: 0.0550\n",
            "Epoch 80/80\n",
            "400/400 [==============================] - 43s 107ms/step - loss: 0.0809 - val_loss: 0.0911\n"
          ]
        }
      ]
    },
    {
      "cell_type": "code",
      "source": [
        "eval = model.evaluate(test_gen, steps = test_steps)\n",
        "eval *std[3]"
      ],
      "metadata": {
        "colab": {
          "base_uri": "https://localhost:8080/"
        },
        "id": "4Lqj6acnU_pz",
        "outputId": "58ac1cfb-ab6e-43ee-8bda-3cc638e08d97"
      },
      "execution_count": null,
      "outputs": [
        {
          "output_type": "stream",
          "name": "stdout",
          "text": [
            "526/526 [==============================] - 9s 17ms/step - loss: 0.1239\n"
          ]
        },
        {
          "output_type": "execute_result",
          "data": {
            "text/plain": [
              "0.04625031190197215"
            ]
          },
          "metadata": {},
          "execution_count": 14
        }
      ]
    },
    {
      "cell_type": "code",
      "source": [
        "loss = history.history['loss']\n",
        "val_loss = history.history['val_loss']\n",
        "epochs = range(1, len(loss) + 1)\n",
        "plt.figure()\n",
        "plt.plot(epochs, loss, 'bo', label='Training loss')\n",
        "plt.plot(epochs, val_loss, 'b', label='Validation loss')\n",
        "plt.title('Training and validation loss,relu, CLOSING PRICE PREDICTION')\n",
        "plt.legend()\n",
        "plt.show()"
      ],
      "metadata": {
        "colab": {
          "base_uri": "https://localhost:8080/",
          "height": 281
        },
        "id": "rJRzJ52LVBXN",
        "outputId": "7ddca1d6-a639-4e93-c0c5-ca000b52fd60"
      },
      "execution_count": null,
      "outputs": [
        {
          "output_type": "display_data",
          "data": {
            "text/plain": [
              "<Figure size 432x288 with 1 Axes>"
            ],
            "image/png": "[encoded data removed]"
          },
          "metadata": {
            "needs_background": "light"
          }
        }
      ]
    },
    {
      "cell_type": "markdown",
      "source": [
        "No big difference, return to shuffle = True"
      ],
      "metadata": {
        "id": "dFLdYdpZUoub"
      }
    },
    {
      "cell_type": "code",
      "source": [
        "model1 = tf.keras.models.Sequential()\n",
        "model1.add(layers.LSTM(128,\n",
        "  activation='sigmoid',\n",
        "  dropout=0.1,\n",
        "  recurrent_dropout=0.1,\n",
        "  input_shape=(None, float_data.shape[-1])))\n",
        "model.add(layers.Dense(5,\n",
        "  activation='sigmoid',))\n",
        "model1.add(layers.Dense(1))\n",
        "model1.compile(optimizer= tf.keras.optimizers.Adam(), loss='mae')\n",
        "history1 = model1.fit(train_gen,\n",
        "  steps_per_epoch=400,\n",
        "  epochs=80,\n",
        "  validation_data=val_gen,\n",
        "  validation_steps=val_steps)"
      ],
      "metadata": {
        "colab": {
          "base_uri": "https://localhost:8080/"
        },
        "id": "1LKRqdoeUmM1",
        "outputId": "dbdbddf5-133d-4a1c-be1e-64edd7082a3c"
      },
      "execution_count": null,
      "outputs": [
        {
          "output_type": "stream",
          "name": "stdout",
          "text": [
            "Epoch 1/80\n",
            "400/400 [==============================] - 33s 77ms/step - loss: 0.2093 - val_loss: 0.2155\n",
            "Epoch 2/80\n",
            "400/400 [==============================] - 30s 76ms/step - loss: 0.1099 - val_loss: 0.1245\n",
            "Epoch 3/80\n",
            "400/400 [==============================] - 31s 77ms/step - loss: 0.1106 - val_loss: 0.0459\n",
            "Epoch 4/80\n",
            "400/400 [==============================] - 31s 76ms/step - loss: 0.0921 - val_loss: 0.0474\n",
            "Epoch 5/80\n",
            "400/400 [==============================] - 30s 76ms/step - loss: 0.1035 - val_loss: 0.1152\n",
            "Epoch 6/80\n",
            "400/400 [==============================] - 30s 76ms/step - loss: 0.0938 - val_loss: 0.0933\n",
            "Epoch 7/80\n",
            "400/400 [==============================] - 31s 78ms/step - loss: 0.0923 - val_loss: 0.0566\n",
            "Epoch 8/80\n",
            "400/400 [==============================] - 31s 77ms/step - loss: 0.0898 - val_loss: 0.0463\n",
            "Epoch 9/80\n",
            "400/400 [==============================] - 31s 76ms/step - loss: 0.0884 - val_loss: 0.0662\n",
            "Epoch 10/80\n",
            "400/400 [==============================] - 31s 76ms/step - loss: 0.0872 - val_loss: 0.0472\n",
            "Epoch 11/80\n",
            "400/400 [==============================] - 31s 77ms/step - loss: 0.0878 - val_loss: 0.0498\n",
            "Epoch 12/80\n",
            "400/400 [==============================] - 31s 76ms/step - loss: 0.0840 - val_loss: 0.0658\n",
            "Epoch 13/80\n",
            "400/400 [==============================] - 31s 77ms/step - loss: 0.0875 - val_loss: 0.0465\n",
            "Epoch 14/80\n",
            "400/400 [==============================] - 31s 76ms/step - loss: 0.0834 - val_loss: 0.0529\n",
            "Epoch 15/80\n",
            "400/400 [==============================] - 31s 77ms/step - loss: 0.0801 - val_loss: 0.0521\n",
            "Epoch 16/80\n",
            "400/400 [==============================] - 31s 77ms/step - loss: 0.0880 - val_loss: 0.1235\n",
            "Epoch 17/80\n",
            "400/400 [==============================] - 31s 77ms/step - loss: 0.0790 - val_loss: 0.0587\n",
            "Epoch 18/80\n",
            "400/400 [==============================] - 31s 76ms/step - loss: 0.0829 - val_loss: 0.0456\n",
            "Epoch 19/80\n",
            "400/400 [==============================] - 31s 77ms/step - loss: 0.0789 - val_loss: 0.0492\n",
            "Epoch 20/80\n",
            "400/400 [==============================] - 31s 77ms/step - loss: 0.0776 - val_loss: 0.1189\n",
            "Epoch 21/80\n",
            "400/400 [==============================] - 30s 76ms/step - loss: 0.0785 - val_loss: 0.0495\n",
            "Epoch 22/80\n",
            "400/400 [==============================] - 31s 77ms/step - loss: 0.0767 - val_loss: 0.0449\n",
            "Epoch 23/80\n",
            "400/400 [==============================] - 31s 77ms/step - loss: 0.0798 - val_loss: 0.0770\n",
            "Epoch 24/80\n",
            "400/400 [==============================] - 31s 77ms/step - loss: 0.0761 - val_loss: 0.0835\n",
            "Epoch 25/80\n",
            "400/400 [==============================] - 31s 77ms/step - loss: 0.0759 - val_loss: 0.0436\n",
            "Epoch 26/80\n",
            "400/400 [==============================] - 31s 78ms/step - loss: 0.0759 - val_loss: 0.0492\n",
            "Epoch 27/80\n",
            "400/400 [==============================] - 31s 78ms/step - loss: 0.0761 - val_loss: 0.0430\n",
            "Epoch 28/80\n",
            "400/400 [==============================] - 35s 89ms/step - loss: 0.0748 - val_loss: 0.0430\n",
            "Epoch 29/80\n",
            "400/400 [==============================] - 31s 77ms/step - loss: 0.0758 - val_loss: 0.0478\n",
            "Epoch 30/80\n",
            "400/400 [==============================] - 31s 77ms/step - loss: 0.0726 - val_loss: 0.0588\n",
            "Epoch 31/80\n",
            "400/400 [==============================] - 31s 77ms/step - loss: 0.0746 - val_loss: 0.0470\n",
            "Epoch 32/80\n",
            "400/400 [==============================] - 31s 77ms/step - loss: 0.0730 - val_loss: 0.0432\n",
            "Epoch 33/80\n",
            "400/400 [==============================] - 30s 76ms/step - loss: 0.0731 - val_loss: 0.0636\n",
            "Epoch 34/80\n",
            "400/400 [==============================] - 31s 77ms/step - loss: 0.0737 - val_loss: 0.0473\n",
            "Epoch 35/80\n",
            "400/400 [==============================] - 30s 76ms/step - loss: 0.0719 - val_loss: 0.0429\n",
            "Epoch 36/80\n",
            "400/400 [==============================] - 31s 77ms/step - loss: 0.0740 - val_loss: 0.0845\n",
            "Epoch 37/80\n",
            "400/400 [==============================] - 31s 77ms/step - loss: 0.0714 - val_loss: 0.0604\n",
            "Epoch 38/80\n",
            "400/400 [==============================] - 31s 77ms/step - loss: 0.0710 - val_loss: 0.0429\n",
            "Epoch 39/80\n",
            "400/400 [==============================] - 31s 77ms/step - loss: 0.0718 - val_loss: 0.0438\n",
            "Epoch 40/80\n",
            "400/400 [==============================] - 31s 77ms/step - loss: 0.0713 - val_loss: 0.0862\n",
            "Epoch 41/80\n",
            "400/400 [==============================] - 31s 77ms/step - loss: 0.0731 - val_loss: 0.1225\n",
            "Epoch 42/80\n",
            "400/400 [==============================] - 31s 78ms/step - loss: 0.0891 - val_loss: 0.0939\n",
            "Epoch 43/80\n",
            "400/400 [==============================] - 31s 78ms/step - loss: 0.0799 - val_loss: 0.0793\n",
            "Epoch 44/80\n",
            "400/400 [==============================] - 31s 77ms/step - loss: 0.0784 - val_loss: 0.0677\n",
            "Epoch 45/80\n",
            "400/400 [==============================] - 31s 78ms/step - loss: 0.0768 - val_loss: 0.0717\n",
            "Epoch 46/80\n",
            "400/400 [==============================] - 31s 78ms/step - loss: 0.0760 - val_loss: 0.0721\n",
            "Epoch 47/80\n",
            "400/400 [==============================] - 31s 77ms/step - loss: 0.0783 - val_loss: 0.0486\n",
            "Epoch 48/80\n",
            "400/400 [==============================] - 31s 78ms/step - loss: 0.0758 - val_loss: 0.0483\n",
            "Epoch 49/80\n",
            "400/400 [==============================] - 31s 78ms/step - loss: 0.0739 - val_loss: 0.0421\n",
            "Epoch 50/80\n",
            "400/400 [==============================] - 31s 78ms/step - loss: 0.0779 - val_loss: 0.0417\n",
            "Epoch 51/80\n",
            "400/400 [==============================] - 31s 78ms/step - loss: 0.0744 - val_loss: 0.0531\n",
            "Epoch 52/80\n",
            "400/400 [==============================] - 32s 79ms/step - loss: 0.0752 - val_loss: 0.0484\n",
            "Epoch 53/80\n",
            "400/400 [==============================] - 32s 79ms/step - loss: 0.0733 - val_loss: 0.0591\n",
            "Epoch 54/80\n",
            "400/400 [==============================] - 32s 79ms/step - loss: 0.0729 - val_loss: 0.0621\n",
            "Epoch 55/80\n",
            "400/400 [==============================] - 32s 79ms/step - loss: 0.0750 - val_loss: 0.0728\n",
            "Epoch 56/80\n",
            "400/400 [==============================] - 31s 78ms/step - loss: 0.0742 - val_loss: 0.0637\n",
            "Epoch 57/80\n",
            "400/400 [==============================] - 32s 79ms/step - loss: 0.0738 - val_loss: 0.0682\n",
            "Epoch 58/80\n",
            "400/400 [==============================] - 31s 79ms/step - loss: 0.0730 - val_loss: 0.0510\n",
            "Epoch 59/80\n",
            "400/400 [==============================] - 31s 78ms/step - loss: 0.0723 - val_loss: 0.0746\n",
            "Epoch 60/80\n",
            "400/400 [==============================] - 31s 78ms/step - loss: 0.0722 - val_loss: 0.0779\n",
            "Epoch 61/80\n",
            "400/400 [==============================] - 32s 79ms/step - loss: 0.0727 - val_loss: 0.0887\n",
            "Epoch 62/80\n",
            "400/400 [==============================] - 31s 78ms/step - loss: 0.0717 - val_loss: 0.0772\n",
            "Epoch 63/80\n",
            "400/400 [==============================] - 31s 78ms/step - loss: 0.0732 - val_loss: 0.0828\n",
            "Epoch 64/80\n",
            "400/400 [==============================] - 31s 78ms/step - loss: 0.0708 - val_loss: 0.0568\n",
            "Epoch 65/80\n",
            "400/400 [==============================] - 32s 79ms/step - loss: 0.0724 - val_loss: 0.0834\n",
            "Epoch 66/80\n",
            "400/400 [==============================] - 31s 78ms/step - loss: 0.0716 - val_loss: 0.0443\n",
            "Epoch 67/80\n",
            "400/400 [==============================] - 31s 78ms/step - loss: 0.0698 - val_loss: 0.0515\n",
            "Epoch 68/80\n",
            "400/400 [==============================] - 32s 79ms/step - loss: 0.0708 - val_loss: 0.0434\n",
            "Epoch 69/80\n",
            "400/400 [==============================] - 31s 79ms/step - loss: 0.0701 - val_loss: 0.0423\n",
            "Epoch 70/80\n",
            "400/400 [==============================] - 32s 79ms/step - loss: 0.0712 - val_loss: 0.0509\n",
            "Epoch 71/80\n",
            "400/400 [==============================] - 32s 79ms/step - loss: 0.0700 - val_loss: 0.0432\n",
            "Epoch 72/80\n",
            "400/400 [==============================] - 31s 79ms/step - loss: 0.0710 - val_loss: 0.0592\n",
            "Epoch 73/80\n",
            "400/400 [==============================] - 32s 79ms/step - loss: 0.0707 - val_loss: 0.0442\n",
            "Epoch 74/80\n",
            "400/400 [==============================] - 32s 80ms/step - loss: 0.0683 - val_loss: 0.0492\n",
            "Epoch 75/80\n",
            "400/400 [==============================] - 32s 80ms/step - loss: 0.0694 - val_loss: 0.0645\n",
            "Epoch 76/80\n",
            "400/400 [==============================] - 32s 79ms/step - loss: 0.0703 - val_loss: 0.0555\n",
            "Epoch 77/80\n",
            "400/400 [==============================] - 32s 79ms/step - loss: 0.0690 - val_loss: 0.0637\n",
            "Epoch 78/80\n",
            "400/400 [==============================] - 32s 79ms/step - loss: 0.0688 - val_loss: 0.0680\n",
            "Epoch 79/80\n",
            "400/400 [==============================] - 32s 80ms/step - loss: 0.0690 - val_loss: 0.0453\n",
            "Epoch 80/80\n",
            "400/400 [==============================] - 32s 80ms/step - loss: 0.0673 - val_loss: 0.0526\n"
          ]
        }
      ]
    },
    {
      "cell_type": "code",
      "source": [
        "eval1 = model1.evaluate(test_gen, steps = test_steps)\n",
        "eval1 *std[3]"
      ],
      "metadata": {
        "colab": {
          "base_uri": "https://localhost:8080/"
        },
        "id": "IzIEdduvr5DS",
        "outputId": "78668f32-df5c-4296-ea01-55f4c6589db4"
      },
      "execution_count": null,
      "outputs": [
        {
          "output_type": "stream",
          "name": "stdout",
          "text": [
            "526/526 [==============================] - 15s 28ms/step - loss: 0.0781\n"
          ]
        },
        {
          "output_type": "execute_result",
          "data": {
            "text/plain": [
              "0.029179422209747452"
            ]
          },
          "metadata": {},
          "execution_count": 17
        }
      ]
    },
    {
      "cell_type": "code",
      "source": [
        "loss1 = history1.history['loss']\n",
        "val_loss1 = history1.history['val_loss']\n",
        "epochs1 = range(1, len(loss1) + 1)\n",
        "plt.figure()\n",
        "plt.plot(epochs1, loss1, 'bo', label='Training loss')\n",
        "plt.plot(epochs1, val_loss1, 'b', label='Validation loss')\n",
        "plt.title('Training and validation loss,relu, CLOSING PRICE PREDICTION')\n",
        "plt.legend()\n",
        "plt.show()"
      ],
      "metadata": {
        "colab": {
          "base_uri": "https://localhost:8080/",
          "height": 281
        },
        "id": "q0ksQbbhr7af",
        "outputId": "1f143e60-f3b3-4bbd-a05d-2ae9d8c4614b"
      },
      "execution_count": null,
      "outputs": [
        {
          "output_type": "display_data",
          "data": {
            "text/plain": [
              "<Figure size 432x288 with 1 Axes>"
            ],
            "image/png": "[encoded data removed]"
          },
          "metadata": {
            "needs_background": "light"
          }
        }
      ]
    },
    {
      "cell_type": "markdown",
      "source": [
        "Best model, relu/sigmoid, RMSprop"
      ],
      "metadata": {
        "id": "d0nx-FW_s8tX"
      }
    },
    {
      "cell_type": "code",
      "source": [
        "model2 = tf.keras.models.Sequential()\n",
        "model2.add(layers.LSTM(128,\n",
        "  activation='sigmoid',\n",
        "  dropout=0.1,\n",
        "  recurrent_dropout=0.1,\n",
        "  input_shape=(None, float_data.shape[-1])))\n",
        "model2.add(layers.Dense(5,\n",
        "  activation='relu',))\n",
        "model2.add(layers.Dense(1))\n",
        "model2.compile(optimizer= tf.keras.optimizers.RMSprop(), loss='mae')\n",
        "history2 = model2.fit(train_gen,\n",
        "  steps_per_epoch=400,\n",
        "  epochs=80,\n",
        "  validation_data=val_gen,\n",
        "  validation_steps=val_steps)"
      ],
      "metadata": {
        "colab": {
          "base_uri": "https://localhost:8080/"
        },
        "id": "k_6P8tfjsy9g",
        "outputId": "ff54a28b-4612-4a1c-cdec-bac82c7e10ac"
      },
      "execution_count": null,
      "outputs": [
        {
          "output_type": "stream",
          "name": "stdout",
          "text": [
            "Epoch 1/80\n",
            "400/400 [==============================] - 39s 90ms/step - loss: 0.1541 - val_loss: 0.0981\n",
            "Epoch 2/80\n",
            "400/400 [==============================] - 33s 82ms/step - loss: 0.1030 - val_loss: 0.1018\n",
            "Epoch 3/80\n",
            "400/400 [==============================] - 32s 80ms/step - loss: 0.0938 - val_loss: 0.0848\n",
            "Epoch 4/80\n",
            "400/400 [==============================] - 32s 80ms/step - loss: 0.0892 - val_loss: 0.0527\n",
            "Epoch 5/80\n",
            "400/400 [==============================] - 31s 79ms/step - loss: 0.0862 - val_loss: 0.0575\n",
            "Epoch 6/80\n",
            "400/400 [==============================] - 32s 81ms/step - loss: 0.0837 - val_loss: 0.0873\n",
            "Epoch 7/80\n",
            "400/400 [==============================] - 32s 80ms/step - loss: 0.0815 - val_loss: 0.0496\n",
            "Epoch 8/80\n",
            "400/400 [==============================] - 31s 78ms/step - loss: 0.0793 - val_loss: 0.0682\n",
            "Epoch 9/80\n",
            "400/400 [==============================] - 31s 78ms/step - loss: 0.0773 - val_loss: 0.0710\n",
            "Epoch 10/80\n",
            "400/400 [==============================] - 31s 79ms/step - loss: 0.0761 - val_loss: 0.0770\n",
            "Epoch 11/80\n",
            "400/400 [==============================] - 32s 79ms/step - loss: 0.0744 - val_loss: 0.0613\n",
            "Epoch 12/80\n",
            "400/400 [==============================] - 32s 80ms/step - loss: 0.0744 - val_loss: 0.0581\n",
            "Epoch 13/80\n",
            "400/400 [==============================] - 32s 79ms/step - loss: 0.0738 - val_loss: 0.0463\n",
            "Epoch 14/80\n",
            "400/400 [==============================] - 32s 80ms/step - loss: 0.0726 - val_loss: 0.0463\n",
            "Epoch 15/80\n",
            "400/400 [==============================] - 32s 80ms/step - loss: 0.0721 - val_loss: 0.0498\n",
            "Epoch 16/80\n",
            "400/400 [==============================] - 32s 80ms/step - loss: 0.0719 - val_loss: 0.0436\n",
            "Epoch 17/80\n",
            "400/400 [==============================] - 32s 80ms/step - loss: 0.0710 - val_loss: 0.0436\n",
            "Epoch 18/80\n",
            "400/400 [==============================] - 32s 81ms/step - loss: 0.0708 - val_loss: 0.0526\n",
            "Epoch 19/80\n",
            "400/400 [==============================] - 32s 80ms/step - loss: 0.0702 - val_loss: 0.0723\n",
            "Epoch 20/80\n",
            "400/400 [==============================] - 32s 80ms/step - loss: 0.0694 - val_loss: 0.0760\n",
            "Epoch 21/80\n",
            "400/400 [==============================] - 32s 80ms/step - loss: 0.0694 - val_loss: 0.0797\n",
            "Epoch 22/80\n",
            "400/400 [==============================] - 32s 80ms/step - loss: 0.0690 - val_loss: 0.0478\n",
            "Epoch 23/80\n",
            "400/400 [==============================] - 32s 79ms/step - loss: 0.0689 - val_loss: 0.0425\n",
            "Epoch 24/80\n",
            "400/400 [==============================] - 32s 79ms/step - loss: 0.0681 - val_loss: 0.0443\n",
            "Epoch 25/80\n",
            "400/400 [==============================] - 32s 80ms/step - loss: 0.0681 - val_loss: 0.0436\n",
            "Epoch 26/80\n",
            "400/400 [==============================] - 32s 80ms/step - loss: 0.0675 - val_loss: 0.0425\n",
            "Epoch 27/80\n",
            "400/400 [==============================] - 32s 81ms/step - loss: 0.0676 - val_loss: 0.0648\n",
            "Epoch 28/80\n",
            "400/400 [==============================] - 32s 80ms/step - loss: 0.0668 - val_loss: 0.0419\n",
            "Epoch 29/80\n",
            "400/400 [==============================] - 32s 79ms/step - loss: 0.0667 - val_loss: 0.0449\n",
            "Epoch 30/80\n",
            "400/400 [==============================] - 32s 79ms/step - loss: 0.0661 - val_loss: 0.0483\n",
            "Epoch 31/80\n",
            "400/400 [==============================] - 32s 80ms/step - loss: 0.0661 - val_loss: 0.0437\n",
            "Epoch 32/80\n",
            "400/400 [==============================] - 32s 79ms/step - loss: 0.0661 - val_loss: 0.0431\n",
            "Epoch 33/80\n",
            "400/400 [==============================] - 32s 80ms/step - loss: 0.0657 - val_loss: 0.0441\n",
            "Epoch 34/80\n",
            "400/400 [==============================] - 32s 80ms/step - loss: 0.0651 - val_loss: 0.0458\n",
            "Epoch 35/80\n",
            "400/400 [==============================] - 32s 80ms/step - loss: 0.0646 - val_loss: 0.0427\n",
            "Epoch 36/80\n",
            "400/400 [==============================] - 32s 80ms/step - loss: 0.0645 - val_loss: 0.0446\n",
            "Epoch 37/80\n",
            "400/400 [==============================] - 32s 79ms/step - loss: 0.0642 - val_loss: 0.0500\n",
            "Epoch 38/80\n",
            "400/400 [==============================] - 32s 80ms/step - loss: 0.0639 - val_loss: 0.0433\n",
            "Epoch 39/80\n",
            "400/400 [==============================] - 32s 80ms/step - loss: 0.0641 - val_loss: 0.0441\n",
            "Epoch 40/80\n",
            "400/400 [==============================] - 32s 81ms/step - loss: 0.0635 - val_loss: 0.0426\n",
            "Epoch 41/80\n",
            "400/400 [==============================] - 32s 81ms/step - loss: 0.0635 - val_loss: 0.0441\n",
            "Epoch 42/80\n",
            "400/400 [==============================] - 32s 80ms/step - loss: 0.0635 - val_loss: 0.0603\n",
            "Epoch 43/80\n",
            "400/400 [==============================] - 32s 80ms/step - loss: 0.0629 - val_loss: 0.0432\n",
            "Epoch 44/80\n",
            "400/400 [==============================] - 31s 79ms/step - loss: 0.0632 - val_loss: 0.0464\n",
            "Epoch 45/80\n",
            "400/400 [==============================] - 32s 80ms/step - loss: 0.0622 - val_loss: 0.0452\n",
            "Epoch 46/80\n",
            "400/400 [==============================] - 32s 80ms/step - loss: 0.0616 - val_loss: 0.0432\n",
            "Epoch 47/80\n",
            "400/400 [==============================] - 32s 81ms/step - loss: 0.0623 - val_loss: 0.0480\n",
            "Epoch 48/80\n",
            "400/400 [==============================] - 32s 80ms/step - loss: 0.0617 - val_loss: 0.0590\n",
            "Epoch 49/80\n",
            "400/400 [==============================] - 32s 80ms/step - loss: 0.0616 - val_loss: 0.0513\n",
            "Epoch 50/80\n",
            "400/400 [==============================] - 32s 80ms/step - loss: 0.0608 - val_loss: 0.0498\n",
            "Epoch 51/80\n",
            "400/400 [==============================] - 32s 79ms/step - loss: 0.0608 - val_loss: 0.0483\n",
            "Epoch 52/80\n",
            "400/400 [==============================] - 32s 79ms/step - loss: 0.0607 - val_loss: 0.0548\n",
            "Epoch 53/80\n",
            "400/400 [==============================] - 32s 81ms/step - loss: 0.0605 - val_loss: 0.0444\n",
            "Epoch 54/80\n",
            "400/400 [==============================] - 32s 80ms/step - loss: 0.0600 - val_loss: 0.0530\n",
            "Epoch 55/80\n",
            "400/400 [==============================] - 32s 80ms/step - loss: 0.0598 - val_loss: 0.0483\n",
            "Epoch 56/80\n",
            "400/400 [==============================] - 32s 80ms/step - loss: 0.0599 - val_loss: 0.0550\n",
            "Epoch 57/80\n",
            "400/400 [==============================] - 32s 80ms/step - loss: 0.0597 - val_loss: 0.0532\n",
            "Epoch 58/80\n",
            "400/400 [==============================] - 32s 81ms/step - loss: 0.0589 - val_loss: 0.0617\n",
            "Epoch 59/80\n",
            "400/400 [==============================] - 32s 81ms/step - loss: 0.0588 - val_loss: 0.0474\n",
            "Epoch 60/80\n",
            "400/400 [==============================] - 32s 79ms/step - loss: 0.0590 - val_loss: 0.0499\n",
            "Epoch 61/80\n",
            "400/400 [==============================] - 32s 79ms/step - loss: 0.0586 - val_loss: 0.0460\n",
            "Epoch 62/80\n",
            "400/400 [==============================] - 32s 79ms/step - loss: 0.0582 - val_loss: 0.0660\n",
            "Epoch 63/80\n",
            "400/400 [==============================] - 32s 79ms/step - loss: 0.0583 - val_loss: 0.0505\n",
            "Epoch 64/80\n",
            "400/400 [==============================] - 32s 79ms/step - loss: 0.0575 - val_loss: 0.0516\n",
            "Epoch 65/80\n",
            "400/400 [==============================] - 32s 79ms/step - loss: 0.0575 - val_loss: 0.0523\n",
            "Epoch 66/80\n",
            "400/400 [==============================] - 32s 80ms/step - loss: 0.0575 - val_loss: 0.0504\n",
            "Epoch 67/80\n",
            "400/400 [==============================] - 32s 80ms/step - loss: 0.0567 - val_loss: 0.0504\n",
            "Epoch 68/80\n",
            "400/400 [==============================] - 32s 80ms/step - loss: 0.0567 - val_loss: 0.0483\n",
            "Epoch 69/80\n",
            "400/400 [==============================] - 32s 81ms/step - loss: 0.0564 - val_loss: 0.0500\n",
            "Epoch 70/80\n",
            "400/400 [==============================] - 32s 80ms/step - loss: 0.0563 - val_loss: 0.0494\n",
            "Epoch 71/80\n",
            "400/400 [==============================] - 32s 80ms/step - loss: 0.0559 - val_loss: 0.0521\n",
            "Epoch 72/80\n",
            "400/400 [==============================] - 32s 80ms/step - loss: 0.0556 - val_loss: 0.0541\n",
            "Epoch 73/80\n",
            "400/400 [==============================] - 32s 80ms/step - loss: 0.0556 - val_loss: 0.0491\n",
            "Epoch 74/80\n",
            "400/400 [==============================] - 32s 80ms/step - loss: 0.0556 - val_loss: 0.0529\n",
            "Epoch 75/80\n",
            "400/400 [==============================] - 32s 80ms/step - loss: 0.0548 - val_loss: 0.0509\n",
            "Epoch 76/80\n",
            "400/400 [==============================] - 32s 81ms/step - loss: 0.0548 - val_loss: 0.0565\n",
            "Epoch 77/80\n",
            "400/400 [==============================] - 32s 80ms/step - loss: 0.0541 - val_loss: 0.0503\n",
            "Epoch 78/80\n",
            "400/400 [==============================] - 32s 81ms/step - loss: 0.0541 - val_loss: 0.0519\n",
            "Epoch 79/80\n",
            "400/400 [==============================] - 53s 134ms/step - loss: 0.0543 - val_loss: 0.0525\n",
            "Epoch 80/80\n",
            "400/400 [==============================] - 43s 107ms/step - loss: 0.0541 - val_loss: 0.0585\n"
          ]
        }
      ]
    },
    {
      "cell_type": "code",
      "source": [
        "eval2 = model2.evaluate(test_gen, steps = test_steps)\n",
        "eval2 *std[3]"
      ],
      "metadata": {
        "colab": {
          "base_uri": "https://localhost:8080/"
        },
        "id": "Q6eT6qRm2gxC",
        "outputId": "a6d3a80e-5589-47bf-fd2c-f6f96fff7990"
      },
      "execution_count": null,
      "outputs": [
        {
          "output_type": "stream",
          "name": "stdout",
          "text": [
            "526/526 [==============================] - 8s 15ms/step - loss: 0.0941\n"
          ]
        },
        {
          "output_type": "execute_result",
          "data": {
            "text/plain": [
              "0.03513766923808137"
            ]
          },
          "metadata": {},
          "execution_count": 11
        }
      ]
    },
    {
      "cell_type": "code",
      "source": [
        "loss2 = history2.history['loss']\n",
        "val_loss2 = history2.history['val_loss']\n",
        "epochs2 = range(1, len(loss2) + 1)\n",
        "plt.figure()\n",
        "plt.plot(epochs2, loss2, 'bo', label='Training loss')\n",
        "plt.plot(epochs2, val_loss2, 'b', label='Validation loss')\n",
        "plt.title('Training and validation loss,relu, CLOSING PRICE PREDICTION')\n",
        "plt.legend()\n",
        "plt.show()"
      ],
      "metadata": {
        "id": "GfzdPqFH2j_-"
      },
      "execution_count": null,
      "outputs": []
    },
    {
      "cell_type": "markdown",
      "source": [
        "Best model, Adam(), lookback set to 45, 60"
      ],
      "metadata": {
        "id": "Q6fKyTJi2qiD"
      }
    },
    {
      "cell_type": "code",
      "source": [
        "model3 = tf.keras.models.Sequential()\n",
        "model3.add(layers.LSTM(128,\n",
        "  activation='sigmoid',\n",
        "  dropout=0.1,\n",
        "  recurrent_dropout=0.1,\n",
        "  input_shape=(None, float_data.shape[-1])))\n",
        "model3.add(layers.Dense(5,\n",
        "  activation='sigmoid',))\n",
        "model3.add(layers.Dense(1))\n",
        "model3.compile(optimizer= tf.keras.optimizers.Adam(), loss='mae')\n",
        "history3 = model3.fit(train_gen,\n",
        "  steps_per_epoch=400,\n",
        "  epochs=80,\n",
        "  validation_data=val_gen,\n",
        "  validation_steps=val_steps)"
      ],
      "metadata": {
        "colab": {
          "base_uri": "https://localhost:8080/"
        },
        "id": "aU1GeZ9t2siL",
        "outputId": "6e9f09ac-13e4-41f4-95d6-36b9977ad541"
      },
      "execution_count": null,
      "outputs": [
        {
          "output_type": "stream",
          "name": "stdout",
          "text": [
            "Epoch 1/80\n",
            "400/400 [==============================] - 104s 230ms/step - loss: 0.2461 - val_loss: 0.1270\n",
            "Epoch 2/80\n",
            "400/400 [==============================] - 87s 217ms/step - loss: 0.1013 - val_loss: 0.0806\n",
            "Epoch 3/80\n",
            "400/400 [==============================] - 84s 211ms/step - loss: 0.0838 - val_loss: 0.0707\n",
            "Epoch 4/80\n",
            "400/400 [==============================] - 84s 210ms/step - loss: 0.0778 - val_loss: 0.0707\n",
            "Epoch 5/80\n",
            "400/400 [==============================] - 84s 209ms/step - loss: 0.0743 - val_loss: 0.0600\n",
            "Epoch 6/80\n",
            "400/400 [==============================] - 84s 210ms/step - loss: 0.0716 - val_loss: 0.0813\n",
            "Epoch 7/80\n",
            "400/400 [==============================] - 84s 211ms/step - loss: 0.0703 - val_loss: 0.0783\n",
            "Epoch 8/80\n",
            "400/400 [==============================] - 84s 210ms/step - loss: 0.0694 - val_loss: 0.0702\n",
            "Epoch 9/80\n",
            "400/400 [==============================] - 84s 210ms/step - loss: 0.0679 - val_loss: 0.0564\n",
            "Epoch 10/80\n",
            "400/400 [==============================] - 84s 210ms/step - loss: 0.0674 - val_loss: 0.0788\n",
            "Epoch 11/80\n",
            "400/400 [==============================] - 84s 211ms/step - loss: 0.0676 - val_loss: 0.0553\n",
            "Epoch 12/80\n",
            "400/400 [==============================] - 84s 209ms/step - loss: 0.0664 - val_loss: 0.0623\n",
            "Epoch 13/80\n",
            "400/400 [==============================] - 83s 208ms/step - loss: 0.0659 - val_loss: 0.0687\n",
            "Epoch 14/80\n",
            "400/400 [==============================] - 83s 208ms/step - loss: 0.0650 - val_loss: 0.0639\n",
            "Epoch 15/80\n",
            "400/400 [==============================] - 84s 209ms/step - loss: 0.0649 - val_loss: 0.0563\n",
            "Epoch 16/80\n",
            "400/400 [==============================] - 83s 209ms/step - loss: 0.0647 - val_loss: 0.0585\n",
            "Epoch 17/80\n",
            "400/400 [==============================] - 84s 209ms/step - loss: 0.0651 - val_loss: 0.0665\n",
            "Epoch 18/80\n",
            "400/400 [==============================] - 83s 208ms/step - loss: 0.0644 - val_loss: 0.0625\n",
            "Epoch 19/80\n",
            "400/400 [==============================] - 83s 208ms/step - loss: 0.0635 - val_loss: 0.0621\n",
            "Epoch 20/80\n",
            "400/400 [==============================] - 83s 208ms/step - loss: 0.0634 - val_loss: 0.0541\n",
            "Epoch 21/80\n",
            "400/400 [==============================] - 83s 209ms/step - loss: 0.0633 - val_loss: 0.0597\n",
            "Epoch 22/80\n",
            "400/400 [==============================] - 84s 209ms/step - loss: 0.0632 - val_loss: 0.0747\n",
            "Epoch 23/80\n",
            "400/400 [==============================] - 83s 207ms/step - loss: 0.0630 - val_loss: 0.0641\n",
            "Epoch 24/80\n",
            "400/400 [==============================] - 83s 207ms/step - loss: 0.0625 - val_loss: 0.0533\n",
            "Epoch 25/80\n",
            "400/400 [==============================] - 83s 208ms/step - loss: 0.0622 - val_loss: 0.0572\n",
            "Epoch 26/80\n",
            "400/400 [==============================] - 84s 210ms/step - loss: 0.0622 - val_loss: 0.0577\n",
            "Epoch 27/80\n",
            "400/400 [==============================] - 84s 209ms/step - loss: 0.0612 - val_loss: 0.0535\n",
            "Epoch 28/80\n",
            "400/400 [==============================] - 83s 207ms/step - loss: 0.0614 - val_loss: 0.0522\n",
            "Epoch 29/80\n",
            "400/400 [==============================] - 83s 209ms/step - loss: 0.0619 - val_loss: 0.0562\n",
            "Epoch 30/80\n",
            "400/400 [==============================] - 83s 208ms/step - loss: 0.0612 - val_loss: 0.0562\n",
            "Epoch 31/80\n",
            "400/400 [==============================] - 84s 209ms/step - loss: 0.0610 - val_loss: 0.0681\n",
            "Epoch 32/80\n",
            "400/400 [==============================] - 84s 209ms/step - loss: 0.0606 - val_loss: 0.0589\n",
            "Epoch 33/80\n",
            "400/400 [==============================] - 84s 210ms/step - loss: 0.0597 - val_loss: 0.0641\n",
            "Epoch 34/80\n",
            "400/400 [==============================] - 83s 208ms/step - loss: 0.0602 - val_loss: 0.0638\n",
            "Epoch 35/80\n",
            "400/400 [==============================] - 83s 209ms/step - loss: 0.0596 - val_loss: 0.0578\n",
            "Epoch 36/80\n",
            "400/400 [==============================] - 84s 209ms/step - loss: 0.0598 - val_loss: 0.0542\n",
            "Epoch 37/80\n",
            "400/400 [==============================] - 84s 210ms/step - loss: 0.0590 - val_loss: 0.0550\n",
            "Epoch 38/80\n",
            "400/400 [==============================] - 83s 209ms/step - loss: 0.0586 - val_loss: 0.0561\n",
            "Epoch 39/80\n",
            "400/400 [==============================] - 83s 209ms/step - loss: 0.0585 - val_loss: 0.0656\n",
            "Epoch 40/80\n",
            "400/400 [==============================] - 84s 209ms/step - loss: 0.0587 - val_loss: 0.0651\n",
            "Epoch 41/80\n",
            "400/400 [==============================] - 83s 208ms/step - loss: 0.0578 - val_loss: 0.0586\n",
            "Epoch 42/80\n",
            "400/400 [==============================] - 84s 211ms/step - loss: 0.0573 - val_loss: 0.0714\n",
            "Epoch 43/80\n",
            "400/400 [==============================] - 84s 211ms/step - loss: 0.0566 - val_loss: 0.0643\n",
            "Epoch 44/80\n",
            "400/400 [==============================] - 84s 210ms/step - loss: 0.0572 - val_loss: 0.0611\n",
            "Epoch 45/80\n",
            "400/400 [==============================] - 84s 210ms/step - loss: 0.0571 - val_loss: 0.0668\n",
            "Epoch 46/80\n",
            "400/400 [==============================] - 84s 210ms/step - loss: 0.0567 - val_loss: 0.0593\n",
            "Epoch 47/80\n",
            "400/400 [==============================] - 85s 211ms/step - loss: 0.0560 - val_loss: 0.0786\n",
            "Epoch 48/80\n",
            "400/400 [==============================] - 84s 211ms/step - loss: 0.0556 - val_loss: 0.0625\n",
            "Epoch 49/80\n",
            "400/400 [==============================] - 84s 211ms/step - loss: 0.0560 - val_loss: 0.0722\n",
            "Epoch 50/80\n",
            "400/400 [==============================] - 84s 210ms/step - loss: 0.0558 - val_loss: 0.0607\n",
            "Epoch 51/80\n",
            "400/400 [==============================] - 84s 209ms/step - loss: 0.0545 - val_loss: 0.0743\n",
            "Epoch 52/80\n",
            "400/400 [==============================] - 84s 211ms/step - loss: 0.0540 - val_loss: 0.0811\n",
            "Epoch 53/80\n",
            "400/400 [==============================] - 85s 212ms/step - loss: 0.0550 - val_loss: 0.0757\n",
            "Epoch 54/80\n",
            "400/400 [==============================] - 84s 211ms/step - loss: 0.0540 - val_loss: 0.0624\n",
            "Epoch 55/80\n",
            "400/400 [==============================] - 84s 209ms/step - loss: 0.0542 - val_loss: 0.0599\n",
            "Epoch 56/80\n",
            "400/400 [==============================] - 84s 209ms/step - loss: 0.0538 - val_loss: 0.0617\n",
            "Epoch 57/80\n",
            "400/400 [==============================] - 84s 211ms/step - loss: 0.0530 - val_loss: 0.0630\n",
            "Epoch 58/80\n",
            "400/400 [==============================] - 84s 209ms/step - loss: 0.0534 - val_loss: 0.0807\n",
            "Epoch 59/80\n",
            "400/400 [==============================] - 84s 211ms/step - loss: 0.0530 - val_loss: 0.0657\n",
            "Epoch 60/80\n",
            "400/400 [==============================] - 84s 210ms/step - loss: 0.0527 - val_loss: 0.0828\n",
            "Epoch 61/80\n",
            "400/400 [==============================] - 84s 210ms/step - loss: 0.0526 - val_loss: 0.0666\n",
            "Epoch 62/80\n",
            "400/400 [==============================] - 84s 211ms/step - loss: 0.0519 - val_loss: 0.0722\n",
            "Epoch 63/80\n",
            "400/400 [==============================] - 84s 209ms/step - loss: 0.0520 - val_loss: 0.0688\n",
            "Epoch 64/80\n",
            "400/400 [==============================] - 84s 210ms/step - loss: 0.0516 - val_loss: 0.0661\n",
            "Epoch 65/80\n",
            "400/400 [==============================] - 85s 212ms/step - loss: 0.0516 - val_loss: 0.0654\n",
            "Epoch 66/80\n",
            "400/400 [==============================] - 84s 209ms/step - loss: 0.0511 - val_loss: 0.0662\n",
            "Epoch 67/80\n",
            "400/400 [==============================] - 84s 210ms/step - loss: 0.0509 - val_loss: 0.0634\n",
            "Epoch 68/80\n",
            "400/400 [==============================] - 84s 210ms/step - loss: 0.0511 - val_loss: 0.0613\n",
            "Epoch 69/80\n",
            "400/400 [==============================] - 84s 210ms/step - loss: 0.0500 - val_loss: 0.0632\n",
            "Epoch 70/80\n",
            "400/400 [==============================] - 84s 211ms/step - loss: 0.0502 - val_loss: 0.0636\n",
            "Epoch 71/80\n",
            "400/400 [==============================] - 110s 274ms/step - loss: 0.0501 - val_loss: 0.0697\n",
            "Epoch 72/80\n",
            "400/400 [==============================] - 85s 212ms/step - loss: 0.0497 - val_loss: 0.0795\n",
            "Epoch 73/80\n",
            "400/400 [==============================] - 85s 212ms/step - loss: 0.0491 - val_loss: 0.0744\n",
            "Epoch 74/80\n",
            "400/400 [==============================] - 85s 212ms/step - loss: 0.0492 - val_loss: 0.0871\n",
            "Epoch 75/80\n",
            "400/400 [==============================] - 85s 212ms/step - loss: 0.0488 - val_loss: 0.0702\n",
            "Epoch 76/80\n",
            "400/400 [==============================] - 84s 210ms/step - loss: 0.0483 - val_loss: 0.0685\n",
            "Epoch 77/80\n",
            "400/400 [==============================] - 84s 211ms/step - loss: 0.0481 - val_loss: 0.0634\n",
            "Epoch 78/80\n",
            "400/400 [==============================] - 85s 211ms/step - loss: 0.0480 - val_loss: 0.0652\n",
            "Epoch 79/80\n",
            "400/400 [==============================] - 85s 212ms/step - loss: 0.0480 - val_loss: 0.0658\n",
            "Epoch 80/80\n",
            "400/400 [==============================] - 85s 212ms/step - loss: 0.0480 - val_loss: 0.0718\n"
          ]
        }
      ]
    },
    {
      "cell_type": "code",
      "source": [
        "eval3 = model3.evaluate(test_gen, steps = test_steps)\n",
        "eval3 *std[3]"
      ],
      "metadata": {
        "colab": {
          "base_uri": "https://localhost:8080/"
        },
        "id": "ithRDRsUOD9W",
        "outputId": "027c2d50-ca26-4bf4-cd13-54dd852dcac7"
      },
      "execution_count": null,
      "outputs": [
        {
          "output_type": "stream",
          "name": "stdout",
          "text": [
            "496/496 [==============================] - 17s 35ms/step - loss: 0.0773\n"
          ]
        },
        {
          "output_type": "execute_result",
          "data": {
            "text/plain": [
              "0.02886756105204702"
            ]
          },
          "metadata": {},
          "execution_count": 11
        }
      ]
    },
    {
      "cell_type": "code",
      "source": [
        "loss3 = history3.history['loss']\n",
        "val_loss3 = history3.history['val_loss']\n",
        "epochs3 = range(1, len(loss3) + 1)\n",
        "plt.figure()\n",
        "plt.plot(epochs3, loss3, 'bo', label='Training loss')\n",
        "plt.plot(epochs3, val_loss3, 'b', label='Validation loss')\n",
        "plt.title('Training and validation loss,relu, CLOSING PRICE PREDICTION')\n",
        "plt.legend()\n",
        "plt.show()"
      ],
      "metadata": {
        "colab": {
          "base_uri": "https://localhost:8080/",
          "height": 281
        },
        "id": "U9WepRMkOG5J",
        "outputId": "900db67b-ec5f-43f3-de54-1d8781b32138"
      },
      "execution_count": null,
      "outputs": [
        {
          "output_type": "display_data",
          "data": {
            "text/plain": [
              "<Figure size 432x288 with 1 Axes>"
            ],
            "image/png": "[encoded data removed]"
          },
          "metadata": {
            "needs_background": "light"
          }
        }
      ]
    },
    {
      "cell_type": "markdown",
      "source": [
        " lookback = 60"
      ],
      "metadata": {
        "id": "IiE3TbQPYHfz"
      }
    },
    {
      "cell_type": "code",
      "source": [
        "model4 = tf.keras.models.Sequential()\n",
        "model4.add(layers.LSTM(128,\n",
        "  activation='sigmoid',\n",
        "  dropout=0.1,\n",
        "  recurrent_dropout=0.1,\n",
        "  input_shape=(None, float_data.shape[-1])))\n",
        "model4.add(layers.Dense(5,\n",
        "  activation='sigmoid',))\n",
        "model4.add(layers.Dense(1))\n",
        "model4.compile(optimizer= tf.keras.optimizers.Adam(), loss='mae')\n",
        "history4 = model4.fit(train_gen,\n",
        "  steps_per_epoch=400,\n",
        "  epochs=80,\n",
        "  validation_data=val_gen,\n",
        "  validation_steps=val_steps)"
      ],
      "metadata": {
        "colab": {
          "base_uri": "https://localhost:8080/"
        },
        "id": "FQjzOHk0VUEd",
        "outputId": "1e9ff585-56df-46dc-9957-6462bee28795"
      },
      "execution_count": null,
      "outputs": [
        {
          "output_type": "stream",
          "name": "stdout",
          "text": [
            "Epoch 1/80\n",
            "400/400 [==============================] - 114s 279ms/step - loss: 0.1464 - val_loss: 0.0930\n",
            "Epoch 2/80\n",
            "400/400 [==============================] - 125s 313ms/step - loss: 0.0831 - val_loss: 0.0770\n",
            "Epoch 3/80\n",
            "400/400 [==============================] - 112s 281ms/step - loss: 0.0788 - val_loss: 0.0624\n",
            "Epoch 4/80\n",
            "400/400 [==============================] - 110s 274ms/step - loss: 0.0751 - val_loss: 0.0705\n",
            "Epoch 5/80\n",
            "400/400 [==============================] - 109s 274ms/step - loss: 0.0729 - val_loss: 0.0573\n",
            "Epoch 6/80\n",
            "400/400 [==============================] - 110s 274ms/step - loss: 0.0710 - val_loss: 0.0601\n",
            "Epoch 7/80\n",
            "400/400 [==============================] - 114s 286ms/step - loss: 0.0694 - val_loss: 0.0595\n",
            "Epoch 8/80\n",
            "400/400 [==============================] - 110s 276ms/step - loss: 0.0687 - val_loss: 0.0548\n",
            "Epoch 9/80\n",
            "400/400 [==============================] - 111s 278ms/step - loss: 0.0684 - val_loss: 0.0639\n",
            "Epoch 10/80\n",
            "400/400 [==============================] - 111s 277ms/step - loss: 0.0673 - val_loss: 0.0596\n",
            "Epoch 11/80\n",
            "400/400 [==============================] - 110s 276ms/step - loss: 0.0680 - val_loss: 0.0569\n",
            "Epoch 12/80\n",
            "400/400 [==============================] - 110s 274ms/step - loss: 0.0660 - val_loss: 0.0539\n",
            "Epoch 13/80\n",
            "400/400 [==============================] - 110s 275ms/step - loss: 0.0666 - val_loss: 0.0598\n",
            "Epoch 14/80\n",
            "400/400 [==============================] - 109s 274ms/step - loss: 0.0667 - val_loss: 0.0611\n",
            "Epoch 15/80\n",
            "400/400 [==============================] - 110s 275ms/step - loss: 0.0652 - val_loss: 0.0612\n",
            "Epoch 16/80\n",
            "400/400 [==============================] - 109s 273ms/step - loss: 0.0644 - val_loss: 0.0584\n",
            "Epoch 17/80\n",
            "400/400 [==============================] - 113s 282ms/step - loss: 0.0647 - val_loss: 0.0518\n",
            "Epoch 18/80\n",
            "400/400 [==============================] - 117s 292ms/step - loss: 0.0645 - val_loss: 0.0519\n",
            "Epoch 19/80\n",
            "400/400 [==============================] - 114s 284ms/step - loss: 0.0644 - val_loss: 0.0535\n",
            "Epoch 20/80\n",
            "400/400 [==============================] - 111s 279ms/step - loss: 0.0632 - val_loss: 0.0527\n",
            "Epoch 21/80\n",
            "400/400 [==============================] - 110s 274ms/step - loss: 0.0632 - val_loss: 0.0530\n",
            "Epoch 22/80\n",
            "400/400 [==============================] - 109s 273ms/step - loss: 0.0631 - val_loss: 0.0524\n",
            "Epoch 23/80\n",
            "400/400 [==============================] - 109s 272ms/step - loss: 0.0632 - val_loss: 0.0520\n",
            "Epoch 24/80\n",
            "400/400 [==============================] - 109s 273ms/step - loss: 0.0628 - val_loss: 0.0517\n",
            "Epoch 25/80\n",
            "400/400 [==============================] - 109s 272ms/step - loss: 0.0624 - val_loss: 0.0594\n",
            "Epoch 26/80\n",
            "400/400 [==============================] - 109s 273ms/step - loss: 0.0618 - val_loss: 0.0550\n",
            "Epoch 27/80\n",
            "400/400 [==============================] - 109s 273ms/step - loss: 0.0624 - val_loss: 0.0556\n",
            "Epoch 28/80\n",
            "400/400 [==============================] - 109s 272ms/step - loss: 0.0615 - val_loss: 0.0559\n",
            "Epoch 29/80\n",
            "400/400 [==============================] - 110s 275ms/step - loss: 0.0613 - val_loss: 0.0523\n",
            "Epoch 30/80\n",
            "400/400 [==============================] - 110s 274ms/step - loss: 0.0611 - val_loss: 0.0530\n",
            "Epoch 31/80\n",
            "400/400 [==============================] - 109s 273ms/step - loss: 0.0605 - val_loss: 0.0563\n",
            "Epoch 32/80\n",
            "400/400 [==============================] - 109s 273ms/step - loss: 0.0600 - val_loss: 0.0538\n",
            "Epoch 33/80\n",
            "400/400 [==============================] - 109s 272ms/step - loss: 0.0607 - val_loss: 0.0593\n",
            "Epoch 34/80\n",
            "400/400 [==============================] - 109s 274ms/step - loss: 0.0601 - val_loss: 0.0534\n",
            "Epoch 35/80\n",
            "400/400 [==============================] - 109s 273ms/step - loss: 0.0597 - val_loss: 0.0614\n",
            "Epoch 36/80\n",
            "400/400 [==============================] - 109s 273ms/step - loss: 0.0596 - val_loss: 0.0520\n",
            "Epoch 37/80\n",
            "400/400 [==============================] - 109s 273ms/step - loss: 0.0588 - val_loss: 0.0524\n",
            "Epoch 38/80\n",
            "400/400 [==============================] - 109s 273ms/step - loss: 0.0593 - val_loss: 0.0602\n",
            "Epoch 39/80\n",
            "400/400 [==============================] - 109s 272ms/step - loss: 0.0585 - val_loss: 0.0521\n",
            "Epoch 40/80\n",
            "400/400 [==============================] - 109s 273ms/step - loss: 0.0582 - val_loss: 0.0624\n",
            "Epoch 41/80\n",
            "400/400 [==============================] - 109s 273ms/step - loss: 0.0579 - val_loss: 0.0527\n",
            "Epoch 42/80\n",
            "400/400 [==============================] - 110s 274ms/step - loss: 0.0576 - val_loss: 0.0547\n",
            "Epoch 43/80\n",
            "400/400 [==============================] - 109s 274ms/step - loss: 0.0577 - val_loss: 0.0518\n",
            "Epoch 44/80\n",
            "400/400 [==============================] - 109s 274ms/step - loss: 0.0575 - val_loss: 0.0544\n",
            "Epoch 45/80\n",
            "400/400 [==============================] - 110s 274ms/step - loss: 0.0567 - val_loss: 0.0547\n",
            "Epoch 46/80\n",
            "400/400 [==============================] - 110s 275ms/step - loss: 0.0571 - val_loss: 0.0594\n",
            "Epoch 47/80\n",
            "400/400 [==============================] - 110s 274ms/step - loss: 0.0562 - val_loss: 0.0563\n",
            "Epoch 48/80\n",
            "400/400 [==============================] - 110s 274ms/step - loss: 0.0564 - val_loss: 0.0553\n",
            "Epoch 49/80\n",
            "400/400 [==============================] - 110s 274ms/step - loss: 0.0560 - val_loss: 0.0541\n",
            "Epoch 50/80\n",
            "400/400 [==============================] - 109s 273ms/step - loss: 0.0557 - val_loss: 0.0572\n",
            "Epoch 51/80\n",
            "400/400 [==============================] - 109s 273ms/step - loss: 0.0551 - val_loss: 0.0708\n",
            "Epoch 52/80\n",
            "400/400 [==============================] - 109s 273ms/step - loss: 0.0555 - val_loss: 0.0566\n",
            "Epoch 53/80\n",
            "400/400 [==============================] - 110s 274ms/step - loss: 0.0547 - val_loss: 0.0569\n",
            "Epoch 54/80\n",
            "400/400 [==============================] - 110s 275ms/step - loss: 0.0547 - val_loss: 0.0694\n",
            "Epoch 55/80\n",
            "400/400 [==============================] - 109s 274ms/step - loss: 0.0540 - val_loss: 0.0619\n",
            "Epoch 56/80\n",
            "400/400 [==============================] - 110s 275ms/step - loss: 0.0541 - val_loss: 0.0625\n",
            "Epoch 57/80\n",
            "400/400 [==============================] - 110s 276ms/step - loss: 0.0542 - val_loss: 0.0598\n",
            "Epoch 58/80\n",
            "400/400 [==============================] - 110s 276ms/step - loss: 0.0536 - val_loss: 0.0640\n",
            "Epoch 59/80\n",
            "400/400 [==============================] - 111s 277ms/step - loss: 0.0532 - val_loss: 0.0683\n",
            "Epoch 60/80\n",
            "400/400 [==============================] - 111s 276ms/step - loss: 0.0526 - val_loss: 0.0655\n",
            "Epoch 61/80\n",
            "400/400 [==============================] - 110s 276ms/step - loss: 0.0530 - val_loss: 0.0627\n",
            "Epoch 62/80\n",
            "400/400 [==============================] - 111s 277ms/step - loss: 0.0524 - val_loss: 0.0601\n",
            "Epoch 63/80\n",
            "400/400 [==============================] - 110s 276ms/step - loss: 0.0520 - val_loss: 0.0612\n",
            "Epoch 64/80\n",
            "400/400 [==============================] - 110s 276ms/step - loss: 0.0515 - val_loss: 0.0642\n",
            "Epoch 65/80\n",
            "400/400 [==============================] - 110s 275ms/step - loss: 0.0519 - val_loss: 0.0686\n",
            "Epoch 66/80\n",
            "400/400 [==============================] - 110s 275ms/step - loss: 0.0513 - val_loss: 0.0642\n",
            "Epoch 67/80\n",
            "400/400 [==============================] - 114s 286ms/step - loss: 0.0506 - val_loss: 0.0662\n",
            "Epoch 68/80\n",
            "400/400 [==============================] - 111s 277ms/step - loss: 0.0504 - val_loss: 0.0755\n",
            "Epoch 69/80\n",
            "400/400 [==============================] - 110s 276ms/step - loss: 0.0498 - val_loss: 0.0707\n",
            "Epoch 70/80\n",
            "400/400 [==============================] - 110s 276ms/step - loss: 0.0509 - val_loss: 0.0661\n",
            "Epoch 71/80\n",
            "400/400 [==============================] - 111s 278ms/step - loss: 0.0494 - val_loss: 0.0670\n",
            "Epoch 72/80\n",
            "400/400 [==============================] - 110s 275ms/step - loss: 0.0494 - val_loss: 0.0696\n",
            "Epoch 73/80\n",
            "400/400 [==============================] - 111s 277ms/step - loss: 0.0490 - val_loss: 0.0661\n",
            "Epoch 74/80\n",
            "400/400 [==============================] - 111s 277ms/step - loss: 0.0485 - val_loss: 0.0776\n",
            "Epoch 75/80\n",
            "400/400 [==============================] - 112s 280ms/step - loss: 0.0489 - val_loss: 0.0657\n",
            "Epoch 76/80\n",
            "400/400 [==============================] - 111s 278ms/step - loss: 0.0485 - val_loss: 0.0694\n",
            "Epoch 77/80\n",
            "400/400 [==============================] - 110s 276ms/step - loss: 0.0481 - val_loss: 0.0715\n",
            "Epoch 78/80\n",
            "400/400 [==============================] - 111s 277ms/step - loss: 0.0475 - val_loss: 0.0684\n",
            "Epoch 79/80\n",
            "400/400 [==============================] - 111s 277ms/step - loss: 0.0476 - val_loss: 0.0688\n",
            "Epoch 80/80\n",
            "400/400 [==============================] - 126s 316ms/step - loss: 0.0473 - val_loss: 0.0691\n"
          ]
        }
      ]
    },
    {
      "cell_type": "code",
      "source": [
        "eval4 = model4.evaluate(test_gen, steps = test_steps)\n",
        "eval4 *std[3]"
      ],
      "metadata": {
        "colab": {
          "base_uri": "https://localhost:8080/"
        },
        "id": "GXGx-h0x3Dxf",
        "outputId": "abe16fba-8638-4f33-d2e7-73e3e6501450"
      },
      "execution_count": null,
      "outputs": [
        {
          "output_type": "stream",
          "name": "stdout",
          "text": [
            "481/481 [==============================] - 22s 45ms/step - loss: 0.0800\n"
          ]
        },
        {
          "output_type": "execute_result",
          "data": {
            "text/plain": [
              "0.02988566450695851"
            ]
          },
          "metadata": {},
          "execution_count": 11
        }
      ]
    },
    {
      "cell_type": "code",
      "source": [
        "loss4 = history4.history['loss']\n",
        "val_loss4 = history4.history['val_loss']\n",
        "epochs4 = range(1, len(loss4) + 1)\n",
        "plt.figure()\n",
        "plt.plot(epochs4, loss4, 'bo', label='Training loss')\n",
        "plt.plot(epochs4, val_loss4, 'b', label='Validation loss')\n",
        "plt.title('Training and validation loss,relu, CLOSING PRICE PREDICTION')\n",
        "plt.legend()\n",
        "plt.show()"
      ],
      "metadata": {
        "colab": {
          "base_uri": "https://localhost:8080/",
          "height": 281
        },
        "id": "hviNlfzp3G-g",
        "outputId": "8298cd4f-bf3b-4228-f941-51c675886f8a"
      },
      "execution_count": null,
      "outputs": [
        {
          "output_type": "display_data",
          "data": {
            "text/plain": [
              "<Figure size 432x288 with 1 Axes>"
            ],
            "image/png": "[encoded data removed]"
          },
          "metadata": {
            "needs_background": "light"
          }
        }
      ]
    },
    {
      "cell_type": "markdown",
      "source": [
        "lookback = 10"
      ],
      "metadata": {
        "id": "zR2ooQI2IKpn"
      }
    },
    {
      "cell_type": "code",
      "source": [
        "model5 = tf.keras.models.Sequential()\n",
        "model5.add(layers.LSTM(128,\n",
        "  activation='sigmoid',\n",
        "  dropout=0.1,\n",
        "  recurrent_dropout=0.1,\n",
        "  input_shape=(None, float_data.shape[-1])))\n",
        "model5.add(layers.Dense(5,\n",
        "  activation='sigmoid',))\n",
        "model5.add(layers.Dense(1))\n",
        "model5.compile(optimizer= tf.keras.optimizers.Adam(), loss='mae')\n",
        "history5 = model5.fit(train_gen,\n",
        "  steps_per_epoch=400,\n",
        "  epochs=80,\n",
        "  validation_data=val_gen,\n",
        "  validation_steps=val_steps)"
      ],
      "metadata": {
        "colab": {
          "base_uri": "https://localhost:8080/"
        },
        "id": "2LU8kIGcEEpz",
        "outputId": "0bd94fbc-78d6-4889-b58c-113695d3e363"
      },
      "execution_count": null,
      "outputs": [
        {
          "output_type": "stream",
          "name": "stdout",
          "text": [
            "Epoch 1/80\n",
            "400/400 [==============================] - 25s 55ms/step - loss: 0.3257 - val_loss: 0.1975\n",
            "Epoch 2/80\n",
            "400/400 [==============================] - 22s 55ms/step - loss: 0.1278 - val_loss: 0.0758\n",
            "Epoch 3/80\n",
            "400/400 [==============================] - 24s 59ms/step - loss: 0.0949 - val_loss: 0.0595\n",
            "Epoch 4/80\n",
            "400/400 [==============================] - 23s 58ms/step - loss: 0.0841 - val_loss: 0.0500\n",
            "Epoch 5/80\n",
            "400/400 [==============================] - 24s 59ms/step - loss: 0.0796 - val_loss: 0.0598\n",
            "Epoch 6/80\n",
            "400/400 [==============================] - 22s 55ms/step - loss: 0.0757 - val_loss: 0.0560\n",
            "Epoch 7/80\n",
            "400/400 [==============================] - 22s 56ms/step - loss: 0.0730 - val_loss: 0.0506\n",
            "Epoch 8/80\n",
            "400/400 [==============================] - 23s 56ms/step - loss: 0.0711 - val_loss: 0.0719\n",
            "Epoch 9/80\n",
            "400/400 [==============================] - 23s 56ms/step - loss: 0.0694 - val_loss: 0.0471\n",
            "Epoch 10/80\n",
            "400/400 [==============================] - 22s 56ms/step - loss: 0.0692 - val_loss: 0.0504\n",
            "Epoch 11/80\n",
            "400/400 [==============================] - 23s 57ms/step - loss: 0.0685 - val_loss: 0.0481\n",
            "Epoch 12/80\n",
            "400/400 [==============================] - 23s 56ms/step - loss: 0.0666 - val_loss: 0.0440\n",
            "Epoch 13/80\n",
            "400/400 [==============================] - 23s 57ms/step - loss: 0.0662 - val_loss: 0.0454\n",
            "Epoch 14/80\n",
            "400/400 [==============================] - 23s 57ms/step - loss: 0.0662 - val_loss: 0.0482\n",
            "Epoch 15/80\n",
            "400/400 [==============================] - 23s 57ms/step - loss: 0.0659 - val_loss: 0.0503\n",
            "Epoch 16/80\n",
            "400/400 [==============================] - 23s 58ms/step - loss: 0.0660 - val_loss: 0.0632\n",
            "Epoch 17/80\n",
            "400/400 [==============================] - 22s 56ms/step - loss: 0.0657 - val_loss: 0.0449\n",
            "Epoch 18/80\n",
            "400/400 [==============================] - 23s 57ms/step - loss: 0.0651 - val_loss: 0.0445\n",
            "Epoch 19/80\n",
            "400/400 [==============================] - 23s 58ms/step - loss: 0.0650 - val_loss: 0.0484\n",
            "Epoch 20/80\n",
            "400/400 [==============================] - 23s 57ms/step - loss: 0.0651 - val_loss: 0.0497\n",
            "Epoch 21/80\n",
            "400/400 [==============================] - 23s 58ms/step - loss: 0.0645 - val_loss: 0.0575\n",
            "Epoch 22/80\n",
            "400/400 [==============================] - 22s 55ms/step - loss: 0.0639 - val_loss: 0.0477\n",
            "Epoch 23/80\n",
            "400/400 [==============================] - 22s 55ms/step - loss: 0.0638 - val_loss: 0.0587\n",
            "Epoch 24/80\n",
            "400/400 [==============================] - 22s 55ms/step - loss: 0.0637 - val_loss: 0.0491\n",
            "Epoch 25/80\n",
            "400/400 [==============================] - 22s 54ms/step - loss: 0.0635 - val_loss: 0.0544\n",
            "Epoch 26/80\n",
            "400/400 [==============================] - 22s 55ms/step - loss: 0.0633 - val_loss: 0.0715\n",
            "Epoch 27/80\n",
            "400/400 [==============================] - 22s 55ms/step - loss: 0.0631 - val_loss: 0.0489\n",
            "Epoch 28/80\n",
            "400/400 [==============================] - 22s 55ms/step - loss: 0.0627 - val_loss: 0.0723\n",
            "Epoch 29/80\n",
            "400/400 [==============================] - 22s 55ms/step - loss: 0.0629 - val_loss: 0.0458\n",
            "Epoch 30/80\n",
            "400/400 [==============================] - 23s 57ms/step - loss: 0.0624 - val_loss: 0.0468\n",
            "Epoch 31/80\n",
            "400/400 [==============================] - 22s 56ms/step - loss: 0.0625 - val_loss: 0.0457\n",
            "Epoch 32/80\n",
            "400/400 [==============================] - 23s 57ms/step - loss: 0.0617 - val_loss: 0.0462\n",
            "Epoch 33/80\n",
            "400/400 [==============================] - 22s 56ms/step - loss: 0.0620 - val_loss: 0.0534\n",
            "Epoch 34/80\n",
            "400/400 [==============================] - 22s 55ms/step - loss: 0.0617 - val_loss: 0.0851\n",
            "Epoch 35/80\n",
            "400/400 [==============================] - 22s 56ms/step - loss: 0.0618 - val_loss: 0.0470\n",
            "Epoch 36/80\n",
            "400/400 [==============================] - 22s 55ms/step - loss: 0.0615 - val_loss: 0.0553\n",
            "Epoch 37/80\n",
            "400/400 [==============================] - 22s 56ms/step - loss: 0.0610 - val_loss: 0.0470\n",
            "Epoch 38/80\n",
            "400/400 [==============================] - 22s 56ms/step - loss: 0.0612 - val_loss: 0.0572\n",
            "Epoch 39/80\n",
            "400/400 [==============================] - 22s 55ms/step - loss: 0.0607 - val_loss: 0.0463\n",
            "Epoch 40/80\n",
            "400/400 [==============================] - 22s 56ms/step - loss: 0.0607 - val_loss: 0.0465\n",
            "Epoch 41/80\n",
            "400/400 [==============================] - 22s 55ms/step - loss: 0.0608 - val_loss: 0.0508\n",
            "Epoch 42/80\n",
            "400/400 [==============================] - 22s 55ms/step - loss: 0.0599 - val_loss: 0.0537\n",
            "Epoch 43/80\n",
            "400/400 [==============================] - 23s 56ms/step - loss: 0.0603 - val_loss: 0.0480\n",
            "Epoch 44/80\n",
            "400/400 [==============================] - 22s 56ms/step - loss: 0.0596 - val_loss: 0.0595\n",
            "Epoch 45/80\n",
            "400/400 [==============================] - 35s 87ms/step - loss: 0.0595 - val_loss: 0.0518\n",
            "Epoch 46/80\n",
            "400/400 [==============================] - 35s 89ms/step - loss: 0.0593 - val_loss: 0.0531\n",
            "Epoch 47/80\n",
            "400/400 [==============================] - 29s 72ms/step - loss: 0.0595 - val_loss: 0.0647\n",
            "Epoch 48/80\n",
            "400/400 [==============================] - 22s 55ms/step - loss: 0.0586 - val_loss: 0.0475\n",
            "Epoch 49/80\n",
            "400/400 [==============================] - 22s 56ms/step - loss: 0.0590 - val_loss: 0.0671\n",
            "Epoch 50/80\n",
            "400/400 [==============================] - 23s 58ms/step - loss: 0.0592 - val_loss: 0.0695\n",
            "Epoch 51/80\n",
            "400/400 [==============================] - 22s 55ms/step - loss: 0.0584 - val_loss: 0.0543\n",
            "Epoch 52/80\n",
            "400/400 [==============================] - 27s 69ms/step - loss: 0.0579 - val_loss: 0.0530\n",
            "Epoch 53/80\n",
            "400/400 [==============================] - 22s 55ms/step - loss: 0.0577 - val_loss: 0.0487\n",
            "Epoch 54/80\n",
            "400/400 [==============================] - 23s 57ms/step - loss: 0.0575 - val_loss: 0.0560\n",
            "Epoch 55/80\n",
            "400/400 [==============================] - 23s 57ms/step - loss: 0.0579 - val_loss: 0.0512\n",
            "Epoch 56/80\n",
            "400/400 [==============================] - 23s 57ms/step - loss: 0.0574 - val_loss: 0.0549\n",
            "Epoch 57/80\n",
            "400/400 [==============================] - 23s 56ms/step - loss: 0.0569 - val_loss: 0.0498\n",
            "Epoch 58/80\n",
            "400/400 [==============================] - 22s 55ms/step - loss: 0.0571 - val_loss: 0.0639\n",
            "Epoch 59/80\n",
            "400/400 [==============================] - 22s 55ms/step - loss: 0.0569 - val_loss: 0.0517\n",
            "Epoch 60/80\n",
            "400/400 [==============================] - 22s 55ms/step - loss: 0.0565 - val_loss: 0.0478\n",
            "Epoch 61/80\n",
            "400/400 [==============================] - 23s 58ms/step - loss: 0.0565 - val_loss: 0.0499\n",
            "Epoch 62/80\n",
            "400/400 [==============================] - 23s 56ms/step - loss: 0.0556 - val_loss: 0.0529\n",
            "Epoch 63/80\n",
            "400/400 [==============================] - 22s 56ms/step - loss: 0.0557 - val_loss: 0.0511\n",
            "Epoch 64/80\n",
            "400/400 [==============================] - 22s 55ms/step - loss: 0.0552 - val_loss: 0.0498\n",
            "Epoch 65/80\n",
            "400/400 [==============================] - 22s 55ms/step - loss: 0.0548 - val_loss: 0.0489\n",
            "Epoch 66/80\n",
            "400/400 [==============================] - 22s 55ms/step - loss: 0.0548 - val_loss: 0.0727\n",
            "Epoch 67/80\n",
            "400/400 [==============================] - 23s 56ms/step - loss: 0.0545 - val_loss: 0.0543\n",
            "Epoch 68/80\n",
            "400/400 [==============================] - 24s 59ms/step - loss: 0.0543 - val_loss: 0.0523\n",
            "Epoch 69/80\n",
            "400/400 [==============================] - 22s 56ms/step - loss: 0.0540 - val_loss: 0.0632\n",
            "Epoch 70/80\n",
            "400/400 [==============================] - 22s 56ms/step - loss: 0.0538 - val_loss: 0.0498\n",
            "Epoch 71/80\n",
            "400/400 [==============================] - 22s 56ms/step - loss: 0.0534 - val_loss: 0.0544\n",
            "Epoch 72/80\n",
            "400/400 [==============================] - 26s 65ms/step - loss: 0.0531 - val_loss: 0.0499\n",
            "Epoch 73/80\n",
            "400/400 [==============================] - 22s 56ms/step - loss: 0.0529 - val_loss: 0.0496\n",
            "Epoch 74/80\n",
            "400/400 [==============================] - 22s 56ms/step - loss: 0.0529 - val_loss: 0.0599\n",
            "Epoch 75/80\n",
            "400/400 [==============================] - 22s 55ms/step - loss: 0.0522 - val_loss: 0.0512\n",
            "Epoch 76/80\n",
            "400/400 [==============================] - 22s 56ms/step - loss: 0.0525 - val_loss: 0.0510\n",
            "Epoch 77/80\n",
            "400/400 [==============================] - 22s 55ms/step - loss: 0.0519 - val_loss: 0.0550\n",
            "Epoch 78/80\n",
            "400/400 [==============================] - 22s 55ms/step - loss: 0.0521 - val_loss: 0.0561\n",
            "Epoch 79/80\n",
            "400/400 [==============================] - 22s 56ms/step - loss: 0.0523 - val_loss: 0.0495\n",
            "Epoch 80/80\n",
            "400/400 [==============================] - 22s 55ms/step - loss: 0.0514 - val_loss: 0.0514\n"
          ]
        }
      ]
    },
    {
      "cell_type": "code",
      "source": [
        "eval5 = model5.evaluate(test_gen, steps = test_steps)\n",
        "eval5 *std[3]"
      ],
      "metadata": {
        "colab": {
          "base_uri": "https://localhost:8080/"
        },
        "id": "oq7WzFBEIAzO",
        "outputId": "d441686f-d362-481f-e03a-327d73212eee"
      },
      "execution_count": null,
      "outputs": [
        {
          "output_type": "stream",
          "name": "stdout",
          "text": [
            "531/531 [==============================] - 6s 11ms/step - loss: 0.0864\n"
          ]
        },
        {
          "output_type": "execute_result",
          "data": {
            "text/plain": [
              "0.03224405348378023"
            ]
          },
          "metadata": {},
          "execution_count": 11
        }
      ]
    },
    {
      "cell_type": "code",
      "source": [
        "loss5 = history5.history['loss']\n",
        "val_loss5 = history5.history['val_loss']\n",
        "epochs5 = range(1, len(loss5) + 1)\n",
        "plt.figure()\n",
        "plt.plot(epochs5, loss5, 'bo', label='Training loss')\n",
        "plt.plot(epochs5, val_loss5, 'b', label='Validation loss')\n",
        "plt.title('Training and validation loss,relu, CLOSING PRICE PREDICTION')\n",
        "plt.legend()\n",
        "plt.show()"
      ],
      "metadata": {
        "colab": {
          "base_uri": "https://localhost:8080/",
          "height": 281
        },
        "id": "UygHsLDpIDzT",
        "outputId": "61ea95c8-b68e-4a4d-ae55-4708a95d0a0d"
      },
      "execution_count": null,
      "outputs": [
        {
          "output_type": "display_data",
          "data": {
            "text/plain": [
              "<Figure size 432x288 with 1 Axes>"
            ],
            "image/png": "[encoded data removed]"
          },
          "metadata": {
            "needs_background": "light"
          }
        }
      ]
    },
    {
      "cell_type": "markdown",
      "source": [
        "activation = softmax, lookback = 30"
      ],
      "metadata": {
        "id": "JOmGWkeOIN3_"
      }
    },
    {
      "cell_type": "code",
      "source": [
        "model6 = tf.keras.models.Sequential()\n",
        "model6.add(layers.LSTM(128,\n",
        "  activation='softmax',\n",
        "  dropout=0.1,\n",
        "  recurrent_dropout=0.1,\n",
        "  input_shape=(None, float_data.shape[-1])))\n",
        "model6.add(layers.Dense(5,\n",
        "  activation='softmax',))\n",
        "model6.add(layers.Dense(1))\n",
        "model6.compile(optimizer= tf.keras.optimizers.Adam(), loss='mae')\n",
        "history6 = model6.fit(train_gen,\n",
        "  steps_per_epoch=400,\n",
        "  epochs=80,\n",
        "  validation_data=val_gen,\n",
        "  validation_steps=val_steps)"
      ],
      "metadata": {
        "colab": {
          "base_uri": "https://localhost:8080/"
        },
        "id": "RSr9n3LlIPQv",
        "outputId": "179804b8-7c20-4d4a-ebe0-7d9d703f495a"
      },
      "execution_count": null,
      "outputs": [
        {
          "output_type": "stream",
          "name": "stdout",
          "text": [
            "Epoch 1/80\n",
            "400/400 [==============================] - 26s 58ms/step - loss: 0.8049 - val_loss: 0.6857\n",
            "Epoch 2/80\n",
            "400/400 [==============================] - 23s 57ms/step - loss: 0.2945 - val_loss: 0.1668\n",
            "Epoch 3/80\n",
            "400/400 [==============================] - 23s 58ms/step - loss: 0.1730 - val_loss: 0.0725\n",
            "Epoch 4/80\n",
            "400/400 [==============================] - 23s 58ms/step - loss: 0.1171 - val_loss: 0.0731\n",
            "Epoch 5/80\n",
            "400/400 [==============================] - 23s 58ms/step - loss: 0.0942 - val_loss: 0.0687\n",
            "Epoch 6/80\n",
            "400/400 [==============================] - 23s 58ms/step - loss: 0.0858 - val_loss: 0.0614\n",
            "Epoch 7/80\n",
            "400/400 [==============================] - 23s 58ms/step - loss: 0.0825 - val_loss: 0.0526\n",
            "Epoch 8/80\n",
            "400/400 [==============================] - 23s 58ms/step - loss: 0.0798 - val_loss: 0.0549\n",
            "Epoch 9/80\n",
            "400/400 [==============================] - 23s 58ms/step - loss: 0.0793 - val_loss: 0.0547\n",
            "Epoch 10/80\n",
            "400/400 [==============================] - 23s 58ms/step - loss: 0.0778 - val_loss: 0.0499\n",
            "Epoch 11/80\n",
            "400/400 [==============================] - 23s 58ms/step - loss: 0.0767 - val_loss: 0.0490\n",
            "Epoch 12/80\n",
            "400/400 [==============================] - 23s 58ms/step - loss: 0.0762 - val_loss: 0.0492\n",
            "Epoch 13/80\n",
            "400/400 [==============================] - 23s 58ms/step - loss: 0.0757 - val_loss: 0.0540\n",
            "Epoch 14/80\n",
            "400/400 [==============================] - 24s 59ms/step - loss: 0.0757 - val_loss: 0.0537\n",
            "Epoch 15/80\n",
            "400/400 [==============================] - 23s 58ms/step - loss: 0.0752 - val_loss: 0.0468\n",
            "Epoch 16/80\n",
            "400/400 [==============================] - 23s 58ms/step - loss: 0.0742 - val_loss: 0.0469\n",
            "Epoch 17/80\n",
            "400/400 [==============================] - 23s 58ms/step - loss: 0.0742 - val_loss: 0.0474\n",
            "Epoch 18/80\n",
            "400/400 [==============================] - 23s 58ms/step - loss: 0.0740 - val_loss: 0.0460\n",
            "Epoch 19/80\n",
            "400/400 [==============================] - 24s 59ms/step - loss: 0.0740 - val_loss: 0.0464\n",
            "Epoch 20/80\n",
            "400/400 [==============================] - 23s 58ms/step - loss: 0.0735 - val_loss: 0.0453\n",
            "Epoch 21/80\n",
            "400/400 [==============================] - 23s 58ms/step - loss: 0.0740 - val_loss: 0.0489\n",
            "Epoch 22/80\n",
            "400/400 [==============================] - 23s 58ms/step - loss: 0.0727 - val_loss: 0.0477\n",
            "Epoch 23/80\n",
            "400/400 [==============================] - 23s 59ms/step - loss: 0.0730 - val_loss: 0.0481\n",
            "Epoch 24/80\n",
            "400/400 [==============================] - 23s 59ms/step - loss: 0.0729 - val_loss: 0.0472\n",
            "Epoch 25/80\n",
            "400/400 [==============================] - 24s 59ms/step - loss: 0.0726 - val_loss: 0.0474\n",
            "Epoch 26/80\n",
            "400/400 [==============================] - 23s 58ms/step - loss: 0.0729 - val_loss: 0.0457\n",
            "Epoch 27/80\n",
            "400/400 [==============================] - 23s 58ms/step - loss: 0.0729 - val_loss: 0.0464\n",
            "Epoch 28/80\n",
            "400/400 [==============================] - 23s 58ms/step - loss: 0.0722 - val_loss: 0.0452\n",
            "Epoch 29/80\n",
            "400/400 [==============================] - 23s 58ms/step - loss: 0.0722 - val_loss: 0.0455\n",
            "Epoch 30/80\n",
            "400/400 [==============================] - 23s 58ms/step - loss: 0.0725 - val_loss: 0.0449\n",
            "Epoch 31/80\n",
            "400/400 [==============================] - 23s 57ms/step - loss: 0.0717 - val_loss: 0.0450\n",
            "Epoch 32/80\n",
            "400/400 [==============================] - 23s 58ms/step - loss: 0.0721 - val_loss: 0.0449\n",
            "Epoch 33/80\n",
            "400/400 [==============================] - 23s 58ms/step - loss: 0.0724 - val_loss: 0.0447\n",
            "Epoch 34/80\n",
            "400/400 [==============================] - 23s 57ms/step - loss: 0.0719 - val_loss: 0.0459\n",
            "Epoch 35/80\n",
            "400/400 [==============================] - 23s 58ms/step - loss: 0.0718 - val_loss: 0.0476\n",
            "Epoch 36/80\n",
            "400/400 [==============================] - 23s 58ms/step - loss: 0.0715 - val_loss: 0.0448\n",
            "Epoch 37/80\n",
            "400/400 [==============================] - 23s 58ms/step - loss: 0.0719 - val_loss: 0.0458\n",
            "Epoch 38/80\n",
            "400/400 [==============================] - 23s 57ms/step - loss: 0.0716 - val_loss: 0.0445\n",
            "Epoch 39/80\n",
            "400/400 [==============================] - 23s 57ms/step - loss: 0.0713 - val_loss: 0.0460\n",
            "Epoch 40/80\n",
            "400/400 [==============================] - 23s 57ms/step - loss: 0.0712 - val_loss: 0.0451\n",
            "Epoch 41/80\n",
            "400/400 [==============================] - 23s 57ms/step - loss: 0.0712 - val_loss: 0.0455\n",
            "Epoch 42/80\n",
            "400/400 [==============================] - 23s 57ms/step - loss: 0.0705 - val_loss: 0.0431\n",
            "Epoch 43/80\n",
            "400/400 [==============================] - 23s 57ms/step - loss: 0.0707 - val_loss: 0.0438\n",
            "Epoch 44/80\n",
            "400/400 [==============================] - 23s 57ms/step - loss: 0.0712 - val_loss: 0.0444\n",
            "Epoch 45/80\n",
            "400/400 [==============================] - 23s 57ms/step - loss: 0.0714 - val_loss: 0.0440\n",
            "Epoch 46/80\n",
            "400/400 [==============================] - 23s 58ms/step - loss: 0.0705 - val_loss: 0.0444\n",
            "Epoch 47/80\n",
            "400/400 [==============================] - 23s 58ms/step - loss: 0.0707 - val_loss: 0.0495\n",
            "Epoch 48/80\n",
            "400/400 [==============================] - 23s 57ms/step - loss: 0.0704 - val_loss: 0.0440\n",
            "Epoch 49/80\n",
            "400/400 [==============================] - 23s 57ms/step - loss: 0.0709 - val_loss: 0.0460\n",
            "Epoch 50/80\n",
            "400/400 [==============================] - 23s 57ms/step - loss: 0.0704 - val_loss: 0.0498\n",
            "Epoch 51/80\n",
            "400/400 [==============================] - 23s 57ms/step - loss: 0.0705 - val_loss: 0.0436\n",
            "Epoch 52/80\n",
            "400/400 [==============================] - 23s 57ms/step - loss: 0.0704 - val_loss: 0.0436\n",
            "Epoch 53/80\n",
            "400/400 [==============================] - 23s 57ms/step - loss: 0.0707 - val_loss: 0.0439\n",
            "Epoch 54/80\n",
            "400/400 [==============================] - 23s 57ms/step - loss: 0.0702 - val_loss: 0.0432\n",
            "Epoch 55/80\n",
            "400/400 [==============================] - 23s 57ms/step - loss: 0.0700 - val_loss: 0.0439\n",
            "Epoch 56/80\n",
            "400/400 [==============================] - 23s 57ms/step - loss: 0.0706 - val_loss: 0.0462\n",
            "Epoch 57/80\n",
            "400/400 [==============================] - 23s 57ms/step - loss: 0.0703 - val_loss: 0.0436\n",
            "Epoch 58/80\n",
            "400/400 [==============================] - 23s 57ms/step - loss: 0.0699 - val_loss: 0.0442\n",
            "Epoch 59/80\n",
            "400/400 [==============================] - 23s 58ms/step - loss: 0.0703 - val_loss: 0.0432\n",
            "Epoch 60/80\n",
            "400/400 [==============================] - 23s 57ms/step - loss: 0.0700 - val_loss: 0.0462\n",
            "Epoch 61/80\n",
            "400/400 [==============================] - 23s 58ms/step - loss: 0.0697 - val_loss: 0.0497\n",
            "Epoch 62/80\n",
            "400/400 [==============================] - 23s 57ms/step - loss: 0.0699 - val_loss: 0.0434\n",
            "Epoch 63/80\n",
            "400/400 [==============================] - 23s 58ms/step - loss: 0.0697 - val_loss: 0.0431\n",
            "Epoch 64/80\n",
            "400/400 [==============================] - 23s 57ms/step - loss: 0.0697 - val_loss: 0.0447\n",
            "Epoch 65/80\n",
            "400/400 [==============================] - 23s 57ms/step - loss: 0.0699 - val_loss: 0.0451\n",
            "Epoch 66/80\n",
            "400/400 [==============================] - 23s 58ms/step - loss: 0.0697 - val_loss: 0.0431\n",
            "Epoch 67/80\n",
            "400/400 [==============================] - 23s 57ms/step - loss: 0.0694 - val_loss: 0.0432\n",
            "Epoch 68/80\n",
            "400/400 [==============================] - 23s 56ms/step - loss: 0.0702 - val_loss: 0.0434\n",
            "Epoch 69/80\n",
            "400/400 [==============================] - 23s 57ms/step - loss: 0.0695 - val_loss: 0.0430\n",
            "Epoch 70/80\n",
            "400/400 [==============================] - 23s 57ms/step - loss: 0.0695 - val_loss: 0.0446\n",
            "Epoch 71/80\n",
            "400/400 [==============================] - 23s 57ms/step - loss: 0.0697 - val_loss: 0.0433\n",
            "Epoch 72/80\n",
            "400/400 [==============================] - 23s 58ms/step - loss: 0.0702 - val_loss: 0.0446\n",
            "Epoch 73/80\n",
            "400/400 [==============================] - 23s 57ms/step - loss: 0.0699 - val_loss: 0.0438\n",
            "Epoch 74/80\n",
            "400/400 [==============================] - 23s 58ms/step - loss: 0.0696 - val_loss: 0.0475\n",
            "Epoch 75/80\n",
            "400/400 [==============================] - 23s 58ms/step - loss: 0.0693 - val_loss: 0.0436\n",
            "Epoch 76/80\n",
            "400/400 [==============================] - 23s 58ms/step - loss: 0.0695 - val_loss: 0.0429\n",
            "Epoch 77/80\n",
            "400/400 [==============================] - 23s 58ms/step - loss: 0.0695 - val_loss: 0.0463\n",
            "Epoch 78/80\n",
            "400/400 [==============================] - 23s 57ms/step - loss: 0.0691 - val_loss: 0.0428\n",
            "Epoch 79/80\n",
            "400/400 [==============================] - 23s 58ms/step - loss: 0.0694 - val_loss: 0.0426\n",
            "Epoch 80/80\n",
            "400/400 [==============================] - 23s 57ms/step - loss: 0.0693 - val_loss: 0.0427\n"
          ]
        }
      ]
    },
    {
      "cell_type": "code",
      "source": [
        "eval6 = model6.evaluate(test_gen, steps = test_steps)\n",
        "eval6 *std[3]"
      ],
      "metadata": {
        "colab": {
          "base_uri": "https://localhost:8080/"
        },
        "id": "u2tBN4ZoUHLK",
        "outputId": "836ecb8d-4be0-46f2-8a4f-ece1dcc78e87"
      },
      "execution_count": null,
      "outputs": [
        {
          "output_type": "stream",
          "name": "stdout",
          "text": [
            "531/531 [==============================] - 10s 18ms/step - loss: 0.0735\n"
          ]
        },
        {
          "output_type": "execute_result",
          "data": {
            "text/plain": [
              "0.02743055664777172"
            ]
          },
          "metadata": {},
          "execution_count": 15
        }
      ]
    },
    {
      "cell_type": "code",
      "source": [
        "loss6 = history6.history['loss']\n",
        "val_loss6 = history6.history['val_loss']\n",
        "epochs6 = range(1, len(loss6) + 1)\n",
        "plt.figure()\n",
        "plt.plot(epochs6, loss6, 'bo', label='Training loss')\n",
        "plt.plot(epochs6, val_loss6, 'b', label='Validation loss')\n",
        "plt.title('Training and validation loss,relu, CLOSING PRICE PREDICTION')\n",
        "plt.legend()\n",
        "plt.show()"
      ],
      "metadata": {
        "colab": {
          "base_uri": "https://localhost:8080/",
          "height": 281
        },
        "id": "tFep4DFJU4TE",
        "outputId": "f711b564-90a2-4eb6-a5c3-add30b19584c"
      },
      "execution_count": null,
      "outputs": [
        {
          "output_type": "display_data",
          "data": {
            "text/plain": [
              "<Figure size 432x288 with 1 Axes>"
            ],
            "image/png": "[encoded data removed]"
          },
          "metadata": {
            "needs_background": "light"
          }
        }
      ]
    }
  ]
}